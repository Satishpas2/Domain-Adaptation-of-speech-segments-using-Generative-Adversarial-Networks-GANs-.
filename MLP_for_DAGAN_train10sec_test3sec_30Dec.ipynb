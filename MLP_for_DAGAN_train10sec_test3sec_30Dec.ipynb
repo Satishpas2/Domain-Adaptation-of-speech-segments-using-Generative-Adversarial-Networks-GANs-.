{
 "cells": [
  {
   "cell_type": "code",
   "execution_count": 381,
   "metadata": {},
   "outputs": [],
   "source": [
    "#%matplotlib inline               \n",
    "import pandas as pd              \n",
    "from sklearn.model_selection import train_test_split\n",
    "from sklearn import preprocessing\n",
    "import numpy as np\n",
    "np.random.seed(1337)  # for reproducibility\n",
    "#import matplotlib.pyplot as plt\n",
    "\n",
    "import scipy\n",
    "import scipy.io.wavfile\n",
    "#import IPython\n",
    "from sklearn.cluster import KMeans\n",
    "import os \n",
    "import glob\n",
    "#from python_speech_features import delta\n",
    "#from python_speech_features import logfbank\n",
    "import scipy.io.wavfile as wav\n",
    "from sklearn import metrics\n",
    "from sklearn.preprocessing import StandardScaler\n",
    "\n",
    "\n",
    "import random\n",
    "#from keras.datasets import mnist\n",
    "#from keras.callbacks import EarlyStopping\n",
    "from keras.callbacks import ModelCheckpoint\n",
    "from keras.models import Sequential\n",
    "from keras.layers import Dense, Dropout, Activation, Flatten\n",
    "from keras.layers import Convolution2D, MaxPooling2D\n",
    "from keras.utils import np_utils\n",
    "from keras import backend as K\n",
    "from keras import optimizers\n",
    "from keras import  regularizers\n",
    "from keras.layers import LSTM\n",
    "\n",
    "from sklearn.metrics import confusion_matrix\n",
    "#from sklearn.model_selection import train_test_split\n"
   ]
  },
  {
   "cell_type": "code",
   "execution_count": 382,
   "metadata": {},
   "outputs": [],
   "source": [
    "#batch_size = 25\n",
    "#nb_classes = 14\n",
    "#nb_epoch = 15\n",
    "\n",
    "# input image dimensions\n",
    "#img_rows, img_cols = 40, 25\n",
    "# number of convolutional filters to use\n",
    "#nb_filters = 32\n",
    "# size of pooling area for max pooling\n",
    "#pool_size = (3, 3)\n",
    "# convolution kernel size\n",
    "#kernel_size = (5, 3)"
   ]
  },
  {
   "cell_type": "code",
   "execution_count": 455,
   "metadata": {},
   "outputs": [],
   "source": [
    "train_lre = pd.read_csv('/home/satishk/GAN_lre/gan_csv/GAN_30sec_ivectors_X_train_02Jan_labels_ids.csv')\n",
    "#train_afds\n",
    "#train_lre = pd.read_csv('/home/satishk/ivectors_csv_revised/train_feat_BNF_h5_07Nov_Shreyas.csv')"
   ]
  },
  {
   "cell_type": "code",
   "execution_count": 456,
   "metadata": {},
   "outputs": [
    {
     "data": {
      "text/plain": [
       "(114276, 504)"
      ]
     },
     "execution_count": 456,
     "metadata": {},
     "output_type": "execute_result"
    }
   ],
   "source": [
    "train_lre.shape"
   ]
  },
  {
   "cell_type": "code",
   "execution_count": 457,
   "metadata": {},
   "outputs": [],
   "source": [
    "#train_lre = train_lre.iloc[1000:2000]"
   ]
  },
  {
   "cell_type": "code",
   "execution_count": 458,
   "metadata": {},
   "outputs": [
    {
     "data": {
      "text/html": [
       "<div>\n",
       "<style scoped>\n",
       "    .dataframe tbody tr th:only-of-type {\n",
       "        vertical-align: middle;\n",
       "    }\n",
       "\n",
       "    .dataframe tbody tr th {\n",
       "        vertical-align: top;\n",
       "    }\n",
       "\n",
       "    .dataframe thead th {\n",
       "        text-align: right;\n",
       "    }\n",
       "</style>\n",
       "<table border=\"1\" class=\"dataframe\">\n",
       "  <thead>\n",
       "    <tr style=\"text-align: right;\">\n",
       "      <th></th>\n",
       "      <th>0</th>\n",
       "      <th>1</th>\n",
       "      <th>2</th>\n",
       "      <th>3</th>\n",
       "      <th>4</th>\n",
       "      <th>5</th>\n",
       "      <th>6</th>\n",
       "      <th>7</th>\n",
       "      <th>8</th>\n",
       "      <th>9</th>\n",
       "      <th>...</th>\n",
       "      <th>494</th>\n",
       "      <th>495</th>\n",
       "      <th>496</th>\n",
       "      <th>497</th>\n",
       "      <th>498</th>\n",
       "      <th>499</th>\n",
       "      <th>ids</th>\n",
       "      <th>year</th>\n",
       "      <th>data</th>\n",
       "      <th>lang</th>\n",
       "    </tr>\n",
       "  </thead>\n",
       "  <tbody>\n",
       "    <tr>\n",
       "      <th>0</th>\n",
       "      <td>-0.639420</td>\n",
       "      <td>0.345687</td>\n",
       "      <td>-0.517642</td>\n",
       "      <td>-0.736995</td>\n",
       "      <td>1.313009</td>\n",
       "      <td>1.655726</td>\n",
       "      <td>0.615175</td>\n",
       "      <td>0.799342</td>\n",
       "      <td>1.648420</td>\n",
       "      <td>1.314984</td>\n",
       "      <td>...</td>\n",
       "      <td>-2.216082</td>\n",
       "      <td>-1.322349</td>\n",
       "      <td>-0.716935</td>\n",
       "      <td>-3.843975</td>\n",
       "      <td>-1.471226</td>\n",
       "      <td>0.945404</td>\n",
       "      <td>zkllk</td>\n",
       "      <td>LDC2017E22</td>\n",
       "      <td>data</td>\n",
       "      <td>spa-car</td>\n",
       "    </tr>\n",
       "    <tr>\n",
       "      <th>1</th>\n",
       "      <td>0.113609</td>\n",
       "      <td>0.738035</td>\n",
       "      <td>0.584858</td>\n",
       "      <td>-0.248514</td>\n",
       "      <td>0.256618</td>\n",
       "      <td>1.060176</td>\n",
       "      <td>-0.416205</td>\n",
       "      <td>0.133669</td>\n",
       "      <td>0.188325</td>\n",
       "      <td>0.805241</td>\n",
       "      <td>...</td>\n",
       "      <td>-0.082178</td>\n",
       "      <td>1.965844</td>\n",
       "      <td>3.525489</td>\n",
       "      <td>0.006793</td>\n",
       "      <td>1.676278</td>\n",
       "      <td>-1.116285</td>\n",
       "      <td>lid05e1_lid00562</td>\n",
       "      <td>LDC2017E22</td>\n",
       "      <td>data</td>\n",
       "      <td>ara-apc</td>\n",
       "    </tr>\n",
       "    <tr>\n",
       "      <th>2</th>\n",
       "      <td>2.061305</td>\n",
       "      <td>-0.140602</td>\n",
       "      <td>-0.627102</td>\n",
       "      <td>-0.682902</td>\n",
       "      <td>1.337618</td>\n",
       "      <td>1.261542</td>\n",
       "      <td>-0.651286</td>\n",
       "      <td>0.307042</td>\n",
       "      <td>-0.980716</td>\n",
       "      <td>0.335533</td>\n",
       "      <td>...</td>\n",
       "      <td>0.996222</td>\n",
       "      <td>-3.018732</td>\n",
       "      <td>-1.841219</td>\n",
       "      <td>0.814874</td>\n",
       "      <td>-0.200840</td>\n",
       "      <td>1.180867</td>\n",
       "      <td>fla_0240-a</td>\n",
       "      <td>LDC2017E22</td>\n",
       "      <td>data</td>\n",
       "      <td>spa-car</td>\n",
       "    </tr>\n",
       "    <tr>\n",
       "      <th>3</th>\n",
       "      <td>1.958050</td>\n",
       "      <td>-0.608313</td>\n",
       "      <td>-0.113530</td>\n",
       "      <td>0.167277</td>\n",
       "      <td>0.911105</td>\n",
       "      <td>1.116085</td>\n",
       "      <td>-0.847208</td>\n",
       "      <td>-0.041355</td>\n",
       "      <td>-0.542331</td>\n",
       "      <td>0.199113</td>\n",
       "      <td>...</td>\n",
       "      <td>1.487050</td>\n",
       "      <td>-0.549122</td>\n",
       "      <td>-1.254462</td>\n",
       "      <td>1.644782</td>\n",
       "      <td>0.555329</td>\n",
       "      <td>1.159080</td>\n",
       "      <td>fla_0240-a</td>\n",
       "      <td>LDC2017E22</td>\n",
       "      <td>data</td>\n",
       "      <td>spa-car</td>\n",
       "    </tr>\n",
       "    <tr>\n",
       "      <th>4</th>\n",
       "      <td>1.842435</td>\n",
       "      <td>-0.417594</td>\n",
       "      <td>-0.427426</td>\n",
       "      <td>-0.485892</td>\n",
       "      <td>1.204338</td>\n",
       "      <td>1.439185</td>\n",
       "      <td>-1.056640</td>\n",
       "      <td>0.111603</td>\n",
       "      <td>-0.404314</td>\n",
       "      <td>-0.307069</td>\n",
       "      <td>...</td>\n",
       "      <td>0.712544</td>\n",
       "      <td>0.296827</td>\n",
       "      <td>-1.858668</td>\n",
       "      <td>0.209770</td>\n",
       "      <td>0.583769</td>\n",
       "      <td>1.398776</td>\n",
       "      <td>fla_0240-a</td>\n",
       "      <td>LDC2017E22</td>\n",
       "      <td>data</td>\n",
       "      <td>spa-car</td>\n",
       "    </tr>\n",
       "  </tbody>\n",
       "</table>\n",
       "<p>5 rows × 504 columns</p>\n",
       "</div>"
      ],
      "text/plain": [
       "          0         1         2         3         4         5         6  \\\n",
       "0 -0.639420  0.345687 -0.517642 -0.736995  1.313009  1.655726  0.615175   \n",
       "1  0.113609  0.738035  0.584858 -0.248514  0.256618  1.060176 -0.416205   \n",
       "2  2.061305 -0.140602 -0.627102 -0.682902  1.337618  1.261542 -0.651286   \n",
       "3  1.958050 -0.608313 -0.113530  0.167277  0.911105  1.116085 -0.847208   \n",
       "4  1.842435 -0.417594 -0.427426 -0.485892  1.204338  1.439185 -1.056640   \n",
       "\n",
       "          7         8         9   ...          494       495       496  \\\n",
       "0  0.799342  1.648420  1.314984   ...    -2.216082 -1.322349 -0.716935   \n",
       "1  0.133669  0.188325  0.805241   ...    -0.082178  1.965844  3.525489   \n",
       "2  0.307042 -0.980716  0.335533   ...     0.996222 -3.018732 -1.841219   \n",
       "3 -0.041355 -0.542331  0.199113   ...     1.487050 -0.549122 -1.254462   \n",
       "4  0.111603 -0.404314 -0.307069   ...     0.712544  0.296827 -1.858668   \n",
       "\n",
       "        497       498       499               ids        year  data     lang  \n",
       "0 -3.843975 -1.471226  0.945404             zkllk  LDC2017E22  data  spa-car  \n",
       "1  0.006793  1.676278 -1.116285  lid05e1_lid00562  LDC2017E22  data  ara-apc  \n",
       "2  0.814874 -0.200840  1.180867        fla_0240-a  LDC2017E22  data  spa-car  \n",
       "3  1.644782  0.555329  1.159080        fla_0240-a  LDC2017E22  data  spa-car  \n",
       "4  0.209770  0.583769  1.398776        fla_0240-a  LDC2017E22  data  spa-car  \n",
       "\n",
       "[5 rows x 504 columns]"
      ]
     },
     "execution_count": 458,
     "metadata": {},
     "output_type": "execute_result"
    }
   ],
   "source": [
    "train_lre.head()"
   ]
  },
  {
   "cell_type": "code",
   "execution_count": 459,
   "metadata": {},
   "outputs": [
    {
     "data": {
      "text/plain": [
       "lang\n",
       "ara-acm    10560\n",
       "ara-apc    23683\n",
       "ara-ary     6002\n",
       "ara-arz     2775\n",
       "eng-gbr      720\n",
       "eng-usg    17482\n",
       "por-brz     3293\n",
       "qsl-pol     3851\n",
       "qsl-rus     7890\n",
       "spa-car     4462\n",
       "spa-eur      692\n",
       "spa-lac     6048\n",
       "zho-cmn    26241\n",
       "zho-nan      577\n",
       "dtype: int64"
      ]
     },
     "execution_count": 459,
     "metadata": {},
     "output_type": "execute_result"
    }
   ],
   "source": [
    "train_lre.groupby(['lang']).size()"
   ]
  },
  {
   "cell_type": "code",
   "execution_count": 460,
   "metadata": {},
   "outputs": [],
   "source": [
    "#train_lre=train_lre.drop(train_lre.columns[0], axis=1)\n"
   ]
  },
  {
   "cell_type": "code",
   "execution_count": 461,
   "metadata": {},
   "outputs": [],
   "source": [
    "#train_lre"
   ]
  },
  {
   "cell_type": "code",
   "execution_count": 462,
   "metadata": {},
   "outputs": [],
   "source": [
    "val_lre = pd.read_csv('/home/satishk/GAN_lre/gan_csv/dev_feat_BNF_h5_02Jan.csv')\n",
    "#val_afds"
   ]
  },
  {
   "cell_type": "code",
   "execution_count": 463,
   "metadata": {},
   "outputs": [],
   "source": [
    "#val_lre = val_lre.iloc[100:300]"
   ]
  },
  {
   "cell_type": "code",
   "execution_count": 464,
   "metadata": {},
   "outputs": [
    {
     "data": {
      "text/plain": [
       "(3661, 505)"
      ]
     },
     "execution_count": 464,
     "metadata": {},
     "output_type": "execute_result"
    }
   ],
   "source": [
    "val_lre.shape"
   ]
  },
  {
   "cell_type": "code",
   "execution_count": 465,
   "metadata": {},
   "outputs": [
    {
     "data": {
      "text/html": [
       "<div>\n",
       "<style scoped>\n",
       "    .dataframe tbody tr th:only-of-type {\n",
       "        vertical-align: middle;\n",
       "    }\n",
       "\n",
       "    .dataframe tbody tr th {\n",
       "        vertical-align: top;\n",
       "    }\n",
       "\n",
       "    .dataframe thead th {\n",
       "        text-align: right;\n",
       "    }\n",
       "</style>\n",
       "<table border=\"1\" class=\"dataframe\">\n",
       "  <thead>\n",
       "    <tr style=\"text-align: right;\">\n",
       "      <th></th>\n",
       "      <th>0</th>\n",
       "      <th>1</th>\n",
       "      <th>2</th>\n",
       "      <th>3</th>\n",
       "      <th>4</th>\n",
       "      <th>5</th>\n",
       "      <th>6</th>\n",
       "      <th>7</th>\n",
       "      <th>8</th>\n",
       "      <th>9</th>\n",
       "      <th>...</th>\n",
       "      <th>495</th>\n",
       "      <th>496</th>\n",
       "      <th>497</th>\n",
       "      <th>498</th>\n",
       "      <th>499</th>\n",
       "      <th>uttid</th>\n",
       "      <th>language_code</th>\n",
       "      <th>data_source</th>\n",
       "      <th>speech_duration</th>\n",
       "      <th>segmentid1</th>\n",
       "    </tr>\n",
       "  </thead>\n",
       "  <tbody>\n",
       "    <tr>\n",
       "      <th>0</th>\n",
       "      <td>-0.888894</td>\n",
       "      <td>-0.725546</td>\n",
       "      <td>1.228264</td>\n",
       "      <td>2.474096</td>\n",
       "      <td>-0.136334</td>\n",
       "      <td>1.062179</td>\n",
       "      <td>-0.099016</td>\n",
       "      <td>-0.470705</td>\n",
       "      <td>1.654057</td>\n",
       "      <td>-1.702968</td>\n",
       "      <td>...</td>\n",
       "      <td>0.208034</td>\n",
       "      <td>0.467388</td>\n",
       "      <td>-0.336385</td>\n",
       "      <td>1.096538</td>\n",
       "      <td>-1.589270</td>\n",
       "      <td>lre17_jxjmxcks</td>\n",
       "      <td>spa-lac</td>\n",
       "      <td>mls14</td>\n",
       "      <td>30</td>\n",
       "      <td>lre17_jxjmxcks</td>\n",
       "    </tr>\n",
       "    <tr>\n",
       "      <th>1</th>\n",
       "      <td>-0.387867</td>\n",
       "      <td>-0.468535</td>\n",
       "      <td>-1.576731</td>\n",
       "      <td>0.049272</td>\n",
       "      <td>-0.716639</td>\n",
       "      <td>0.822751</td>\n",
       "      <td>0.408834</td>\n",
       "      <td>-1.029209</td>\n",
       "      <td>2.657421</td>\n",
       "      <td>0.756408</td>\n",
       "      <td>...</td>\n",
       "      <td>-1.132769</td>\n",
       "      <td>-0.464028</td>\n",
       "      <td>0.401513</td>\n",
       "      <td>-0.841627</td>\n",
       "      <td>1.031664</td>\n",
       "      <td>lre17_iaxztiph</td>\n",
       "      <td>zho-cmn</td>\n",
       "      <td>vast</td>\n",
       "      <td>1000</td>\n",
       "      <td>lre17_iaxztiph</td>\n",
       "    </tr>\n",
       "    <tr>\n",
       "      <th>2</th>\n",
       "      <td>-0.167892</td>\n",
       "      <td>-0.524584</td>\n",
       "      <td>-1.522212</td>\n",
       "      <td>-0.576468</td>\n",
       "      <td>1.031362</td>\n",
       "      <td>0.791171</td>\n",
       "      <td>2.272489</td>\n",
       "      <td>-1.107504</td>\n",
       "      <td>2.928773</td>\n",
       "      <td>2.028390</td>\n",
       "      <td>...</td>\n",
       "      <td>-1.956216</td>\n",
       "      <td>0.023479</td>\n",
       "      <td>-0.005307</td>\n",
       "      <td>1.021076</td>\n",
       "      <td>-0.648201</td>\n",
       "      <td>lre17_gzuiblur</td>\n",
       "      <td>por-brz</td>\n",
       "      <td>vast</td>\n",
       "      <td>1000</td>\n",
       "      <td>lre17_gzuiblur</td>\n",
       "    </tr>\n",
       "    <tr>\n",
       "      <th>3</th>\n",
       "      <td>-0.195398</td>\n",
       "      <td>-0.390383</td>\n",
       "      <td>-0.624266</td>\n",
       "      <td>1.535441</td>\n",
       "      <td>0.388126</td>\n",
       "      <td>1.727447</td>\n",
       "      <td>0.463118</td>\n",
       "      <td>2.059773</td>\n",
       "      <td>0.165201</td>\n",
       "      <td>0.619945</td>\n",
       "      <td>...</td>\n",
       "      <td>0.616359</td>\n",
       "      <td>-2.654541</td>\n",
       "      <td>0.482435</td>\n",
       "      <td>0.401479</td>\n",
       "      <td>-1.639324</td>\n",
       "      <td>lre17_zpuysjrb</td>\n",
       "      <td>zho-nan</td>\n",
       "      <td>mls14</td>\n",
       "      <td>10</td>\n",
       "      <td>lre17_zpuysjrb</td>\n",
       "    </tr>\n",
       "    <tr>\n",
       "      <th>4</th>\n",
       "      <td>0.192936</td>\n",
       "      <td>-1.009773</td>\n",
       "      <td>0.330688</td>\n",
       "      <td>2.114603</td>\n",
       "      <td>-1.960716</td>\n",
       "      <td>1.176021</td>\n",
       "      <td>0.320783</td>\n",
       "      <td>-0.202096</td>\n",
       "      <td>0.561380</td>\n",
       "      <td>-0.318037</td>\n",
       "      <td>...</td>\n",
       "      <td>0.680556</td>\n",
       "      <td>-1.863441</td>\n",
       "      <td>-2.006974</td>\n",
       "      <td>1.963618</td>\n",
       "      <td>-0.744876</td>\n",
       "      <td>lre17_amnlzmbw</td>\n",
       "      <td>qsl-pol</td>\n",
       "      <td>mls14</td>\n",
       "      <td>3</td>\n",
       "      <td>lre17_amnlzmbw</td>\n",
       "    </tr>\n",
       "  </tbody>\n",
       "</table>\n",
       "<p>5 rows × 505 columns</p>\n",
       "</div>"
      ],
      "text/plain": [
       "          0         1         2         3         4         5         6  \\\n",
       "0 -0.888894 -0.725546  1.228264  2.474096 -0.136334  1.062179 -0.099016   \n",
       "1 -0.387867 -0.468535 -1.576731  0.049272 -0.716639  0.822751  0.408834   \n",
       "2 -0.167892 -0.524584 -1.522212 -0.576468  1.031362  0.791171  2.272489   \n",
       "3 -0.195398 -0.390383 -0.624266  1.535441  0.388126  1.727447  0.463118   \n",
       "4  0.192936 -1.009773  0.330688  2.114603 -1.960716  1.176021  0.320783   \n",
       "\n",
       "          7         8         9       ...             495       496       497  \\\n",
       "0 -0.470705  1.654057 -1.702968       ...        0.208034  0.467388 -0.336385   \n",
       "1 -1.029209  2.657421  0.756408       ...       -1.132769 -0.464028  0.401513   \n",
       "2 -1.107504  2.928773  2.028390       ...       -1.956216  0.023479 -0.005307   \n",
       "3  2.059773  0.165201  0.619945       ...        0.616359 -2.654541  0.482435   \n",
       "4 -0.202096  0.561380 -0.318037       ...        0.680556 -1.863441 -2.006974   \n",
       "\n",
       "        498       499           uttid  language_code  data_source  \\\n",
       "0  1.096538 -1.589270  lre17_jxjmxcks        spa-lac        mls14   \n",
       "1 -0.841627  1.031664  lre17_iaxztiph        zho-cmn         vast   \n",
       "2  1.021076 -0.648201  lre17_gzuiblur        por-brz         vast   \n",
       "3  0.401479 -1.639324  lre17_zpuysjrb        zho-nan        mls14   \n",
       "4  1.963618 -0.744876  lre17_amnlzmbw        qsl-pol        mls14   \n",
       "\n",
       "   speech_duration      segmentid1  \n",
       "0               30  lre17_jxjmxcks  \n",
       "1             1000  lre17_iaxztiph  \n",
       "2             1000  lre17_gzuiblur  \n",
       "3               10  lre17_zpuysjrb  \n",
       "4                3  lre17_amnlzmbw  \n",
       "\n",
       "[5 rows x 505 columns]"
      ]
     },
     "execution_count": 465,
     "metadata": {},
     "output_type": "execute_result"
    }
   ],
   "source": [
    "val_lre.head()"
   ]
  },
  {
   "cell_type": "code",
   "execution_count": null,
   "metadata": {},
   "outputs": [],
   "source": []
  },
  {
   "cell_type": "code",
   "execution_count": 466,
   "metadata": {},
   "outputs": [],
   "source": [
    "X_train = train_lre.drop(['ids','year','data','lang'],axis=1)\n",
    "#X_train = train_lre.drop(['langid'],axis=1)\n",
    "\n",
    "y_train = train_lre[\"lang\"]\n",
    "\n",
    "#y_train_uttid = train_lre[\"uttid\"]"
   ]
  },
  {
   "cell_type": "code",
   "execution_count": 467,
   "metadata": {},
   "outputs": [
    {
     "data": {
      "text/html": [
       "<div>\n",
       "<style scoped>\n",
       "    .dataframe tbody tr th:only-of-type {\n",
       "        vertical-align: middle;\n",
       "    }\n",
       "\n",
       "    .dataframe tbody tr th {\n",
       "        vertical-align: top;\n",
       "    }\n",
       "\n",
       "    .dataframe thead th {\n",
       "        text-align: right;\n",
       "    }\n",
       "</style>\n",
       "<table border=\"1\" class=\"dataframe\">\n",
       "  <thead>\n",
       "    <tr style=\"text-align: right;\">\n",
       "      <th></th>\n",
       "      <th>0</th>\n",
       "      <th>1</th>\n",
       "      <th>2</th>\n",
       "      <th>3</th>\n",
       "      <th>4</th>\n",
       "      <th>5</th>\n",
       "      <th>6</th>\n",
       "      <th>7</th>\n",
       "      <th>8</th>\n",
       "      <th>9</th>\n",
       "      <th>...</th>\n",
       "      <th>490</th>\n",
       "      <th>491</th>\n",
       "      <th>492</th>\n",
       "      <th>493</th>\n",
       "      <th>494</th>\n",
       "      <th>495</th>\n",
       "      <th>496</th>\n",
       "      <th>497</th>\n",
       "      <th>498</th>\n",
       "      <th>499</th>\n",
       "    </tr>\n",
       "  </thead>\n",
       "  <tbody>\n",
       "    <tr>\n",
       "      <th>0</th>\n",
       "      <td>-0.639420</td>\n",
       "      <td>0.345687</td>\n",
       "      <td>-0.517642</td>\n",
       "      <td>-0.736995</td>\n",
       "      <td>1.313009</td>\n",
       "      <td>1.655726</td>\n",
       "      <td>0.615175</td>\n",
       "      <td>0.799342</td>\n",
       "      <td>1.648420</td>\n",
       "      <td>1.314984</td>\n",
       "      <td>...</td>\n",
       "      <td>-0.677938</td>\n",
       "      <td>1.489974</td>\n",
       "      <td>-0.093175</td>\n",
       "      <td>-0.034224</td>\n",
       "      <td>-2.216082</td>\n",
       "      <td>-1.322349</td>\n",
       "      <td>-0.716935</td>\n",
       "      <td>-3.843975</td>\n",
       "      <td>-1.471226</td>\n",
       "      <td>0.945404</td>\n",
       "    </tr>\n",
       "    <tr>\n",
       "      <th>1</th>\n",
       "      <td>0.113609</td>\n",
       "      <td>0.738035</td>\n",
       "      <td>0.584858</td>\n",
       "      <td>-0.248514</td>\n",
       "      <td>0.256618</td>\n",
       "      <td>1.060176</td>\n",
       "      <td>-0.416205</td>\n",
       "      <td>0.133669</td>\n",
       "      <td>0.188325</td>\n",
       "      <td>0.805241</td>\n",
       "      <td>...</td>\n",
       "      <td>0.097766</td>\n",
       "      <td>0.518305</td>\n",
       "      <td>0.966576</td>\n",
       "      <td>-0.167231</td>\n",
       "      <td>-0.082178</td>\n",
       "      <td>1.965844</td>\n",
       "      <td>3.525489</td>\n",
       "      <td>0.006793</td>\n",
       "      <td>1.676278</td>\n",
       "      <td>-1.116285</td>\n",
       "    </tr>\n",
       "    <tr>\n",
       "      <th>2</th>\n",
       "      <td>2.061305</td>\n",
       "      <td>-0.140602</td>\n",
       "      <td>-0.627102</td>\n",
       "      <td>-0.682902</td>\n",
       "      <td>1.337618</td>\n",
       "      <td>1.261542</td>\n",
       "      <td>-0.651286</td>\n",
       "      <td>0.307042</td>\n",
       "      <td>-0.980716</td>\n",
       "      <td>0.335533</td>\n",
       "      <td>...</td>\n",
       "      <td>0.904280</td>\n",
       "      <td>1.346115</td>\n",
       "      <td>-1.534558</td>\n",
       "      <td>-0.781364</td>\n",
       "      <td>0.996222</td>\n",
       "      <td>-3.018732</td>\n",
       "      <td>-1.841219</td>\n",
       "      <td>0.814874</td>\n",
       "      <td>-0.200840</td>\n",
       "      <td>1.180867</td>\n",
       "    </tr>\n",
       "    <tr>\n",
       "      <th>3</th>\n",
       "      <td>1.958050</td>\n",
       "      <td>-0.608313</td>\n",
       "      <td>-0.113530</td>\n",
       "      <td>0.167277</td>\n",
       "      <td>0.911105</td>\n",
       "      <td>1.116085</td>\n",
       "      <td>-0.847208</td>\n",
       "      <td>-0.041355</td>\n",
       "      <td>-0.542331</td>\n",
       "      <td>0.199113</td>\n",
       "      <td>...</td>\n",
       "      <td>0.358685</td>\n",
       "      <td>1.931928</td>\n",
       "      <td>1.998663</td>\n",
       "      <td>0.149433</td>\n",
       "      <td>1.487050</td>\n",
       "      <td>-0.549122</td>\n",
       "      <td>-1.254462</td>\n",
       "      <td>1.644782</td>\n",
       "      <td>0.555329</td>\n",
       "      <td>1.159080</td>\n",
       "    </tr>\n",
       "    <tr>\n",
       "      <th>4</th>\n",
       "      <td>1.842435</td>\n",
       "      <td>-0.417594</td>\n",
       "      <td>-0.427426</td>\n",
       "      <td>-0.485892</td>\n",
       "      <td>1.204338</td>\n",
       "      <td>1.439185</td>\n",
       "      <td>-1.056640</td>\n",
       "      <td>0.111603</td>\n",
       "      <td>-0.404314</td>\n",
       "      <td>-0.307069</td>\n",
       "      <td>...</td>\n",
       "      <td>-0.424766</td>\n",
       "      <td>1.179233</td>\n",
       "      <td>0.954688</td>\n",
       "      <td>-2.461002</td>\n",
       "      <td>0.712544</td>\n",
       "      <td>0.296827</td>\n",
       "      <td>-1.858668</td>\n",
       "      <td>0.209770</td>\n",
       "      <td>0.583769</td>\n",
       "      <td>1.398776</td>\n",
       "    </tr>\n",
       "  </tbody>\n",
       "</table>\n",
       "<p>5 rows × 500 columns</p>\n",
       "</div>"
      ],
      "text/plain": [
       "          0         1         2         3         4         5         6  \\\n",
       "0 -0.639420  0.345687 -0.517642 -0.736995  1.313009  1.655726  0.615175   \n",
       "1  0.113609  0.738035  0.584858 -0.248514  0.256618  1.060176 -0.416205   \n",
       "2  2.061305 -0.140602 -0.627102 -0.682902  1.337618  1.261542 -0.651286   \n",
       "3  1.958050 -0.608313 -0.113530  0.167277  0.911105  1.116085 -0.847208   \n",
       "4  1.842435 -0.417594 -0.427426 -0.485892  1.204338  1.439185 -1.056640   \n",
       "\n",
       "          7         8         9    ...          490       491       492  \\\n",
       "0  0.799342  1.648420  1.314984    ...    -0.677938  1.489974 -0.093175   \n",
       "1  0.133669  0.188325  0.805241    ...     0.097766  0.518305  0.966576   \n",
       "2  0.307042 -0.980716  0.335533    ...     0.904280  1.346115 -1.534558   \n",
       "3 -0.041355 -0.542331  0.199113    ...     0.358685  1.931928  1.998663   \n",
       "4  0.111603 -0.404314 -0.307069    ...    -0.424766  1.179233  0.954688   \n",
       "\n",
       "        493       494       495       496       497       498       499  \n",
       "0 -0.034224 -2.216082 -1.322349 -0.716935 -3.843975 -1.471226  0.945404  \n",
       "1 -0.167231 -0.082178  1.965844  3.525489  0.006793  1.676278 -1.116285  \n",
       "2 -0.781364  0.996222 -3.018732 -1.841219  0.814874 -0.200840  1.180867  \n",
       "3  0.149433  1.487050 -0.549122 -1.254462  1.644782  0.555329  1.159080  \n",
       "4 -2.461002  0.712544  0.296827 -1.858668  0.209770  0.583769  1.398776  \n",
       "\n",
       "[5 rows x 500 columns]"
      ]
     },
     "execution_count": 467,
     "metadata": {},
     "output_type": "execute_result"
    }
   ],
   "source": [
    "X_train.head()"
   ]
  },
  {
   "cell_type": "code",
   "execution_count": 468,
   "metadata": {},
   "outputs": [
    {
     "data": {
      "text/plain": [
       "0    spa-car\n",
       "1    ara-apc\n",
       "2    spa-car\n",
       "3    spa-car\n",
       "4    spa-car\n",
       "Name: lang, dtype: object"
      ]
     },
     "execution_count": 468,
     "metadata": {},
     "output_type": "execute_result"
    }
   ],
   "source": [
    "y_train.head()"
   ]
  },
  {
   "cell_type": "code",
   "execution_count": 469,
   "metadata": {},
   "outputs": [
    {
     "data": {
      "text/html": [
       "<div>\n",
       "<style scoped>\n",
       "    .dataframe tbody tr th:only-of-type {\n",
       "        vertical-align: middle;\n",
       "    }\n",
       "\n",
       "    .dataframe tbody tr th {\n",
       "        vertical-align: top;\n",
       "    }\n",
       "\n",
       "    .dataframe thead th {\n",
       "        text-align: right;\n",
       "    }\n",
       "</style>\n",
       "<table border=\"1\" class=\"dataframe\">\n",
       "  <thead>\n",
       "    <tr style=\"text-align: right;\">\n",
       "      <th></th>\n",
       "      <th>0</th>\n",
       "      <th>1</th>\n",
       "      <th>2</th>\n",
       "      <th>3</th>\n",
       "      <th>4</th>\n",
       "      <th>5</th>\n",
       "      <th>6</th>\n",
       "      <th>7</th>\n",
       "      <th>8</th>\n",
       "      <th>9</th>\n",
       "      <th>...</th>\n",
       "      <th>495</th>\n",
       "      <th>496</th>\n",
       "      <th>497</th>\n",
       "      <th>498</th>\n",
       "      <th>499</th>\n",
       "      <th>uttid</th>\n",
       "      <th>language_code</th>\n",
       "      <th>data_source</th>\n",
       "      <th>speech_duration</th>\n",
       "      <th>segmentid1</th>\n",
       "    </tr>\n",
       "  </thead>\n",
       "  <tbody>\n",
       "    <tr>\n",
       "      <th>0</th>\n",
       "      <td>-0.888894</td>\n",
       "      <td>-0.725546</td>\n",
       "      <td>1.228264</td>\n",
       "      <td>2.474096</td>\n",
       "      <td>-0.136334</td>\n",
       "      <td>1.062179</td>\n",
       "      <td>-0.099016</td>\n",
       "      <td>-0.470705</td>\n",
       "      <td>1.654057</td>\n",
       "      <td>-1.702968</td>\n",
       "      <td>...</td>\n",
       "      <td>0.208034</td>\n",
       "      <td>0.467388</td>\n",
       "      <td>-0.336385</td>\n",
       "      <td>1.096538</td>\n",
       "      <td>-1.589270</td>\n",
       "      <td>lre17_jxjmxcks</td>\n",
       "      <td>spa-lac</td>\n",
       "      <td>mls14</td>\n",
       "      <td>30</td>\n",
       "      <td>lre17_jxjmxcks</td>\n",
       "    </tr>\n",
       "    <tr>\n",
       "      <th>1</th>\n",
       "      <td>-0.387867</td>\n",
       "      <td>-0.468535</td>\n",
       "      <td>-1.576731</td>\n",
       "      <td>0.049272</td>\n",
       "      <td>-0.716639</td>\n",
       "      <td>0.822751</td>\n",
       "      <td>0.408834</td>\n",
       "      <td>-1.029209</td>\n",
       "      <td>2.657421</td>\n",
       "      <td>0.756408</td>\n",
       "      <td>...</td>\n",
       "      <td>-1.132769</td>\n",
       "      <td>-0.464028</td>\n",
       "      <td>0.401513</td>\n",
       "      <td>-0.841627</td>\n",
       "      <td>1.031664</td>\n",
       "      <td>lre17_iaxztiph</td>\n",
       "      <td>zho-cmn</td>\n",
       "      <td>vast</td>\n",
       "      <td>1000</td>\n",
       "      <td>lre17_iaxztiph</td>\n",
       "    </tr>\n",
       "    <tr>\n",
       "      <th>2</th>\n",
       "      <td>-0.167892</td>\n",
       "      <td>-0.524584</td>\n",
       "      <td>-1.522212</td>\n",
       "      <td>-0.576468</td>\n",
       "      <td>1.031362</td>\n",
       "      <td>0.791171</td>\n",
       "      <td>2.272489</td>\n",
       "      <td>-1.107504</td>\n",
       "      <td>2.928773</td>\n",
       "      <td>2.028390</td>\n",
       "      <td>...</td>\n",
       "      <td>-1.956216</td>\n",
       "      <td>0.023479</td>\n",
       "      <td>-0.005307</td>\n",
       "      <td>1.021076</td>\n",
       "      <td>-0.648201</td>\n",
       "      <td>lre17_gzuiblur</td>\n",
       "      <td>por-brz</td>\n",
       "      <td>vast</td>\n",
       "      <td>1000</td>\n",
       "      <td>lre17_gzuiblur</td>\n",
       "    </tr>\n",
       "    <tr>\n",
       "      <th>3</th>\n",
       "      <td>-0.195398</td>\n",
       "      <td>-0.390383</td>\n",
       "      <td>-0.624266</td>\n",
       "      <td>1.535441</td>\n",
       "      <td>0.388126</td>\n",
       "      <td>1.727447</td>\n",
       "      <td>0.463118</td>\n",
       "      <td>2.059773</td>\n",
       "      <td>0.165201</td>\n",
       "      <td>0.619945</td>\n",
       "      <td>...</td>\n",
       "      <td>0.616359</td>\n",
       "      <td>-2.654541</td>\n",
       "      <td>0.482435</td>\n",
       "      <td>0.401479</td>\n",
       "      <td>-1.639324</td>\n",
       "      <td>lre17_zpuysjrb</td>\n",
       "      <td>zho-nan</td>\n",
       "      <td>mls14</td>\n",
       "      <td>10</td>\n",
       "      <td>lre17_zpuysjrb</td>\n",
       "    </tr>\n",
       "    <tr>\n",
       "      <th>4</th>\n",
       "      <td>0.192936</td>\n",
       "      <td>-1.009773</td>\n",
       "      <td>0.330688</td>\n",
       "      <td>2.114603</td>\n",
       "      <td>-1.960716</td>\n",
       "      <td>1.176021</td>\n",
       "      <td>0.320783</td>\n",
       "      <td>-0.202096</td>\n",
       "      <td>0.561380</td>\n",
       "      <td>-0.318037</td>\n",
       "      <td>...</td>\n",
       "      <td>0.680556</td>\n",
       "      <td>-1.863441</td>\n",
       "      <td>-2.006974</td>\n",
       "      <td>1.963618</td>\n",
       "      <td>-0.744876</td>\n",
       "      <td>lre17_amnlzmbw</td>\n",
       "      <td>qsl-pol</td>\n",
       "      <td>mls14</td>\n",
       "      <td>3</td>\n",
       "      <td>lre17_amnlzmbw</td>\n",
       "    </tr>\n",
       "  </tbody>\n",
       "</table>\n",
       "<p>5 rows × 505 columns</p>\n",
       "</div>"
      ],
      "text/plain": [
       "          0         1         2         3         4         5         6  \\\n",
       "0 -0.888894 -0.725546  1.228264  2.474096 -0.136334  1.062179 -0.099016   \n",
       "1 -0.387867 -0.468535 -1.576731  0.049272 -0.716639  0.822751  0.408834   \n",
       "2 -0.167892 -0.524584 -1.522212 -0.576468  1.031362  0.791171  2.272489   \n",
       "3 -0.195398 -0.390383 -0.624266  1.535441  0.388126  1.727447  0.463118   \n",
       "4  0.192936 -1.009773  0.330688  2.114603 -1.960716  1.176021  0.320783   \n",
       "\n",
       "          7         8         9       ...             495       496       497  \\\n",
       "0 -0.470705  1.654057 -1.702968       ...        0.208034  0.467388 -0.336385   \n",
       "1 -1.029209  2.657421  0.756408       ...       -1.132769 -0.464028  0.401513   \n",
       "2 -1.107504  2.928773  2.028390       ...       -1.956216  0.023479 -0.005307   \n",
       "3  2.059773  0.165201  0.619945       ...        0.616359 -2.654541  0.482435   \n",
       "4 -0.202096  0.561380 -0.318037       ...        0.680556 -1.863441 -2.006974   \n",
       "\n",
       "        498       499           uttid  language_code  data_source  \\\n",
       "0  1.096538 -1.589270  lre17_jxjmxcks        spa-lac        mls14   \n",
       "1 -0.841627  1.031664  lre17_iaxztiph        zho-cmn         vast   \n",
       "2  1.021076 -0.648201  lre17_gzuiblur        por-brz         vast   \n",
       "3  0.401479 -1.639324  lre17_zpuysjrb        zho-nan        mls14   \n",
       "4  1.963618 -0.744876  lre17_amnlzmbw        qsl-pol        mls14   \n",
       "\n",
       "   speech_duration      segmentid1  \n",
       "0               30  lre17_jxjmxcks  \n",
       "1             1000  lre17_iaxztiph  \n",
       "2             1000  lre17_gzuiblur  \n",
       "3               10  lre17_zpuysjrb  \n",
       "4                3  lre17_amnlzmbw  \n",
       "\n",
       "[5 rows x 505 columns]"
      ]
     },
     "execution_count": 469,
     "metadata": {},
     "output_type": "execute_result"
    }
   ],
   "source": [
    "val_lre.head()"
   ]
  },
  {
   "cell_type": "raw",
   "metadata": {},
   "source": [
    "X_val = val_lre.drop([\"segmentid\",'language_code','data_source','speech_duration','uttid'],axis=1)\n",
    "y_val = val_lre[\"language_code\"]\n",
    "#y_val_segmentid = val_lre[\"segmentid\"]"
   ]
  },
  {
   "cell_type": "code",
   "execution_count": 470,
   "metadata": {},
   "outputs": [],
   "source": [
    "X_val = val_lre.drop([\"language_code\",\"uttid\",\"segmentid1\",\"data_source\",\"speech_duration\"],axis=1)\n",
    "y_val = val_lre[\"language_code\"]\n",
    "y_val_segmentid = val_lre[\"segmentid1\"]"
   ]
  },
  {
   "cell_type": "code",
   "execution_count": 471,
   "metadata": {},
   "outputs": [
    {
     "data": {
      "text/plain": [
       "pandas.core.frame.DataFrame"
      ]
     },
     "execution_count": 471,
     "metadata": {},
     "output_type": "execute_result"
    }
   ],
   "source": [
    "type(X_val)"
   ]
  },
  {
   "cell_type": "code",
   "execution_count": 472,
   "metadata": {},
   "outputs": [],
   "source": [
    "#XX_train = X_train.append(X_val, ignore_index=True)\n",
    "#y_train = y_train.append(y_val, ignore_index=True)"
   ]
  },
  {
   "cell_type": "code",
   "execution_count": 473,
   "metadata": {},
   "outputs": [],
   "source": [
    "#XX_train = pd.DataFrame(XX_train)"
   ]
  },
  {
   "cell_type": "code",
   "execution_count": 474,
   "metadata": {},
   "outputs": [],
   "source": [
    "#type(XX_train)"
   ]
  },
  {
   "cell_type": "code",
   "execution_count": 475,
   "metadata": {},
   "outputs": [],
   "source": [
    "#XX_train.shape"
   ]
  },
  {
   "cell_type": "code",
   "execution_count": 476,
   "metadata": {},
   "outputs": [],
   "source": [
    "X_train, X_test, y_train, y_test = train_test_split(X_train, y_train, test_size=0.1, random_state=42)\n"
   ]
  },
  {
   "cell_type": "code",
   "execution_count": 477,
   "metadata": {},
   "outputs": [
    {
     "data": {
      "text/plain": [
       "(102848, 500)"
      ]
     },
     "execution_count": 477,
     "metadata": {},
     "output_type": "execute_result"
    }
   ],
   "source": [
    "X_train.shape"
   ]
  },
  {
   "cell_type": "code",
   "execution_count": 478,
   "metadata": {},
   "outputs": [
    {
     "data": {
      "text/plain": [
       "(11428, 500)"
      ]
     },
     "execution_count": 478,
     "metadata": {},
     "output_type": "execute_result"
    }
   ],
   "source": [
    "X_test.shape"
   ]
  },
  {
   "cell_type": "code",
   "execution_count": 479,
   "metadata": {},
   "outputs": [
    {
     "data": {
      "text/plain": [
       "0    spa-lac\n",
       "1    zho-cmn\n",
       "2    por-brz\n",
       "3    zho-nan\n",
       "4    qsl-pol\n",
       "Name: language_code, dtype: object"
      ]
     },
     "execution_count": 479,
     "metadata": {},
     "output_type": "execute_result"
    }
   ],
   "source": [
    "y_val.head()"
   ]
  },
  {
   "cell_type": "code",
   "execution_count": 480,
   "metadata": {},
   "outputs": [
    {
     "data": {
      "text/plain": [
       "41085    qsl-pol\n",
       "30219    ara-acm\n",
       "34391    qsl-rus\n",
       "47483    spa-car\n",
       "77358    zho-cmn\n",
       "Name: lang, dtype: object"
      ]
     },
     "execution_count": 480,
     "metadata": {},
     "output_type": "execute_result"
    }
   ],
   "source": [
    "y_train.head()"
   ]
  },
  {
   "cell_type": "code",
   "execution_count": 481,
   "metadata": {},
   "outputs": [
    {
     "data": {
      "text/plain": [
       "(3661,)"
      ]
     },
     "execution_count": 481,
     "metadata": {},
     "output_type": "execute_result"
    }
   ],
   "source": [
    "y_val.shape"
   ]
  },
  {
   "cell_type": "code",
   "execution_count": 482,
   "metadata": {},
   "outputs": [
    {
     "data": {
      "text/plain": [
       "pandas.core.series.Series"
      ]
     },
     "execution_count": 482,
     "metadata": {},
     "output_type": "execute_result"
    }
   ],
   "source": [
    "type(y_train)"
   ]
  },
  {
   "cell_type": "code",
   "execution_count": 483,
   "metadata": {},
   "outputs": [],
   "source": [
    "#y_train = y_train.append(y_val, ignore_index=True)"
   ]
  },
  {
   "cell_type": "code",
   "execution_count": 484,
   "metadata": {},
   "outputs": [
    {
     "data": {
      "text/plain": [
       "(102848,)"
      ]
     },
     "execution_count": 484,
     "metadata": {},
     "output_type": "execute_result"
    }
   ],
   "source": [
    "y_train.shape"
   ]
  },
  {
   "cell_type": "code",
   "execution_count": 485,
   "metadata": {},
   "outputs": [],
   "source": [
    "yyy = y_train"
   ]
  },
  {
   "cell_type": "code",
   "execution_count": 486,
   "metadata": {},
   "outputs": [
    {
     "data": {
      "text/plain": [
       "41085    qsl-pol\n",
       "30219    ara-acm\n",
       "34391    qsl-rus\n",
       "47483    spa-car\n",
       "77358    zho-cmn\n",
       "Name: lang, dtype: object"
      ]
     },
     "execution_count": 486,
     "metadata": {},
     "output_type": "execute_result"
    }
   ],
   "source": [
    "yyy.head()"
   ]
  },
  {
   "cell_type": "code",
   "execution_count": 487,
   "metadata": {},
   "outputs": [
    {
     "data": {
      "text/plain": [
       "41085    qsl-pol\n",
       "30219    ara-acm\n",
       "34391    qsl-rus\n",
       "47483    spa-car\n",
       "77358    zho-cmn\n",
       "Name: lang, dtype: object"
      ]
     },
     "execution_count": 487,
     "metadata": {},
     "output_type": "execute_result"
    }
   ],
   "source": [
    "y_train.head()"
   ]
  },
  {
   "cell_type": "code",
   "execution_count": null,
   "metadata": {},
   "outputs": [],
   "source": []
  },
  {
   "cell_type": "code",
   "execution_count": 488,
   "metadata": {},
   "outputs": [],
   "source": [
    "#y_val_segmentid.head()"
   ]
  },
  {
   "cell_type": "code",
   "execution_count": 489,
   "metadata": {},
   "outputs": [
    {
     "data": {
      "text/plain": [
       "LabelEncoder()"
      ]
     },
     "execution_count": 489,
     "metadata": {},
     "output_type": "execute_result"
    }
   ],
   "source": [
    "le = preprocessing.LabelEncoder()\n",
    "le.fit(y_train)"
   ]
  },
  {
   "cell_type": "code",
   "execution_count": 490,
   "metadata": {},
   "outputs": [
    {
     "data": {
      "text/plain": [
       "array(['ara-acm', 'ara-apc', 'ara-ary', 'ara-arz', 'eng-gbr', 'eng-usg',\n",
       "       'por-brz', 'qsl-pol', 'qsl-rus', 'spa-car', 'spa-eur', 'spa-lac',\n",
       "       'zho-cmn', 'zho-nan'], dtype=object)"
      ]
     },
     "execution_count": 490,
     "metadata": {},
     "output_type": "execute_result"
    }
   ],
   "source": [
    "le.classes_"
   ]
  },
  {
   "cell_type": "code",
   "execution_count": 491,
   "metadata": {},
   "outputs": [],
   "source": [
    "y_train=le.transform(y_train)"
   ]
  },
  {
   "cell_type": "code",
   "execution_count": 492,
   "metadata": {},
   "outputs": [
    {
     "data": {
      "text/plain": [
       "(102848,)"
      ]
     },
     "execution_count": 492,
     "metadata": {},
     "output_type": "execute_result"
    }
   ],
   "source": [
    "y_train.shape"
   ]
  },
  {
   "cell_type": "code",
   "execution_count": 493,
   "metadata": {},
   "outputs": [
    {
     "data": {
      "text/plain": [
       "LabelEncoder()"
      ]
     },
     "execution_count": 493,
     "metadata": {},
     "output_type": "execute_result"
    }
   ],
   "source": [
    "le = preprocessing.LabelEncoder()\n",
    "le.fit(y_val)"
   ]
  },
  {
   "cell_type": "code",
   "execution_count": 494,
   "metadata": {},
   "outputs": [
    {
     "data": {
      "text/plain": [
       "array(['ara-acm', 'ara-apc', 'ara-ary', 'ara-arz', 'eng-gbr', 'eng-usg',\n",
       "       'por-brz', 'qsl-pol', 'qsl-rus', 'spa-car', 'spa-eur', 'spa-lac',\n",
       "       'zho-cmn', 'zho-nan'], dtype=object)"
      ]
     },
     "execution_count": 494,
     "metadata": {},
     "output_type": "execute_result"
    }
   ],
   "source": [
    "le.classes_"
   ]
  },
  {
   "cell_type": "code",
   "execution_count": 495,
   "metadata": {},
   "outputs": [],
   "source": [
    "y_val_labels = le.transform(y_val)"
   ]
  },
  {
   "cell_type": "code",
   "execution_count": 496,
   "metadata": {},
   "outputs": [
    {
     "data": {
      "text/plain": [
       "array([11, 12,  6, 13,  7,  0,  7,  5,  5, 12])"
      ]
     },
     "execution_count": 496,
     "metadata": {},
     "output_type": "execute_result"
    }
   ],
   "source": [
    "y_val_labels[0:10]"
   ]
  },
  {
   "cell_type": "code",
   "execution_count": 497,
   "metadata": {},
   "outputs": [],
   "source": [
    "y_test = le.transform(y_test)"
   ]
  },
  {
   "cell_type": "code",
   "execution_count": 498,
   "metadata": {},
   "outputs": [
    {
     "data": {
      "text/plain": [
       "array([ 8,  0, 12, ...,  9,  1, 12])"
      ]
     },
     "execution_count": 498,
     "metadata": {},
     "output_type": "execute_result"
    }
   ],
   "source": [
    "y_test"
   ]
  },
  {
   "cell_type": "code",
   "execution_count": 499,
   "metadata": {},
   "outputs": [],
   "source": [
    "X_train=X_train.values\n",
    "X_val=X_val.values\n",
    "X_test=X_test.values"
   ]
  },
  {
   "cell_type": "code",
   "execution_count": 500,
   "metadata": {},
   "outputs": [
    {
     "data": {
      "text/plain": [
       "(102848, 500)"
      ]
     },
     "execution_count": 500,
     "metadata": {},
     "output_type": "execute_result"
    }
   ],
   "source": [
    "X_train.shape"
   ]
  },
  {
   "cell_type": "code",
   "execution_count": 501,
   "metadata": {},
   "outputs": [
    {
     "data": {
      "text/plain": [
       "(3661, 500)"
      ]
     },
     "execution_count": 501,
     "metadata": {},
     "output_type": "execute_result"
    }
   ],
   "source": [
    "X_val.shape"
   ]
  },
  {
   "cell_type": "code",
   "execution_count": 502,
   "metadata": {},
   "outputs": [
    {
     "data": {
      "text/plain": [
       "array([ 7,  0,  8, ...,  6,  1, 12])"
      ]
     },
     "execution_count": 502,
     "metadata": {},
     "output_type": "execute_result"
    }
   ],
   "source": [
    "y_train"
   ]
  },
  {
   "cell_type": "code",
   "execution_count": 503,
   "metadata": {},
   "outputs": [],
   "source": [
    "nb_classes = 14"
   ]
  },
  {
   "cell_type": "code",
   "execution_count": 504,
   "metadata": {},
   "outputs": [],
   "source": [
    "# convert class vectors to binary class matrices\n",
    "Y_train = np_utils.to_categorical(y_train, nb_classes)\n",
    "Y_test = np_utils.to_categorical(y_test, nb_classes)\n",
    "Y_val = np_utils.to_categorical(y_val_labels, nb_classes)"
   ]
  },
  {
   "cell_type": "code",
   "execution_count": 505,
   "metadata": {},
   "outputs": [
    {
     "data": {
      "text/plain": [
       "array([[ 0.,  0.,  0., ...,  1.,  0.,  0.],\n",
       "       [ 0.,  0.,  0., ...,  0.,  1.,  0.],\n",
       "       [ 0.,  0.,  0., ...,  0.,  0.,  0.],\n",
       "       ..., \n",
       "       [ 0.,  0.,  0., ...,  0.,  0.,  1.],\n",
       "       [ 1.,  0.,  0., ...,  0.,  0.,  0.],\n",
       "       [ 0.,  0.,  0., ...,  0.,  0.,  0.]])"
      ]
     },
     "execution_count": 505,
     "metadata": {},
     "output_type": "execute_result"
    }
   ],
   "source": [
    "Y_val"
   ]
  },
  {
   "cell_type": "code",
   "execution_count": 506,
   "metadata": {},
   "outputs": [
    {
     "data": {
      "text/plain": [
       "array([[ 0.,  0.,  0., ...,  0.,  0.,  0.],\n",
       "       [ 1.,  0.,  0., ...,  0.,  0.,  0.],\n",
       "       [ 0.,  0.,  0., ...,  0.,  1.,  0.],\n",
       "       ..., \n",
       "       [ 0.,  0.,  0., ...,  0.,  0.,  0.],\n",
       "       [ 0.,  1.,  0., ...,  0.,  0.,  0.],\n",
       "       [ 0.,  0.,  0., ...,  0.,  1.,  0.]])"
      ]
     },
     "execution_count": 506,
     "metadata": {},
     "output_type": "execute_result"
    }
   ],
   "source": [
    "Y_test"
   ]
  },
  {
   "cell_type": "code",
   "execution_count": 507,
   "metadata": {},
   "outputs": [
    {
     "data": {
      "text/plain": [
       "(102848, 500)"
      ]
     },
     "execution_count": 507,
     "metadata": {},
     "output_type": "execute_result"
    }
   ],
   "source": [
    "X_train.shape"
   ]
  },
  {
   "cell_type": "code",
   "execution_count": 508,
   "metadata": {},
   "outputs": [
    {
     "data": {
      "text/plain": [
       "(3661, 500)"
      ]
     },
     "execution_count": 508,
     "metadata": {},
     "output_type": "execute_result"
    }
   ],
   "source": [
    "X_val.shape"
   ]
  },
  {
   "cell_type": "code",
   "execution_count": 509,
   "metadata": {},
   "outputs": [
    {
     "name": "stdout",
     "output_type": "stream",
     "text": [
      "X_train shape: (102848, 500)\n",
      "11428 test samples\n",
      "3661 val samples\n"
     ]
    }
   ],
   "source": [
    "X_train = X_train.astype('float32')\n",
    "X_test = X_test.astype('float32')\n",
    "X_val = X_val.astype('float32')\n",
    "\n",
    "#X_train /= 255\n",
    "#X_test /= 255\n",
    "#X_val /= 255\n",
    "\n",
    "print('X_train shape:', X_train.shape)\n",
    "#print(XX_train.shape[0], 'train samples')\n",
    "print(X_test.shape[0], 'test samples')\n",
    "print(X_val.shape[0], 'val samples')\n"
   ]
  },
  {
   "cell_type": "code",
   "execution_count": 510,
   "metadata": {},
   "outputs": [
    {
     "data": {
      "text/plain": [
       "array([[ 0.,  0.,  0., ...,  0.,  0.,  0.],\n",
       "       [ 1.,  0.,  0., ...,  0.,  0.,  0.],\n",
       "       [ 0.,  0.,  0., ...,  0.,  0.,  0.],\n",
       "       ..., \n",
       "       [ 0.,  0.,  0., ...,  0.,  0.,  0.],\n",
       "       [ 0.,  1.,  0., ...,  0.,  0.,  0.],\n",
       "       [ 0.,  0.,  0., ...,  0.,  1.,  0.]])"
      ]
     },
     "execution_count": 510,
     "metadata": {},
     "output_type": "execute_result"
    }
   ],
   "source": [
    "Y_train"
   ]
  },
  {
   "cell_type": "code",
   "execution_count": 511,
   "metadata": {},
   "outputs": [
    {
     "data": {
      "text/plain": [
       "array([[ 0.,  0.,  0., ...,  0.,  0.,  0.],\n",
       "       [ 1.,  0.,  0., ...,  0.,  0.,  0.],\n",
       "       [ 0.,  0.,  0., ...,  0.,  1.,  0.],\n",
       "       ..., \n",
       "       [ 0.,  0.,  0., ...,  0.,  0.,  0.],\n",
       "       [ 0.,  1.,  0., ...,  0.,  0.,  0.],\n",
       "       [ 0.,  0.,  0., ...,  0.,  1.,  0.]])"
      ]
     },
     "execution_count": 511,
     "metadata": {},
     "output_type": "execute_result"
    }
   ],
   "source": [
    "Y_test"
   ]
  },
  {
   "cell_type": "code",
   "execution_count": 512,
   "metadata": {},
   "outputs": [
    {
     "data": {
      "text/plain": [
       "(102848,)"
      ]
     },
     "execution_count": 512,
     "metadata": {},
     "output_type": "execute_result"
    }
   ],
   "source": [
    "y_train.shape"
   ]
  },
  {
   "cell_type": "code",
   "execution_count": 513,
   "metadata": {},
   "outputs": [
    {
     "data": {
      "text/plain": [
       "(102848, 500)"
      ]
     },
     "execution_count": 513,
     "metadata": {},
     "output_type": "execute_result"
    }
   ],
   "source": [
    "X_train.shape"
   ]
  },
  {
   "cell_type": "code",
   "execution_count": 514,
   "metadata": {},
   "outputs": [],
   "source": [
    "model = Sequential()\n",
    "model.add(Dense(512, input_dim=500))\n",
    "model.add(Activation('relu'))\n",
    "model.add(Dropout(0.5))\n",
    "\n",
    "model.add(Dense(512))\n",
    "model.add(Activation('relu'))\n",
    "model.add(Dropout(0.5))\n",
    "\n",
    "model.add(Dense(nb_classes))\n",
    "model.add(Activation('softmax'))"
   ]
  },
  {
   "cell_type": "code",
   "execution_count": 515,
   "metadata": {},
   "outputs": [
    {
     "name": "stdout",
     "output_type": "stream",
     "text": [
      "_________________________________________________________________\n",
      "Layer (type)                 Output Shape              Param #   \n",
      "=================================================================\n",
      "dense_16 (Dense)             (None, 512)               256512    \n",
      "_________________________________________________________________\n",
      "activation_16 (Activation)   (None, 512)               0         \n",
      "_________________________________________________________________\n",
      "dropout_11 (Dropout)         (None, 512)               0         \n",
      "_________________________________________________________________\n",
      "dense_17 (Dense)             (None, 512)               262656    \n",
      "_________________________________________________________________\n",
      "activation_17 (Activation)   (None, 512)               0         \n",
      "_________________________________________________________________\n",
      "dropout_12 (Dropout)         (None, 512)               0         \n",
      "_________________________________________________________________\n",
      "dense_18 (Dense)             (None, 14)                7182      \n",
      "_________________________________________________________________\n",
      "activation_18 (Activation)   (None, 14)                0         \n",
      "=================================================================\n",
      "Total params: 526,350\n",
      "Trainable params: 526,350\n",
      "Non-trainable params: 0\n",
      "_________________________________________________________________\n"
     ]
    }
   ],
   "source": [
    "model.summary()"
   ]
  },
  {
   "cell_type": "code",
   "execution_count": 516,
   "metadata": {},
   "outputs": [],
   "source": [
    "adam=optimizers.Adam(lr=0.001, beta_1=0.9, beta_2=0.999, epsilon=1e-08, decay=0.0)\n",
    "\n",
    "model.compile(loss='categorical_crossentropy',\n",
    "              optimizer='adam',\n",
    "              metrics=['accuracy'])"
   ]
  },
  {
   "cell_type": "code",
   "execution_count": 517,
   "metadata": {},
   "outputs": [],
   "source": [
    "best_weights_filepath = '/home/satishk/best_weights_2l_MLP_combined.hdf5'\n",
    "saveBestModel = ModelCheckpoint(best_weights_filepath, monitor='val_acc', verbose=1, save_best_only=True, mode='auto')\n"
   ]
  },
  {
   "cell_type": "code",
   "execution_count": 518,
   "metadata": {},
   "outputs": [],
   "source": [
    "batch_size = 256\n",
    "nb_epoch=20"
   ]
  },
  {
   "cell_type": "code",
   "execution_count": 519,
   "metadata": {},
   "outputs": [
    {
     "name": "stdout",
     "output_type": "stream",
     "text": [
      "Train on 102848 samples, validate on 3661 samples\n",
      "Epoch 1/20\n",
      "Epoch 00000: val_acc improved from -inf to 0.12374, saving model to /home/satishk/best_weights_2l_MLP_combined.hdf5\n",
      "9s - loss: 1.8751 - acc: 0.3700 - val_loss: 3.8645 - val_acc: 0.1237\n",
      "Epoch 2/20\n",
      "Epoch 00001: val_acc did not improve\n",
      "9s - loss: 1.5552 - acc: 0.4434 - val_loss: 4.3175 - val_acc: 0.1218\n",
      "Epoch 3/20\n",
      "Epoch 00002: val_acc did not improve\n",
      "9s - loss: 1.4565 - acc: 0.4705 - val_loss: 4.5876 - val_acc: 0.1229\n",
      "Epoch 4/20\n",
      "Epoch 00003: val_acc improved from 0.12374 to 0.12838, saving model to /home/satishk/best_weights_2l_MLP_combined.hdf5\n",
      "9s - loss: 1.3700 - acc: 0.5019 - val_loss: 4.9470 - val_acc: 0.1284\n",
      "Epoch 5/20\n",
      "Epoch 00004: val_acc improved from 0.12838 to 0.12893, saving model to /home/satishk/best_weights_2l_MLP_combined.hdf5\n",
      "9s - loss: 1.2986 - acc: 0.5263 - val_loss: 4.8906 - val_acc: 0.1289\n",
      "Epoch 6/20\n",
      "Epoch 00005: val_acc improved from 0.12893 to 0.13002, saving model to /home/satishk/best_weights_2l_MLP_combined.hdf5\n",
      "9s - loss: 1.2301 - acc: 0.5563 - val_loss: 4.9865 - val_acc: 0.1300\n",
      "Epoch 7/20\n",
      "Epoch 00006: val_acc did not improve\n",
      "9s - loss: 1.1679 - acc: 0.5780 - val_loss: 5.1349 - val_acc: 0.1259\n",
      "Epoch 8/20\n",
      "Epoch 00007: val_acc did not improve\n",
      "9s - loss: 1.1082 - acc: 0.6007 - val_loss: 5.0850 - val_acc: 0.1205\n",
      "Epoch 9/20\n",
      "Epoch 00008: val_acc did not improve\n",
      "9s - loss: 1.0540 - acc: 0.6225 - val_loss: 5.2705 - val_acc: 0.1188\n",
      "Epoch 10/20\n",
      "Epoch 00009: val_acc did not improve\n",
      "9s - loss: 1.0138 - acc: 0.6368 - val_loss: 5.1479 - val_acc: 0.1224\n",
      "Epoch 11/20\n",
      "Epoch 00010: val_acc did not improve\n",
      "9s - loss: 0.9781 - acc: 0.6528 - val_loss: 5.3816 - val_acc: 0.1194\n",
      "Epoch 12/20\n",
      "Epoch 00011: val_acc did not improve\n",
      "9s - loss: 0.9450 - acc: 0.6657 - val_loss: 5.1375 - val_acc: 0.1155\n",
      "Epoch 13/20\n",
      "Epoch 00012: val_acc did not improve\n",
      "9s - loss: 0.9136 - acc: 0.6778 - val_loss: 5.2189 - val_acc: 0.1213\n",
      "Epoch 14/20\n",
      "Epoch 00013: val_acc did not improve\n",
      "9s - loss: 0.8777 - acc: 0.6902 - val_loss: 5.3277 - val_acc: 0.1226\n",
      "Epoch 15/20\n",
      "Epoch 00014: val_acc did not improve\n",
      "9s - loss: 0.8587 - acc: 0.6984 - val_loss: 5.3418 - val_acc: 0.1221\n",
      "Epoch 16/20\n",
      "Epoch 00015: val_acc did not improve\n",
      "9s - loss: 0.8324 - acc: 0.7083 - val_loss: 5.3809 - val_acc: 0.1131\n",
      "Epoch 17/20\n",
      "Epoch 00016: val_acc did not improve\n",
      "9s - loss: 0.8088 - acc: 0.7159 - val_loss: 5.4412 - val_acc: 0.1221\n",
      "Epoch 18/20\n",
      "Epoch 00017: val_acc did not improve\n",
      "9s - loss: 0.7929 - acc: 0.7236 - val_loss: 5.5449 - val_acc: 0.1237\n",
      "Epoch 19/20\n",
      "Epoch 00018: val_acc did not improve\n",
      "9s - loss: 0.7737 - acc: 0.7306 - val_loss: 5.5225 - val_acc: 0.1194\n",
      "Epoch 20/20\n",
      "Epoch 00019: val_acc did not improve\n",
      "9s - loss: 0.7560 - acc: 0.7374 - val_loss: 5.5725 - val_acc: 0.1243\n"
     ]
    }
   ],
   "source": [
    "history = model.fit(X_train, Y_train, batch_size=batch_size, epochs=nb_epoch,verbose=2, \n",
    "                    validation_data=(X_val , Y_val),callbacks=[saveBestModel])"
   ]
  },
  {
   "cell_type": "code",
   "execution_count": 520,
   "metadata": {},
   "outputs": [],
   "source": [
    "#reload best weights\n",
    "model.load_weights(best_weights_filepath)\n",
    "#model.load_weights('/home/q/Desktop/e10_512_32.hdf5"
   ]
  },
  {
   "cell_type": "code",
   "execution_count": 521,
   "metadata": {},
   "outputs": [
    {
     "name": "stdout",
     "output_type": "stream",
     "text": [
      "ERROR: 0.869980879531\n"
     ]
    }
   ],
   "source": [
    "#Frame label accuracy\n",
    "score = model.evaluate(X_val, Y_val, verbose=0)\n",
    "print('ERROR:', 1-score[1])"
   ]
  },
  {
   "cell_type": "code",
   "execution_count": null,
   "metadata": {},
   "outputs": [],
   "source": []
  },
  {
   "cell_type": "code",
   "execution_count": null,
   "metadata": {},
   "outputs": [],
   "source": []
  },
  {
   "cell_type": "code",
   "execution_count": null,
   "metadata": {},
   "outputs": [],
   "source": []
  },
  {
   "cell_type": "code",
   "execution_count": null,
   "metadata": {},
   "outputs": [],
   "source": []
  },
  {
   "cell_type": "code",
   "execution_count": null,
   "metadata": {},
   "outputs": [],
   "source": []
  },
  {
   "cell_type": "code",
   "execution_count": null,
   "metadata": {},
   "outputs": [],
   "source": []
  },
  {
   "cell_type": "code",
   "execution_count": null,
   "metadata": {},
   "outputs": [],
   "source": [
    "yyy = pd.DataFrame(yyy)"
   ]
  },
  {
   "cell_type": "code",
   "execution_count": null,
   "metadata": {},
   "outputs": [],
   "source": [
    "yyy.shape"
   ]
  },
  {
   "cell_type": "code",
   "execution_count": null,
   "metadata": {},
   "outputs": [],
   "source": [
    "aa = yyy.groupby(yyy.columns[0]).size()"
   ]
  },
  {
   "cell_type": "code",
   "execution_count": null,
   "metadata": {},
   "outputs": [],
   "source": [
    "aa"
   ]
  },
  {
   "cell_type": "code",
   "execution_count": null,
   "metadata": {},
   "outputs": [],
   "source": [
    "bb=aa.values"
   ]
  },
  {
   "cell_type": "code",
   "execution_count": null,
   "metadata": {},
   "outputs": [],
   "source": [
    "lang_priors = bb/17879.0"
   ]
  },
  {
   "cell_type": "code",
   "execution_count": null,
   "metadata": {},
   "outputs": [],
   "source": [
    "type(lang_priors)"
   ]
  },
  {
   "cell_type": "code",
   "execution_count": null,
   "metadata": {},
   "outputs": [],
   "source": [
    "log_lang_priors = np.log(lang_priors)"
   ]
  },
  {
   "cell_type": "code",
   "execution_count": null,
   "metadata": {},
   "outputs": [],
   "source": [
    "X_eval = pd.read_csv('/home/satishk/ivectors_csv_revised/eval_feat_BNF_h5_25451_07Nov.csv')"
   ]
  },
  {
   "cell_type": "code",
   "execution_count": null,
   "metadata": {},
   "outputs": [],
   "source": [
    "X_eval.rename(columns={'uttid':'segmentid'}, inplace=True)"
   ]
  },
  {
   "cell_type": "code",
   "execution_count": null,
   "metadata": {},
   "outputs": [],
   "source": [
    "#X_eval['segmentid'] = X_eval['uttid']\n",
    "\n",
    "\n",
    "X_eval_f = X_eval.drop([\"segmentid\"],axis=1)\n",
    "#y_eval = val_lre[\"language_code\"]\n",
    "#y_eval_segmentid = X_eval[\"segmentid\"]"
   ]
  },
  {
   "cell_type": "code",
   "execution_count": null,
   "metadata": {},
   "outputs": [],
   "source": [
    "y_val_segmentid = X_eval[\"segmentid\"]"
   ]
  },
  {
   "cell_type": "code",
   "execution_count": null,
   "metadata": {},
   "outputs": [],
   "source": [
    "X_eval_f = X_eval_f.values\n",
    "\n",
    "X_eval_trans = X_eval_f.T\n",
    "\n",
    "X_eval_wccn = X_wccn.dot(X_eval_trans)\n",
    "X_eval_wccn = X_eval_wccn.T\n",
    "X_eval = unit_len_norm(X_eval_wccn)"
   ]
  },
  {
   "cell_type": "code",
   "execution_count": null,
   "metadata": {},
   "outputs": [],
   "source": [
    "X_eval = V.T.dot(X_eval.T)\n",
    "X_eval = X_eval.T"
   ]
  },
  {
   "cell_type": "code",
   "execution_count": null,
   "metadata": {},
   "outputs": [],
   "source": [
    "posteriors = classif.predict_proba(X_eval)"
   ]
  },
  {
   "cell_type": "code",
   "execution_count": null,
   "metadata": {},
   "outputs": [],
   "source": [
    "log_posteriors = np.log(posteriors)"
   ]
  },
  {
   "cell_type": "code",
   "execution_count": null,
   "metadata": {},
   "outputs": [],
   "source": [
    "log_likelihood = log_posteriors-log_lang_priors"
   ]
  },
  {
   "cell_type": "code",
   "execution_count": null,
   "metadata": {},
   "outputs": [],
   "source": [
    "#log_likelihood = posteriors-log_lang_priors"
   ]
  },
  {
   "cell_type": "code",
   "execution_count": null,
   "metadata": {},
   "outputs": [],
   "source": [
    "log_likelihood[0]"
   ]
  },
  {
   "cell_type": "code",
   "execution_count": null,
   "metadata": {},
   "outputs": [],
   "source": [
    "type(log_likelihood)"
   ]
  },
  {
   "cell_type": "code",
   "execution_count": null,
   "metadata": {},
   "outputs": [],
   "source": [
    "df_post = pd.DataFrame(log_likelihood)"
   ]
  },
  {
   "cell_type": "code",
   "execution_count": null,
   "metadata": {},
   "outputs": [],
   "source": [
    "df_post.columns = ['ara-acm', 'ara-apc', 'ara-ary', 'ara-arz', 'eng-gbr', 'eng-usg', 'por-brz', 'qsl-pol',\n",
    "                   'qsl-rus', 'spa-car', 'spa-eur', 'spa-lac', 'zho-cmn','zho-nan']"
   ]
  },
  {
   "cell_type": "code",
   "execution_count": null,
   "metadata": {},
   "outputs": [],
   "source": [
    "df_post.head()"
   ]
  },
  {
   "cell_type": "code",
   "execution_count": null,
   "metadata": {},
   "outputs": [],
   "source": [
    "#pred_labels = model.predict_classes(X_val)\n",
    "\n",
    "#df_labels = pd.DataFrame(pred_labels)\n",
    "\n",
    "#df_labels\n",
    "\n",
    "#y_val_uttid"
   ]
  },
  {
   "cell_type": "code",
   "execution_count": null,
   "metadata": {},
   "outputs": [],
   "source": [
    "df_y_val_segmentid=  pd.DataFrame(y_val_segmentid)"
   ]
  },
  {
   "cell_type": "code",
   "execution_count": null,
   "metadata": {},
   "outputs": [],
   "source": [
    "df_y_val_segmentid\n",
    "\n",
    "#df_y_val_uttid.columns = ['segmentid']    \n",
    "\n",
    "\n",
    "#df_y_val_uttid"
   ]
  },
  {
   "cell_type": "code",
   "execution_count": null,
   "metadata": {},
   "outputs": [],
   "source": [
    "yy = pd.concat([df_y_val_segmentid,df_post],axis=1)\n",
    "\n",
    "\n",
    "\n",
    "#yy.to_csv('/home/satishk/ivectors_csv/test_dev_30sec.csv',index=False)\n",
    "\n",
    "#yy['segmentid'] = yy['segmentid'].astype(str) + '.sph'\n",
    "\n",
    "#yy.to_csv('/home/satishk/ivectors_csv/test_dev_01oct.csv',mode = 'a',index=False,header=False)"
   ]
  },
  {
   "cell_type": "code",
   "execution_count": null,
   "metadata": {},
   "outputs": [],
   "source": [
    "yy.to_csv('/home/satishk/ivectors_csv_new/eval_Nov_SVM_Shreyas.csv',index=False)"
   ]
  },
  {
   "cell_type": "code",
   "execution_count": null,
   "metadata": {},
   "outputs": [],
   "source": [
    "test_dev_scr = pd.read_csv('/home/satishk/ivectors_csv_new/eval_Nov_SVM_Shreyas.csv')"
   ]
  },
  {
   "cell_type": "code",
   "execution_count": null,
   "metadata": {},
   "outputs": [],
   "source": [
    "test_dev_scr = test_dev_scr.drop(\"segmentid.1\",axis=1)"
   ]
  },
  {
   "cell_type": "code",
   "execution_count": null,
   "metadata": {},
   "outputs": [],
   "source": [
    "test_dev_scr.to_csv('/home/satishk/Desktop/system_output_15Nov/eval_SVM_Nov_25451.scr', header=True, index=False, sep='\\t')"
   ]
  },
  {
   "cell_type": "code",
   "execution_count": null,
   "metadata": {},
   "outputs": [],
   "source": []
  },
  {
   "cell_type": "code",
   "execution_count": null,
   "metadata": {},
   "outputs": [],
   "source": []
  },
  {
   "cell_type": "code",
   "execution_count": null,
   "metadata": {},
   "outputs": [],
   "source": []
  },
  {
   "cell_type": "code",
   "execution_count": null,
   "metadata": {},
   "outputs": [],
   "source": []
  }
 ],
 "metadata": {
  "kernelspec": {
   "display_name": "Python 3",
   "language": "python",
   "name": "python3"
  },
  "language_info": {
   "codemirror_mode": {
    "name": "ipython",
    "version": 3
   },
   "file_extension": ".py",
   "mimetype": "text/x-python",
   "name": "python",
   "nbconvert_exporter": "python",
   "pygments_lexer": "ipython3",
   "version": "3.6.3"
  }
 },
 "nbformat": 4,
 "nbformat_minor": 2
}
