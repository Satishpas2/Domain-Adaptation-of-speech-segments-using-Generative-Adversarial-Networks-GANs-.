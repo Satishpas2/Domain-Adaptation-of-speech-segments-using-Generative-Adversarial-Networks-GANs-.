{
 "cells": [
  {
   "cell_type": "code",
   "execution_count": 1,
   "metadata": {},
   "outputs": [
    {
     "name": "stderr",
     "output_type": "stream",
     "text": [
      "Using TensorFlow backend.\n"
     ]
    }
   ],
   "source": [
    "import torch\n",
    "import torchvision\n",
    "import torch.nn as nn\n",
    "import torch.nn.functional as F\n",
    "from torchvision import datasets \n",
    "from torchvision import transforms\n",
    "from torchvision.utils import save_image\n",
    "from torch.autograd import Variable\n",
    "\n",
    "\n",
    "import pandas as pd \n",
    "import numpy as np\n",
    "import os \n",
    "import glob\n",
    "np.random.seed(1337)  # for reproducibility\n",
    "from sklearn import preprocessing\n",
    "from sklearn.model_selection import train_test_split\n",
    "import torch.optim as optim\n",
    "import torch\n",
    "import torch.nn.functional as nn\n",
    "import torch.autograd as autograd\n",
    "import torch.optim as optim\n",
    "import numpy as np\n",
    "#import matplotlib.pyplot as plt\n",
    "#import matplotlib.gridspec as gridspec\n",
    "import os\n",
    "from torch.autograd import Variable\n",
    "from sklearn.utils import shuffle\n",
    "import random\n",
    "from keras.datasets import mnist\n",
    "from keras.callbacks import EarlyStopping\n",
    "from keras.callbacks import ModelCheckpoint\n",
    "from keras.models import Sequential\n",
    "from keras.layers import Dense, Dropout, Activation, Flatten\n",
    "from keras.layers import Convolution2D, MaxPooling2D\n",
    "from keras.utils import np_utils\n",
    "from keras import backend as K\n",
    "from keras import optimizers"
   ]
  },
  {
   "cell_type": "code",
   "execution_count": 2,
   "metadata": {},
   "outputs": [],
   "source": [
    "train_lre_10sec = pd.read_csv('/home/satishk/GAN_lre/gan_csv/GAN_10sec_ivectors_X_train_04Jan_labels_ids_combined_extraction.csv')\n",
    "#train_afds"
   ]
  },
  {
   "cell_type": "code",
   "execution_count": 3,
   "metadata": {},
   "outputs": [
    {
     "data": {
      "text/html": [
       "<div>\n",
       "<style scoped>\n",
       "    .dataframe tbody tr th:only-of-type {\n",
       "        vertical-align: middle;\n",
       "    }\n",
       "\n",
       "    .dataframe tbody tr th {\n",
       "        vertical-align: top;\n",
       "    }\n",
       "\n",
       "    .dataframe thead th {\n",
       "        text-align: right;\n",
       "    }\n",
       "</style>\n",
       "<table border=\"1\" class=\"dataframe\">\n",
       "  <thead>\n",
       "    <tr style=\"text-align: right;\">\n",
       "      <th></th>\n",
       "      <th>0</th>\n",
       "      <th>1</th>\n",
       "      <th>2</th>\n",
       "      <th>3</th>\n",
       "      <th>4</th>\n",
       "      <th>5</th>\n",
       "      <th>6</th>\n",
       "      <th>7</th>\n",
       "      <th>8</th>\n",
       "      <th>9</th>\n",
       "      <th>...</th>\n",
       "      <th>495</th>\n",
       "      <th>496</th>\n",
       "      <th>497</th>\n",
       "      <th>498</th>\n",
       "      <th>499</th>\n",
       "      <th>ids</th>\n",
       "      <th>year</th>\n",
       "      <th>data</th>\n",
       "      <th>lang</th>\n",
       "      <th>lang_id</th>\n",
       "    </tr>\n",
       "  </thead>\n",
       "  <tbody>\n",
       "    <tr>\n",
       "      <th>0</th>\n",
       "      <td>-0.314181</td>\n",
       "      <td>0.671920</td>\n",
       "      <td>-0.188068</td>\n",
       "      <td>-0.910752</td>\n",
       "      <td>1.050361</td>\n",
       "      <td>1.966829</td>\n",
       "      <td>0.292740</td>\n",
       "      <td>1.084547</td>\n",
       "      <td>1.287480</td>\n",
       "      <td>1.745248</td>\n",
       "      <td>...</td>\n",
       "      <td>-0.564911</td>\n",
       "      <td>-1.854116</td>\n",
       "      <td>-3.185948</td>\n",
       "      <td>-2.177057</td>\n",
       "      <td>0.301166</td>\n",
       "      <td>zkllk</td>\n",
       "      <td>LDC2017E22</td>\n",
       "      <td>data</td>\n",
       "      <td>eng-usg</td>\n",
       "      <td>zkllk</td>\n",
       "    </tr>\n",
       "    <tr>\n",
       "      <th>1</th>\n",
       "      <td>0.503734</td>\n",
       "      <td>0.247072</td>\n",
       "      <td>0.451463</td>\n",
       "      <td>0.500546</td>\n",
       "      <td>-0.716668</td>\n",
       "      <td>1.337575</td>\n",
       "      <td>-1.027019</td>\n",
       "      <td>0.773720</td>\n",
       "      <td>0.910362</td>\n",
       "      <td>1.728001</td>\n",
       "      <td>...</td>\n",
       "      <td>0.886613</td>\n",
       "      <td>6.766799</td>\n",
       "      <td>-1.040380</td>\n",
       "      <td>-0.751316</td>\n",
       "      <td>-1.487938</td>\n",
       "      <td>lid05e1_lid00562</td>\n",
       "      <td>LDC2017E22</td>\n",
       "      <td>data</td>\n",
       "      <td>eng-usg</td>\n",
       "      <td>lid05e1_lid00562</td>\n",
       "    </tr>\n",
       "    <tr>\n",
       "      <th>2</th>\n",
       "      <td>2.141677</td>\n",
       "      <td>-0.044947</td>\n",
       "      <td>-0.595182</td>\n",
       "      <td>-0.595953</td>\n",
       "      <td>0.889385</td>\n",
       "      <td>1.440080</td>\n",
       "      <td>-1.208933</td>\n",
       "      <td>0.129059</td>\n",
       "      <td>-0.930121</td>\n",
       "      <td>0.401362</td>\n",
       "      <td>...</td>\n",
       "      <td>-2.836253</td>\n",
       "      <td>-0.323334</td>\n",
       "      <td>0.055760</td>\n",
       "      <td>0.481039</td>\n",
       "      <td>0.395826</td>\n",
       "      <td>fla_0240-a</td>\n",
       "      <td>LDC2017E22</td>\n",
       "      <td>data</td>\n",
       "      <td>ara-apc</td>\n",
       "      <td>fla_0240-a</td>\n",
       "    </tr>\n",
       "    <tr>\n",
       "      <th>3</th>\n",
       "      <td>1.708722</td>\n",
       "      <td>-0.663542</td>\n",
       "      <td>0.031733</td>\n",
       "      <td>0.358099</td>\n",
       "      <td>0.594610</td>\n",
       "      <td>1.023025</td>\n",
       "      <td>-1.450633</td>\n",
       "      <td>0.252159</td>\n",
       "      <td>-0.381832</td>\n",
       "      <td>0.087693</td>\n",
       "      <td>...</td>\n",
       "      <td>1.384728</td>\n",
       "      <td>0.426863</td>\n",
       "      <td>0.482178</td>\n",
       "      <td>1.655650</td>\n",
       "      <td>-1.029032</td>\n",
       "      <td>fla_0240-a</td>\n",
       "      <td>LDC2017E22</td>\n",
       "      <td>data</td>\n",
       "      <td>ara-apc</td>\n",
       "      <td>fla_0240-a</td>\n",
       "    </tr>\n",
       "    <tr>\n",
       "      <th>4</th>\n",
       "      <td>1.873292</td>\n",
       "      <td>-0.272493</td>\n",
       "      <td>-0.305948</td>\n",
       "      <td>-0.250047</td>\n",
       "      <td>2.093700</td>\n",
       "      <td>1.741634</td>\n",
       "      <td>-0.750633</td>\n",
       "      <td>-0.651771</td>\n",
       "      <td>-0.793287</td>\n",
       "      <td>-0.053527</td>\n",
       "      <td>...</td>\n",
       "      <td>0.188493</td>\n",
       "      <td>-0.888710</td>\n",
       "      <td>1.792536</td>\n",
       "      <td>-0.628455</td>\n",
       "      <td>1.912622</td>\n",
       "      <td>fla_0240-a</td>\n",
       "      <td>LDC2017E22</td>\n",
       "      <td>data</td>\n",
       "      <td>ara-apc</td>\n",
       "      <td>fla_0240-a</td>\n",
       "    </tr>\n",
       "  </tbody>\n",
       "</table>\n",
       "<p>5 rows × 505 columns</p>\n",
       "</div>"
      ],
      "text/plain": [
       "          0         1         2         3         4         5         6  \\\n",
       "0 -0.314181  0.671920 -0.188068 -0.910752  1.050361  1.966829  0.292740   \n",
       "1  0.503734  0.247072  0.451463  0.500546 -0.716668  1.337575 -1.027019   \n",
       "2  2.141677 -0.044947 -0.595182 -0.595953  0.889385  1.440080 -1.208933   \n",
       "3  1.708722 -0.663542  0.031733  0.358099  0.594610  1.023025 -1.450633   \n",
       "4  1.873292 -0.272493 -0.305948 -0.250047  2.093700  1.741634 -0.750633   \n",
       "\n",
       "          7         8         9        ...              495       496  \\\n",
       "0  1.084547  1.287480  1.745248        ...        -0.564911 -1.854116   \n",
       "1  0.773720  0.910362  1.728001        ...         0.886613  6.766799   \n",
       "2  0.129059 -0.930121  0.401362        ...        -2.836253 -0.323334   \n",
       "3  0.252159 -0.381832  0.087693        ...         1.384728  0.426863   \n",
       "4 -0.651771 -0.793287 -0.053527        ...         0.188493 -0.888710   \n",
       "\n",
       "        497       498       499               ids        year  data     lang  \\\n",
       "0 -3.185948 -2.177057  0.301166             zkllk  LDC2017E22  data  eng-usg   \n",
       "1 -1.040380 -0.751316 -1.487938  lid05e1_lid00562  LDC2017E22  data  eng-usg   \n",
       "2  0.055760  0.481039  0.395826        fla_0240-a  LDC2017E22  data  ara-apc   \n",
       "3  0.482178  1.655650 -1.029032        fla_0240-a  LDC2017E22  data  ara-apc   \n",
       "4  1.792536 -0.628455  1.912622        fla_0240-a  LDC2017E22  data  ara-apc   \n",
       "\n",
       "            lang_id  \n",
       "0             zkllk  \n",
       "1  lid05e1_lid00562  \n",
       "2        fla_0240-a  \n",
       "3        fla_0240-a  \n",
       "4        fla_0240-a  \n",
       "\n",
       "[5 rows x 505 columns]"
      ]
     },
     "execution_count": 3,
     "metadata": {},
     "output_type": "execute_result"
    }
   ],
   "source": [
    "train_lre_10sec.head()"
   ]
  },
  {
   "cell_type": "code",
   "execution_count": 4,
   "metadata": {},
   "outputs": [],
   "source": [
    "X_train_10sec = train_lre_10sec.drop(['ids','year','data','lang','lang_id'],axis=1)"
   ]
  },
  {
   "cell_type": "code",
   "execution_count": null,
   "metadata": {},
   "outputs": [],
   "source": []
  },
  {
   "cell_type": "code",
   "execution_count": 5,
   "metadata": {},
   "outputs": [],
   "source": [
    "#train_lre = train_lre.iloc[1000:2000]"
   ]
  },
  {
   "cell_type": "code",
   "execution_count": 6,
   "metadata": {},
   "outputs": [],
   "source": [
    "train_lre_30sec = pd.read_csv('/home/satishk/GAN_lre/gan_csv/GAN_30sec_ivectors_X_train_04Jan_labels_ids_combined_extraction.csv')\n"
   ]
  },
  {
   "cell_type": "code",
   "execution_count": 7,
   "metadata": {},
   "outputs": [
    {
     "data": {
      "text/html": [
       "<div>\n",
       "<style scoped>\n",
       "    .dataframe tbody tr th:only-of-type {\n",
       "        vertical-align: middle;\n",
       "    }\n",
       "\n",
       "    .dataframe tbody tr th {\n",
       "        vertical-align: top;\n",
       "    }\n",
       "\n",
       "    .dataframe thead th {\n",
       "        text-align: right;\n",
       "    }\n",
       "</style>\n",
       "<table border=\"1\" class=\"dataframe\">\n",
       "  <thead>\n",
       "    <tr style=\"text-align: right;\">\n",
       "      <th></th>\n",
       "      <th>0</th>\n",
       "      <th>1</th>\n",
       "      <th>2</th>\n",
       "      <th>3</th>\n",
       "      <th>4</th>\n",
       "      <th>5</th>\n",
       "      <th>6</th>\n",
       "      <th>7</th>\n",
       "      <th>8</th>\n",
       "      <th>9</th>\n",
       "      <th>...</th>\n",
       "      <th>495</th>\n",
       "      <th>496</th>\n",
       "      <th>497</th>\n",
       "      <th>498</th>\n",
       "      <th>499</th>\n",
       "      <th>ids</th>\n",
       "      <th>year</th>\n",
       "      <th>data</th>\n",
       "      <th>lang</th>\n",
       "      <th>lang_id</th>\n",
       "    </tr>\n",
       "  </thead>\n",
       "  <tbody>\n",
       "    <tr>\n",
       "      <th>0</th>\n",
       "      <td>-0.639420</td>\n",
       "      <td>0.345684</td>\n",
       "      <td>-0.517645</td>\n",
       "      <td>-0.737002</td>\n",
       "      <td>1.313001</td>\n",
       "      <td>1.655732</td>\n",
       "      <td>0.615168</td>\n",
       "      <td>0.799339</td>\n",
       "      <td>1.648419</td>\n",
       "      <td>1.314986</td>\n",
       "      <td>...</td>\n",
       "      <td>-1.322407</td>\n",
       "      <td>-0.717348</td>\n",
       "      <td>-3.843951</td>\n",
       "      <td>-1.471274</td>\n",
       "      <td>0.945421</td>\n",
       "      <td>zkllk</td>\n",
       "      <td>LDC2017E22</td>\n",
       "      <td>data</td>\n",
       "      <td>eng-usg</td>\n",
       "      <td>zkllk</td>\n",
       "    </tr>\n",
       "    <tr>\n",
       "      <th>1</th>\n",
       "      <td>0.113610</td>\n",
       "      <td>0.738034</td>\n",
       "      <td>0.584856</td>\n",
       "      <td>-0.248521</td>\n",
       "      <td>0.256616</td>\n",
       "      <td>1.060159</td>\n",
       "      <td>-0.416211</td>\n",
       "      <td>0.133670</td>\n",
       "      <td>0.188327</td>\n",
       "      <td>0.805241</td>\n",
       "      <td>...</td>\n",
       "      <td>1.965741</td>\n",
       "      <td>3.525555</td>\n",
       "      <td>0.006925</td>\n",
       "      <td>1.676099</td>\n",
       "      <td>-1.116371</td>\n",
       "      <td>lid05e1_lid00562</td>\n",
       "      <td>LDC2017E22</td>\n",
       "      <td>data</td>\n",
       "      <td>eng-usg</td>\n",
       "      <td>lid05e1_lid00562</td>\n",
       "    </tr>\n",
       "    <tr>\n",
       "      <th>2</th>\n",
       "      <td>2.061305</td>\n",
       "      <td>-0.140605</td>\n",
       "      <td>-0.627104</td>\n",
       "      <td>-0.682908</td>\n",
       "      <td>1.337613</td>\n",
       "      <td>1.261543</td>\n",
       "      <td>-0.651291</td>\n",
       "      <td>0.307040</td>\n",
       "      <td>-0.980717</td>\n",
       "      <td>0.335530</td>\n",
       "      <td>...</td>\n",
       "      <td>-3.018432</td>\n",
       "      <td>-1.841361</td>\n",
       "      <td>0.814595</td>\n",
       "      <td>-0.200731</td>\n",
       "      <td>1.180795</td>\n",
       "      <td>fla_0240-a</td>\n",
       "      <td>LDC2017E22</td>\n",
       "      <td>data</td>\n",
       "      <td>ara-apc</td>\n",
       "      <td>fla_0240-a</td>\n",
       "    </tr>\n",
       "    <tr>\n",
       "      <th>3</th>\n",
       "      <td>1.958049</td>\n",
       "      <td>-0.608315</td>\n",
       "      <td>-0.113532</td>\n",
       "      <td>0.167272</td>\n",
       "      <td>0.911100</td>\n",
       "      <td>1.116094</td>\n",
       "      <td>-0.847214</td>\n",
       "      <td>-0.041357</td>\n",
       "      <td>-0.542335</td>\n",
       "      <td>0.199105</td>\n",
       "      <td>...</td>\n",
       "      <td>-0.548767</td>\n",
       "      <td>-1.254447</td>\n",
       "      <td>1.644647</td>\n",
       "      <td>0.555434</td>\n",
       "      <td>1.159140</td>\n",
       "      <td>fla_0240-a</td>\n",
       "      <td>LDC2017E22</td>\n",
       "      <td>data</td>\n",
       "      <td>ara-apc</td>\n",
       "      <td>fla_0240-a</td>\n",
       "    </tr>\n",
       "    <tr>\n",
       "      <th>4</th>\n",
       "      <td>1.842436</td>\n",
       "      <td>-0.417598</td>\n",
       "      <td>-0.427428</td>\n",
       "      <td>-0.485898</td>\n",
       "      <td>1.204330</td>\n",
       "      <td>1.439188</td>\n",
       "      <td>-1.056642</td>\n",
       "      <td>0.111603</td>\n",
       "      <td>-0.404313</td>\n",
       "      <td>-0.307075</td>\n",
       "      <td>...</td>\n",
       "      <td>0.297026</td>\n",
       "      <td>-1.858708</td>\n",
       "      <td>0.209784</td>\n",
       "      <td>0.583939</td>\n",
       "      <td>1.398789</td>\n",
       "      <td>fla_0240-a</td>\n",
       "      <td>LDC2017E22</td>\n",
       "      <td>data</td>\n",
       "      <td>ara-apc</td>\n",
       "      <td>fla_0240-a</td>\n",
       "    </tr>\n",
       "  </tbody>\n",
       "</table>\n",
       "<p>5 rows × 505 columns</p>\n",
       "</div>"
      ],
      "text/plain": [
       "          0         1         2         3         4         5         6  \\\n",
       "0 -0.639420  0.345684 -0.517645 -0.737002  1.313001  1.655732  0.615168   \n",
       "1  0.113610  0.738034  0.584856 -0.248521  0.256616  1.060159 -0.416211   \n",
       "2  2.061305 -0.140605 -0.627104 -0.682908  1.337613  1.261543 -0.651291   \n",
       "3  1.958049 -0.608315 -0.113532  0.167272  0.911100  1.116094 -0.847214   \n",
       "4  1.842436 -0.417598 -0.427428 -0.485898  1.204330  1.439188 -1.056642   \n",
       "\n",
       "          7         8         9        ...              495       496  \\\n",
       "0  0.799339  1.648419  1.314986        ...        -1.322407 -0.717348   \n",
       "1  0.133670  0.188327  0.805241        ...         1.965741  3.525555   \n",
       "2  0.307040 -0.980717  0.335530        ...        -3.018432 -1.841361   \n",
       "3 -0.041357 -0.542335  0.199105        ...        -0.548767 -1.254447   \n",
       "4  0.111603 -0.404313 -0.307075        ...         0.297026 -1.858708   \n",
       "\n",
       "        497       498       499               ids        year  data     lang  \\\n",
       "0 -3.843951 -1.471274  0.945421             zkllk  LDC2017E22  data  eng-usg   \n",
       "1  0.006925  1.676099 -1.116371  lid05e1_lid00562  LDC2017E22  data  eng-usg   \n",
       "2  0.814595 -0.200731  1.180795        fla_0240-a  LDC2017E22  data  ara-apc   \n",
       "3  1.644647  0.555434  1.159140        fla_0240-a  LDC2017E22  data  ara-apc   \n",
       "4  0.209784  0.583939  1.398789        fla_0240-a  LDC2017E22  data  ara-apc   \n",
       "\n",
       "            lang_id  \n",
       "0             zkllk  \n",
       "1  lid05e1_lid00562  \n",
       "2        fla_0240-a  \n",
       "3        fla_0240-a  \n",
       "4        fla_0240-a  \n",
       "\n",
       "[5 rows x 505 columns]"
      ]
     },
     "execution_count": 7,
     "metadata": {},
     "output_type": "execute_result"
    }
   ],
   "source": [
    "train_lre_30sec.head()"
   ]
  },
  {
   "cell_type": "code",
   "execution_count": 8,
   "metadata": {},
   "outputs": [],
   "source": [
    "X_train_30sec = train_lre_30sec.drop(['ids','year','data','lang','lang_id'],axis=1)"
   ]
  },
  {
   "cell_type": "code",
   "execution_count": null,
   "metadata": {},
   "outputs": [],
   "source": []
  },
  {
   "cell_type": "code",
   "execution_count": 9,
   "metadata": {},
   "outputs": [],
   "source": [
    "y_30sec_labels = train_lre_30sec[\"lang\"]"
   ]
  },
  {
   "cell_type": "code",
   "execution_count": 10,
   "metadata": {},
   "outputs": [
    {
     "data": {
      "text/plain": [
       "0    eng-usg\n",
       "1    eng-usg\n",
       "2    ara-apc\n",
       "3    ara-apc\n",
       "4    ara-apc\n",
       "Name: lang, dtype: object"
      ]
     },
     "execution_count": 10,
     "metadata": {},
     "output_type": "execute_result"
    }
   ],
   "source": [
    "y_30sec_labels.head()"
   ]
  },
  {
   "cell_type": "code",
   "execution_count": 11,
   "metadata": {},
   "outputs": [
    {
     "data": {
      "text/plain": [
       "LabelEncoder()"
      ]
     },
     "execution_count": 11,
     "metadata": {},
     "output_type": "execute_result"
    }
   ],
   "source": [
    "le = preprocessing.LabelEncoder()\n",
    "le.fit(y_30sec_labels)"
   ]
  },
  {
   "cell_type": "code",
   "execution_count": 12,
   "metadata": {},
   "outputs": [
    {
     "data": {
      "text/plain": [
       "array(['ara-acm', 'ara-apc', 'ara-ary', 'ara-arz', 'eng-gbr', 'eng-usg',\n",
       "       'por-brz', 'qsl-pol', 'qsl-rus', 'spa-car', 'spa-eur', 'spa-lac',\n",
       "       'zho-cmn', 'zho-nan'], dtype=object)"
      ]
     },
     "execution_count": 12,
     "metadata": {},
     "output_type": "execute_result"
    }
   ],
   "source": [
    "le.classes_"
   ]
  },
  {
   "cell_type": "code",
   "execution_count": 13,
   "metadata": {},
   "outputs": [],
   "source": [
    "y_30sec_labels=le.transform(y_30sec_labels)"
   ]
  },
  {
   "cell_type": "code",
   "execution_count": 14,
   "metadata": {},
   "outputs": [
    {
     "data": {
      "text/plain": [
       "(114276,)"
      ]
     },
     "execution_count": 14,
     "metadata": {},
     "output_type": "execute_result"
    }
   ],
   "source": [
    "y_30sec_labels.shape"
   ]
  },
  {
   "cell_type": "code",
   "execution_count": 15,
   "metadata": {},
   "outputs": [],
   "source": [
    "nb_classes = 14\n",
    "# convert class vectors to binary class matrices\n",
    "Y_train_labels = np_utils.to_categorical(y_30sec_labels, nb_classes)"
   ]
  },
  {
   "cell_type": "code",
   "execution_count": 16,
   "metadata": {},
   "outputs": [
    {
     "data": {
      "text/plain": [
       "(114276, 14)"
      ]
     },
     "execution_count": 16,
     "metadata": {},
     "output_type": "execute_result"
    }
   ],
   "source": [
    "Y_train_labels.shape"
   ]
  },
  {
   "cell_type": "code",
   "execution_count": 17,
   "metadata": {},
   "outputs": [],
   "source": [
    "X_train_10sec = X_train_10sec.values\n",
    "X_train_30sec = X_train_30sec.values"
   ]
  },
  {
   "cell_type": "code",
   "execution_count": null,
   "metadata": {},
   "outputs": [],
   "source": []
  },
  {
   "cell_type": "code",
   "execution_count": 18,
   "metadata": {},
   "outputs": [
    {
     "name": "stdout",
     "output_type": "stream",
     "text": [
      "X_train_10sec shape: (114276, 500)\n",
      "114276 train 10sec\n",
      "114276  train 30sec\n"
     ]
    }
   ],
   "source": [
    "X_train_10sec = X_train_10sec.astype('float32')\n",
    "#X_test = X_test.astype('float32')\n",
    "X_train_30sec = X_train_30sec.astype('float32')\n",
    "\n",
    "#X_train /= 255\n",
    "#X_test /= 255\n",
    "#X_val /= 255\n",
    "\n",
    "print('X_train_10sec shape:', X_train_10sec.shape)\n",
    "print(X_train_10sec.shape[0], 'train 10sec')\n",
    "#print(X_test.shape[0], 'test samples')\n",
    "print(X_train_30sec.shape[0], ' train 30sec')\n"
   ]
  },
  {
   "cell_type": "code",
   "execution_count": null,
   "metadata": {},
   "outputs": [],
   "source": []
  },
  {
   "cell_type": "code",
   "execution_count": null,
   "metadata": {},
   "outputs": [],
   "source": []
  },
  {
   "cell_type": "code",
   "execution_count": 19,
   "metadata": {},
   "outputs": [],
   "source": [
    "#Shuffle the Dataset\n",
    "X_train_10sec_F,  X_train_30sec_F, Y_train_labels = shuffle(X_train_10sec, X_train_30sec, Y_train_labels, random_state=0)"
   ]
  },
  {
   "cell_type": "code",
   "execution_count": null,
   "metadata": {},
   "outputs": [],
   "source": []
  },
  {
   "cell_type": "code",
   "execution_count": null,
   "metadata": {},
   "outputs": [],
   "source": []
  },
  {
   "cell_type": "code",
   "execution_count": 20,
   "metadata": {},
   "outputs": [],
   "source": [
    "import torch.nn as nn"
   ]
  },
  {
   "cell_type": "code",
   "execution_count": 21,
   "metadata": {},
   "outputs": [],
   "source": [
    "class FC_Network(torch.nn.Module):\n",
    "\n",
    "    def __init__(self,):\n",
    "        super(FC_Network, self).__init__()\n",
    "\n",
    "        D_in = D_out = 500        # param['patch_length'] * param['n_channels'] * (param['n_fft'] / 2 + 1)\n",
    "        num_nodes_fnn = 2048\n",
    "        self.layer_1 = torch.nn.Linear(D_in, num_nodes_fnn)\n",
    "        self.bn_1 = torch.nn.BatchNorm1d(num_nodes_fnn)\n",
    "        self.layer_2 = torch.nn.Linear(num_nodes_fnn, num_nodes_fnn)\n",
    "        self.bn_2 = torch.nn.BatchNorm1d(num_nodes_fnn)\n",
    "        self.layer_3 = torch.nn.Linear(num_nodes_fnn, num_nodes_fnn)\n",
    "        self.bn_3 = torch.nn.BatchNorm1d(num_nodes_fnn)\n",
    "        self.layer_4 = torch.nn.Linear(num_nodes_fnn,num_nodes_fnn)\n",
    "        self.bn_4 = torch.nn.BatchNorm1d(num_nodes_fnn)\n",
    "        self.output_layer = torch.nn.Linear(num_nodes_fnn, D_out)\n",
    "        self.relu = torch.nn.ReLU()\n",
    "\n",
    "    def forward(self, x):\n",
    "        out = x\n",
    "        #out = x.view(x.size(0), -1)\n",
    "        out = self.bn_1(self.relu(self.layer_1(out)))\n",
    "        out = self.bn_2(self.relu(self.layer_2(out)))\n",
    "        out = self.bn_3(self.relu(self.layer_3(out)))\n",
    "        out = self.bn_4(self.relu(self.layer_4(out)))\n",
    "        out = self.output_layer(out)\n",
    "\n",
    "        #out = (self.relu(self.layer_1(out)))\n",
    "        #out = (self.relu(self.layer_2(out)))\n",
    "        #out = (self.relu(self.layer_3(out)))\n",
    "        #out = (self.relu(self.layer_4(out)))\n",
    "        #out = (self.output_layer(out))\n",
    "        #out = out.view(x.size())\n",
    "        return out"
   ]
  },
  {
   "cell_type": "code",
   "execution_count": 22,
   "metadata": {},
   "outputs": [],
   "source": [
    "S_encoder = FC_Network()"
   ]
  },
  {
   "cell_type": "code",
   "execution_count": 23,
   "metadata": {},
   "outputs": [
    {
     "data": {
      "text/plain": [
       "FC_Network(\n",
       "  (layer_1): Linear(in_features=500, out_features=2048)\n",
       "  (bn_1): BatchNorm1d(2048, eps=1e-05, momentum=0.1, affine=True)\n",
       "  (layer_2): Linear(in_features=2048, out_features=2048)\n",
       "  (bn_2): BatchNorm1d(2048, eps=1e-05, momentum=0.1, affine=True)\n",
       "  (layer_3): Linear(in_features=2048, out_features=2048)\n",
       "  (bn_3): BatchNorm1d(2048, eps=1e-05, momentum=0.1, affine=True)\n",
       "  (layer_4): Linear(in_features=2048, out_features=2048)\n",
       "  (bn_4): BatchNorm1d(2048, eps=1e-05, momentum=0.1, affine=True)\n",
       "  (output_layer): Linear(in_features=2048, out_features=500)\n",
       "  (relu): ReLU()\n",
       ")"
      ]
     },
     "execution_count": 23,
     "metadata": {},
     "output_type": "execute_result"
    }
   ],
   "source": [
    "S_encoder.cuda()"
   ]
  },
  {
   "cell_type": "code",
   "execution_count": null,
   "metadata": {},
   "outputs": [],
   "source": []
  },
  {
   "cell_type": "code",
   "execution_count": null,
   "metadata": {},
   "outputs": [],
   "source": []
  },
  {
   "cell_type": "code",
   "execution_count": null,
   "metadata": {},
   "outputs": [],
   "source": []
  },
  {
   "cell_type": "code",
   "execution_count": 24,
   "metadata": {},
   "outputs": [],
   "source": [
    "learning_rate = 0.0002\n",
    "betas = (0.5, 0.999)"
   ]
  },
  {
   "cell_type": "code",
   "execution_count": 25,
   "metadata": {},
   "outputs": [],
   "source": [
    "# Loss function\n",
    "criterion = torch.nn.MSELoss()\n",
    "\n",
    "# Optimizers\n",
    "S_solver = torch.optim.Adam(S_encoder.parameters(), lr=learning_rate, betas=betas)\n",
    "#T_solver = torch.optim.Adam(T_encoder.parameters(), lr=learning_rate/2, betas=betas)"
   ]
  },
  {
   "cell_type": "code",
   "execution_count": null,
   "metadata": {},
   "outputs": [],
   "source": []
  },
  {
   "cell_type": "code",
   "execution_count": 26,
   "metadata": {},
   "outputs": [
    {
     "data": {
      "text/plain": [
       "114276"
      ]
     },
     "execution_count": 26,
     "metadata": {},
     "output_type": "execute_result"
    }
   ],
   "source": [
    "len(X_train_10sec)"
   ]
  },
  {
   "cell_type": "code",
   "execution_count": 27,
   "metadata": {},
   "outputs": [
    {
     "data": {
      "text/plain": [
       "114276"
      ]
     },
     "execution_count": 27,
     "metadata": {},
     "output_type": "execute_result"
    }
   ],
   "source": [
    "len(X_train_30sec)"
   ]
  },
  {
   "cell_type": "code",
   "execution_count": 28,
   "metadata": {},
   "outputs": [],
   "source": [
    "mb_size = 256\n",
    "batch_size = mb_size"
   ]
  },
  {
   "cell_type": "raw",
   "metadata": {
    "scrolled": true
   },
   "source": [
    "\n",
    "mb_size = 256\n",
    "batch_size = mb_size\n",
    "# Start training\n",
    "for epoch in range(100):\n",
    "    \n",
    "    \n",
    "\n",
    "    print('epoch:',epoch)\n",
    "    #for i in range(XX_train):\n",
    "    # Build mini-batch dataset\n",
    "    #batch_size = images.size(0)\n",
    "    #images = to_var(images.view(batch_size, -1))\n",
    "\n",
    "    it=0\n",
    "    while it+batch_size < len(X_train_10sec_F) :\n",
    "        \n",
    "\n",
    "        start= it\n",
    "        end= it + batch_size\n",
    "\n",
    "\n",
    "        #z = Variable(torch.randn(mb_size, Z_dim))\n",
    "        X = X_train_10sec_F[start:end]\n",
    "\n",
    "        c = X_train_30sec_F[start:end]\n",
    "        X = Variable(torch.from_numpy(X))\n",
    "        c = Variable(torch.from_numpy(c.astype('float32')))\n",
    "        X = X.cuda()\n",
    "        c = c.cuda()\n",
    "        # Dicriminator forward-loss-backward-update\n",
    "        S_sample = S_encoder(X)\n",
    "        #D_real = D(X, c)\n",
    "        #D_fake = D(G_sample, c)\n",
    "\n",
    "        #D_loss_real = nn.binary_cross_entropy(D_real, ones_label)\n",
    "        #D_loss_fake = nn.binary_cross_entropy(D_fake, zeros_label)\n",
    "        #D_loss = D_loss_real + D_loss_fake\n",
    "\n",
    "        #D_loss.backward()\n",
    "        #D_solver.step()\n",
    "\n",
    "        # Housekeeping - reset gradient\n",
    "        #D.zero_grad()\n",
    "\n",
    "        # Generator forward-loss-backward-update\n",
    "        #z = Variable(torch.randn(mb_size, Z_dim))\n",
    "        #G_sample = G(z, c)\n",
    "        #D_fake = D(G_sample, c)\n",
    "        S_loss = criterion(S_sample, c)\n",
    "        #G_loss = nn.binary_cross_entropy(D_fake, ones_label)\n",
    "\n",
    "        S_loss.backward()\n",
    "        S_solver.step()\n",
    "        \n",
    "        S_solver.zero_grad()\n",
    "        # Housekeeping - reset gradient\n",
    "        #D.zero_grad()\n",
    "\n",
    "        #Print and plot every now and then\n",
    "        #if it % 2 == 0:\n",
    "\n",
    "        #print('Iter-{}; G_loss: {}'.format(it, G_loss.data.numpy()))\n",
    "\n",
    "\n",
    "\n",
    "        it+= batch_size\n",
    "    print('S_loss: {}'.format(S_loss.cpu().data.numpy()))\n",
    "           "
   ]
  },
  {
   "cell_type": "code",
   "execution_count": null,
   "metadata": {},
   "outputs": [],
   "source": []
  },
  {
   "cell_type": "raw",
   "metadata": {},
   "source": [
    "# If you want to finetune only top layer of the model.\n",
    "for param in S_encoder.parameters():\n",
    "    param.requires_grad = False"
   ]
  },
  {
   "cell_type": "code",
   "execution_count": null,
   "metadata": {},
   "outputs": [],
   "source": []
  },
  {
   "cell_type": "raw",
   "metadata": {},
   "source": [
    "class T_encoder(torch.nn.Module):\n",
    "\n",
    "    def __init__(self,):\n",
    "        super(T_encoder, self).__init__()\n",
    "\n",
    "        D_in = D_out = 500        # param['patch_length'] * param['n_channels'] * (param['n_fft'] / 2 + 1)\n",
    "        num_nodes_fnn = 512\n",
    "        self.layer_1 = torch.nn.Linear(D_in, num_nodes_fnn)\n",
    "        self.bn_1 = torch.nn.BatchNorm1d(num_nodes_fnn)\n",
    "        self.layer_2 = torch.nn.Linear(num_nodes_fnn, num_nodes_fnn)\n",
    "        self.bn_2 = torch.nn.BatchNorm1d(num_nodes_fnn)\n",
    "        self.layer_3 = torch.nn.Linear(num_nodes_fnn, num_nodes_fnn)\n",
    "        self.bn_3 = torch.nn.BatchNorm1d(num_nodes_fnn)\n",
    "        self.layer_4 = torch.nn.Linear(num_nodes_fnn,num_nodes_fnn)\n",
    "        self.bn_4 = torch.nn.BatchNorm1d(num_nodes_fnn)\n",
    "        self.output_layer = torch.nn.Linear(num_nodes_fnn, D_out)\n",
    "        self.relu = torch.nn.ReLU()\n",
    "\n",
    "    def forward(self, x):\n",
    "        out = x\n",
    "        #out = x.view(x.size(0), -1)\n",
    "        out = self.bn_1(self.relu(self.layer_1(out)))\n",
    "        out = self.bn_2(self.relu(self.layer_2(out)))\n",
    "        out = self.bn_3(self.relu(self.layer_3(out)))\n",
    "        out = self.bn_4(self.relu(self.layer_4(out)))\n",
    "        out = self.output_layer(out)\n",
    "\n",
    "        #out = (self.relu(self.layer_1(out)))\n",
    "        #out = (self.relu(self.layer_2(out)))\n",
    "        #out = (self.relu(self.layer_3(out)))\n",
    "        #out = (self.relu(self.layer_4(out)))\n",
    "        #out = (self.output_layer(out))\n",
    "        #out = out.view(x.size())\n",
    "        return out"
   ]
  },
  {
   "cell_type": "raw",
   "metadata": {},
   "source": [
    "T_encoder = T_encoder()"
   ]
  },
  {
   "cell_type": "raw",
   "metadata": {},
   "source": [
    "T_encoder.cuda()"
   ]
  },
  {
   "cell_type": "code",
   "execution_count": 29,
   "metadata": {},
   "outputs": [],
   "source": [
    "#Implementation of Discriminator\n",
    "\n",
    "class Discriminator(nn.Module):\n",
    "    def __init__(self):\n",
    "        super(Discriminator, self).__init__()\n",
    "        #self.inputs = torch.cat([z, c], 1)\n",
    "        self.fc1 = torch.nn.Linear(500, 512)\n",
    "        self.fc2 = torch.nn.Linear(512,512)\n",
    "        self.fc3 = torch.nn.Linear(512,1)\n",
    "        \n",
    "    def forward(self, x):\n",
    "        #inputs = torch.cat([X, c], 1)\n",
    "        return F.sigmoid(self.fc3(F.relu(self.fc2(F.relu(self.fc1(x))))))\n"
   ]
  },
  {
   "cell_type": "code",
   "execution_count": 30,
   "metadata": {},
   "outputs": [],
   "source": [
    "D = Discriminator()"
   ]
  },
  {
   "cell_type": "code",
   "execution_count": 31,
   "metadata": {},
   "outputs": [
    {
     "data": {
      "text/plain": [
       "Discriminator(\n",
       "  (fc1): Linear(in_features=500, out_features=512)\n",
       "  (fc2): Linear(in_features=512, out_features=512)\n",
       "  (fc3): Linear(in_features=512, out_features=1)\n",
       ")"
      ]
     },
     "execution_count": 31,
     "metadata": {},
     "output_type": "execute_result"
    }
   ],
   "source": [
    "D.cuda()"
   ]
  },
  {
   "cell_type": "code",
   "execution_count": 32,
   "metadata": {},
   "outputs": [],
   "source": [
    "#Adding a Tanh() layer at the end of S_encoder\n",
    "S_encoder.tanh = nn.Tanh()"
   ]
  },
  {
   "cell_type": "code",
   "execution_count": 33,
   "metadata": {},
   "outputs": [
    {
     "data": {
      "text/plain": [
       "FC_Network(\n",
       "  (layer_1): Linear(in_features=500, out_features=2048)\n",
       "  (bn_1): BatchNorm1d(2048, eps=1e-05, momentum=0.1, affine=True)\n",
       "  (layer_2): Linear(in_features=2048, out_features=2048)\n",
       "  (bn_2): BatchNorm1d(2048, eps=1e-05, momentum=0.1, affine=True)\n",
       "  (layer_3): Linear(in_features=2048, out_features=2048)\n",
       "  (bn_3): BatchNorm1d(2048, eps=1e-05, momentum=0.1, affine=True)\n",
       "  (layer_4): Linear(in_features=2048, out_features=2048)\n",
       "  (bn_4): BatchNorm1d(2048, eps=1e-05, momentum=0.1, affine=True)\n",
       "  (output_layer): Linear(in_features=2048, out_features=500)\n",
       "  (relu): ReLU()\n",
       "  (tanh): Tanh()\n",
       ")"
      ]
     },
     "execution_count": 33,
     "metadata": {},
     "output_type": "execute_result"
    }
   ],
   "source": [
    "S_encoder"
   ]
  },
  {
   "cell_type": "code",
   "execution_count": 34,
   "metadata": {},
   "outputs": [],
   "source": [
    "ones_label = Variable(torch.ones(mb_size,1))\n",
    "zeros_label = Variable(torch.zeros(mb_size,1))\n",
    "#ones_label_fake = Variable(torch.ones(mb_size*2))"
   ]
  },
  {
   "cell_type": "code",
   "execution_count": 35,
   "metadata": {},
   "outputs": [
    {
     "data": {
      "text/plain": [
       "torch.Size([256, 1])"
      ]
     },
     "execution_count": 35,
     "metadata": {},
     "output_type": "execute_result"
    }
   ],
   "source": [
    "ones_label.data.shape"
   ]
  },
  {
   "cell_type": "code",
   "execution_count": null,
   "metadata": {},
   "outputs": [],
   "source": []
  },
  {
   "cell_type": "code",
   "execution_count": 36,
   "metadata": {},
   "outputs": [],
   "source": [
    "ones_label = ones_label.cuda()\n",
    "zeros_label = zeros_label.cuda()"
   ]
  },
  {
   "cell_type": "code",
   "execution_count": 37,
   "metadata": {},
   "outputs": [],
   "source": [
    "# Optimizers\n",
    "#T_solver = torch.optim.Adam(T_encoder.parameters(), lr=learning_rate, betas=betas)\n",
    "D_solver = torch.optim.Adam(D.parameters(), lr=learning_rate/2, betas=betas)"
   ]
  },
  {
   "cell_type": "code",
   "execution_count": null,
   "metadata": {},
   "outputs": [],
   "source": []
  },
  {
   "cell_type": "code",
   "execution_count": 38,
   "metadata": {},
   "outputs": [],
   "source": [
    "from torch.nn.functional import binary_cross_entropy"
   ]
  },
  {
   "cell_type": "code",
   "execution_count": 39,
   "metadata": {
    "scrolled": false
   },
   "outputs": [
    {
     "name": "stdout",
     "output_type": "stream",
     "text": [
      "epoch: 0\n",
      "S_loss: [ 0.75691509] D_loss: [ 1.01912522]\n",
      "epoch: 1\n",
      "S_loss: [ 0.74818504] D_loss: [ 1.46887112]\n",
      "epoch: 2\n",
      "S_loss: [ 0.81991673] D_loss: [ 1.39261174]\n",
      "epoch: 3\n",
      "S_loss: [ 0.78064114] D_loss: [ 1.15146589]\n",
      "epoch: 4\n",
      "S_loss: [ 0.78767204] D_loss: [ 1.45582616]\n",
      "epoch: 5\n",
      "S_loss: [ 0.74141979] D_loss: [ 1.35523677]\n",
      "epoch: 6\n",
      "S_loss: [ 0.74667406] D_loss: [ 1.27390873]\n",
      "epoch: 7\n",
      "S_loss: [ 0.77579188] D_loss: [ 1.32956243]\n",
      "epoch: 8\n",
      "S_loss: [ 0.78363562] D_loss: [ 1.34843767]\n",
      "epoch: 9\n",
      "S_loss: [ 0.77111518] D_loss: [ 1.31646323]\n",
      "epoch: 10\n",
      "S_loss: [ 0.75356054] D_loss: [ 1.36002159]\n",
      "epoch: 11\n",
      "S_loss: [ 0.76705742] D_loss: [ 1.36110473]\n",
      "epoch: 12\n",
      "S_loss: [ 0.77268529] D_loss: [ 1.34786499]\n",
      "epoch: 13\n",
      "S_loss: [ 0.76325184] D_loss: [ 1.34541416]\n",
      "epoch: 14\n",
      "S_loss: [ 0.68925095] D_loss: [ 1.33860195]\n",
      "epoch: 15\n",
      "S_loss: [ 0.73575169] D_loss: [ 1.36099172]\n",
      "epoch: 16\n",
      "S_loss: [ 0.79421449] D_loss: [ 1.36304259]\n",
      "epoch: 17\n",
      "S_loss: [ 0.78684437] D_loss: [ 1.35806477]\n",
      "epoch: 18\n",
      "S_loss: [ 0.73787701] D_loss: [ 1.33670139]\n",
      "epoch: 19\n",
      "S_loss: [ 0.74774361] D_loss: [ 1.35123277]\n",
      "epoch: 20\n",
      "S_loss: [ 0.79961228] D_loss: [ 1.35303259]\n",
      "epoch: 21\n",
      "S_loss: [ 0.63420647] D_loss: [ 1.38321328]\n",
      "epoch: 22\n",
      "S_loss: [ 0.69989216] D_loss: [ 1.34431005]\n",
      "epoch: 23\n",
      "S_loss: [ 0.76135254] D_loss: [ 1.34471083]\n",
      "epoch: 24\n",
      "S_loss: [ 0.76980335] D_loss: [ 1.33362448]\n",
      "epoch: 25\n",
      "S_loss: [ 0.74004686] D_loss: [ 1.35311103]\n",
      "epoch: 26\n",
      "S_loss: [ 0.76437104] D_loss: [ 1.33097219]\n",
      "epoch: 27\n",
      "S_loss: [ 0.75987244] D_loss: [ 1.33011174]\n",
      "epoch: 28\n",
      "S_loss: [ 0.6973834] D_loss: [ 1.35588419]\n",
      "epoch: 29\n",
      "S_loss: [ 0.71755946] D_loss: [ 1.37628126]\n",
      "epoch: 30\n",
      "S_loss: [ 0.85096598] D_loss: [ 1.33895969]\n",
      "epoch: 31\n",
      "S_loss: [ 0.87491125] D_loss: [ 1.16904378]\n",
      "epoch: 32\n",
      "S_loss: [ 0.81860745] D_loss: [ 1.24037004]\n",
      "epoch: 33\n",
      "S_loss: [ 0.7714926] D_loss: [ 1.29389656]\n",
      "epoch: 34\n",
      "S_loss: [ 0.86476922] D_loss: [ 1.32138646]\n",
      "epoch: 35\n",
      "S_loss: [ 0.91972095] D_loss: [ 1.30789042]\n",
      "epoch: 36\n",
      "S_loss: [ 0.83619499] D_loss: [ 1.25736701]\n",
      "epoch: 37\n",
      "S_loss: [ 0.83172804] D_loss: [ 1.25897467]\n",
      "epoch: 38\n",
      "S_loss: [ 1.05525517] D_loss: [ 1.20439959]\n",
      "epoch: 39\n",
      "S_loss: [ 0.96457291] D_loss: [ 1.18690944]\n",
      "epoch: 40\n",
      "S_loss: [ 1.0328958] D_loss: [ 1.24898577]\n",
      "epoch: 41\n",
      "S_loss: [ 1.07825017] D_loss: [ 1.26383281]\n",
      "epoch: 42\n",
      "S_loss: [ 1.06826711] D_loss: [ 1.21184516]\n",
      "epoch: 43\n",
      "S_loss: [ 1.0987711] D_loss: [ 1.20834684]\n",
      "epoch: 44\n",
      "S_loss: [ 1.16067481] D_loss: [ 1.2279712]\n",
      "epoch: 45\n",
      "S_loss: [ 0.94657463] D_loss: [ 1.28965461]\n",
      "epoch: 46\n",
      "S_loss: [ 1.21877289] D_loss: [ 1.26010978]\n",
      "epoch: 47\n",
      "S_loss: [ 1.16482639] D_loss: [ 1.17746246]\n",
      "epoch: 48\n",
      "S_loss: [ 0.89643049] D_loss: [ 1.22655082]\n",
      "epoch: 49\n",
      "S_loss: [ 0.87525964] D_loss: [ 1.24596989]\n",
      "epoch: 50\n",
      "S_loss: [ 1.08959806] D_loss: [ 1.17057002]\n",
      "epoch: 51\n",
      "S_loss: [ 0.82914883] D_loss: [ 1.28407216]\n",
      "epoch: 52\n",
      "S_loss: [ 1.07744503] D_loss: [ 1.26376486]\n",
      "epoch: 53\n",
      "S_loss: [ 1.10258389] D_loss: [ 1.26549935]\n",
      "epoch: 54\n",
      "S_loss: [ 1.04984355] D_loss: [ 1.34796691]\n",
      "epoch: 55\n",
      "S_loss: [ 1.02986979] D_loss: [ 1.22106552]\n",
      "epoch: 56\n",
      "S_loss: [ 1.4768436] D_loss: [ 1.25735915]\n",
      "epoch: 57\n",
      "S_loss: [ 1.33830786] D_loss: [ 1.08872151]\n",
      "epoch: 58\n",
      "S_loss: [ 1.41084397] D_loss: [ 1.10845578]\n",
      "epoch: 59\n",
      "S_loss: [ 1.31367826] D_loss: [ 0.98660272]\n",
      "epoch: 60\n",
      "S_loss: [ 1.29363358] D_loss: [ 0.97090065]\n",
      "epoch: 61\n",
      "S_loss: [ 1.82243383] D_loss: [ 0.89654171]\n",
      "epoch: 62\n",
      "S_loss: [ 2.10045671] D_loss: [ 0.67637503]\n",
      "epoch: 63\n",
      "S_loss: [ 2.58059359] D_loss: [ 0.56087136]\n",
      "epoch: 64\n",
      "S_loss: [ 2.68125534] D_loss: [ 0.5871644]\n",
      "epoch: 65\n",
      "S_loss: [ 2.40215087] D_loss: [ 0.52300733]\n",
      "epoch: 66\n",
      "S_loss: [ 3.54772568] D_loss: [ 0.75217557]\n",
      "epoch: 67\n",
      "S_loss: [ 2.3355794] D_loss: [ 0.57071024]\n",
      "epoch: 68\n",
      "S_loss: [ 2.26911092] D_loss: [ 0.73184848]\n",
      "epoch: 69\n",
      "S_loss: [ 2.91120338] D_loss: [ 0.66120231]\n",
      "epoch: 70\n",
      "S_loss: [ 3.44248676] D_loss: [ 0.45346349]\n",
      "epoch: 71\n",
      "S_loss: [ 3.10657501] D_loss: [ 0.55111152]\n",
      "epoch: 72\n",
      "S_loss: [ 2.78648829] D_loss: [ 0.49341568]\n",
      "epoch: 73\n",
      "S_loss: [ 2.82958627] D_loss: [ 0.50282103]\n",
      "epoch: 74\n",
      "S_loss: [ 3.1824789] D_loss: [ 0.57375544]\n",
      "epoch: 75\n",
      "S_loss: [ 3.95841432] D_loss: [ 0.5607428]\n",
      "epoch: 76\n",
      "S_loss: [ 3.37934542] D_loss: [ 0.46676046]\n",
      "epoch: 77\n",
      "S_loss: [ 3.36338425] D_loss: [ 0.43848395]\n",
      "epoch: 78\n",
      "S_loss: [ 2.51595545] D_loss: [ 0.47359979]\n",
      "epoch: 79\n",
      "S_loss: [ 3.19593763] D_loss: [ 0.64876473]\n",
      "epoch: 80\n",
      "S_loss: [ 2.84539461] D_loss: [ 0.5637548]\n",
      "epoch: 81\n",
      "S_loss: [ 2.7943964] D_loss: [ 0.5984531]\n",
      "epoch: 82\n",
      "S_loss: [ 2.82095528] D_loss: [ 0.66364437]\n",
      "epoch: 83\n",
      "S_loss: [ 3.09667301] D_loss: [ 0.53063798]\n",
      "epoch: 84\n",
      "S_loss: [ 3.54381728] D_loss: [ 0.80249059]\n",
      "epoch: 85\n",
      "S_loss: [ 2.62304831] D_loss: [ 0.62555718]\n",
      "epoch: 86\n",
      "S_loss: [ 3.14708304] D_loss: [ 0.59559238]\n",
      "epoch: 87\n",
      "S_loss: [ 3.25427222] D_loss: [ 0.57401788]\n",
      "epoch: 88\n",
      "S_loss: [ 2.74431419] D_loss: [ 0.47172275]\n",
      "epoch: 89\n",
      "S_loss: [ 3.05698156] D_loss: [ 0.4960863]\n",
      "epoch: 90\n",
      "S_loss: [ 2.92355347] D_loss: [ 0.65055901]\n",
      "epoch: 91\n",
      "S_loss: [ 2.88127613] D_loss: [ 0.63332021]\n",
      "epoch: 92\n",
      "S_loss: [ 5.40879059] D_loss: [ 0.77993774]\n",
      "epoch: 93\n",
      "S_loss: [ 4.22762012] D_loss: [ 0.81320167]\n",
      "epoch: 94\n",
      "S_loss: [ 2.86342621] D_loss: [ 0.56414831]\n",
      "epoch: 95\n",
      "S_loss: [ 3.15158176] D_loss: [ 0.52230597]\n",
      "epoch: 96\n",
      "S_loss: [ 3.17277193] D_loss: [ 0.58255184]\n",
      "epoch: 97\n",
      "S_loss: [ 2.72957039] D_loss: [ 0.61058736]\n",
      "epoch: 98\n",
      "S_loss: [ 3.9857614] D_loss: [ 0.45904827]\n",
      "epoch: 99\n",
      "S_loss: [ 3.42192221] D_loss: [ 0.60751241]\n",
      "epoch: 100\n",
      "S_loss: [ 3.75954103] D_loss: [ 0.63523161]\n",
      "epoch: 101\n",
      "S_loss: [ 3.99058175] D_loss: [ 0.58812332]\n",
      "epoch: 102\n",
      "S_loss: [ 3.51089001] D_loss: [ 0.64964873]\n",
      "epoch: 103\n",
      "S_loss: [ 2.79680824] D_loss: [ 0.46540409]\n",
      "epoch: 104\n",
      "S_loss: [ 3.46859646] D_loss: [ 0.55006266]\n",
      "epoch: 105\n",
      "S_loss: [ 4.09675217] D_loss: [ 0.5790289]\n",
      "epoch: 106\n",
      "S_loss: [ 4.30785227] D_loss: [ 0.61845291]\n",
      "epoch: 107\n",
      "S_loss: [ 2.75857949] D_loss: [ 0.48995531]\n",
      "epoch: 108\n",
      "S_loss: [ 6.25805569] D_loss: [ 0.99692988]\n",
      "epoch: 109\n",
      "S_loss: [ 3.86302948] D_loss: [ 0.46950054]\n",
      "epoch: 110\n",
      "S_loss: [ 4.22809649] D_loss: [ 0.57265109]\n",
      "epoch: 111\n",
      "S_loss: [ 4.06032658] D_loss: [ 0.56715399]\n",
      "epoch: 112\n",
      "S_loss: [ 2.97261333] D_loss: [ 0.60788918]\n",
      "epoch: 113\n",
      "S_loss: [ 3.92537928] D_loss: [ 0.55061823]\n",
      "epoch: 114\n",
      "S_loss: [ 3.3631835] D_loss: [ 0.43584317]\n",
      "epoch: 115\n",
      "S_loss: [ 3.1137886] D_loss: [ 0.41881642]\n",
      "epoch: 116\n",
      "S_loss: [ 3.76179743] D_loss: [ 0.48451912]\n",
      "epoch: 117\n",
      "S_loss: [ 4.69982147] D_loss: [ 0.40673137]\n",
      "epoch: 118\n",
      "S_loss: [ 3.75552177] D_loss: [ 0.35629591]\n",
      "epoch: 119\n",
      "S_loss: [ 4.05354214] D_loss: [ 0.31938297]\n",
      "epoch: 120\n",
      "S_loss: [ 3.66794062] D_loss: [ 0.35982448]\n",
      "epoch: 121\n",
      "S_loss: [ 4.42495871] D_loss: [ 0.44870645]\n",
      "epoch: 122\n",
      "S_loss: [ 3.83887339] D_loss: [ 0.39480978]\n",
      "epoch: 123\n",
      "S_loss: [ 4.30885124] D_loss: [ 0.28691733]\n",
      "epoch: 124\n",
      "S_loss: [ 4.03211069] D_loss: [ 0.3444286]\n",
      "epoch: 125\n",
      "S_loss: [ 4.52582073] D_loss: [ 0.41592681]\n",
      "epoch: 126\n",
      "S_loss: [ 4.96328402] D_loss: [ 0.41360879]\n",
      "epoch: 127\n",
      "S_loss: [ 3.38311243] D_loss: [ 0.38472426]\n",
      "epoch: 128\n",
      "S_loss: [ 4.15029526] D_loss: [ 0.31849766]\n",
      "epoch: 129\n",
      "S_loss: [ 4.52743721] D_loss: [ 0.2868728]\n",
      "epoch: 130\n",
      "S_loss: [ 4.23986006] D_loss: [ 0.394696]\n",
      "epoch: 131\n",
      "S_loss: [ 5.61452675] D_loss: [ 0.41448206]\n",
      "epoch: 132\n",
      "S_loss: [ 3.84978986] D_loss: [ 0.34914583]\n",
      "epoch: 133\n",
      "S_loss: [ 4.45004511] D_loss: [ 0.3556751]\n",
      "epoch: 134\n",
      "S_loss: [ 4.57229424] D_loss: [ 0.25793481]\n",
      "epoch: 135\n",
      "S_loss: [ 4.82153034] D_loss: [ 0.30404532]\n",
      "epoch: 136\n",
      "S_loss: [ 4.74996948] D_loss: [ 0.28919408]\n",
      "epoch: 137\n",
      "S_loss: [ 3.93646717] D_loss: [ 0.2365929]\n",
      "epoch: 138\n",
      "S_loss: [ 4.89414787] D_loss: [ 0.21946216]\n",
      "epoch: 139\n",
      "S_loss: [ 4.81203938] D_loss: [ 0.24186507]\n",
      "epoch: 140\n",
      "S_loss: [ 4.59997511] D_loss: [ 0.1999549]\n",
      "epoch: 141\n",
      "S_loss: [ 4.00550938] D_loss: [ 0.34584141]\n",
      "epoch: 142\n",
      "S_loss: [ 4.38667679] D_loss: [ 0.24688777]\n",
      "epoch: 143\n",
      "S_loss: [ 4.59915543] D_loss: [ 0.24369481]\n",
      "epoch: 144\n",
      "S_loss: [ 5.2245717] D_loss: [ 0.11789703]\n",
      "epoch: 145\n",
      "S_loss: [ 6.82900763] D_loss: [ 0.24702784]\n",
      "epoch: 146\n",
      "S_loss: [ 5.02425098] D_loss: [ 0.12910053]\n",
      "epoch: 147\n",
      "S_loss: [ 5.6879611] D_loss: [ 0.20776738]\n",
      "epoch: 148\n",
      "S_loss: [ 4.65658283] D_loss: [ 0.26577798]\n",
      "epoch: 149\n",
      "S_loss: [ 5.12240124] D_loss: [ 0.16124785]\n",
      "epoch: 150\n",
      "S_loss: [ 5.15481329] D_loss: [ 0.12739632]\n",
      "epoch: 151\n",
      "S_loss: [ 5.26128626] D_loss: [ 0.1696794]\n",
      "epoch: 152\n"
     ]
    },
    {
     "name": "stdout",
     "output_type": "stream",
     "text": [
      "S_loss: [ 5.45089293] D_loss: [ 0.15083794]\n",
      "epoch: 153\n",
      "S_loss: [ 6.0829792] D_loss: [ 0.21861437]\n",
      "epoch: 154\n",
      "S_loss: [ 6.00779295] D_loss: [ 0.10617711]\n",
      "epoch: 155\n",
      "S_loss: [ 5.33230782] D_loss: [ 0.16934398]\n",
      "epoch: 156\n",
      "S_loss: [ 4.68723011] D_loss: [ 0.20803241]\n",
      "epoch: 157\n",
      "S_loss: [ 5.2913723] D_loss: [ 0.11193138]\n",
      "epoch: 158\n",
      "S_loss: [ 6.13532543] D_loss: [ 0.22826815]\n",
      "epoch: 159\n",
      "S_loss: [ 8.31809711] D_loss: [ 0.21114522]\n",
      "epoch: 160\n",
      "S_loss: [ 7.68613863] D_loss: [ 0.23207006]\n",
      "epoch: 161\n",
      "S_loss: [ 6.97811794] D_loss: [ 0.11050834]\n",
      "epoch: 162\n",
      "S_loss: [ 5.05586052] D_loss: [ 0.12435682]\n",
      "epoch: 163\n",
      "S_loss: [ 6.31592417] D_loss: [ 0.17033789]\n",
      "epoch: 164\n",
      "S_loss: [ 5.24265862] D_loss: [ 0.36688906]\n",
      "epoch: 165\n",
      "S_loss: [ 5.22765779] D_loss: [ 0.1143109]\n",
      "epoch: 166\n",
      "S_loss: [ 5.8587513] D_loss: [ 0.22000074]\n",
      "epoch: 167\n",
      "S_loss: [ 5.31540728] D_loss: [ 0.24895875]\n",
      "epoch: 168\n",
      "S_loss: [ 7.3636899] D_loss: [ 0.05246555]\n",
      "epoch: 169\n",
      "S_loss: [ 4.86140537] D_loss: [ 0.14107445]\n",
      "epoch: 170\n",
      "S_loss: [ 11.08303642] D_loss: [ 0.30927557]\n",
      "epoch: 171\n",
      "S_loss: [ 6.20986271] D_loss: [ 0.17829351]\n",
      "epoch: 172\n",
      "S_loss: [ 9.01772404] D_loss: [ 0.49914053]\n",
      "epoch: 173\n",
      "S_loss: [ 6.69884396] D_loss: [ 0.2972773]\n",
      "epoch: 174\n",
      "S_loss: [ 6.23823833] D_loss: [ 0.30669653]\n",
      "epoch: 175\n",
      "S_loss: [ 10.90270424] D_loss: [ 0.11888457]\n",
      "epoch: 176\n",
      "S_loss: [ 7.46267891] D_loss: [ 0.19542153]\n",
      "epoch: 177\n",
      "S_loss: [ 8.4028511] D_loss: [ 0.2328631]\n",
      "epoch: 178\n",
      "S_loss: [ 6.36517239] D_loss: [ 0.22177754]\n",
      "epoch: 179\n",
      "S_loss: [ 6.17869949] D_loss: [ 0.17266944]\n",
      "epoch: 180\n",
      "S_loss: [ 10.40263939] D_loss: [ 0.16591515]\n",
      "epoch: 181\n",
      "S_loss: [ 7.21379375] D_loss: [ 0.1649141]\n",
      "epoch: 182\n",
      "S_loss: [ 5.70227718] D_loss: [ 0.0827163]\n",
      "epoch: 183\n",
      "S_loss: [ 5.41072321] D_loss: [ 0.11160959]\n",
      "epoch: 184\n",
      "S_loss: [ 6.58376789] D_loss: [ 0.25376832]\n",
      "epoch: 185\n",
      "S_loss: [ 10.43438244] D_loss: [ 0.07951184]\n",
      "epoch: 186\n",
      "S_loss: [ 22.87050819] D_loss: [ 0.25956658]\n",
      "epoch: 187\n",
      "S_loss: [ 7.87818384] D_loss: [ 0.23172903]\n",
      "epoch: 188\n",
      "S_loss: [ 8.44722748] D_loss: [ 0.31094518]\n",
      "epoch: 189\n",
      "S_loss: [ 7.28017807] D_loss: [ 0.07782458]\n",
      "epoch: 190\n",
      "S_loss: [ 8.00926971] D_loss: [ 0.13541104]\n",
      "epoch: 191\n",
      "S_loss: [ 5.96115351] D_loss: [ 0.2463069]\n",
      "epoch: 192\n",
      "S_loss: [ 5.89231682] D_loss: [ 0.25567663]\n",
      "epoch: 193\n",
      "S_loss: [ 4.73498297] D_loss: [ 0.242323]\n",
      "epoch: 194\n",
      "S_loss: [ 4.71623421] D_loss: [ 0.21225207]\n",
      "epoch: 195\n",
      "S_loss: [ 5.30194712] D_loss: [ 0.36887321]\n",
      "epoch: 196\n",
      "S_loss: [ 5.52766705] D_loss: [ 0.12732917]\n",
      "epoch: 197\n",
      "S_loss: [ 6.08960915] D_loss: [ 0.20557654]\n",
      "epoch: 198\n",
      "S_loss: [ 5.40409422] D_loss: [ 0.15568419]\n",
      "epoch: 199\n",
      "S_loss: [ 5.96621847] D_loss: [ 0.1119027]\n"
     ]
    }
   ],
   "source": [
    "\n",
    "mb_size = 256\n",
    "batch_size = mb_size\n",
    "# Start training\n",
    "for epoch in range(200):\n",
    "    \n",
    "    \n",
    "\n",
    "    print('epoch:',epoch)\n",
    "    #for i in range(XX_train):\n",
    "    # Build mini-batch dataset\n",
    "    #batch_size = images.size(0)\n",
    "    #images = to_var(images.view(batch_size, -1))\n",
    "\n",
    "    it=0\n",
    "    while it+batch_size < len(X_train_10sec_F) :\n",
    "        \n",
    "\n",
    "        start= it\n",
    "        end= it + batch_size\n",
    "\n",
    "\n",
    "        #z = Variable(torch.randn(mb_size, Z_dim))\n",
    "        X = X_train_10sec_F[start:end]\n",
    "\n",
    "        c = X_train_30sec_F[start:end]\n",
    "        X = Variable(torch.from_numpy(X))\n",
    "        c = Variable(torch.from_numpy(c.astype('float32')))\n",
    "        X = X.cuda()\n",
    "        c = c.cuda()\n",
    "        # Dicriminator forward-loss-backward-update\n",
    "        S_sample = S_encoder(X)\n",
    "        #T_sample = T_encoder(c)\n",
    "        D_real = D(X)\n",
    "        D_fake = D(S_sample)\n",
    "\n",
    "        D_loss_real = binary_cross_entropy(D_real, ones_label)\n",
    "        D_loss_fake = binary_cross_entropy(D_fake, zeros_label)\n",
    "        D_loss = D_loss_real + D_loss_fake\n",
    "\n",
    "        D_loss.backward()\n",
    "        D_solver.step()\n",
    "\n",
    "        # Housekeeping - reset gradient\n",
    "        #D.zero_grad()\n",
    "        D.zero_grad()\n",
    "\n",
    "        # Generator forward-loss-backward-update\n",
    "        #z = Variable(torch.randn(mb_size, Z_dim))\n",
    "        #G_sample = G(z, c)\n",
    "        S_sample = S_encoder(X)\n",
    "        D_fake = D(S_sample)\n",
    "        #D_fake = D(G_sample, c)\n",
    "        #T_loss = criterion(T_sample, c)\n",
    "        S_loss = binary_cross_entropy(D_fake, ones_label)\n",
    "\n",
    "        S_loss.backward()\n",
    "        S_solver.step()\n",
    "        \n",
    "        S_encoder.zero_grad()\n",
    "        # Housekeeping - reset gradient\n",
    "        D.zero_grad()\n",
    "\n",
    "        \n",
    "\n",
    "        it+= batch_size\n",
    "    print('S_loss: {}'.format(S_loss.cpu().data.numpy()),'D_loss: {}'.format(D_loss.cpu().data.numpy()))\n",
    "           "
   ]
  },
  {
   "cell_type": "code",
   "execution_count": null,
   "metadata": {},
   "outputs": [],
   "source": []
  },
  {
   "cell_type": "code",
   "execution_count": null,
   "metadata": {},
   "outputs": [],
   "source": []
  },
  {
   "cell_type": "code",
   "execution_count": null,
   "metadata": {},
   "outputs": [],
   "source": []
  },
  {
   "cell_type": "code",
   "execution_count": null,
   "metadata": {},
   "outputs": [],
   "source": []
  },
  {
   "cell_type": "code",
   "execution_count": null,
   "metadata": {},
   "outputs": [],
   "source": []
  },
  {
   "cell_type": "code",
   "execution_count": null,
   "metadata": {},
   "outputs": [],
   "source": []
  },
  {
   "cell_type": "code",
   "execution_count": null,
   "metadata": {},
   "outputs": [],
   "source": []
  },
  {
   "cell_type": "code",
   "execution_count": null,
   "metadata": {},
   "outputs": [],
   "source": []
  },
  {
   "cell_type": "code",
   "execution_count": null,
   "metadata": {},
   "outputs": [],
   "source": [
    "X_train_30sec_gen = Variable(torch.from_numpy(X_train_10sec_F))"
   ]
  },
  {
   "cell_type": "code",
   "execution_count": null,
   "metadata": {},
   "outputs": [],
   "source": []
  },
  {
   "cell_type": "code",
   "execution_count": null,
   "metadata": {},
   "outputs": [],
   "source": []
  },
  {
   "cell_type": "code",
   "execution_count": null,
   "metadata": {},
   "outputs": [],
   "source": [
    "G.eval()"
   ]
  },
  {
   "cell_type": "code",
   "execution_count": null,
   "metadata": {},
   "outputs": [],
   "source": [
    "gen_samples = G(X_train_30sec_gen.cuda())"
   ]
  },
  {
   "cell_type": "code",
   "execution_count": null,
   "metadata": {},
   "outputs": [],
   "source": [
    "gen_samples.data.shape"
   ]
  },
  {
   "cell_type": "code",
   "execution_count": null,
   "metadata": {},
   "outputs": [],
   "source": [
    "#Taking the generated iVectors we will try to check the acc by MLP"
   ]
  },
  {
   "cell_type": "code",
   "execution_count": null,
   "metadata": {},
   "outputs": [],
   "source": [
    "train_X_gen = gen_samples.cpu().data.numpy()"
   ]
  },
  {
   "cell_type": "code",
   "execution_count": null,
   "metadata": {},
   "outputs": [],
   "source": [
    "type(train_X_gen)"
   ]
  },
  {
   "cell_type": "code",
   "execution_count": null,
   "metadata": {},
   "outputs": [],
   "source": [
    "X_train = pd.DataFrame(X_train_10sec)\n",
    "#Y_train = pd.DataFrame(Y_train)\n"
   ]
  },
  {
   "cell_type": "code",
   "execution_count": null,
   "metadata": {},
   "outputs": [],
   "source": []
  },
  {
   "cell_type": "code",
   "execution_count": null,
   "metadata": {},
   "outputs": [],
   "source": [
    "val_lre = pd.read_csv('/home/satishk/GAN_lre/gan_csv/dev_feat_BNF_h5_05Jan_10sec.csv')\n"
   ]
  },
  {
   "cell_type": "code",
   "execution_count": null,
   "metadata": {},
   "outputs": [],
   "source": [
    "val_lre.head()"
   ]
  },
  {
   "cell_type": "raw",
   "metadata": {},
   "source": [
    "eval_lre = pd.read_csv('/home/satishk/GAN_lre/gan_csv/eval_feat_BNF_h5_03Jan.csv')\n"
   ]
  },
  {
   "cell_type": "code",
   "execution_count": null,
   "metadata": {},
   "outputs": [],
   "source": [
    "X_val = val_lre.drop([\"language_code\",\"uttid\",\"segmentid1\",\"data_source\",\"speech_duration\"],axis=1)\n",
    "y_val = val_lre[\"language_code\"]\n",
    "y_val_segmentid = val_lre[\"segmentid1\"]"
   ]
  },
  {
   "cell_type": "raw",
   "metadata": {},
   "source": [
    "X_eval = eval_lre.drop([\"language_code\",\"uttid\",\"segmentid1\",\"data_source\",\"speech_duration\"],axis=1)\n",
    "y_eval = eval_lre[\"language_code\"]\n",
    "y_eval_segmentid = eval_lre[\"segmentid1\"]"
   ]
  },
  {
   "cell_type": "code",
   "execution_count": null,
   "metadata": {},
   "outputs": [],
   "source": [
    "X_val = X_val.values\n",
    "#X_eval = X_eval.values"
   ]
  },
  {
   "cell_type": "code",
   "execution_count": null,
   "metadata": {},
   "outputs": [],
   "source": [
    "#X_eval.shape"
   ]
  },
  {
   "cell_type": "code",
   "execution_count": null,
   "metadata": {},
   "outputs": [],
   "source": [
    "le = preprocessing.LabelEncoder()\n",
    "le.fit(y_val)"
   ]
  },
  {
   "cell_type": "code",
   "execution_count": null,
   "metadata": {},
   "outputs": [],
   "source": [
    "le.classes_"
   ]
  },
  {
   "cell_type": "code",
   "execution_count": null,
   "metadata": {},
   "outputs": [],
   "source": [
    "y_val_labels = le.transform(y_val)"
   ]
  },
  {
   "cell_type": "code",
   "execution_count": null,
   "metadata": {},
   "outputs": [],
   "source": [
    "y_val_labels[0:25]"
   ]
  },
  {
   "cell_type": "raw",
   "metadata": {},
   "source": [
    "le = preprocessing.LabelEncoder()\n",
    "le.fit(y_eval)"
   ]
  },
  {
   "cell_type": "raw",
   "metadata": {},
   "source": [
    "le.classes_"
   ]
  },
  {
   "cell_type": "raw",
   "metadata": {},
   "source": [
    "y_eval_labels = le.transform(y_eval)"
   ]
  },
  {
   "cell_type": "raw",
   "metadata": {},
   "source": [
    "y_eval_labels[0:10]"
   ]
  },
  {
   "cell_type": "code",
   "execution_count": null,
   "metadata": {},
   "outputs": [],
   "source": [
    "# convert class vectors to binary class matrices\n",
    "Y_val = np_utils.to_categorical(y_val_labels, nb_classes)\n",
    "#Y_eval = np_utils.to_categorical(y_eval_labels, nb_classes)"
   ]
  },
  {
   "cell_type": "code",
   "execution_count": null,
   "metadata": {},
   "outputs": [],
   "source": [
    "Y_val"
   ]
  },
  {
   "cell_type": "code",
   "execution_count": null,
   "metadata": {},
   "outputs": [],
   "source": [
    "X_val = X_val.astype('float32')\n"
   ]
  },
  {
   "cell_type": "code",
   "execution_count": null,
   "metadata": {},
   "outputs": [],
   "source": [
    "X_val_10sec_gen = Variable(torch.from_numpy(X_val))"
   ]
  },
  {
   "cell_type": "code",
   "execution_count": null,
   "metadata": {},
   "outputs": [],
   "source": [
    "gen_samples_val = G(X_val_10sec_gen.cuda())"
   ]
  },
  {
   "cell_type": "code",
   "execution_count": null,
   "metadata": {},
   "outputs": [],
   "source": [
    "gen_samples_val.data.shape"
   ]
  },
  {
   "cell_type": "code",
   "execution_count": null,
   "metadata": {},
   "outputs": [],
   "source": [
    "X_val_gen = gen_samples_val.cpu().data.numpy()"
   ]
  },
  {
   "cell_type": "code",
   "execution_count": null,
   "metadata": {},
   "outputs": [],
   "source": []
  },
  {
   "cell_type": "code",
   "execution_count": null,
   "metadata": {},
   "outputs": [],
   "source": []
  },
  {
   "cell_type": "code",
   "execution_count": null,
   "metadata": {},
   "outputs": [],
   "source": []
  },
  {
   "cell_type": "code",
   "execution_count": null,
   "metadata": {},
   "outputs": [],
   "source": [
    "model = Sequential()\n",
    "model.add(Dense(512, input_dim=500))\n",
    "model.add(Activation('relu'))\n",
    "model.add(Dropout(0.5))\n",
    "\n",
    "model.add(Dense(512))\n",
    "model.add(Activation('relu'))\n",
    "model.add(Dropout(0.5))\n",
    "\n",
    "model.add(Dense(nb_classes))\n",
    "model.add(Activation('softmax'))"
   ]
  },
  {
   "cell_type": "code",
   "execution_count": null,
   "metadata": {},
   "outputs": [],
   "source": [
    "model.summary()"
   ]
  },
  {
   "cell_type": "code",
   "execution_count": null,
   "metadata": {},
   "outputs": [],
   "source": [
    "adam=optimizers.Adam(lr=0.001, beta_1=0.9, beta_2=0.999, epsilon=1e-08, decay=0.0)\n",
    "\n",
    "model.compile(loss='categorical_crossentropy',\n",
    "              optimizer='adam',\n",
    "              metrics=['accuracy'])"
   ]
  },
  {
   "cell_type": "code",
   "execution_count": null,
   "metadata": {},
   "outputs": [],
   "source": [
    "best_weights_filepath = '/home/satishk/saved_weights/best_weights_2l_MLP_11.hdf5'\n",
    "saveBestModel = ModelCheckpoint(best_weights_filepath, monitor='val_acc', verbose=1, save_best_only=True, mode='auto')\n"
   ]
  },
  {
   "cell_type": "code",
   "execution_count": null,
   "metadata": {},
   "outputs": [],
   "source": [
    "batch_size = 256\n",
    "nb_epoch = 15"
   ]
  },
  {
   "cell_type": "raw",
   "metadata": {},
   "source": [
    "#train_X_gen\n",
    "#Checking Accuracy with augmented data \n",
    "history = model.fit(train_X_gen, Y_train_labels , batch_size=batch_size, epochs=nb_epoch,verbose=2, \n",
    "                    validation_data=(X_val_gen , Y_val),callbacks=[saveBestModel])"
   ]
  },
  {
   "cell_type": "code",
   "execution_count": null,
   "metadata": {},
   "outputs": [],
   "source": [
    "#Use This to Check Accuracy with original data \n",
    "history = model.fit(X_train_10sec_F, Y_train_labels , batch_size=batch_size, epochs=nb_epoch,verbose=2, \n",
    "                    validation_data=(X_val , Y_val),callbacks=[saveBestModel])"
   ]
  },
  {
   "cell_type": "raw",
   "metadata": {},
   "source": [
    "score = model.evaluate(X_val_gen, Y_val, verbose=0)\n",
    "print('Acc %:', score[1])"
   ]
  },
  {
   "cell_type": "code",
   "execution_count": null,
   "metadata": {},
   "outputs": [],
   "source": []
  },
  {
   "cell_type": "code",
   "execution_count": null,
   "metadata": {},
   "outputs": [],
   "source": []
  },
  {
   "cell_type": "code",
   "execution_count": null,
   "metadata": {},
   "outputs": [],
   "source": []
  },
  {
   "cell_type": "code",
   "execution_count": null,
   "metadata": {},
   "outputs": [],
   "source": []
  },
  {
   "cell_type": "code",
   "execution_count": null,
   "metadata": {},
   "outputs": [],
   "source": [
    "from sklearn.multiclass import OneVsRestClassifier\n",
    "from sklearn.svm import SVC\n"
   ]
  },
  {
   "cell_type": "code",
   "execution_count": null,
   "metadata": {},
   "outputs": [],
   "source": [
    "classif = SVC(C=1, kernel='rbf', gamma='auto', coef0=1, shrinking=True, random_state=0,\n",
    "                      probability=False, tol=1e-3, cache_size=1e4, class_weight='balanced')\n",
    "classif.fit(X_train_10sec_F, y_30sec_labels)"
   ]
  },
  {
   "cell_type": "code",
   "execution_count": null,
   "metadata": {},
   "outputs": [],
   "source": [
    "classif.classes_"
   ]
  },
  {
   "cell_type": "code",
   "execution_count": null,
   "metadata": {},
   "outputs": [],
   "source": [
    "acc = metrics.accuracy_score(y_val_labels, classif.predict(X_val))"
   ]
  },
  {
   "cell_type": "code",
   "execution_count": null,
   "metadata": {},
   "outputs": [],
   "source": [
    "acc"
   ]
  },
  {
   "cell_type": "code",
   "execution_count": null,
   "metadata": {},
   "outputs": [],
   "source": []
  },
  {
   "cell_type": "code",
   "execution_count": null,
   "metadata": {},
   "outputs": [],
   "source": []
  }
 ],
 "metadata": {
  "kernelspec": {
   "display_name": "Python 3",
   "language": "python",
   "name": "python3"
  },
  "language_info": {
   "codemirror_mode": {
    "name": "ipython",
    "version": 3
   },
   "file_extension": ".py",
   "mimetype": "text/x-python",
   "name": "python",
   "nbconvert_exporter": "python",
   "pygments_lexer": "ipython3",
   "version": "3.6.3"
  }
 },
 "nbformat": 4,
 "nbformat_minor": 2
}
