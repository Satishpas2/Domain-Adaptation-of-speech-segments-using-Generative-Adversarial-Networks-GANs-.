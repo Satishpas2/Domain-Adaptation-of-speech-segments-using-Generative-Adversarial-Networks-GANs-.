{
 "cells": [
  {
   "cell_type": "code",
   "execution_count": null,
   "metadata": {},
   "outputs": [],
   "source": [
    "from sklearn import preprocessing\n",
    "from sklearn.svm import SVC\n",
    "import pandas as pd\n",
    "from sklearn.metrics import accuracy_score\n",
    "import numpy as np\n",
    "\n",
    "X_train_30sec_F = pd.read_csv('/home/satishk/GAN_lre/gan_csv/10sec_to_30sec_data/X_train_30sec_F.csv')\n",
    "\n",
    "y_30sec_labels_train = pd.read_csv('/home/satishk/GAN_lre/gan_csv/10sec_to_30sec_data/y_30sec_labels_train.csv')\n",
    "\n",
    "train_X_gen_30 = pd.read_csv('/home/satishk/GAN_lre/gan_csv/10sec_to_30sec_data/train_X_gen.csv')\n",
    "\n",
    "X_val_gen_30 = pd.read_csv('/home/satishk/GAN_lre/gan_csv/10sec_to_30sec_data/X_val_gen.csv')\n",
    "\n",
    "y_val_labels_30 = pd.read_csv('/home/satishk/GAN_lre/gan_csv/10sec_to_30sec_data/y_val_labels.csv')\n",
    "\n",
    "train_X_gen_10 = pd.read_csv('/home/satishk/GAN_lre/gan_csv/3sec_to_10sec_data/train_X_gen.csv')\n",
    "\n",
    "y_10sec_labels_train = pd.read_csv('/home/satishk/GAN_lre/gan_csv/3sec_to_10sec_data/y_10sec_labels_train.csv')\n",
    "\n",
    "X_val_gen_10 = pd.read_csv('/home/satishk/GAN_lre/gan_csv/3sec_to_10sec_data/X_val_gen.csv')\n",
    "\n",
    "y_val_labels_10 = pd.read_csv('/home/satishk/GAN_lre/gan_csv/3sec_to_10sec_data/y_val_labels.csv')\n",
    "\n",
    "train_X_gen_F = pd.concat([train_X_gen_30, train_X_gen_10, X_train_30sec_F], axis=0)\n",
    "\n",
    "y_labels_train_F = pd.concat([y_30sec_labels_train, y_10sec_labels_train, y_30sec_labels_train], axis=0)\n",
    "\n",
    "val_lre = pd.read_csv('/home/satishk/GAN_lre/gan_csv/dev_feat_BNF_h5_07Feb_30sec.csv')\n",
    "\n",
    "\n",
    "X_val_30_orig = val_lre.drop([\"language_code\",\"uttid\",\"segmentid1\",\"data_source\",\"speech_duration\"],axis=1)\n",
    "y_val_30_orig = val_lre[\"language_code\"]\n",
    "\n",
    "\n",
    "\n",
    "le = preprocessing.LabelEncoder()\n",
    "le.fit(y_val_30_orig)\n",
    "\n",
    "y_val_labels_30_orig = le.transform(y_val_30_orig)\n",
    "\n",
    "y_val_labels_30_orig2 =y_val_labels_30_orig.reshape(933,1)\n",
    "\n",
    "y_val_labels_30 = pd.DataFrame(y_val_labels_30.values)\n",
    "y_val_labels_10 = pd.DataFrame(y_val_labels_10.values)\n",
    "y_val_labels_30_orig2 = pd.DataFrame(y_val_labels_30_orig2)\n",
    "\n",
    "y_labels_val_F = pd.concat([y_val_labels_30, y_val_labels_10, y_val_labels_30_orig2], axis=0)\n",
    "\n",
    "\n",
    "\n",
    "X_val_F = pd.concat([X_val_gen_30, X_val_gen_10, X_val_30_orig], axis=0)\n",
    "\n",
    "train_X_gen_F = train_X_gen_F.values\n",
    "y_labels_train_F = y_labels_train_F.values\n",
    "X_val_F = X_val_F.values\n",
    "y_labels_val_F = y_labels_val_F.values\n",
    "\n",
    "y_labels_train_F = y_labels_train_F.reshape(470946,)\n",
    "y_labels_val_F = y_labels_val_F.reshape(2787,)\n",
    "\n",
    "\n",
    "\n",
    "train_X_gen_F = train_X_gen_F[0:1000]\n",
    "y_labels_train_F = y_labels_train_F[0:1000]\n",
    "\n",
    "classif = SVC(C=1, kernel='linear', degree=2, gamma='auto', coef0=1, shrinking=True, random_state=0,\n",
    "              probability=False, tol=1e-3, cache_size=1e4, class_weight='balanced')\n",
    "classif.fit(train_X_gen_F, y_labels_train_F)\n",
    "\n",
    "classif.classes_\n",
    "\n",
    "acc = metrics.accuracy_score(y_labels_val_F, classif.predict(X_val_F))\n",
    "\n",
    "print(acc)\n",
    "\n",
    "acc"
   ]
  },
  {
   "cell_type": "code",
   "execution_count": null,
   "metadata": {},
   "outputs": [],
   "source": []
  },
  {
   "cell_type": "code",
   "execution_count": 4,
   "metadata": {},
   "outputs": [],
   "source": [
    "from sklearn.externals import joblib\n",
    "\n",
    "filename = '/home/satishk/GAN_lre/gan_csv/digits_classifier.joblib.pkl'\n",
    "\n",
    "_ = joblib.dump(classif, filename, compress=9)\n",
    "\n",
    "clf2 = joblib.load(filename)\n",
    "clf2\n",
    "\n"
   ]
  },
  {
   "cell_type": "code",
   "execution_count": null,
   "metadata": {},
   "outputs": [],
   "source": []
  },
  {
   "cell_type": "code",
   "execution_count": null,
   "metadata": {},
   "outputs": [],
   "source": []
  },
  {
   "cell_type": "code",
   "execution_count": null,
   "metadata": {},
   "outputs": [],
   "source": [
    "type(X_train_10sec_F)"
   ]
  },
  {
   "cell_type": "code",
   "execution_count": null,
   "metadata": {},
   "outputs": [],
   "source": [
    "type(train_X_gen)"
   ]
  },
  {
   "cell_type": "code",
   "execution_count": null,
   "metadata": {},
   "outputs": [],
   "source": [
    "X_train_10sec_F.dtype"
   ]
  },
  {
   "cell_type": "code",
   "execution_count": null,
   "metadata": {},
   "outputs": [],
   "source": [
    "train_X_gen.dtype"
   ]
  },
  {
   "cell_type": "code",
   "execution_count": null,
   "metadata": {},
   "outputs": [],
   "source": []
  }
 ],
 "metadata": {
  "kernelspec": {
   "display_name": "Python 3",
   "language": "python",
   "name": "python3"
  },
  "language_info": {
   "codemirror_mode": {
    "name": "ipython",
    "version": 3
   },
   "file_extension": ".py",
   "mimetype": "text/x-python",
   "name": "python",
   "nbconvert_exporter": "python",
   "pygments_lexer": "ipython3",
   "version": "3.6.3"
  }
 },
 "nbformat": 4,
 "nbformat_minor": 2
}
