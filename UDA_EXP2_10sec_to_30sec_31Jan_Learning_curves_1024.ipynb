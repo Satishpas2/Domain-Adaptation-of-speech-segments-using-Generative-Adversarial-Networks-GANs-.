{
 "cells": [
  {
   "cell_type": "code",
   "execution_count": 1,
   "metadata": {},
   "outputs": [
    {
     "name": "stderr",
     "output_type": "stream",
     "text": [
      "Using TensorFlow backend.\n"
     ]
    }
   ],
   "source": [
    "import torch\n",
    "import torchvision\n",
    "import torch.nn as nn\n",
    "import torch.nn.functional as F\n",
    "from torchvision import datasets \n",
    "from torchvision import transforms\n",
    "from torchvision.utils import save_image\n",
    "from torch.autograd import Variable\n",
    "\n",
    "\n",
    "import pandas as pd \n",
    "import numpy as np\n",
    "import os \n",
    "import glob\n",
    "np.random.seed(1337)  # for reproducibility\n",
    "from sklearn import preprocessing\n",
    "from sklearn.model_selection import train_test_split\n",
    "import torch.optim as optim\n",
    "import torch\n",
    "import torch.nn.functional as nn\n",
    "import torch.autograd as autograd\n",
    "import torch.optim as optim\n",
    "import numpy as np\n",
    "#import matplotlib.pyplot as plt\n",
    "#import matplotlib.gridspec as gridspec\n",
    "import os\n",
    "from torch.autograd import Variable\n",
    "from sklearn.utils import shuffle\n",
    "import random\n",
    "from keras.datasets import mnist\n",
    "from keras.callbacks import EarlyStopping\n",
    "from keras.callbacks import ModelCheckpoint\n",
    "from keras.models import Sequential\n",
    "from keras.layers import Dense, Dropout, Activation, Flatten\n",
    "from keras.layers import Convolution2D, MaxPooling2D\n",
    "from keras.utils import np_utils\n",
    "from keras import backend as K\n",
    "from keras import optimizers\n",
    "import matplotlib.pyplot as plt\n"
   ]
  },
  {
   "cell_type": "code",
   "execution_count": 2,
   "metadata": {},
   "outputs": [],
   "source": [
    "train_lre_10sec = pd.read_csv('/home/satishk/GAN_lre/gan_csv/GAN_10sec_ivectors_X_train_04Jan_labels_ids_combined_extraction.csv')\n",
    "#train_afds"
   ]
  },
  {
   "cell_type": "code",
   "execution_count": 3,
   "metadata": {},
   "outputs": [
    {
     "data": {
      "text/html": [
       "<div>\n",
       "<style scoped>\n",
       "    .dataframe tbody tr th:only-of-type {\n",
       "        vertical-align: middle;\n",
       "    }\n",
       "\n",
       "    .dataframe tbody tr th {\n",
       "        vertical-align: top;\n",
       "    }\n",
       "\n",
       "    .dataframe thead th {\n",
       "        text-align: right;\n",
       "    }\n",
       "</style>\n",
       "<table border=\"1\" class=\"dataframe\">\n",
       "  <thead>\n",
       "    <tr style=\"text-align: right;\">\n",
       "      <th></th>\n",
       "      <th>0</th>\n",
       "      <th>1</th>\n",
       "      <th>2</th>\n",
       "      <th>3</th>\n",
       "      <th>4</th>\n",
       "      <th>5</th>\n",
       "      <th>6</th>\n",
       "      <th>7</th>\n",
       "      <th>8</th>\n",
       "      <th>9</th>\n",
       "      <th>...</th>\n",
       "      <th>495</th>\n",
       "      <th>496</th>\n",
       "      <th>497</th>\n",
       "      <th>498</th>\n",
       "      <th>499</th>\n",
       "      <th>ids</th>\n",
       "      <th>year</th>\n",
       "      <th>data</th>\n",
       "      <th>lang</th>\n",
       "      <th>lang_id</th>\n",
       "    </tr>\n",
       "  </thead>\n",
       "  <tbody>\n",
       "    <tr>\n",
       "      <th>0</th>\n",
       "      <td>-0.314181</td>\n",
       "      <td>0.671920</td>\n",
       "      <td>-0.188068</td>\n",
       "      <td>-0.910752</td>\n",
       "      <td>1.050361</td>\n",
       "      <td>1.966829</td>\n",
       "      <td>0.292740</td>\n",
       "      <td>1.084547</td>\n",
       "      <td>1.287480</td>\n",
       "      <td>1.745248</td>\n",
       "      <td>...</td>\n",
       "      <td>-0.564911</td>\n",
       "      <td>-1.854116</td>\n",
       "      <td>-3.185948</td>\n",
       "      <td>-2.177057</td>\n",
       "      <td>0.301166</td>\n",
       "      <td>zkllk</td>\n",
       "      <td>LDC2017E22</td>\n",
       "      <td>data</td>\n",
       "      <td>eng-usg</td>\n",
       "      <td>zkllk</td>\n",
       "    </tr>\n",
       "    <tr>\n",
       "      <th>1</th>\n",
       "      <td>0.503734</td>\n",
       "      <td>0.247072</td>\n",
       "      <td>0.451463</td>\n",
       "      <td>0.500546</td>\n",
       "      <td>-0.716668</td>\n",
       "      <td>1.337575</td>\n",
       "      <td>-1.027019</td>\n",
       "      <td>0.773720</td>\n",
       "      <td>0.910362</td>\n",
       "      <td>1.728001</td>\n",
       "      <td>...</td>\n",
       "      <td>0.886613</td>\n",
       "      <td>6.766799</td>\n",
       "      <td>-1.040380</td>\n",
       "      <td>-0.751316</td>\n",
       "      <td>-1.487938</td>\n",
       "      <td>lid05e1_lid00562</td>\n",
       "      <td>LDC2017E22</td>\n",
       "      <td>data</td>\n",
       "      <td>eng-usg</td>\n",
       "      <td>lid05e1_lid00562</td>\n",
       "    </tr>\n",
       "    <tr>\n",
       "      <th>2</th>\n",
       "      <td>2.141677</td>\n",
       "      <td>-0.044947</td>\n",
       "      <td>-0.595182</td>\n",
       "      <td>-0.595953</td>\n",
       "      <td>0.889385</td>\n",
       "      <td>1.440080</td>\n",
       "      <td>-1.208933</td>\n",
       "      <td>0.129059</td>\n",
       "      <td>-0.930121</td>\n",
       "      <td>0.401362</td>\n",
       "      <td>...</td>\n",
       "      <td>-2.836253</td>\n",
       "      <td>-0.323334</td>\n",
       "      <td>0.055760</td>\n",
       "      <td>0.481039</td>\n",
       "      <td>0.395826</td>\n",
       "      <td>fla_0240-a</td>\n",
       "      <td>LDC2017E22</td>\n",
       "      <td>data</td>\n",
       "      <td>ara-apc</td>\n",
       "      <td>fla_0240-a</td>\n",
       "    </tr>\n",
       "    <tr>\n",
       "      <th>3</th>\n",
       "      <td>1.708722</td>\n",
       "      <td>-0.663542</td>\n",
       "      <td>0.031733</td>\n",
       "      <td>0.358099</td>\n",
       "      <td>0.594610</td>\n",
       "      <td>1.023025</td>\n",
       "      <td>-1.450633</td>\n",
       "      <td>0.252159</td>\n",
       "      <td>-0.381832</td>\n",
       "      <td>0.087693</td>\n",
       "      <td>...</td>\n",
       "      <td>1.384728</td>\n",
       "      <td>0.426863</td>\n",
       "      <td>0.482178</td>\n",
       "      <td>1.655650</td>\n",
       "      <td>-1.029032</td>\n",
       "      <td>fla_0240-a</td>\n",
       "      <td>LDC2017E22</td>\n",
       "      <td>data</td>\n",
       "      <td>ara-apc</td>\n",
       "      <td>fla_0240-a</td>\n",
       "    </tr>\n",
       "    <tr>\n",
       "      <th>4</th>\n",
       "      <td>1.873292</td>\n",
       "      <td>-0.272493</td>\n",
       "      <td>-0.305948</td>\n",
       "      <td>-0.250047</td>\n",
       "      <td>2.093700</td>\n",
       "      <td>1.741634</td>\n",
       "      <td>-0.750633</td>\n",
       "      <td>-0.651771</td>\n",
       "      <td>-0.793287</td>\n",
       "      <td>-0.053527</td>\n",
       "      <td>...</td>\n",
       "      <td>0.188493</td>\n",
       "      <td>-0.888710</td>\n",
       "      <td>1.792536</td>\n",
       "      <td>-0.628455</td>\n",
       "      <td>1.912622</td>\n",
       "      <td>fla_0240-a</td>\n",
       "      <td>LDC2017E22</td>\n",
       "      <td>data</td>\n",
       "      <td>ara-apc</td>\n",
       "      <td>fla_0240-a</td>\n",
       "    </tr>\n",
       "  </tbody>\n",
       "</table>\n",
       "<p>5 rows × 505 columns</p>\n",
       "</div>"
      ],
      "text/plain": [
       "          0         1         2         3         4         5         6  \\\n",
       "0 -0.314181  0.671920 -0.188068 -0.910752  1.050361  1.966829  0.292740   \n",
       "1  0.503734  0.247072  0.451463  0.500546 -0.716668  1.337575 -1.027019   \n",
       "2  2.141677 -0.044947 -0.595182 -0.595953  0.889385  1.440080 -1.208933   \n",
       "3  1.708722 -0.663542  0.031733  0.358099  0.594610  1.023025 -1.450633   \n",
       "4  1.873292 -0.272493 -0.305948 -0.250047  2.093700  1.741634 -0.750633   \n",
       "\n",
       "          7         8         9        ...              495       496  \\\n",
       "0  1.084547  1.287480  1.745248        ...        -0.564911 -1.854116   \n",
       "1  0.773720  0.910362  1.728001        ...         0.886613  6.766799   \n",
       "2  0.129059 -0.930121  0.401362        ...        -2.836253 -0.323334   \n",
       "3  0.252159 -0.381832  0.087693        ...         1.384728  0.426863   \n",
       "4 -0.651771 -0.793287 -0.053527        ...         0.188493 -0.888710   \n",
       "\n",
       "        497       498       499               ids        year  data     lang  \\\n",
       "0 -3.185948 -2.177057  0.301166             zkllk  LDC2017E22  data  eng-usg   \n",
       "1 -1.040380 -0.751316 -1.487938  lid05e1_lid00562  LDC2017E22  data  eng-usg   \n",
       "2  0.055760  0.481039  0.395826        fla_0240-a  LDC2017E22  data  ara-apc   \n",
       "3  0.482178  1.655650 -1.029032        fla_0240-a  LDC2017E22  data  ara-apc   \n",
       "4  1.792536 -0.628455  1.912622        fla_0240-a  LDC2017E22  data  ara-apc   \n",
       "\n",
       "            lang_id  \n",
       "0             zkllk  \n",
       "1  lid05e1_lid00562  \n",
       "2        fla_0240-a  \n",
       "3        fla_0240-a  \n",
       "4        fla_0240-a  \n",
       "\n",
       "[5 rows x 505 columns]"
      ]
     },
     "execution_count": 3,
     "metadata": {},
     "output_type": "execute_result"
    }
   ],
   "source": [
    "train_lre_10sec.head()"
   ]
  },
  {
   "cell_type": "code",
   "execution_count": 4,
   "metadata": {},
   "outputs": [],
   "source": [
    "X_train_10sec = train_lre_10sec.drop(['ids','year','data','lang','lang_id'],axis=1)"
   ]
  },
  {
   "cell_type": "code",
   "execution_count": null,
   "metadata": {},
   "outputs": [],
   "source": []
  },
  {
   "cell_type": "code",
   "execution_count": 5,
   "metadata": {},
   "outputs": [],
   "source": [
    "#train_lre = train_lre.iloc[1000:2000]"
   ]
  },
  {
   "cell_type": "code",
   "execution_count": 6,
   "metadata": {},
   "outputs": [],
   "source": [
    "train_lre_30sec = pd.read_csv('/home/satishk/GAN_lre/gan_csv/GAN_30sec_ivectors_X_train_04Jan_labels_ids_combined_extraction.csv')\n"
   ]
  },
  {
   "cell_type": "code",
   "execution_count": 7,
   "metadata": {},
   "outputs": [
    {
     "data": {
      "text/html": [
       "<div>\n",
       "<style scoped>\n",
       "    .dataframe tbody tr th:only-of-type {\n",
       "        vertical-align: middle;\n",
       "    }\n",
       "\n",
       "    .dataframe tbody tr th {\n",
       "        vertical-align: top;\n",
       "    }\n",
       "\n",
       "    .dataframe thead th {\n",
       "        text-align: right;\n",
       "    }\n",
       "</style>\n",
       "<table border=\"1\" class=\"dataframe\">\n",
       "  <thead>\n",
       "    <tr style=\"text-align: right;\">\n",
       "      <th></th>\n",
       "      <th>0</th>\n",
       "      <th>1</th>\n",
       "      <th>2</th>\n",
       "      <th>3</th>\n",
       "      <th>4</th>\n",
       "      <th>5</th>\n",
       "      <th>6</th>\n",
       "      <th>7</th>\n",
       "      <th>8</th>\n",
       "      <th>9</th>\n",
       "      <th>...</th>\n",
       "      <th>495</th>\n",
       "      <th>496</th>\n",
       "      <th>497</th>\n",
       "      <th>498</th>\n",
       "      <th>499</th>\n",
       "      <th>ids</th>\n",
       "      <th>year</th>\n",
       "      <th>data</th>\n",
       "      <th>lang</th>\n",
       "      <th>lang_id</th>\n",
       "    </tr>\n",
       "  </thead>\n",
       "  <tbody>\n",
       "    <tr>\n",
       "      <th>0</th>\n",
       "      <td>-0.639420</td>\n",
       "      <td>0.345684</td>\n",
       "      <td>-0.517645</td>\n",
       "      <td>-0.737002</td>\n",
       "      <td>1.313001</td>\n",
       "      <td>1.655732</td>\n",
       "      <td>0.615168</td>\n",
       "      <td>0.799339</td>\n",
       "      <td>1.648419</td>\n",
       "      <td>1.314986</td>\n",
       "      <td>...</td>\n",
       "      <td>-1.322407</td>\n",
       "      <td>-0.717348</td>\n",
       "      <td>-3.843951</td>\n",
       "      <td>-1.471274</td>\n",
       "      <td>0.945421</td>\n",
       "      <td>zkllk</td>\n",
       "      <td>LDC2017E22</td>\n",
       "      <td>data</td>\n",
       "      <td>eng-usg</td>\n",
       "      <td>zkllk</td>\n",
       "    </tr>\n",
       "    <tr>\n",
       "      <th>1</th>\n",
       "      <td>0.113610</td>\n",
       "      <td>0.738034</td>\n",
       "      <td>0.584856</td>\n",
       "      <td>-0.248521</td>\n",
       "      <td>0.256616</td>\n",
       "      <td>1.060159</td>\n",
       "      <td>-0.416211</td>\n",
       "      <td>0.133670</td>\n",
       "      <td>0.188327</td>\n",
       "      <td>0.805241</td>\n",
       "      <td>...</td>\n",
       "      <td>1.965741</td>\n",
       "      <td>3.525555</td>\n",
       "      <td>0.006925</td>\n",
       "      <td>1.676099</td>\n",
       "      <td>-1.116371</td>\n",
       "      <td>lid05e1_lid00562</td>\n",
       "      <td>LDC2017E22</td>\n",
       "      <td>data</td>\n",
       "      <td>eng-usg</td>\n",
       "      <td>lid05e1_lid00562</td>\n",
       "    </tr>\n",
       "    <tr>\n",
       "      <th>2</th>\n",
       "      <td>2.061305</td>\n",
       "      <td>-0.140605</td>\n",
       "      <td>-0.627104</td>\n",
       "      <td>-0.682908</td>\n",
       "      <td>1.337613</td>\n",
       "      <td>1.261543</td>\n",
       "      <td>-0.651291</td>\n",
       "      <td>0.307040</td>\n",
       "      <td>-0.980717</td>\n",
       "      <td>0.335530</td>\n",
       "      <td>...</td>\n",
       "      <td>-3.018432</td>\n",
       "      <td>-1.841361</td>\n",
       "      <td>0.814595</td>\n",
       "      <td>-0.200731</td>\n",
       "      <td>1.180795</td>\n",
       "      <td>fla_0240-a</td>\n",
       "      <td>LDC2017E22</td>\n",
       "      <td>data</td>\n",
       "      <td>ara-apc</td>\n",
       "      <td>fla_0240-a</td>\n",
       "    </tr>\n",
       "    <tr>\n",
       "      <th>3</th>\n",
       "      <td>1.958049</td>\n",
       "      <td>-0.608315</td>\n",
       "      <td>-0.113532</td>\n",
       "      <td>0.167272</td>\n",
       "      <td>0.911100</td>\n",
       "      <td>1.116094</td>\n",
       "      <td>-0.847214</td>\n",
       "      <td>-0.041357</td>\n",
       "      <td>-0.542335</td>\n",
       "      <td>0.199105</td>\n",
       "      <td>...</td>\n",
       "      <td>-0.548767</td>\n",
       "      <td>-1.254447</td>\n",
       "      <td>1.644647</td>\n",
       "      <td>0.555434</td>\n",
       "      <td>1.159140</td>\n",
       "      <td>fla_0240-a</td>\n",
       "      <td>LDC2017E22</td>\n",
       "      <td>data</td>\n",
       "      <td>ara-apc</td>\n",
       "      <td>fla_0240-a</td>\n",
       "    </tr>\n",
       "    <tr>\n",
       "      <th>4</th>\n",
       "      <td>1.842436</td>\n",
       "      <td>-0.417598</td>\n",
       "      <td>-0.427428</td>\n",
       "      <td>-0.485898</td>\n",
       "      <td>1.204330</td>\n",
       "      <td>1.439188</td>\n",
       "      <td>-1.056642</td>\n",
       "      <td>0.111603</td>\n",
       "      <td>-0.404313</td>\n",
       "      <td>-0.307075</td>\n",
       "      <td>...</td>\n",
       "      <td>0.297026</td>\n",
       "      <td>-1.858708</td>\n",
       "      <td>0.209784</td>\n",
       "      <td>0.583939</td>\n",
       "      <td>1.398789</td>\n",
       "      <td>fla_0240-a</td>\n",
       "      <td>LDC2017E22</td>\n",
       "      <td>data</td>\n",
       "      <td>ara-apc</td>\n",
       "      <td>fla_0240-a</td>\n",
       "    </tr>\n",
       "  </tbody>\n",
       "</table>\n",
       "<p>5 rows × 505 columns</p>\n",
       "</div>"
      ],
      "text/plain": [
       "          0         1         2         3         4         5         6  \\\n",
       "0 -0.639420  0.345684 -0.517645 -0.737002  1.313001  1.655732  0.615168   \n",
       "1  0.113610  0.738034  0.584856 -0.248521  0.256616  1.060159 -0.416211   \n",
       "2  2.061305 -0.140605 -0.627104 -0.682908  1.337613  1.261543 -0.651291   \n",
       "3  1.958049 -0.608315 -0.113532  0.167272  0.911100  1.116094 -0.847214   \n",
       "4  1.842436 -0.417598 -0.427428 -0.485898  1.204330  1.439188 -1.056642   \n",
       "\n",
       "          7         8         9        ...              495       496  \\\n",
       "0  0.799339  1.648419  1.314986        ...        -1.322407 -0.717348   \n",
       "1  0.133670  0.188327  0.805241        ...         1.965741  3.525555   \n",
       "2  0.307040 -0.980717  0.335530        ...        -3.018432 -1.841361   \n",
       "3 -0.041357 -0.542335  0.199105        ...        -0.548767 -1.254447   \n",
       "4  0.111603 -0.404313 -0.307075        ...         0.297026 -1.858708   \n",
       "\n",
       "        497       498       499               ids        year  data     lang  \\\n",
       "0 -3.843951 -1.471274  0.945421             zkllk  LDC2017E22  data  eng-usg   \n",
       "1  0.006925  1.676099 -1.116371  lid05e1_lid00562  LDC2017E22  data  eng-usg   \n",
       "2  0.814595 -0.200731  1.180795        fla_0240-a  LDC2017E22  data  ara-apc   \n",
       "3  1.644647  0.555434  1.159140        fla_0240-a  LDC2017E22  data  ara-apc   \n",
       "4  0.209784  0.583939  1.398789        fla_0240-a  LDC2017E22  data  ara-apc   \n",
       "\n",
       "            lang_id  \n",
       "0             zkllk  \n",
       "1  lid05e1_lid00562  \n",
       "2        fla_0240-a  \n",
       "3        fla_0240-a  \n",
       "4        fla_0240-a  \n",
       "\n",
       "[5 rows x 505 columns]"
      ]
     },
     "execution_count": 7,
     "metadata": {},
     "output_type": "execute_result"
    }
   ],
   "source": [
    "train_lre_30sec.head()"
   ]
  },
  {
   "cell_type": "code",
   "execution_count": 8,
   "metadata": {},
   "outputs": [],
   "source": [
    "X_train_30sec = train_lre_30sec.drop(['ids','year','data','lang','lang_id'],axis=1)"
   ]
  },
  {
   "cell_type": "code",
   "execution_count": null,
   "metadata": {},
   "outputs": [],
   "source": []
  },
  {
   "cell_type": "code",
   "execution_count": 9,
   "metadata": {},
   "outputs": [],
   "source": [
    "y_30sec_labels = train_lre_30sec[\"lang\"]"
   ]
  },
  {
   "cell_type": "code",
   "execution_count": 10,
   "metadata": {},
   "outputs": [
    {
     "data": {
      "text/plain": [
       "0    eng-usg\n",
       "1    eng-usg\n",
       "2    ara-apc\n",
       "3    ara-apc\n",
       "4    ara-apc\n",
       "Name: lang, dtype: object"
      ]
     },
     "execution_count": 10,
     "metadata": {},
     "output_type": "execute_result"
    }
   ],
   "source": [
    "y_30sec_labels.head()"
   ]
  },
  {
   "cell_type": "code",
   "execution_count": 11,
   "metadata": {},
   "outputs": [
    {
     "data": {
      "text/plain": [
       "LabelEncoder()"
      ]
     },
     "execution_count": 11,
     "metadata": {},
     "output_type": "execute_result"
    }
   ],
   "source": [
    "le = preprocessing.LabelEncoder()\n",
    "le.fit(y_30sec_labels)"
   ]
  },
  {
   "cell_type": "code",
   "execution_count": 12,
   "metadata": {},
   "outputs": [
    {
     "data": {
      "text/plain": [
       "array(['ara-acm', 'ara-apc', 'ara-ary', 'ara-arz', 'eng-gbr', 'eng-usg',\n",
       "       'por-brz', 'qsl-pol', 'qsl-rus', 'spa-car', 'spa-eur', 'spa-lac',\n",
       "       'zho-cmn', 'zho-nan'], dtype=object)"
      ]
     },
     "execution_count": 12,
     "metadata": {},
     "output_type": "execute_result"
    }
   ],
   "source": [
    "le.classes_"
   ]
  },
  {
   "cell_type": "code",
   "execution_count": 13,
   "metadata": {},
   "outputs": [],
   "source": [
    "y_30sec_labels=le.transform(y_30sec_labels)"
   ]
  },
  {
   "cell_type": "code",
   "execution_count": 14,
   "metadata": {},
   "outputs": [
    {
     "data": {
      "text/plain": [
       "(114276,)"
      ]
     },
     "execution_count": 14,
     "metadata": {},
     "output_type": "execute_result"
    }
   ],
   "source": [
    "y_30sec_labels.shape"
   ]
  },
  {
   "cell_type": "code",
   "execution_count": 15,
   "metadata": {},
   "outputs": [],
   "source": [
    "nb_classes = 14\n",
    "# convert class vectors to binary class matrices\n",
    "Y_train_labels = np_utils.to_categorical(y_30sec_labels, nb_classes)"
   ]
  },
  {
   "cell_type": "code",
   "execution_count": 16,
   "metadata": {},
   "outputs": [
    {
     "data": {
      "text/plain": [
       "(114276, 14)"
      ]
     },
     "execution_count": 16,
     "metadata": {},
     "output_type": "execute_result"
    }
   ],
   "source": [
    "Y_train_labels.shape"
   ]
  },
  {
   "cell_type": "code",
   "execution_count": 17,
   "metadata": {},
   "outputs": [],
   "source": [
    "X_train_10sec = X_train_10sec.values\n",
    "X_train_30sec = X_train_30sec.values"
   ]
  },
  {
   "cell_type": "code",
   "execution_count": null,
   "metadata": {},
   "outputs": [],
   "source": []
  },
  {
   "cell_type": "code",
   "execution_count": 18,
   "metadata": {},
   "outputs": [
    {
     "name": "stdout",
     "output_type": "stream",
     "text": [
      "X_train_10sec shape: (114276, 500)\n",
      "114276 train 10sec\n",
      "114276  train 30sec\n"
     ]
    }
   ],
   "source": [
    "X_train_10sec = X_train_10sec.astype('float32')\n",
    "#X_test = X_test.astype('float32')\n",
    "X_train_30sec = X_train_30sec.astype('float32')\n",
    "\n",
    "#X_train /= 255\n",
    "#X_test /= 255\n",
    "#X_val /= 255\n",
    "\n",
    "print('X_train_10sec shape:', X_train_10sec.shape)\n",
    "print(X_train_10sec.shape[0], 'train 10sec')\n",
    "#print(X_test.shape[0], 'test samples')\n",
    "print(X_train_30sec.shape[0], ' train 30sec')\n"
   ]
  },
  {
   "cell_type": "code",
   "execution_count": null,
   "metadata": {},
   "outputs": [],
   "source": []
  },
  {
   "cell_type": "code",
   "execution_count": null,
   "metadata": {},
   "outputs": [],
   "source": []
  },
  {
   "cell_type": "code",
   "execution_count": 19,
   "metadata": {},
   "outputs": [],
   "source": [
    "#Shuffle the Dataset\n",
    "X_train_10sec_F, X_test_10sec_F,  X_train_30sec_F, X_test_30sec_F = train_test_split(X_train_10sec, X_train_30sec, test_size=0.20, random_state=42)"
   ]
  },
  {
   "cell_type": "code",
   "execution_count": 20,
   "metadata": {},
   "outputs": [],
   "source": [
    "Y_train_labels, Y_test_labels = train_test_split(Y_train_labels, test_size=0.20, random_state=42)"
   ]
  },
  {
   "cell_type": "code",
   "execution_count": 21,
   "metadata": {},
   "outputs": [],
   "source": [
    "y_30sec_labels_train,y_30sec_labels_test = train_test_split(y_30sec_labels,test_size=0.20, random_state=42 )"
   ]
  },
  {
   "cell_type": "code",
   "execution_count": 22,
   "metadata": {},
   "outputs": [
    {
     "data": {
      "text/plain": [
       "(22856, 500)"
      ]
     },
     "execution_count": 22,
     "metadata": {},
     "output_type": "execute_result"
    }
   ],
   "source": [
    "X_test_10sec_F.shape"
   ]
  },
  {
   "cell_type": "code",
   "execution_count": 23,
   "metadata": {},
   "outputs": [
    {
     "data": {
      "text/plain": [
       "(91420, 500)"
      ]
     },
     "execution_count": 23,
     "metadata": {},
     "output_type": "execute_result"
    }
   ],
   "source": [
    "X_train_10sec_F.shape"
   ]
  },
  {
   "cell_type": "code",
   "execution_count": null,
   "metadata": {},
   "outputs": [],
   "source": []
  },
  {
   "cell_type": "code",
   "execution_count": 24,
   "metadata": {},
   "outputs": [],
   "source": [
    "import torch.nn as nn"
   ]
  },
  {
   "cell_type": "raw",
   "metadata": {},
   "source": [
    "class FC_Network(torch.nn.Module):\n",
    "\n",
    "    def __init__(self,):\n",
    "        super(FC_Network, self).__init__()\n",
    "\n",
    "        D_in = D_out = 500        # param['patch_length'] * param['n_channels'] * (param['n_fft'] / 2 + 1)\n",
    "        num_nodes_fnn = 1024\n",
    "        self.layer_1 = torch.nn.Linear(D_in, num_nodes_fnn)\n",
    "        self.bn_1 = torch.nn.BatchNorm1d(num_nodes_fnn)\n",
    "        self.layer_2 = torch.nn.Linear(num_nodes_fnn, num_nodes_fnn)\n",
    "        self.bn_2 = torch.nn.BatchNorm1d(num_nodes_fnn)\n",
    "        self.layer_3 = torch.nn.Linear(num_nodes_fnn, num_nodes_fnn)\n",
    "        self.bn_3 = torch.nn.BatchNorm1d(num_nodes_fnn)\n",
    "        self.layer_4 = torch.nn.Linear(num_nodes_fnn,num_nodes_fnn)\n",
    "        self.bn_4 = torch.nn.BatchNorm1d(num_nodes_fnn)\n",
    "        self.output_layer = torch.nn.Linear(num_nodes_fnn, D_out)\n",
    "        self.relu = torch.nn.ReLU()\n",
    "        self.tanh = torch.nn.Tanh()\n",
    "        self.dropout = torch.nn.Dropout(p=0.25)\n",
    "\n",
    "    def forward(self, x):\n",
    "        out = x\n",
    "        #out = x.view(x.size(0), -1)\n",
    "        out = self.bn_1(self.dropout(self.relu(self.layer_1(out))))\n",
    "        out = self.bn_2(self.dropout(self.relu(self.layer_2(out))))\n",
    "        out = self.bn_3(self.dropout(self.relu(self.layer_3(out))))\n",
    "        out = self.bn_4(self.dropout(self.relu(self.layer_4(out))))\n",
    "        out = (self.output_layer(out))\n",
    "\n",
    "        #out = (self.relu(self.layer_1(out)))\n",
    "        #out = (self.relu(self.layer_2(out)))\n",
    "        #out = (self.relu(self.layer_3(out)))\n",
    "        #out = (self.relu(self.layer_4(out)))\n",
    "        #out = (self.output_layer(out))\n",
    "        #out = out.view(x.size())\n",
    "        return out"
   ]
  },
  {
   "cell_type": "code",
   "execution_count": 25,
   "metadata": {},
   "outputs": [],
   "source": [
    "class FC_Network(torch.nn.Module):\n",
    "\n",
    "    def __init__(self,):\n",
    "        super(FC_Network, self).__init__()\n",
    "\n",
    "        D_in = D_out = 500        # param['patch_length'] * param['n_channels'] * (param['n_fft'] / 2 + 1)\n",
    "        num_nodes_fnn = 1024\n",
    "        self.layer_1 = torch.nn.Linear(D_in, num_nodes_fnn)\n",
    "        self.bn_1 = torch.nn.BatchNorm1d(num_nodes_fnn)\n",
    "        self.layer_2 = torch.nn.Linear(num_nodes_fnn, num_nodes_fnn)\n",
    "        self.bn_2 = torch.nn.BatchNorm1d(num_nodes_fnn)\n",
    "        self.layer_3 = torch.nn.Linear(num_nodes_fnn, num_nodes_fnn)\n",
    "        self.bn_3 = torch.nn.BatchNorm1d(num_nodes_fnn)\n",
    "        self.layer_4 = torch.nn.Linear(num_nodes_fnn,num_nodes_fnn)\n",
    "        self.bn_4 = torch.nn.BatchNorm1d(num_nodes_fnn)\n",
    "        self.output_layer = torch.nn.Linear(num_nodes_fnn, D_out)\n",
    "        self.relu = torch.nn.ReLU()\n",
    "        self.tanh = torch.nn.Tanh()\n",
    "        self.dropout = torch.nn.Dropout(p=0.1)\n",
    "\n",
    "    def forward(self, x):\n",
    "        out = x\n",
    "        #out = x.view(x.size(0), -1)\n",
    "        #out = self.bn_1(self.dropout(self.relu(self.layer_1(out))))\n",
    "        #out = self.bn_2(self.dropout(self.relu(self.layer_2(out))))\n",
    "        #out = self.bn_3(self.dropout(self.relu(self.layer_3(out))))\n",
    "        #out = self.bn_4(self.dropout(self.relu(self.layer_4(out))))\n",
    "        #out = (self.output_layer(out))\n",
    "\n",
    "        out = self.dropout((self.relu(self.bn_1(self.layer_1(out)))))\n",
    "        out = self.dropout((self.relu(self.bn_2(self.layer_2(out)))))\n",
    "        out = self.dropout((self.relu(self.bn_3(self.layer_3(out)))))\n",
    "        out = self.dropout((self.relu(self.bn_4(self.layer_4(out)))))\n",
    "        out = (self.output_layer(out))\n",
    "        #out = out.view(x.size())\n",
    "        return out"
   ]
  },
  {
   "cell_type": "code",
   "execution_count": 26,
   "metadata": {},
   "outputs": [],
   "source": [
    "S_encoder = FC_Network()"
   ]
  },
  {
   "cell_type": "code",
   "execution_count": 27,
   "metadata": {},
   "outputs": [
    {
     "data": {
      "text/plain": [
       "FC_Network(\n",
       "  (layer_1): Linear(in_features=500, out_features=1024)\n",
       "  (bn_1): BatchNorm1d(1024, eps=1e-05, momentum=0.1, affine=True)\n",
       "  (layer_2): Linear(in_features=1024, out_features=1024)\n",
       "  (bn_2): BatchNorm1d(1024, eps=1e-05, momentum=0.1, affine=True)\n",
       "  (layer_3): Linear(in_features=1024, out_features=1024)\n",
       "  (bn_3): BatchNorm1d(1024, eps=1e-05, momentum=0.1, affine=True)\n",
       "  (layer_4): Linear(in_features=1024, out_features=1024)\n",
       "  (bn_4): BatchNorm1d(1024, eps=1e-05, momentum=0.1, affine=True)\n",
       "  (output_layer): Linear(in_features=1024, out_features=500)\n",
       "  (relu): ReLU()\n",
       "  (tanh): Tanh()\n",
       "  (dropout): Dropout(p=0.1)\n",
       ")"
      ]
     },
     "execution_count": 27,
     "metadata": {},
     "output_type": "execute_result"
    }
   ],
   "source": [
    "S_encoder.cuda()"
   ]
  },
  {
   "cell_type": "code",
   "execution_count": 28,
   "metadata": {},
   "outputs": [],
   "source": [
    "#To calculate the no of parameters in a model\n",
    "model_parameters = filter(lambda p: p.requires_grad, S_encoder.parameters())\n",
    "no_params = sum([np.prod(p.size()) for p in model_parameters])"
   ]
  },
  {
   "cell_type": "code",
   "execution_count": 29,
   "metadata": {},
   "outputs": [
    {
     "data": {
      "text/plain": [
       "4182516"
      ]
     },
     "execution_count": 29,
     "metadata": {},
     "output_type": "execute_result"
    }
   ],
   "source": [
    "no_params"
   ]
  },
  {
   "cell_type": "code",
   "execution_count": null,
   "metadata": {},
   "outputs": [],
   "source": []
  },
  {
   "cell_type": "code",
   "execution_count": null,
   "metadata": {},
   "outputs": [],
   "source": []
  },
  {
   "cell_type": "code",
   "execution_count": 30,
   "metadata": {},
   "outputs": [],
   "source": [
    "learning_rate = 0.0002\n",
    "betas = (0.5, 0.999)"
   ]
  },
  {
   "cell_type": "code",
   "execution_count": null,
   "metadata": {},
   "outputs": [],
   "source": []
  },
  {
   "cell_type": "code",
   "execution_count": 31,
   "metadata": {},
   "outputs": [],
   "source": [
    "# Loss function\n",
    "criterion = torch.nn.MSELoss()\n",
    "\n",
    "# Optimizers\n",
    "S_solver = torch.optim.Adam(S_encoder.parameters(), lr=learning_rate, \n",
    "                            betas=betas,weight_decay=1e-5)\n",
    "#T_solver = torch.optim.Adam(T_encoder.parameters(), lr=learning_rate/2, betas=betas)"
   ]
  },
  {
   "cell_type": "code",
   "execution_count": null,
   "metadata": {},
   "outputs": [],
   "source": []
  },
  {
   "cell_type": "code",
   "execution_count": 32,
   "metadata": {},
   "outputs": [
    {
     "data": {
      "text/plain": [
       "114276"
      ]
     },
     "execution_count": 32,
     "metadata": {},
     "output_type": "execute_result"
    }
   ],
   "source": [
    "len(X_train_10sec)"
   ]
  },
  {
   "cell_type": "code",
   "execution_count": 33,
   "metadata": {},
   "outputs": [
    {
     "data": {
      "text/plain": [
       "114276"
      ]
     },
     "execution_count": 33,
     "metadata": {},
     "output_type": "execute_result"
    }
   ],
   "source": [
    "len(X_train_30sec)"
   ]
  },
  {
   "cell_type": "code",
   "execution_count": 34,
   "metadata": {},
   "outputs": [],
   "source": [
    "mb_size = 256\n",
    "batch_size = mb_size"
   ]
  },
  {
   "cell_type": "code",
   "execution_count": 35,
   "metadata": {
    "scrolled": false
   },
   "outputs": [
    {
     "name": "stdout",
     "output_type": "stream",
     "text": [
      "epoch: 0\n",
      "S_loss_train: [ 1.42043781] S_loss_test: [ 1.39404082]\n",
      "epoch: 1\n",
      "S_loss_train: [ 1.3399688] S_loss_test: [ 1.31434476]\n",
      "epoch: 2\n",
      "S_loss_train: [ 1.27971768] S_loss_test: [ 1.22927821]\n",
      "epoch: 3\n",
      "S_loss_train: [ 1.23913729] S_loss_test: [ 1.20228636]\n",
      "epoch: 4\n",
      "S_loss_train: [ 1.21363389] S_loss_test: [ 1.16703796]\n",
      "epoch: 5\n",
      "S_loss_train: [ 1.18996668] S_loss_test: [ 1.13191295]\n",
      "epoch: 6\n",
      "S_loss_train: [ 1.17638791] S_loss_test: [ 1.12979412]\n",
      "epoch: 7\n",
      "S_loss_train: [ 1.16197884] S_loss_test: [ 1.10104203]\n",
      "epoch: 8\n",
      "S_loss_train: [ 1.14979088] S_loss_test: [ 1.11472726]\n",
      "epoch: 9\n",
      "S_loss_train: [ 1.1409148] S_loss_test: [ 1.11125124]\n",
      "epoch: 10\n",
      "S_loss_train: [ 1.12841535] S_loss_test: [ 1.08639908]\n",
      "epoch: 11\n",
      "S_loss_train: [ 1.12580037] S_loss_test: [ 1.0734539]\n",
      "epoch: 12\n",
      "S_loss_train: [ 1.12337875] S_loss_test: [ 1.07821393]\n",
      "epoch: 13\n",
      "S_loss_train: [ 1.11734486] S_loss_test: [ 1.06602597]\n",
      "epoch: 14\n",
      "S_loss_train: [ 1.10942996] S_loss_test: [ 1.03394759]\n",
      "epoch: 15\n",
      "S_loss_train: [ 1.10663068] S_loss_test: [ 1.04897237]\n",
      "epoch: 16\n",
      "S_loss_train: [ 1.10522747] S_loss_test: [ 1.04041886]\n",
      "epoch: 17\n",
      "S_loss_train: [ 1.10122156] S_loss_test: [ 1.0272193]\n",
      "epoch: 18\n",
      "S_loss_train: [ 1.10028148] S_loss_test: [ 1.05289865]\n",
      "epoch: 19\n",
      "S_loss_train: [ 1.09239459] S_loss_test: [ 1.06904912]\n",
      "epoch: 20\n",
      "S_loss_train: [ 1.09178627] S_loss_test: [ 1.04749835]\n",
      "epoch: 21\n",
      "S_loss_train: [ 1.08971393] S_loss_test: [ 1.0331918]\n",
      "epoch: 22\n",
      "S_loss_train: [ 1.08629322] S_loss_test: [ 1.04062808]\n",
      "epoch: 23\n",
      "S_loss_train: [ 1.08046567] S_loss_test: [ 1.02810299]\n",
      "epoch: 24\n",
      "S_loss_train: [ 1.07144129] S_loss_test: [ 1.03130913]\n",
      "epoch: 25\n",
      "S_loss_train: [ 1.07469332] S_loss_test: [ 1.01095796]\n",
      "epoch: 26\n",
      "S_loss_train: [ 1.07438445] S_loss_test: [ 1.00179911]\n",
      "epoch: 27\n",
      "S_loss_train: [ 1.07408953] S_loss_test: [ 1.0152396]\n",
      "epoch: 28\n",
      "S_loss_train: [ 1.07231188] S_loss_test: [ 1.02327824]\n",
      "epoch: 29\n",
      "S_loss_train: [ 1.06681812] S_loss_test: [ 1.02749085]\n",
      "epoch: 30\n",
      "S_loss_train: [ 1.06778073] S_loss_test: [ 1.01443386]\n",
      "epoch: 31\n",
      "S_loss_train: [ 1.05924404] S_loss_test: [ 1.01574159]\n",
      "epoch: 32\n",
      "S_loss_train: [ 1.06641185] S_loss_test: [ 1.01347971]\n",
      "epoch: 33\n",
      "S_loss_train: [ 1.06724095] S_loss_test: [ 1.01745987]\n",
      "epoch: 34\n",
      "S_loss_train: [ 1.06458449] S_loss_test: [ 1.02210808]\n",
      "epoch: 35\n",
      "S_loss_train: [ 1.06323767] S_loss_test: [ 1.01564789]\n",
      "epoch: 36\n",
      "S_loss_train: [ 1.06218243] S_loss_test: [ 1.01049757]\n",
      "epoch: 37\n",
      "S_loss_train: [ 1.06101394] S_loss_test: [ 1.04187143]\n",
      "epoch: 38\n",
      "S_loss_train: [ 1.05617249] S_loss_test: [ 1.01728868]\n",
      "epoch: 39\n",
      "S_loss_train: [ 1.05460966] S_loss_test: [ 0.99321586]\n",
      "epoch: 40\n",
      "S_loss_train: [ 1.05438328] S_loss_test: [ 1.0059042]\n",
      "epoch: 41\n",
      "S_loss_train: [ 1.05186689] S_loss_test: [ 1.00664961]\n",
      "epoch: 42\n",
      "S_loss_train: [ 1.05077434] S_loss_test: [ 1.03849983]\n",
      "epoch: 43\n",
      "S_loss_train: [ 1.05017197] S_loss_test: [ 1.01003134]\n",
      "epoch: 44\n",
      "S_loss_train: [ 1.0483259] S_loss_test: [ 1.02345288]\n",
      "epoch: 45\n",
      "S_loss_train: [ 1.04688096] S_loss_test: [ 1.0086621]\n",
      "epoch: 46\n",
      "S_loss_train: [ 1.04832613] S_loss_test: [ 1.01512849]\n",
      "epoch: 47\n",
      "S_loss_train: [ 1.04340935] S_loss_test: [ 1.00808847]\n",
      "epoch: 48\n",
      "S_loss_train: [ 1.04504573] S_loss_test: [ 1.00709903]\n",
      "epoch: 49\n",
      "S_loss_train: [ 1.04322124] S_loss_test: [ 1.01987123]\n",
      "epoch: 50\n",
      "S_loss_train: [ 1.04571331] S_loss_test: [ 1.00995064]\n",
      "epoch: 51\n",
      "S_loss_train: [ 1.03708684] S_loss_test: [ 1.00774419]\n",
      "epoch: 52\n",
      "S_loss_train: [ 1.04057121] S_loss_test: [ 1.00777519]\n",
      "epoch: 53\n",
      "S_loss_train: [ 1.03810775] S_loss_test: [ 1.000723]\n",
      "epoch: 54\n",
      "S_loss_train: [ 1.0397675] S_loss_test: [ 0.99726087]\n",
      "epoch: 55\n",
      "S_loss_train: [ 1.03545547] S_loss_test: [ 0.98967576]\n",
      "epoch: 56\n",
      "S_loss_train: [ 1.04002333] S_loss_test: [ 1.0224123]\n",
      "epoch: 57\n",
      "S_loss_train: [ 1.03630805] S_loss_test: [ 1.00100148]\n",
      "epoch: 58\n",
      "S_loss_train: [ 1.03545678] S_loss_test: [ 1.00710678]\n",
      "epoch: 59\n",
      "S_loss_train: [ 1.0373441] S_loss_test: [ 0.98547632]\n",
      "epoch: 60\n",
      "S_loss_train: [ 1.0337441] S_loss_test: [ 1.01878405]\n",
      "epoch: 61\n",
      "S_loss_train: [ 1.03306913] S_loss_test: [ 0.99549115]\n",
      "epoch: 62\n",
      "S_loss_train: [ 1.03129745] S_loss_test: [ 1.00331485]\n",
      "epoch: 63\n",
      "S_loss_train: [ 1.0341897] S_loss_test: [ 0.99767566]\n",
      "epoch: 64\n",
      "S_loss_train: [ 1.03009641] S_loss_test: [ 0.99896574]\n",
      "epoch: 65\n",
      "S_loss_train: [ 1.03152275] S_loss_test: [ 0.98853266]\n",
      "epoch: 66\n",
      "S_loss_train: [ 1.02422881] S_loss_test: [ 0.98945868]\n",
      "epoch: 67\n",
      "S_loss_train: [ 1.02619314] S_loss_test: [ 0.97283632]\n",
      "epoch: 68\n",
      "S_loss_train: [ 1.02879608] S_loss_test: [ 0.98640978]\n",
      "epoch: 69\n",
      "S_loss_train: [ 1.02134395] S_loss_test: [ 0.98634881]\n",
      "epoch: 70\n",
      "S_loss_train: [ 1.02385044] S_loss_test: [ 0.99095076]\n",
      "epoch: 71\n",
      "S_loss_train: [ 1.02279222] S_loss_test: [ 1.01799393]\n",
      "epoch: 72\n",
      "S_loss_train: [ 1.01813591] S_loss_test: [ 0.9859609]\n",
      "epoch: 73\n",
      "S_loss_train: [ 1.02306831] S_loss_test: [ 1.02039135]\n",
      "epoch: 74\n",
      "S_loss_train: [ 1.02433765] S_loss_test: [ 0.98684436]\n",
      "epoch: 75\n",
      "S_loss_train: [ 1.02725005] S_loss_test: [ 0.99467403]\n",
      "epoch: 76\n",
      "S_loss_train: [ 1.02318478] S_loss_test: [ 0.98906744]\n",
      "epoch: 77\n",
      "S_loss_train: [ 1.01802599] S_loss_test: [ 0.99270761]\n",
      "epoch: 78\n",
      "S_loss_train: [ 1.0213449] S_loss_test: [ 1.00219309]\n",
      "epoch: 79\n",
      "S_loss_train: [ 1.0234611] S_loss_test: [ 0.98213631]\n",
      "epoch: 80\n",
      "S_loss_train: [ 1.02089715] S_loss_test: [ 0.98310554]\n",
      "epoch: 81\n",
      "S_loss_train: [ 1.02280033] S_loss_test: [ 0.98111153]\n",
      "epoch: 82\n",
      "S_loss_train: [ 1.01854682] S_loss_test: [ 0.97755635]\n",
      "epoch: 83\n",
      "S_loss_train: [ 1.01772904] S_loss_test: [ 1.00509429]\n",
      "epoch: 84\n",
      "S_loss_train: [ 1.02114594] S_loss_test: [ 0.96113801]\n",
      "epoch: 85\n",
      "S_loss_train: [ 1.0148536] S_loss_test: [ 0.99658656]\n",
      "epoch: 86\n",
      "S_loss_train: [ 1.01628852] S_loss_test: [ 0.99560744]\n",
      "epoch: 87\n",
      "S_loss_train: [ 1.02081752] S_loss_test: [ 0.98525435]\n",
      "epoch: 88\n",
      "S_loss_train: [ 1.01503766] S_loss_test: [ 0.98864311]\n",
      "epoch: 89\n",
      "S_loss_train: [ 1.01463115] S_loss_test: [ 0.98511755]\n",
      "epoch: 90\n",
      "S_loss_train: [ 1.01286447] S_loss_test: [ 0.99085528]\n",
      "epoch: 91\n",
      "S_loss_train: [ 1.01247239] S_loss_test: [ 0.99320656]\n",
      "epoch: 92\n",
      "S_loss_train: [ 1.01981688] S_loss_test: [ 0.98140514]\n",
      "epoch: 93\n",
      "S_loss_train: [ 1.01216161] S_loss_test: [ 0.97229248]\n",
      "epoch: 94\n",
      "S_loss_train: [ 1.01536703] S_loss_test: [ 1.00203395]\n",
      "epoch: 95\n",
      "S_loss_train: [ 1.01281869] S_loss_test: [ 0.98412365]\n",
      "epoch: 96\n",
      "S_loss_train: [ 1.01469207] S_loss_test: [ 0.97906947]\n",
      "epoch: 97\n",
      "S_loss_train: [ 1.0082823] S_loss_test: [ 0.98942745]\n",
      "epoch: 98\n",
      "S_loss_train: [ 1.01409483] S_loss_test: [ 0.99398416]\n",
      "epoch: 99\n",
      "S_loss_train: [ 1.01375115] S_loss_test: [ 0.97347438]\n"
     ]
    }
   ],
   "source": [
    "train_epoch = []\n",
    "train_loss_epoch = []\n",
    "test_loss_epoch = []\n",
    "mb_size = 256\n",
    "batch_size = mb_size\n",
    "# Start training\n",
    "for epoch in range(100):\n",
    "    \n",
    "    \n",
    "\n",
    "    print('epoch:',epoch)\n",
    "    # Build mini-batch dataset\n",
    "    \n",
    "\n",
    "    it=0\n",
    "    while it+batch_size < len(X_train_10sec_F) :\n",
    "        \n",
    "\n",
    "        start= it\n",
    "        end= it + batch_size\n",
    "\n",
    "\n",
    "        #z = Variable(torch.randn(mb_size, Z_dim))\n",
    "        X = X_train_10sec_F[start:end]\n",
    "        r = np.random.randint(X_test_30sec_F.shape[0], size=256)\n",
    "        X_test = X_test_10sec_F[r, :]\n",
    "        #X_test = X_test_10sec_F[0:255]\n",
    "\n",
    "        c = X_train_30sec_F[start:end]\n",
    "        c_test = X_test_30sec_F[r, :]\n",
    "        #c_test = X_test_30sec_F[0:255]\n",
    "        \n",
    "        X = Variable(torch.from_numpy(X))\n",
    "        c = Variable(torch.from_numpy(c.astype('float32')))\n",
    "        \n",
    "        X_test = Variable(torch.from_numpy(X_test))\n",
    "        c_test = Variable(torch.from_numpy(c_test.astype('float32')))\n",
    "        \n",
    "        X = X.cuda()\n",
    "        X_test = X_test.cuda()\n",
    "        c = c.cuda()\n",
    "        c_test = c_test.cuda()\n",
    "        \n",
    "        \n",
    "        S_encoder.train()\n",
    "        S_sample = S_encoder(X)\n",
    "        \n",
    "        S_loss_train = criterion(S_sample, c)\n",
    "        \n",
    "        S_loss_train.backward()\n",
    "        S_solver.step()\n",
    "        \n",
    "        S_solver.zero_grad()\n",
    "        \n",
    "        S_encoder.eval()\n",
    "        S_sample_test = S_encoder(X_test)\n",
    "\n",
    "        S_loss_test = criterion(S_sample_test, c_test)\n",
    "        S_solver.zero_grad()\n",
    "        \n",
    "\n",
    "\n",
    "        it+= batch_size\n",
    "    train_loss_epoch.append(S_loss_train.cpu().data.numpy())\n",
    "    test_loss_epoch.append(S_loss_test.cpu().data.numpy())\n",
    "    train_epoch.append(epoch)\n",
    "    print('S_loss_train: {}'.format(S_loss_train.cpu().data.numpy()), \n",
    "          'S_loss_test: {}'.format(S_loss_test.cpu().data.numpy()))\n",
    "           "
   ]
  },
  {
   "cell_type": "code",
   "execution_count": 36,
   "metadata": {},
   "outputs": [],
   "source": [
    "#train_loss_epoch"
   ]
  },
  {
   "cell_type": "code",
   "execution_count": 38,
   "metadata": {},
   "outputs": [
    {
     "data": {
      "image/png": "[encoded data removed]",
      "text/plain": [
       "<matplotlib.figure.Figure at 0x7ff0f42d3048>"
      ]
     },
     "metadata": {},
     "output_type": "display_data"
    }
   ],
   "source": [
    "plt.figure(figsize=(30,15))\n",
    "plt.title('Learning curves for 1024 with L2=1e-5 & dropout=0.1', fontsize=30)\n",
    "plt.xlabel('Epoch', fontsize=30)\n",
    "plt.ylabel('Loss', fontsize=30)\n",
    "plt.xticks(fontsize=20)\n",
    "plt.yticks(fontsize=20)\n",
    "plt.ylim(0, 1.5)\n",
    "\n",
    "plt.plot(train_loss_epoch,label='Training Curve')\n",
    "plt.plot(test_loss_epoch,label='Validation Curve')\n",
    "\n",
    "plt.legend()\n",
    "plt.grid()\n",
    "plt.show()"
   ]
  },
  {
   "cell_type": "code",
   "execution_count": null,
   "metadata": {},
   "outputs": [],
   "source": []
  },
  {
   "cell_type": "code",
   "execution_count": null,
   "metadata": {},
   "outputs": [],
   "source": []
  },
  {
   "cell_type": "code",
   "execution_count": null,
   "metadata": {},
   "outputs": [],
   "source": []
  },
  {
   "cell_type": "code",
   "execution_count": null,
   "metadata": {},
   "outputs": [],
   "source": []
  },
  {
   "cell_type": "code",
   "execution_count": null,
   "metadata": {},
   "outputs": [],
   "source": []
  },
  {
   "cell_type": "code",
   "execution_count": null,
   "metadata": {},
   "outputs": [],
   "source": []
  },
  {
   "cell_type": "code",
   "execution_count": null,
   "metadata": {},
   "outputs": [],
   "source": []
  },
  {
   "cell_type": "code",
   "execution_count": 39,
   "metadata": {},
   "outputs": [],
   "source": [
    "X_train_30sec_gen = Variable(torch.from_numpy(X_train_10sec_F))"
   ]
  },
  {
   "cell_type": "code",
   "execution_count": null,
   "metadata": {},
   "outputs": [],
   "source": []
  },
  {
   "cell_type": "code",
   "execution_count": null,
   "metadata": {},
   "outputs": [],
   "source": []
  },
  {
   "cell_type": "code",
   "execution_count": 40,
   "metadata": {},
   "outputs": [
    {
     "data": {
      "text/plain": [
       "FC_Network(\n",
       "  (layer_1): Linear(in_features=500, out_features=1024)\n",
       "  (bn_1): BatchNorm1d(1024, eps=1e-05, momentum=0.1, affine=True)\n",
       "  (layer_2): Linear(in_features=1024, out_features=1024)\n",
       "  (bn_2): BatchNorm1d(1024, eps=1e-05, momentum=0.1, affine=True)\n",
       "  (layer_3): Linear(in_features=1024, out_features=1024)\n",
       "  (bn_3): BatchNorm1d(1024, eps=1e-05, momentum=0.1, affine=True)\n",
       "  (layer_4): Linear(in_features=1024, out_features=1024)\n",
       "  (bn_4): BatchNorm1d(1024, eps=1e-05, momentum=0.1, affine=True)\n",
       "  (output_layer): Linear(in_features=1024, out_features=500)\n",
       "  (relu): ReLU()\n",
       "  (tanh): Tanh()\n",
       "  (dropout): Dropout(p=0.1)\n",
       ")"
      ]
     },
     "execution_count": 40,
     "metadata": {},
     "output_type": "execute_result"
    }
   ],
   "source": [
    "S_encoder.eval()"
   ]
  },
  {
   "cell_type": "code",
   "execution_count": 41,
   "metadata": {},
   "outputs": [],
   "source": [
    "gen_samples = S_encoder(X_train_30sec_gen.cuda())"
   ]
  },
  {
   "cell_type": "code",
   "execution_count": 42,
   "metadata": {},
   "outputs": [
    {
     "data": {
      "text/plain": [
       "torch.Size([91420, 500])"
      ]
     },
     "execution_count": 42,
     "metadata": {},
     "output_type": "execute_result"
    }
   ],
   "source": [
    "gen_samples.data.shape"
   ]
  },
  {
   "cell_type": "code",
   "execution_count": 43,
   "metadata": {},
   "outputs": [],
   "source": [
    "#Taking the generated iVectors we will try to check the acc by MLP"
   ]
  },
  {
   "cell_type": "code",
   "execution_count": 44,
   "metadata": {},
   "outputs": [],
   "source": [
    "train_X_gen = gen_samples.cpu().data.numpy()"
   ]
  },
  {
   "cell_type": "code",
   "execution_count": 45,
   "metadata": {},
   "outputs": [
    {
     "data": {
      "text/plain": [
       "numpy.ndarray"
      ]
     },
     "execution_count": 45,
     "metadata": {},
     "output_type": "execute_result"
    }
   ],
   "source": [
    "type(train_X_gen)"
   ]
  },
  {
   "cell_type": "code",
   "execution_count": 46,
   "metadata": {},
   "outputs": [],
   "source": [
    "\n",
    "X_train = pd.DataFrame(X_train_10sec)\n",
    "#Y_train = pd.DataFrame(Y_train)\n"
   ]
  },
  {
   "cell_type": "code",
   "execution_count": null,
   "metadata": {},
   "outputs": [],
   "source": []
  },
  {
   "cell_type": "code",
   "execution_count": 47,
   "metadata": {},
   "outputs": [],
   "source": [
    "val_lre = pd.read_csv('/home/satishk/GAN_lre/gan_csv/dev_feat_BNF_h5_05Jan_10sec.csv')\n"
   ]
  },
  {
   "cell_type": "code",
   "execution_count": 48,
   "metadata": {},
   "outputs": [
    {
     "data": {
      "text/html": [
       "<div>\n",
       "<style scoped>\n",
       "    .dataframe tbody tr th:only-of-type {\n",
       "        vertical-align: middle;\n",
       "    }\n",
       "\n",
       "    .dataframe tbody tr th {\n",
       "        vertical-align: top;\n",
       "    }\n",
       "\n",
       "    .dataframe thead th {\n",
       "        text-align: right;\n",
       "    }\n",
       "</style>\n",
       "<table border=\"1\" class=\"dataframe\">\n",
       "  <thead>\n",
       "    <tr style=\"text-align: right;\">\n",
       "      <th></th>\n",
       "      <th>0</th>\n",
       "      <th>1</th>\n",
       "      <th>2</th>\n",
       "      <th>3</th>\n",
       "      <th>4</th>\n",
       "      <th>5</th>\n",
       "      <th>6</th>\n",
       "      <th>7</th>\n",
       "      <th>8</th>\n",
       "      <th>9</th>\n",
       "      <th>...</th>\n",
       "      <th>495</th>\n",
       "      <th>496</th>\n",
       "      <th>497</th>\n",
       "      <th>498</th>\n",
       "      <th>499</th>\n",
       "      <th>uttid</th>\n",
       "      <th>language_code</th>\n",
       "      <th>data_source</th>\n",
       "      <th>speech_duration</th>\n",
       "      <th>segmentid1</th>\n",
       "    </tr>\n",
       "  </thead>\n",
       "  <tbody>\n",
       "    <tr>\n",
       "      <th>0</th>\n",
       "      <td>-0.195398</td>\n",
       "      <td>-0.390386</td>\n",
       "      <td>-0.624269</td>\n",
       "      <td>1.535433</td>\n",
       "      <td>0.388117</td>\n",
       "      <td>1.727448</td>\n",
       "      <td>0.463109</td>\n",
       "      <td>2.059767</td>\n",
       "      <td>0.165206</td>\n",
       "      <td>0.619942</td>\n",
       "      <td>...</td>\n",
       "      <td>0.616712</td>\n",
       "      <td>-2.654504</td>\n",
       "      <td>0.482690</td>\n",
       "      <td>0.401316</td>\n",
       "      <td>-1.639292</td>\n",
       "      <td>lre17_zpuysjrb</td>\n",
       "      <td>zho-nan</td>\n",
       "      <td>mls14</td>\n",
       "      <td>10</td>\n",
       "      <td>lre17_zpuysjrb</td>\n",
       "    </tr>\n",
       "    <tr>\n",
       "      <th>1</th>\n",
       "      <td>-0.629280</td>\n",
       "      <td>-0.063858</td>\n",
       "      <td>0.397267</td>\n",
       "      <td>-0.205915</td>\n",
       "      <td>0.102730</td>\n",
       "      <td>2.412635</td>\n",
       "      <td>1.007062</td>\n",
       "      <td>1.123458</td>\n",
       "      <td>2.397956</td>\n",
       "      <td>1.009312</td>\n",
       "      <td>...</td>\n",
       "      <td>-0.626052</td>\n",
       "      <td>1.390082</td>\n",
       "      <td>0.393644</td>\n",
       "      <td>1.559527</td>\n",
       "      <td>-1.124127</td>\n",
       "      <td>lre17_ljfobgxa</td>\n",
       "      <td>eng-usg</td>\n",
       "      <td>mls14</td>\n",
       "      <td>10</td>\n",
       "      <td>lre17_ljfobgxa</td>\n",
       "    </tr>\n",
       "    <tr>\n",
       "      <th>2</th>\n",
       "      <td>0.896452</td>\n",
       "      <td>0.746032</td>\n",
       "      <td>-0.547790</td>\n",
       "      <td>1.955862</td>\n",
       "      <td>-0.198707</td>\n",
       "      <td>1.430271</td>\n",
       "      <td>0.535072</td>\n",
       "      <td>1.199097</td>\n",
       "      <td>2.253311</td>\n",
       "      <td>0.050932</td>\n",
       "      <td>...</td>\n",
       "      <td>-1.859781</td>\n",
       "      <td>-0.889882</td>\n",
       "      <td>-1.823634</td>\n",
       "      <td>-1.507139</td>\n",
       "      <td>-0.811382</td>\n",
       "      <td>lre17_guhfzbxl</td>\n",
       "      <td>zho-cmn</td>\n",
       "      <td>mls14</td>\n",
       "      <td>10</td>\n",
       "      <td>lre17_guhfzbxl</td>\n",
       "    </tr>\n",
       "    <tr>\n",
       "      <th>3</th>\n",
       "      <td>0.323422</td>\n",
       "      <td>0.577406</td>\n",
       "      <td>1.585811</td>\n",
       "      <td>-0.071801</td>\n",
       "      <td>-0.398092</td>\n",
       "      <td>1.788636</td>\n",
       "      <td>1.529049</td>\n",
       "      <td>1.042687</td>\n",
       "      <td>-0.557043</td>\n",
       "      <td>1.131491</td>\n",
       "      <td>...</td>\n",
       "      <td>0.519515</td>\n",
       "      <td>1.404486</td>\n",
       "      <td>-0.052511</td>\n",
       "      <td>0.367571</td>\n",
       "      <td>1.274410</td>\n",
       "      <td>lre17_tbywroez</td>\n",
       "      <td>eng-usg</td>\n",
       "      <td>mls14</td>\n",
       "      <td>10</td>\n",
       "      <td>lre17_tbywroez</td>\n",
       "    </tr>\n",
       "    <tr>\n",
       "      <th>4</th>\n",
       "      <td>1.384084</td>\n",
       "      <td>0.814175</td>\n",
       "      <td>1.261965</td>\n",
       "      <td>1.078853</td>\n",
       "      <td>-1.601087</td>\n",
       "      <td>0.756707</td>\n",
       "      <td>1.157398</td>\n",
       "      <td>0.146018</td>\n",
       "      <td>-0.566307</td>\n",
       "      <td>-0.446297</td>\n",
       "      <td>...</td>\n",
       "      <td>-0.850699</td>\n",
       "      <td>0.355410</td>\n",
       "      <td>-1.455804</td>\n",
       "      <td>2.629600</td>\n",
       "      <td>-0.044268</td>\n",
       "      <td>lre17_phsyjibn</td>\n",
       "      <td>spa-lac</td>\n",
       "      <td>mls14</td>\n",
       "      <td>10</td>\n",
       "      <td>lre17_phsyjibn</td>\n",
       "    </tr>\n",
       "  </tbody>\n",
       "</table>\n",
       "<p>5 rows × 505 columns</p>\n",
       "</div>"
      ],
      "text/plain": [
       "          0         1         2         3         4         5         6  \\\n",
       "0 -0.195398 -0.390386 -0.624269  1.535433  0.388117  1.727448  0.463109   \n",
       "1 -0.629280 -0.063858  0.397267 -0.205915  0.102730  2.412635  1.007062   \n",
       "2  0.896452  0.746032 -0.547790  1.955862 -0.198707  1.430271  0.535072   \n",
       "3  0.323422  0.577406  1.585811 -0.071801 -0.398092  1.788636  1.529049   \n",
       "4  1.384084  0.814175  1.261965  1.078853 -1.601087  0.756707  1.157398   \n",
       "\n",
       "          7         8         9       ...             495       496       497  \\\n",
       "0  2.059767  0.165206  0.619942       ...        0.616712 -2.654504  0.482690   \n",
       "1  1.123458  2.397956  1.009312       ...       -0.626052  1.390082  0.393644   \n",
       "2  1.199097  2.253311  0.050932       ...       -1.859781 -0.889882 -1.823634   \n",
       "3  1.042687 -0.557043  1.131491       ...        0.519515  1.404486 -0.052511   \n",
       "4  0.146018 -0.566307 -0.446297       ...       -0.850699  0.355410 -1.455804   \n",
       "\n",
       "        498       499           uttid  language_code  data_source  \\\n",
       "0  0.401316 -1.639292  lre17_zpuysjrb        zho-nan        mls14   \n",
       "1  1.559527 -1.124127  lre17_ljfobgxa        eng-usg        mls14   \n",
       "2 -1.507139 -0.811382  lre17_guhfzbxl        zho-cmn        mls14   \n",
       "3  0.367571  1.274410  lre17_tbywroez        eng-usg        mls14   \n",
       "4  2.629600 -0.044268  lre17_phsyjibn        spa-lac        mls14   \n",
       "\n",
       "   speech_duration      segmentid1  \n",
       "0               10  lre17_zpuysjrb  \n",
       "1               10  lre17_ljfobgxa  \n",
       "2               10  lre17_guhfzbxl  \n",
       "3               10  lre17_tbywroez  \n",
       "4               10  lre17_phsyjibn  \n",
       "\n",
       "[5 rows x 505 columns]"
      ]
     },
     "execution_count": 48,
     "metadata": {},
     "output_type": "execute_result"
    }
   ],
   "source": [
    "val_lre.head()"
   ]
  },
  {
   "cell_type": "raw",
   "metadata": {},
   "source": [
    "eval_lre = pd.read_csv('/home/satishk/GAN_lre/gan_csv/eval_feat_BNF_h5_03Jan.csv')\n"
   ]
  },
  {
   "cell_type": "code",
   "execution_count": 49,
   "metadata": {},
   "outputs": [],
   "source": [
    "X_val = val_lre.drop([\"language_code\",\"uttid\",\"segmentid1\",\"data_source\",\"speech_duration\"],axis=1)\n",
    "y_val = val_lre[\"language_code\"]\n",
    "y_val_segmentid = val_lre[\"segmentid1\"]"
   ]
  },
  {
   "cell_type": "raw",
   "metadata": {},
   "source": [
    "X_eval = eval_lre.drop([\"language_code\",\"uttid\",\"segmentid1\",\"data_source\",\"speech_duration\"],axis=1)\n",
    "y_eval = eval_lre[\"language_code\"]\n",
    "y_eval_segmentid = eval_lre[\"segmentid1\"]"
   ]
  },
  {
   "cell_type": "code",
   "execution_count": 50,
   "metadata": {},
   "outputs": [],
   "source": [
    "X_val = X_val.values\n",
    "#X_eval = X_eval.values"
   ]
  },
  {
   "cell_type": "code",
   "execution_count": 51,
   "metadata": {},
   "outputs": [],
   "source": [
    "#X_eval.shape"
   ]
  },
  {
   "cell_type": "code",
   "execution_count": 52,
   "metadata": {},
   "outputs": [
    {
     "data": {
      "text/plain": [
       "LabelEncoder()"
      ]
     },
     "execution_count": 52,
     "metadata": {},
     "output_type": "execute_result"
    }
   ],
   "source": [
    "le = preprocessing.LabelEncoder()\n",
    "le.fit(y_val)"
   ]
  },
  {
   "cell_type": "code",
   "execution_count": 53,
   "metadata": {},
   "outputs": [
    {
     "data": {
      "text/plain": [
       "array(['ara-acm', 'ara-apc', 'ara-ary', 'ara-arz', 'eng-gbr', 'eng-usg',\n",
       "       'por-brz', 'qsl-pol', 'qsl-rus', 'spa-car', 'spa-eur', 'spa-lac',\n",
       "       'zho-cmn', 'zho-nan'], dtype=object)"
      ]
     },
     "execution_count": 53,
     "metadata": {},
     "output_type": "execute_result"
    }
   ],
   "source": [
    "le.classes_"
   ]
  },
  {
   "cell_type": "code",
   "execution_count": 54,
   "metadata": {},
   "outputs": [],
   "source": [
    "y_val_labels = le.transform(y_val)"
   ]
  },
  {
   "cell_type": "code",
   "execution_count": 55,
   "metadata": {},
   "outputs": [
    {
     "data": {
      "text/plain": [
       "array([13,  5, 12,  5, 11, 11, 11, 12, 10,  0, 11,  0,  2, 13, 12,  6, 13,\n",
       "        4,  6,  0, 11,  2,  4,  3, 10])"
      ]
     },
     "execution_count": 55,
     "metadata": {},
     "output_type": "execute_result"
    }
   ],
   "source": [
    "y_val_labels[0:25]"
   ]
  },
  {
   "cell_type": "raw",
   "metadata": {},
   "source": [
    "le = preprocessing.LabelEncoder()\n",
    "le.fit(y_eval)"
   ]
  },
  {
   "cell_type": "raw",
   "metadata": {},
   "source": [
    "le.classes_"
   ]
  },
  {
   "cell_type": "raw",
   "metadata": {},
   "source": [
    "y_eval_labels = le.transform(y_eval)"
   ]
  },
  {
   "cell_type": "raw",
   "metadata": {},
   "source": [
    "y_eval_labels[0:10]"
   ]
  },
  {
   "cell_type": "code",
   "execution_count": 56,
   "metadata": {},
   "outputs": [],
   "source": [
    "# convert class vectors to binary class matrices\n",
    "Y_val = np_utils.to_categorical(y_val_labels, nb_classes)\n",
    "#Y_eval = np_utils.to_categorical(y_eval_labels, nb_classes)"
   ]
  },
  {
   "cell_type": "code",
   "execution_count": 57,
   "metadata": {},
   "outputs": [
    {
     "data": {
      "text/plain": [
       "array([[ 0.,  0.,  0., ...,  0.,  0.,  1.],\n",
       "       [ 0.,  0.,  0., ...,  0.,  0.,  0.],\n",
       "       [ 0.,  0.,  0., ...,  0.,  1.,  0.],\n",
       "       ..., \n",
       "       [ 0.,  0.,  0., ...,  0.,  0.,  0.],\n",
       "       [ 0.,  0.,  0., ...,  0.,  0.,  0.],\n",
       "       [ 1.,  0.,  0., ...,  0.,  0.,  0.]])"
      ]
     },
     "execution_count": 57,
     "metadata": {},
     "output_type": "execute_result"
    }
   ],
   "source": [
    "Y_val"
   ]
  },
  {
   "cell_type": "code",
   "execution_count": 58,
   "metadata": {},
   "outputs": [],
   "source": [
    "X_val = X_val.astype('float32')\n"
   ]
  },
  {
   "cell_type": "code",
   "execution_count": 59,
   "metadata": {},
   "outputs": [],
   "source": [
    "\n",
    "X_val_10sec_gen = Variable(torch.from_numpy(X_val))"
   ]
  },
  {
   "cell_type": "code",
   "execution_count": 60,
   "metadata": {},
   "outputs": [],
   "source": [
    "gen_samples_val = S_encoder(X_val_10sec_gen.cuda())"
   ]
  },
  {
   "cell_type": "code",
   "execution_count": 61,
   "metadata": {},
   "outputs": [
    {
     "data": {
      "text/plain": [
       "torch.Size([928, 500])"
      ]
     },
     "execution_count": 61,
     "metadata": {},
     "output_type": "execute_result"
    }
   ],
   "source": [
    "gen_samples_val.data.shape"
   ]
  },
  {
   "cell_type": "code",
   "execution_count": 62,
   "metadata": {},
   "outputs": [],
   "source": [
    "X_val_gen = gen_samples_val.cpu().data.numpy()"
   ]
  },
  {
   "cell_type": "code",
   "execution_count": null,
   "metadata": {},
   "outputs": [],
   "source": []
  },
  {
   "cell_type": "code",
   "execution_count": null,
   "metadata": {},
   "outputs": [],
   "source": []
  },
  {
   "cell_type": "code",
   "execution_count": null,
   "metadata": {},
   "outputs": [],
   "source": []
  },
  {
   "cell_type": "code",
   "execution_count": 63,
   "metadata": {},
   "outputs": [],
   "source": [
    "from sklearn.multiclass import OneVsRestClassifier\n",
    "from sklearn.svm import SVC\n",
    "from sklearn import metrics"
   ]
  },
  {
   "cell_type": "raw",
   "metadata": {},
   "source": [
    "classif = SVC(C=1, kernel='rbf', gamma='auto', coef0=1, shrinking=True, random_state=0,\n",
    "                      probability=False, tol=1e-3, cache_size=1e4, class_weight='balanced')\n",
    "classif.fit(train_X_gen, y_30sec_labels_train)"
   ]
  },
  {
   "cell_type": "code",
   "execution_count": 70,
   "metadata": {},
   "outputs": [
    {
     "data": {
      "text/plain": [
       "SVC(C=1, cache_size=10000.0, class_weight='balanced', coef0=1,\n",
       "  decision_function_shape='ovr', degree=3, gamma='auto', kernel='rbf',\n",
       "  max_iter=-1, probability=False, random_state=0, shrinking=True,\n",
       "  tol=0.001, verbose=False)"
      ]
     },
     "execution_count": 70,
     "metadata": {},
     "output_type": "execute_result"
    }
   ],
   "source": [
    "classif = SVC(C=1, kernel='rbf', gamma='auto', coef0=1, shrinking=True, random_state=0,\n",
    "                      probability=False, tol=1e-3, cache_size=1e4, class_weight='balanced')\n",
    "classif.fit(X_train_10sec_F, y_30sec_labels_train)"
   ]
  },
  {
   "cell_type": "code",
   "execution_count": 71,
   "metadata": {},
   "outputs": [
    {
     "data": {
      "text/plain": [
       "array([ 0,  1,  2,  3,  4,  5,  6,  7,  8,  9, 10, 11, 12, 13])"
      ]
     },
     "execution_count": 71,
     "metadata": {},
     "output_type": "execute_result"
    }
   ],
   "source": [
    "classif.classes_"
   ]
  },
  {
   "cell_type": "code",
   "execution_count": 72,
   "metadata": {},
   "outputs": [],
   "source": [
    "acc = metrics.accuracy_score(y_val_labels, classif.predict(X_val))"
   ]
  },
  {
   "cell_type": "code",
   "execution_count": 73,
   "metadata": {},
   "outputs": [
    {
     "data": {
      "text/plain": [
       "0.63038793103448276"
      ]
     },
     "execution_count": 73,
     "metadata": {},
     "output_type": "execute_result"
    }
   ],
   "source": [
    "acc"
   ]
  },
  {
   "cell_type": "code",
   "execution_count": null,
   "metadata": {},
   "outputs": [],
   "source": []
  },
  {
   "cell_type": "code",
   "execution_count": null,
   "metadata": {},
   "outputs": [],
   "source": []
  }
 ],
 "metadata": {
  "kernelspec": {
   "display_name": "Python 3",
   "language": "python",
   "name": "python3"
  },
  "language_info": {
   "codemirror_mode": {
    "name": "ipython",
    "version": 3
   },
   "file_extension": ".py",
   "mimetype": "text/x-python",
   "name": "python",
   "nbconvert_exporter": "python",
   "pygments_lexer": "ipython3",
   "version": "3.6.3"
  }
 },
 "nbformat": 4,
 "nbformat_minor": 2
}
