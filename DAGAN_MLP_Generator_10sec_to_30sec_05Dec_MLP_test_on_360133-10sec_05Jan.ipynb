{
 "cells": [
  {
   "cell_type": "code",
   "execution_count": 1,
   "metadata": {},
   "outputs": [
    {
     "name": "stderr",
     "output_type": "stream",
     "text": [
      "Using TensorFlow backend.\n"
     ]
    }
   ],
   "source": [
    "import torch\n",
    "import torchvision\n",
    "import torch.nn as nn\n",
    "import torch.nn.functional as F\n",
    "from torchvision import datasets \n",
    "from torchvision import transforms\n",
    "from torchvision.utils import save_image\n",
    "from torch.autograd import Variable\n",
    "\n",
    "\n",
    "import pandas as pd \n",
    "import numpy as np\n",
    "import os \n",
    "import glob\n",
    "np.random.seed(1337)  # for reproducibility\n",
    "from sklearn import preprocessing\n",
    "from sklearn.model_selection import train_test_split\n",
    "import torch.optim as optim\n",
    "import torch\n",
    "import torch.nn.functional as nn\n",
    "import torch.autograd as autograd\n",
    "import torch.optim as optim\n",
    "import numpy as np\n",
    "#import matplotlib.pyplot as plt\n",
    "#import matplotlib.gridspec as gridspec\n",
    "import os\n",
    "from torch.autograd import Variable\n",
    "from sklearn.utils import shuffle\n",
    "import random\n",
    "from keras.datasets import mnist\n",
    "from keras.callbacks import EarlyStopping\n",
    "from keras.callbacks import ModelCheckpoint\n",
    "from keras.models import Sequential\n",
    "from keras.layers import Dense, Dropout, Activation, Flatten\n",
    "from keras.layers import Convolution2D, MaxPooling2D\n",
    "from keras.utils import np_utils\n",
    "from keras import backend as K\n",
    "from keras import optimizers"
   ]
  },
  {
   "cell_type": "code",
   "execution_count": 2,
   "metadata": {},
   "outputs": [],
   "source": [
    "train_lre_10sec = pd.read_csv('/home/satishk/GAN_lre/gan_csv/GAN_10sec_ivectors_X_train_04Jan_labels_ids_combined_extraction.csv')\n",
    "#train_afds"
   ]
  },
  {
   "cell_type": "code",
   "execution_count": 3,
   "metadata": {},
   "outputs": [
    {
     "data": {
      "text/html": [
       "<div>\n",
       "<style scoped>\n",
       "    .dataframe tbody tr th:only-of-type {\n",
       "        vertical-align: middle;\n",
       "    }\n",
       "\n",
       "    .dataframe tbody tr th {\n",
       "        vertical-align: top;\n",
       "    }\n",
       "\n",
       "    .dataframe thead th {\n",
       "        text-align: right;\n",
       "    }\n",
       "</style>\n",
       "<table border=\"1\" class=\"dataframe\">\n",
       "  <thead>\n",
       "    <tr style=\"text-align: right;\">\n",
       "      <th></th>\n",
       "      <th>0</th>\n",
       "      <th>1</th>\n",
       "      <th>2</th>\n",
       "      <th>3</th>\n",
       "      <th>4</th>\n",
       "      <th>5</th>\n",
       "      <th>6</th>\n",
       "      <th>7</th>\n",
       "      <th>8</th>\n",
       "      <th>9</th>\n",
       "      <th>...</th>\n",
       "      <th>495</th>\n",
       "      <th>496</th>\n",
       "      <th>497</th>\n",
       "      <th>498</th>\n",
       "      <th>499</th>\n",
       "      <th>ids</th>\n",
       "      <th>year</th>\n",
       "      <th>data</th>\n",
       "      <th>lang</th>\n",
       "      <th>lang_id</th>\n",
       "    </tr>\n",
       "  </thead>\n",
       "  <tbody>\n",
       "    <tr>\n",
       "      <th>0</th>\n",
       "      <td>-0.314181</td>\n",
       "      <td>0.671920</td>\n",
       "      <td>-0.188068</td>\n",
       "      <td>-0.910752</td>\n",
       "      <td>1.050361</td>\n",
       "      <td>1.966829</td>\n",
       "      <td>0.292740</td>\n",
       "      <td>1.084547</td>\n",
       "      <td>1.287480</td>\n",
       "      <td>1.745248</td>\n",
       "      <td>...</td>\n",
       "      <td>-0.564911</td>\n",
       "      <td>-1.854116</td>\n",
       "      <td>-3.185948</td>\n",
       "      <td>-2.177057</td>\n",
       "      <td>0.301166</td>\n",
       "      <td>zkllk</td>\n",
       "      <td>LDC2017E22</td>\n",
       "      <td>data</td>\n",
       "      <td>eng-usg</td>\n",
       "      <td>zkllk</td>\n",
       "    </tr>\n",
       "    <tr>\n",
       "      <th>1</th>\n",
       "      <td>0.503734</td>\n",
       "      <td>0.247072</td>\n",
       "      <td>0.451463</td>\n",
       "      <td>0.500546</td>\n",
       "      <td>-0.716668</td>\n",
       "      <td>1.337575</td>\n",
       "      <td>-1.027019</td>\n",
       "      <td>0.773720</td>\n",
       "      <td>0.910362</td>\n",
       "      <td>1.728001</td>\n",
       "      <td>...</td>\n",
       "      <td>0.886613</td>\n",
       "      <td>6.766799</td>\n",
       "      <td>-1.040380</td>\n",
       "      <td>-0.751316</td>\n",
       "      <td>-1.487938</td>\n",
       "      <td>lid05e1_lid00562</td>\n",
       "      <td>LDC2017E22</td>\n",
       "      <td>data</td>\n",
       "      <td>eng-usg</td>\n",
       "      <td>lid05e1_lid00562</td>\n",
       "    </tr>\n",
       "    <tr>\n",
       "      <th>2</th>\n",
       "      <td>2.141677</td>\n",
       "      <td>-0.044947</td>\n",
       "      <td>-0.595182</td>\n",
       "      <td>-0.595953</td>\n",
       "      <td>0.889385</td>\n",
       "      <td>1.440080</td>\n",
       "      <td>-1.208933</td>\n",
       "      <td>0.129059</td>\n",
       "      <td>-0.930121</td>\n",
       "      <td>0.401362</td>\n",
       "      <td>...</td>\n",
       "      <td>-2.836253</td>\n",
       "      <td>-0.323334</td>\n",
       "      <td>0.055760</td>\n",
       "      <td>0.481039</td>\n",
       "      <td>0.395826</td>\n",
       "      <td>fla_0240-a</td>\n",
       "      <td>LDC2017E22</td>\n",
       "      <td>data</td>\n",
       "      <td>ara-apc</td>\n",
       "      <td>fla_0240-a</td>\n",
       "    </tr>\n",
       "    <tr>\n",
       "      <th>3</th>\n",
       "      <td>1.708722</td>\n",
       "      <td>-0.663542</td>\n",
       "      <td>0.031733</td>\n",
       "      <td>0.358099</td>\n",
       "      <td>0.594610</td>\n",
       "      <td>1.023025</td>\n",
       "      <td>-1.450633</td>\n",
       "      <td>0.252159</td>\n",
       "      <td>-0.381832</td>\n",
       "      <td>0.087693</td>\n",
       "      <td>...</td>\n",
       "      <td>1.384728</td>\n",
       "      <td>0.426863</td>\n",
       "      <td>0.482178</td>\n",
       "      <td>1.655650</td>\n",
       "      <td>-1.029032</td>\n",
       "      <td>fla_0240-a</td>\n",
       "      <td>LDC2017E22</td>\n",
       "      <td>data</td>\n",
       "      <td>ara-apc</td>\n",
       "      <td>fla_0240-a</td>\n",
       "    </tr>\n",
       "    <tr>\n",
       "      <th>4</th>\n",
       "      <td>1.873292</td>\n",
       "      <td>-0.272493</td>\n",
       "      <td>-0.305948</td>\n",
       "      <td>-0.250047</td>\n",
       "      <td>2.093700</td>\n",
       "      <td>1.741634</td>\n",
       "      <td>-0.750633</td>\n",
       "      <td>-0.651771</td>\n",
       "      <td>-0.793287</td>\n",
       "      <td>-0.053527</td>\n",
       "      <td>...</td>\n",
       "      <td>0.188493</td>\n",
       "      <td>-0.888710</td>\n",
       "      <td>1.792536</td>\n",
       "      <td>-0.628455</td>\n",
       "      <td>1.912622</td>\n",
       "      <td>fla_0240-a</td>\n",
       "      <td>LDC2017E22</td>\n",
       "      <td>data</td>\n",
       "      <td>ara-apc</td>\n",
       "      <td>fla_0240-a</td>\n",
       "    </tr>\n",
       "  </tbody>\n",
       "</table>\n",
       "<p>5 rows × 505 columns</p>\n",
       "</div>"
      ],
      "text/plain": [
       "          0         1         2         3         4         5         6  \\\n",
       "0 -0.314181  0.671920 -0.188068 -0.910752  1.050361  1.966829  0.292740   \n",
       "1  0.503734  0.247072  0.451463  0.500546 -0.716668  1.337575 -1.027019   \n",
       "2  2.141677 -0.044947 -0.595182 -0.595953  0.889385  1.440080 -1.208933   \n",
       "3  1.708722 -0.663542  0.031733  0.358099  0.594610  1.023025 -1.450633   \n",
       "4  1.873292 -0.272493 -0.305948 -0.250047  2.093700  1.741634 -0.750633   \n",
       "\n",
       "          7         8         9        ...              495       496  \\\n",
       "0  1.084547  1.287480  1.745248        ...        -0.564911 -1.854116   \n",
       "1  0.773720  0.910362  1.728001        ...         0.886613  6.766799   \n",
       "2  0.129059 -0.930121  0.401362        ...        -2.836253 -0.323334   \n",
       "3  0.252159 -0.381832  0.087693        ...         1.384728  0.426863   \n",
       "4 -0.651771 -0.793287 -0.053527        ...         0.188493 -0.888710   \n",
       "\n",
       "        497       498       499               ids        year  data     lang  \\\n",
       "0 -3.185948 -2.177057  0.301166             zkllk  LDC2017E22  data  eng-usg   \n",
       "1 -1.040380 -0.751316 -1.487938  lid05e1_lid00562  LDC2017E22  data  eng-usg   \n",
       "2  0.055760  0.481039  0.395826        fla_0240-a  LDC2017E22  data  ara-apc   \n",
       "3  0.482178  1.655650 -1.029032        fla_0240-a  LDC2017E22  data  ara-apc   \n",
       "4  1.792536 -0.628455  1.912622        fla_0240-a  LDC2017E22  data  ara-apc   \n",
       "\n",
       "            lang_id  \n",
       "0             zkllk  \n",
       "1  lid05e1_lid00562  \n",
       "2        fla_0240-a  \n",
       "3        fla_0240-a  \n",
       "4        fla_0240-a  \n",
       "\n",
       "[5 rows x 505 columns]"
      ]
     },
     "execution_count": 3,
     "metadata": {},
     "output_type": "execute_result"
    }
   ],
   "source": [
    "train_lre_10sec.head()"
   ]
  },
  {
   "cell_type": "code",
   "execution_count": 4,
   "metadata": {},
   "outputs": [],
   "source": [
    "X_train_10sec = train_lre_10sec.drop(['ids','year','data','lang','lang_id'],axis=1)"
   ]
  },
  {
   "cell_type": "code",
   "execution_count": null,
   "metadata": {},
   "outputs": [],
   "source": []
  },
  {
   "cell_type": "code",
   "execution_count": 5,
   "metadata": {},
   "outputs": [],
   "source": [
    "#train_lre = train_lre.iloc[1000:2000]"
   ]
  },
  {
   "cell_type": "code",
   "execution_count": 6,
   "metadata": {},
   "outputs": [],
   "source": [
    "train_lre_30sec = pd.read_csv('/home/satishk/GAN_lre/gan_csv/GAN_30sec_ivectors_X_train_04Jan_labels_ids_combined_extraction.csv')\n"
   ]
  },
  {
   "cell_type": "code",
   "execution_count": 73,
   "metadata": {},
   "outputs": [
    {
     "data": {
      "text/html": [
       "<div>\n",
       "<style scoped>\n",
       "    .dataframe tbody tr th:only-of-type {\n",
       "        vertical-align: middle;\n",
       "    }\n",
       "\n",
       "    .dataframe tbody tr th {\n",
       "        vertical-align: top;\n",
       "    }\n",
       "\n",
       "    .dataframe thead th {\n",
       "        text-align: right;\n",
       "    }\n",
       "</style>\n",
       "<table border=\"1\" class=\"dataframe\">\n",
       "  <thead>\n",
       "    <tr style=\"text-align: right;\">\n",
       "      <th></th>\n",
       "      <th>0</th>\n",
       "      <th>1</th>\n",
       "      <th>2</th>\n",
       "      <th>3</th>\n",
       "      <th>4</th>\n",
       "      <th>5</th>\n",
       "      <th>6</th>\n",
       "      <th>7</th>\n",
       "      <th>8</th>\n",
       "      <th>9</th>\n",
       "      <th>...</th>\n",
       "      <th>495</th>\n",
       "      <th>496</th>\n",
       "      <th>497</th>\n",
       "      <th>498</th>\n",
       "      <th>499</th>\n",
       "      <th>ids</th>\n",
       "      <th>year</th>\n",
       "      <th>data</th>\n",
       "      <th>lang</th>\n",
       "      <th>lang_id</th>\n",
       "    </tr>\n",
       "  </thead>\n",
       "  <tbody>\n",
       "    <tr>\n",
       "      <th>0</th>\n",
       "      <td>-0.639420</td>\n",
       "      <td>0.345684</td>\n",
       "      <td>-0.517645</td>\n",
       "      <td>-0.737002</td>\n",
       "      <td>1.313001</td>\n",
       "      <td>1.655732</td>\n",
       "      <td>0.615168</td>\n",
       "      <td>0.799339</td>\n",
       "      <td>1.648419</td>\n",
       "      <td>1.314986</td>\n",
       "      <td>...</td>\n",
       "      <td>-1.322407</td>\n",
       "      <td>-0.717348</td>\n",
       "      <td>-3.843951</td>\n",
       "      <td>-1.471274</td>\n",
       "      <td>0.945421</td>\n",
       "      <td>zkllk</td>\n",
       "      <td>LDC2017E22</td>\n",
       "      <td>data</td>\n",
       "      <td>eng-usg</td>\n",
       "      <td>zkllk</td>\n",
       "    </tr>\n",
       "    <tr>\n",
       "      <th>1</th>\n",
       "      <td>0.113610</td>\n",
       "      <td>0.738034</td>\n",
       "      <td>0.584856</td>\n",
       "      <td>-0.248521</td>\n",
       "      <td>0.256616</td>\n",
       "      <td>1.060159</td>\n",
       "      <td>-0.416211</td>\n",
       "      <td>0.133670</td>\n",
       "      <td>0.188327</td>\n",
       "      <td>0.805241</td>\n",
       "      <td>...</td>\n",
       "      <td>1.965741</td>\n",
       "      <td>3.525555</td>\n",
       "      <td>0.006925</td>\n",
       "      <td>1.676099</td>\n",
       "      <td>-1.116371</td>\n",
       "      <td>lid05e1_lid00562</td>\n",
       "      <td>LDC2017E22</td>\n",
       "      <td>data</td>\n",
       "      <td>eng-usg</td>\n",
       "      <td>lid05e1_lid00562</td>\n",
       "    </tr>\n",
       "    <tr>\n",
       "      <th>2</th>\n",
       "      <td>2.061305</td>\n",
       "      <td>-0.140605</td>\n",
       "      <td>-0.627104</td>\n",
       "      <td>-0.682908</td>\n",
       "      <td>1.337613</td>\n",
       "      <td>1.261543</td>\n",
       "      <td>-0.651291</td>\n",
       "      <td>0.307040</td>\n",
       "      <td>-0.980717</td>\n",
       "      <td>0.335530</td>\n",
       "      <td>...</td>\n",
       "      <td>-3.018432</td>\n",
       "      <td>-1.841361</td>\n",
       "      <td>0.814595</td>\n",
       "      <td>-0.200731</td>\n",
       "      <td>1.180795</td>\n",
       "      <td>fla_0240-a</td>\n",
       "      <td>LDC2017E22</td>\n",
       "      <td>data</td>\n",
       "      <td>ara-apc</td>\n",
       "      <td>fla_0240-a</td>\n",
       "    </tr>\n",
       "    <tr>\n",
       "      <th>3</th>\n",
       "      <td>1.958049</td>\n",
       "      <td>-0.608315</td>\n",
       "      <td>-0.113532</td>\n",
       "      <td>0.167272</td>\n",
       "      <td>0.911100</td>\n",
       "      <td>1.116094</td>\n",
       "      <td>-0.847214</td>\n",
       "      <td>-0.041357</td>\n",
       "      <td>-0.542335</td>\n",
       "      <td>0.199105</td>\n",
       "      <td>...</td>\n",
       "      <td>-0.548767</td>\n",
       "      <td>-1.254447</td>\n",
       "      <td>1.644647</td>\n",
       "      <td>0.555434</td>\n",
       "      <td>1.159140</td>\n",
       "      <td>fla_0240-a</td>\n",
       "      <td>LDC2017E22</td>\n",
       "      <td>data</td>\n",
       "      <td>ara-apc</td>\n",
       "      <td>fla_0240-a</td>\n",
       "    </tr>\n",
       "    <tr>\n",
       "      <th>4</th>\n",
       "      <td>1.842436</td>\n",
       "      <td>-0.417598</td>\n",
       "      <td>-0.427428</td>\n",
       "      <td>-0.485898</td>\n",
       "      <td>1.204330</td>\n",
       "      <td>1.439188</td>\n",
       "      <td>-1.056642</td>\n",
       "      <td>0.111603</td>\n",
       "      <td>-0.404313</td>\n",
       "      <td>-0.307075</td>\n",
       "      <td>...</td>\n",
       "      <td>0.297026</td>\n",
       "      <td>-1.858708</td>\n",
       "      <td>0.209784</td>\n",
       "      <td>0.583939</td>\n",
       "      <td>1.398789</td>\n",
       "      <td>fla_0240-a</td>\n",
       "      <td>LDC2017E22</td>\n",
       "      <td>data</td>\n",
       "      <td>ara-apc</td>\n",
       "      <td>fla_0240-a</td>\n",
       "    </tr>\n",
       "  </tbody>\n",
       "</table>\n",
       "<p>5 rows × 505 columns</p>\n",
       "</div>"
      ],
      "text/plain": [
       "          0         1         2         3         4         5         6  \\\n",
       "0 -0.639420  0.345684 -0.517645 -0.737002  1.313001  1.655732  0.615168   \n",
       "1  0.113610  0.738034  0.584856 -0.248521  0.256616  1.060159 -0.416211   \n",
       "2  2.061305 -0.140605 -0.627104 -0.682908  1.337613  1.261543 -0.651291   \n",
       "3  1.958049 -0.608315 -0.113532  0.167272  0.911100  1.116094 -0.847214   \n",
       "4  1.842436 -0.417598 -0.427428 -0.485898  1.204330  1.439188 -1.056642   \n",
       "\n",
       "          7         8         9        ...              495       496  \\\n",
       "0  0.799339  1.648419  1.314986        ...        -1.322407 -0.717348   \n",
       "1  0.133670  0.188327  0.805241        ...         1.965741  3.525555   \n",
       "2  0.307040 -0.980717  0.335530        ...        -3.018432 -1.841361   \n",
       "3 -0.041357 -0.542335  0.199105        ...        -0.548767 -1.254447   \n",
       "4  0.111603 -0.404313 -0.307075        ...         0.297026 -1.858708   \n",
       "\n",
       "        497       498       499               ids        year  data     lang  \\\n",
       "0 -3.843951 -1.471274  0.945421             zkllk  LDC2017E22  data  eng-usg   \n",
       "1  0.006925  1.676099 -1.116371  lid05e1_lid00562  LDC2017E22  data  eng-usg   \n",
       "2  0.814595 -0.200731  1.180795        fla_0240-a  LDC2017E22  data  ara-apc   \n",
       "3  1.644647  0.555434  1.159140        fla_0240-a  LDC2017E22  data  ara-apc   \n",
       "4  0.209784  0.583939  1.398789        fla_0240-a  LDC2017E22  data  ara-apc   \n",
       "\n",
       "            lang_id  \n",
       "0             zkllk  \n",
       "1  lid05e1_lid00562  \n",
       "2        fla_0240-a  \n",
       "3        fla_0240-a  \n",
       "4        fla_0240-a  \n",
       "\n",
       "[5 rows x 505 columns]"
      ]
     },
     "execution_count": 73,
     "metadata": {},
     "output_type": "execute_result"
    }
   ],
   "source": [
    "train_lre_30sec.head()"
   ]
  },
  {
   "cell_type": "code",
   "execution_count": 7,
   "metadata": {},
   "outputs": [],
   "source": [
    "X_train_30sec = train_lre_30sec.drop(['ids','year','data','lang','lang_id'],axis=1)"
   ]
  },
  {
   "cell_type": "code",
   "execution_count": null,
   "metadata": {},
   "outputs": [],
   "source": []
  },
  {
   "cell_type": "code",
   "execution_count": 8,
   "metadata": {},
   "outputs": [],
   "source": [
    "y_30sec_labels = train_lre_30sec[\"lang\"]"
   ]
  },
  {
   "cell_type": "code",
   "execution_count": 9,
   "metadata": {},
   "outputs": [
    {
     "data": {
      "text/plain": [
       "0    eng-usg\n",
       "1    eng-usg\n",
       "2    ara-apc\n",
       "3    ara-apc\n",
       "4    ara-apc\n",
       "Name: lang, dtype: object"
      ]
     },
     "execution_count": 9,
     "metadata": {},
     "output_type": "execute_result"
    }
   ],
   "source": [
    "y_30sec_labels.head()"
   ]
  },
  {
   "cell_type": "code",
   "execution_count": 10,
   "metadata": {},
   "outputs": [
    {
     "data": {
      "text/plain": [
       "LabelEncoder()"
      ]
     },
     "execution_count": 10,
     "metadata": {},
     "output_type": "execute_result"
    }
   ],
   "source": [
    "le = preprocessing.LabelEncoder()\n",
    "le.fit(y_30sec_labels)"
   ]
  },
  {
   "cell_type": "code",
   "execution_count": 11,
   "metadata": {},
   "outputs": [
    {
     "data": {
      "text/plain": [
       "array(['ara-acm', 'ara-apc', 'ara-ary', 'ara-arz', 'eng-gbr', 'eng-usg',\n",
       "       'por-brz', 'qsl-pol', 'qsl-rus', 'spa-car', 'spa-eur', 'spa-lac',\n",
       "       'zho-cmn', 'zho-nan'], dtype=object)"
      ]
     },
     "execution_count": 11,
     "metadata": {},
     "output_type": "execute_result"
    }
   ],
   "source": [
    "le.classes_"
   ]
  },
  {
   "cell_type": "code",
   "execution_count": 12,
   "metadata": {},
   "outputs": [],
   "source": [
    "y_30sec_labels=le.transform(y_30sec_labels)"
   ]
  },
  {
   "cell_type": "code",
   "execution_count": 13,
   "metadata": {},
   "outputs": [
    {
     "data": {
      "text/plain": [
       "(114276,)"
      ]
     },
     "execution_count": 13,
     "metadata": {},
     "output_type": "execute_result"
    }
   ],
   "source": [
    "y_30sec_labels.shape"
   ]
  },
  {
   "cell_type": "code",
   "execution_count": 14,
   "metadata": {},
   "outputs": [],
   "source": [
    "nb_classes = 14\n",
    "# convert class vectors to binary class matrices\n",
    "Y_train_labels = np_utils.to_categorical(y_30sec_labels, nb_classes)"
   ]
  },
  {
   "cell_type": "code",
   "execution_count": 15,
   "metadata": {},
   "outputs": [
    {
     "data": {
      "text/plain": [
       "(114276, 14)"
      ]
     },
     "execution_count": 15,
     "metadata": {},
     "output_type": "execute_result"
    }
   ],
   "source": [
    "Y_train_labels.shape"
   ]
  },
  {
   "cell_type": "code",
   "execution_count": 16,
   "metadata": {},
   "outputs": [],
   "source": [
    "X_train_10sec = X_train_10sec.values\n",
    "X_train_30sec = X_train_30sec.values"
   ]
  },
  {
   "cell_type": "code",
   "execution_count": null,
   "metadata": {},
   "outputs": [],
   "source": []
  },
  {
   "cell_type": "code",
   "execution_count": 17,
   "metadata": {},
   "outputs": [
    {
     "name": "stdout",
     "output_type": "stream",
     "text": [
      "X_train_10sec shape: (114276, 500)\n",
      "114276 train 10sec\n",
      "114276  train 30sec\n"
     ]
    }
   ],
   "source": [
    "X_train_10sec = X_train_10sec.astype('float32')\n",
    "#X_test = X_test.astype('float32')\n",
    "X_train_30sec = X_train_30sec.astype('float32')\n",
    "\n",
    "#X_train /= 255\n",
    "#X_test /= 255\n",
    "#X_val /= 255\n",
    "\n",
    "print('X_train_10sec shape:', X_train_10sec.shape)\n",
    "print(X_train_10sec.shape[0], 'train 10sec')\n",
    "#print(X_test.shape[0], 'test samples')\n",
    "print(X_train_30sec.shape[0], ' train 30sec')\n"
   ]
  },
  {
   "cell_type": "code",
   "execution_count": null,
   "metadata": {},
   "outputs": [],
   "source": []
  },
  {
   "cell_type": "code",
   "execution_count": null,
   "metadata": {},
   "outputs": [],
   "source": []
  },
  {
   "cell_type": "code",
   "execution_count": 18,
   "metadata": {},
   "outputs": [],
   "source": [
    "#Shuffle the Dataset\n",
    "X_train_10sec_F,  X_train_30sec_F, Y_train_labels = shuffle(X_train_10sec, X_train_30sec, Y_train_labels, random_state=0)"
   ]
  },
  {
   "cell_type": "code",
   "execution_count": null,
   "metadata": {},
   "outputs": [],
   "source": []
  },
  {
   "cell_type": "code",
   "execution_count": null,
   "metadata": {},
   "outputs": [],
   "source": []
  },
  {
   "cell_type": "code",
   "execution_count": 19,
   "metadata": {},
   "outputs": [],
   "source": [
    "import torch.nn as nn"
   ]
  },
  {
   "cell_type": "code",
   "execution_count": 20,
   "metadata": {},
   "outputs": [],
   "source": [
    "class FC_Network(torch.nn.Module):\n",
    "\n",
    "    def __init__(self,):\n",
    "        super(FC_Network, self).__init__()\n",
    "\n",
    "        D_in = D_out = 500        # param['patch_length'] * param['n_channels'] * (param['n_fft'] / 2 + 1)\n",
    "        num_nodes_fnn = 512\n",
    "        self.layer_1 = torch.nn.Linear(D_in, num_nodes_fnn)\n",
    "        self.bn_1 = torch.nn.BatchNorm1d(num_nodes_fnn)\n",
    "        self.layer_2 = torch.nn.Linear(num_nodes_fnn, num_nodes_fnn)\n",
    "        self.bn_2 = torch.nn.BatchNorm1d(num_nodes_fnn)\n",
    "        self.layer_3 = torch.nn.Linear(num_nodes_fnn, num_nodes_fnn)\n",
    "        self.bn_3 = torch.nn.BatchNorm1d(num_nodes_fnn)\n",
    "        self.layer_4 = torch.nn.Linear(num_nodes_fnn,num_nodes_fnn)\n",
    "        self.bn_4 = torch.nn.BatchNorm1d(num_nodes_fnn)\n",
    "        self.output_layer = torch.nn.Linear(num_nodes_fnn, D_out)\n",
    "        self.relu = torch.nn.ReLU()\n",
    "\n",
    "    def forward(self, x):\n",
    "        out = x\n",
    "        #out = x.view(x.size(0), -1)\n",
    "        out = self.bn_1(self.relu(self.layer_1(out)))\n",
    "        out = self.bn_2(self.relu(self.layer_2(out)))\n",
    "        out = self.bn_3(self.relu(self.layer_3(out)))\n",
    "        out = self.bn_4(self.relu(self.layer_4(out)))\n",
    "        out = self.output_layer(out)\n",
    "\n",
    "        #out = (self.relu(self.layer_1(out)))\n",
    "        #out = (self.relu(self.layer_2(out)))\n",
    "        #out = (self.relu(self.layer_3(out)))\n",
    "        #out = (self.relu(self.layer_4(out)))\n",
    "        #out = (self.output_layer(out))\n",
    "        #out = out.view(x.size())\n",
    "        return out"
   ]
  },
  {
   "cell_type": "code",
   "execution_count": 21,
   "metadata": {},
   "outputs": [],
   "source": [
    "G = FC_Network()"
   ]
  },
  {
   "cell_type": "code",
   "execution_count": 22,
   "metadata": {},
   "outputs": [
    {
     "data": {
      "text/plain": [
       "FC_Network(\n",
       "  (layer_1): Linear(in_features=500, out_features=512)\n",
       "  (bn_1): BatchNorm1d(512, eps=1e-05, momentum=0.1, affine=True)\n",
       "  (layer_2): Linear(in_features=512, out_features=512)\n",
       "  (bn_2): BatchNorm1d(512, eps=1e-05, momentum=0.1, affine=True)\n",
       "  (layer_3): Linear(in_features=512, out_features=512)\n",
       "  (bn_3): BatchNorm1d(512, eps=1e-05, momentum=0.1, affine=True)\n",
       "  (layer_4): Linear(in_features=512, out_features=512)\n",
       "  (bn_4): BatchNorm1d(512, eps=1e-05, momentum=0.1, affine=True)\n",
       "  (output_layer): Linear(in_features=512, out_features=500)\n",
       "  (relu): ReLU()\n",
       ")"
      ]
     },
     "execution_count": 22,
     "metadata": {},
     "output_type": "execute_result"
    }
   ],
   "source": [
    "G.cuda()"
   ]
  },
  {
   "cell_type": "code",
   "execution_count": 23,
   "metadata": {},
   "outputs": [],
   "source": [
    "learning_rate = 0.0002\n",
    "betas = (0.5, 0.999)"
   ]
  },
  {
   "cell_type": "code",
   "execution_count": 24,
   "metadata": {},
   "outputs": [],
   "source": [
    "# Loss function\n",
    "criterion = torch.nn.MSELoss()\n",
    "\n",
    "# Optimizers\n",
    "G_solver = torch.optim.Adam(G.parameters(), lr=learning_rate, betas=betas)\n",
    "#D_solver = torch.optim.Adam(D.parameters(), lr=learning_rate/2, betas=betas)"
   ]
  },
  {
   "cell_type": "code",
   "execution_count": null,
   "metadata": {},
   "outputs": [],
   "source": []
  },
  {
   "cell_type": "code",
   "execution_count": 25,
   "metadata": {},
   "outputs": [
    {
     "data": {
      "text/plain": [
       "114276"
      ]
     },
     "execution_count": 25,
     "metadata": {},
     "output_type": "execute_result"
    }
   ],
   "source": [
    "len(X_train_10sec)"
   ]
  },
  {
   "cell_type": "code",
   "execution_count": 26,
   "metadata": {},
   "outputs": [
    {
     "data": {
      "text/plain": [
       "114276"
      ]
     },
     "execution_count": 26,
     "metadata": {},
     "output_type": "execute_result"
    }
   ],
   "source": [
    "len(X_train_30sec)"
   ]
  },
  {
   "cell_type": "code",
   "execution_count": 27,
   "metadata": {},
   "outputs": [
    {
     "name": "stdout",
     "output_type": "stream",
     "text": [
      "epoch: 0\n",
      "G_loss: [ 1.39255714]\n",
      "epoch: 1\n",
      "G_loss: [ 1.21631157]\n",
      "epoch: 2\n",
      "G_loss: [ 1.1214869]\n",
      "epoch: 3\n",
      "G_loss: [ 1.06721818]\n",
      "epoch: 4\n",
      "G_loss: [ 1.03261173]\n",
      "epoch: 5\n",
      "G_loss: [ 1.01010752]\n",
      "epoch: 6\n",
      "G_loss: [ 0.99394774]\n",
      "epoch: 7\n",
      "G_loss: [ 0.9823463]\n",
      "epoch: 8\n",
      "G_loss: [ 0.97258353]\n",
      "epoch: 9\n",
      "G_loss: [ 0.96575886]\n",
      "epoch: 10\n",
      "G_loss: [ 0.95947975]\n",
      "epoch: 11\n",
      "G_loss: [ 0.95374]\n",
      "epoch: 12\n",
      "G_loss: [ 0.94720823]\n",
      "epoch: 13\n",
      "G_loss: [ 0.94310766]\n",
      "epoch: 14\n",
      "G_loss: [ 0.93965822]\n",
      "epoch: 15\n",
      "G_loss: [ 0.93572241]\n",
      "epoch: 16\n",
      "G_loss: [ 0.93258017]\n",
      "epoch: 17\n",
      "G_loss: [ 0.92997402]\n",
      "epoch: 18\n",
      "G_loss: [ 0.92724895]\n",
      "epoch: 19\n",
      "G_loss: [ 0.92526287]\n",
      "epoch: 20\n",
      "G_loss: [ 0.92346174]\n",
      "epoch: 21\n",
      "G_loss: [ 0.9212777]\n",
      "epoch: 22\n",
      "G_loss: [ 0.91899079]\n",
      "epoch: 23\n",
      "G_loss: [ 0.91707045]\n",
      "epoch: 24\n",
      "G_loss: [ 0.91523093]\n",
      "epoch: 25\n",
      "G_loss: [ 0.91348398]\n",
      "epoch: 26\n",
      "G_loss: [ 0.91164929]\n",
      "epoch: 27\n",
      "G_loss: [ 0.91003031]\n",
      "epoch: 28\n",
      "G_loss: [ 0.90832096]\n",
      "epoch: 29\n",
      "G_loss: [ 0.90688914]\n",
      "epoch: 30\n",
      "G_loss: [ 0.90571767]\n",
      "epoch: 31\n",
      "G_loss: [ 0.90443867]\n",
      "epoch: 32\n",
      "G_loss: [ 0.90259463]\n",
      "epoch: 33\n",
      "G_loss: [ 0.90162283]\n",
      "epoch: 34\n",
      "G_loss: [ 0.89931405]\n",
      "epoch: 35\n",
      "G_loss: [ 0.89787942]\n",
      "epoch: 36\n",
      "G_loss: [ 0.89654315]\n",
      "epoch: 37\n",
      "G_loss: [ 0.8950243]\n",
      "epoch: 38\n",
      "G_loss: [ 0.89351428]\n",
      "epoch: 39\n",
      "G_loss: [ 0.89225638]\n",
      "epoch: 40\n",
      "G_loss: [ 0.89143479]\n",
      "epoch: 41\n",
      "G_loss: [ 0.88989538]\n",
      "epoch: 42\n",
      "G_loss: [ 0.88840848]\n",
      "epoch: 43\n",
      "G_loss: [ 0.88759083]\n",
      "epoch: 44\n",
      "G_loss: [ 0.88673639]\n",
      "epoch: 45\n",
      "G_loss: [ 0.88600081]\n",
      "epoch: 46\n",
      "G_loss: [ 0.88520491]\n",
      "epoch: 47\n",
      "G_loss: [ 0.88415813]\n",
      "epoch: 48\n",
      "G_loss: [ 0.88301945]\n",
      "epoch: 49\n",
      "G_loss: [ 0.8818422]\n",
      "epoch: 50\n",
      "G_loss: [ 0.88104832]\n",
      "epoch: 51\n",
      "G_loss: [ 0.88036126]\n",
      "epoch: 52\n",
      "G_loss: [ 0.87966835]\n",
      "epoch: 53\n",
      "G_loss: [ 0.87887478]\n",
      "epoch: 54\n",
      "G_loss: [ 0.87815958]\n",
      "epoch: 55\n",
      "G_loss: [ 0.87737358]\n",
      "epoch: 56\n",
      "G_loss: [ 0.87634903]\n",
      "epoch: 57\n",
      "G_loss: [ 0.87503672]\n",
      "epoch: 58\n",
      "G_loss: [ 0.87423629]\n",
      "epoch: 59\n",
      "G_loss: [ 0.87344337]\n",
      "epoch: 60\n",
      "G_loss: [ 0.87267554]\n",
      "epoch: 61\n",
      "G_loss: [ 0.87205923]\n",
      "epoch: 62\n",
      "G_loss: [ 0.87134176]\n",
      "epoch: 63\n",
      "G_loss: [ 0.8705008]\n",
      "epoch: 64\n",
      "G_loss: [ 0.86997747]\n",
      "epoch: 65\n",
      "G_loss: [ 0.86926293]\n",
      "epoch: 66\n",
      "G_loss: [ 0.86874807]\n",
      "epoch: 67\n",
      "G_loss: [ 0.86829573]\n",
      "epoch: 68\n",
      "G_loss: [ 0.86784565]\n",
      "epoch: 69\n",
      "G_loss: [ 0.86736071]\n",
      "epoch: 70\n",
      "G_loss: [ 0.86686701]\n",
      "epoch: 71\n",
      "G_loss: [ 0.86624765]\n",
      "epoch: 72\n",
      "G_loss: [ 0.86558837]\n",
      "epoch: 73\n",
      "G_loss: [ 0.86506289]\n",
      "epoch: 74\n",
      "G_loss: [ 0.86479378]\n",
      "epoch: 75\n",
      "G_loss: [ 0.86412245]\n",
      "epoch: 76\n",
      "G_loss: [ 0.86365253]\n",
      "epoch: 77\n",
      "G_loss: [ 0.8630147]\n",
      "epoch: 78\n",
      "G_loss: [ 0.86226737]\n",
      "epoch: 79\n",
      "G_loss: [ 0.86171216]\n",
      "epoch: 80\n",
      "G_loss: [ 0.86122644]\n",
      "epoch: 81\n",
      "G_loss: [ 0.8606723]\n",
      "epoch: 82\n",
      "G_loss: [ 0.86012959]\n",
      "epoch: 83\n",
      "G_loss: [ 0.85964453]\n",
      "epoch: 84\n",
      "G_loss: [ 0.8591221]\n",
      "epoch: 85\n",
      "G_loss: [ 0.85849088]\n",
      "epoch: 86\n",
      "G_loss: [ 0.85790884]\n",
      "epoch: 87\n",
      "G_loss: [ 0.85726851]\n",
      "epoch: 88\n",
      "G_loss: [ 0.85682535]\n",
      "epoch: 89\n",
      "G_loss: [ 0.85647696]\n",
      "epoch: 90\n",
      "G_loss: [ 0.85619539]\n",
      "epoch: 91\n",
      "G_loss: [ 0.85587478]\n",
      "epoch: 92\n",
      "G_loss: [ 0.85539806]\n",
      "epoch: 93\n",
      "G_loss: [ 0.8549037]\n",
      "epoch: 94\n",
      "G_loss: [ 0.85448873]\n",
      "epoch: 95\n",
      "G_loss: [ 0.85411704]\n",
      "epoch: 96\n",
      "G_loss: [ 0.85371268]\n",
      "epoch: 97\n",
      "G_loss: [ 0.85322797]\n",
      "epoch: 98\n",
      "G_loss: [ 0.85272062]\n",
      "epoch: 99\n",
      "G_loss: [ 0.85219669]\n",
      "epoch: 100\n",
      "G_loss: [ 0.85177726]\n",
      "epoch: 101\n",
      "G_loss: [ 0.85120076]\n",
      "epoch: 102\n",
      "G_loss: [ 0.85059702]\n",
      "epoch: 103\n",
      "G_loss: [ 0.85021442]\n",
      "epoch: 104\n",
      "G_loss: [ 0.84991491]\n",
      "epoch: 105\n",
      "G_loss: [ 0.84958285]\n",
      "epoch: 106\n",
      "G_loss: [ 0.8492564]\n",
      "epoch: 107\n",
      "G_loss: [ 0.84894073]\n",
      "epoch: 108\n",
      "G_loss: [ 0.84866238]\n",
      "epoch: 109\n",
      "G_loss: [ 0.84812891]\n",
      "epoch: 110\n",
      "G_loss: [ 0.84774435]\n",
      "epoch: 111\n",
      "G_loss: [ 0.8473708]\n",
      "epoch: 112\n",
      "G_loss: [ 0.84698337]\n",
      "epoch: 113\n",
      "G_loss: [ 0.84675461]\n",
      "epoch: 114\n",
      "G_loss: [ 0.84613508]\n",
      "epoch: 115\n",
      "G_loss: [ 0.84546554]\n",
      "epoch: 116\n",
      "G_loss: [ 0.8449989]\n",
      "epoch: 117\n",
      "G_loss: [ 0.84455502]\n",
      "epoch: 118\n",
      "G_loss: [ 0.84411448]\n",
      "epoch: 119\n",
      "G_loss: [ 0.84372109]\n",
      "epoch: 120\n",
      "G_loss: [ 0.84352511]\n",
      "epoch: 121\n",
      "G_loss: [ 0.84330601]\n",
      "epoch: 122\n",
      "G_loss: [ 0.84292734]\n",
      "epoch: 123\n",
      "G_loss: [ 0.8425644]\n",
      "epoch: 124\n",
      "G_loss: [ 0.84239304]\n",
      "epoch: 125\n",
      "G_loss: [ 0.84208477]\n",
      "epoch: 126\n",
      "G_loss: [ 0.84189606]\n",
      "epoch: 127\n",
      "G_loss: [ 0.84178001]\n",
      "epoch: 128\n",
      "G_loss: [ 0.84132624]\n",
      "epoch: 129\n",
      "G_loss: [ 0.84097332]\n",
      "epoch: 130\n",
      "G_loss: [ 0.84066355]\n",
      "epoch: 131\n",
      "G_loss: [ 0.84020931]\n",
      "epoch: 132\n",
      "G_loss: [ 0.83990532]\n",
      "epoch: 133\n",
      "G_loss: [ 0.83956718]\n",
      "epoch: 134\n",
      "G_loss: [ 0.83934933]\n",
      "epoch: 135\n",
      "G_loss: [ 0.83899176]\n",
      "epoch: 136\n",
      "G_loss: [ 0.8387152]\n",
      "epoch: 137\n",
      "G_loss: [ 0.83837897]\n",
      "epoch: 138\n",
      "G_loss: [ 0.83795643]\n",
      "epoch: 139\n",
      "G_loss: [ 0.83741367]\n",
      "epoch: 140\n",
      "G_loss: [ 0.83685869]\n",
      "epoch: 141\n",
      "G_loss: [ 0.83639759]\n",
      "epoch: 142\n",
      "G_loss: [ 0.83605212]\n",
      "epoch: 143\n",
      "G_loss: [ 0.83574903]\n",
      "epoch: 144\n",
      "G_loss: [ 0.83545983]\n",
      "epoch: 145\n",
      "G_loss: [ 0.83530372]\n",
      "epoch: 146\n",
      "G_loss: [ 0.83497012]\n",
      "epoch: 147\n",
      "G_loss: [ 0.83458436]\n",
      "epoch: 148\n",
      "G_loss: [ 0.83415121]\n",
      "epoch: 149\n",
      "G_loss: [ 0.83378202]\n",
      "epoch: 150\n",
      "G_loss: [ 0.83346725]\n",
      "epoch: 151\n",
      "G_loss: [ 0.83322293]\n",
      "epoch: 152\n",
      "G_loss: [ 0.83295137]\n",
      "epoch: 153\n",
      "G_loss: [ 0.8327567]\n",
      "epoch: 154\n",
      "G_loss: [ 0.83245599]\n",
      "epoch: 155\n",
      "G_loss: [ 0.83211035]\n",
      "epoch: 156\n",
      "G_loss: [ 0.8318547]\n",
      "epoch: 157\n",
      "G_loss: [ 0.83158821]\n",
      "epoch: 158\n",
      "G_loss: [ 0.83125967]\n",
      "epoch: 159\n",
      "G_loss: [ 0.83086556]\n",
      "epoch: 160\n",
      "G_loss: [ 0.83037943]\n",
      "epoch: 161\n",
      "G_loss: [ 0.830001]\n",
      "epoch: 162\n",
      "G_loss: [ 0.82953614]\n",
      "epoch: 163\n",
      "G_loss: [ 0.8291865]\n",
      "epoch: 164\n",
      "G_loss: [ 0.82885283]\n",
      "epoch: 165\n",
      "G_loss: [ 0.82861596]\n",
      "epoch: 166\n",
      "G_loss: [ 0.82840359]\n",
      "epoch: 167\n",
      "G_loss: [ 0.82817209]\n",
      "epoch: 168\n",
      "G_loss: [ 0.82797432]\n",
      "epoch: 169\n",
      "G_loss: [ 0.82777143]\n",
      "epoch: 170\n",
      "G_loss: [ 0.82757634]\n",
      "epoch: 171\n",
      "G_loss: [ 0.82738262]\n",
      "epoch: 172\n",
      "G_loss: [ 0.82718682]\n",
      "epoch: 173\n",
      "G_loss: [ 0.82698321]\n",
      "epoch: 174\n",
      "G_loss: [ 0.82686603]\n",
      "epoch: 175\n",
      "G_loss: [ 0.82662052]\n",
      "epoch: 176\n",
      "G_loss: [ 0.82638043]\n",
      "epoch: 177\n",
      "G_loss: [ 0.82613915]\n",
      "epoch: 178\n",
      "G_loss: [ 0.82582265]\n",
      "epoch: 179\n",
      "G_loss: [ 0.82551402]\n",
      "epoch: 180\n",
      "G_loss: [ 0.82533622]\n",
      "epoch: 181\n",
      "G_loss: [ 0.82508773]\n",
      "epoch: 182\n",
      "G_loss: [ 0.82544261]\n",
      "epoch: 183\n",
      "G_loss: [ 0.8246997]\n",
      "epoch: 184\n",
      "G_loss: [ 0.82435685]\n",
      "epoch: 185\n",
      "G_loss: [ 0.82417768]\n",
      "epoch: 186\n",
      "G_loss: [ 0.82394141]\n",
      "epoch: 187\n",
      "G_loss: [ 0.82370961]\n",
      "epoch: 188\n",
      "G_loss: [ 0.82354164]\n",
      "epoch: 189\n",
      "G_loss: [ 0.82339895]\n",
      "epoch: 190\n",
      "G_loss: [ 0.8232578]\n",
      "epoch: 191\n",
      "G_loss: [ 0.82306623]\n",
      "epoch: 192\n",
      "G_loss: [ 0.82288033]\n",
      "epoch: 193\n",
      "G_loss: [ 0.8226136]\n",
      "epoch: 194\n",
      "G_loss: [ 0.82231921]\n",
      "epoch: 195\n",
      "G_loss: [ 0.82195091]\n",
      "epoch: 196\n",
      "G_loss: [ 0.82168561]\n",
      "epoch: 197\n",
      "G_loss: [ 0.82144642]\n",
      "epoch: 198\n",
      "G_loss: [ 0.82130748]\n",
      "epoch: 199\n",
      "G_loss: [ 0.82107878]\n"
     ]
    }
   ],
   "source": [
    "\n",
    "mb_size = 256\n",
    "batch_size = mb_size\n",
    "# Start training\n",
    "for epoch in range(200):\n",
    "    \n",
    "    \n",
    "\n",
    "    print('epoch:',epoch)\n",
    "    #for i in range(XX_train):\n",
    "    # Build mini-batch dataset\n",
    "    #batch_size = images.size(0)\n",
    "    #images = to_var(images.view(batch_size, -1))\n",
    "\n",
    "    it=0\n",
    "    while it+batch_size < len(X_train_10sec_F) :\n",
    "        \n",
    "\n",
    "        start= it\n",
    "        end= it + batch_size\n",
    "\n",
    "\n",
    "        #z = Variable(torch.randn(mb_size, Z_dim))\n",
    "        X = X_train_10sec_F[start:end]\n",
    "\n",
    "        c = X_train_30sec_F[start:end]\n",
    "        X = Variable(torch.from_numpy(X))\n",
    "        c = Variable(torch.from_numpy(c.astype('float32')))\n",
    "        X = X.cuda()\n",
    "        c = c.cuda()\n",
    "        # Dicriminator forward-loss-backward-update\n",
    "        G_sample = G(X)\n",
    "        #D_real = D(X, c)\n",
    "        #D_fake = D(G_sample, c)\n",
    "\n",
    "        #D_loss_real = nn.binary_cross_entropy(D_real, ones_label)\n",
    "        #D_loss_fake = nn.binary_cross_entropy(D_fake, zeros_label)\n",
    "        #D_loss = D_loss_real + D_loss_fake\n",
    "\n",
    "        #D_loss.backward()\n",
    "        #D_solver.step()\n",
    "\n",
    "        # Housekeeping - reset gradient\n",
    "        #D.zero_grad()\n",
    "\n",
    "        # Generator forward-loss-backward-update\n",
    "        #z = Variable(torch.randn(mb_size, Z_dim))\n",
    "        #G_sample = G(z, c)\n",
    "        #D_fake = D(G_sample, c)\n",
    "        G_loss = criterion(G_sample, c)\n",
    "        #G_loss = nn.binary_cross_entropy(D_fake, ones_label)\n",
    "\n",
    "        G_loss.backward()\n",
    "        G_solver.step()\n",
    "        \n",
    "        G_solver.zero_grad()\n",
    "        # Housekeeping - reset gradient\n",
    "        #D.zero_grad()\n",
    "\n",
    "        #Print and plot every now and then\n",
    "        #if it % 2 == 0:\n",
    "\n",
    "        #print('Iter-{}; G_loss: {}'.format(it, G_loss.data.numpy()))\n",
    "\n",
    "\n",
    "\n",
    "        it+= batch_size\n",
    "    print('G_loss: {}'.format(G_loss.cpu().data.numpy()))\n",
    "           "
   ]
  },
  {
   "cell_type": "code",
   "execution_count": null,
   "metadata": {},
   "outputs": [],
   "source": []
  },
  {
   "cell_type": "code",
   "execution_count": null,
   "metadata": {},
   "outputs": [],
   "source": []
  },
  {
   "cell_type": "code",
   "execution_count": 28,
   "metadata": {},
   "outputs": [],
   "source": [
    "train_lre_10sec_alone = pd.read_csv('/home/satishk/GAN_lre/gan_csv/GAN_10sec_ivectors_X_train_03Jan_labels_ids.csv')\n"
   ]
  },
  {
   "cell_type": "code",
   "execution_count": 29,
   "metadata": {},
   "outputs": [
    {
     "data": {
      "text/html": [
       "<div>\n",
       "<style scoped>\n",
       "    .dataframe tbody tr th:only-of-type {\n",
       "        vertical-align: middle;\n",
       "    }\n",
       "\n",
       "    .dataframe tbody tr th {\n",
       "        vertical-align: top;\n",
       "    }\n",
       "\n",
       "    .dataframe thead th {\n",
       "        text-align: right;\n",
       "    }\n",
       "</style>\n",
       "<table border=\"1\" class=\"dataframe\">\n",
       "  <thead>\n",
       "    <tr style=\"text-align: right;\">\n",
       "      <th></th>\n",
       "      <th>0</th>\n",
       "      <th>1</th>\n",
       "      <th>2</th>\n",
       "      <th>3</th>\n",
       "      <th>4</th>\n",
       "      <th>5</th>\n",
       "      <th>6</th>\n",
       "      <th>7</th>\n",
       "      <th>8</th>\n",
       "      <th>9</th>\n",
       "      <th>...</th>\n",
       "      <th>495</th>\n",
       "      <th>496</th>\n",
       "      <th>497</th>\n",
       "      <th>498</th>\n",
       "      <th>499</th>\n",
       "      <th>ids</th>\n",
       "      <th>year</th>\n",
       "      <th>data</th>\n",
       "      <th>lang</th>\n",
       "      <th>lang_id</th>\n",
       "    </tr>\n",
       "  </thead>\n",
       "  <tbody>\n",
       "    <tr>\n",
       "      <th>0</th>\n",
       "      <td>-0.314181</td>\n",
       "      <td>0.671920</td>\n",
       "      <td>-0.188068</td>\n",
       "      <td>-0.910752</td>\n",
       "      <td>1.050361</td>\n",
       "      <td>1.966829</td>\n",
       "      <td>0.292740</td>\n",
       "      <td>1.084547</td>\n",
       "      <td>1.287480</td>\n",
       "      <td>1.745248</td>\n",
       "      <td>...</td>\n",
       "      <td>-0.564911</td>\n",
       "      <td>-1.854116</td>\n",
       "      <td>-3.185948</td>\n",
       "      <td>-2.177057</td>\n",
       "      <td>0.301166</td>\n",
       "      <td>zkllk</td>\n",
       "      <td>LDC2017E22</td>\n",
       "      <td>data</td>\n",
       "      <td>eng-usg</td>\n",
       "      <td>zkllk</td>\n",
       "    </tr>\n",
       "    <tr>\n",
       "      <th>1</th>\n",
       "      <td>-0.640179</td>\n",
       "      <td>0.301083</td>\n",
       "      <td>0.071469</td>\n",
       "      <td>-0.550717</td>\n",
       "      <td>1.258704</td>\n",
       "      <td>1.560921</td>\n",
       "      <td>0.588061</td>\n",
       "      <td>0.849878</td>\n",
       "      <td>1.693304</td>\n",
       "      <td>1.515224</td>\n",
       "      <td>...</td>\n",
       "      <td>-0.109180</td>\n",
       "      <td>0.066603</td>\n",
       "      <td>-2.434538</td>\n",
       "      <td>-0.728701</td>\n",
       "      <td>1.941986</td>\n",
       "      <td>zkllk</td>\n",
       "      <td>LDC2017E22</td>\n",
       "      <td>data</td>\n",
       "      <td>eng-usg</td>\n",
       "      <td>zkllk</td>\n",
       "    </tr>\n",
       "    <tr>\n",
       "      <th>2</th>\n",
       "      <td>-0.696718</td>\n",
       "      <td>-0.011839</td>\n",
       "      <td>-1.394296</td>\n",
       "      <td>-0.432752</td>\n",
       "      <td>1.630261</td>\n",
       "      <td>1.919297</td>\n",
       "      <td>0.930681</td>\n",
       "      <td>0.652783</td>\n",
       "      <td>1.899361</td>\n",
       "      <td>0.722699</td>\n",
       "      <td>...</td>\n",
       "      <td>-2.320411</td>\n",
       "      <td>-0.358037</td>\n",
       "      <td>-2.294246</td>\n",
       "      <td>-1.532981</td>\n",
       "      <td>-0.590578</td>\n",
       "      <td>zkllk</td>\n",
       "      <td>LDC2017E22</td>\n",
       "      <td>data</td>\n",
       "      <td>eng-usg</td>\n",
       "      <td>zkllk</td>\n",
       "    </tr>\n",
       "    <tr>\n",
       "      <th>3</th>\n",
       "      <td>0.503734</td>\n",
       "      <td>0.247072</td>\n",
       "      <td>0.451463</td>\n",
       "      <td>0.500546</td>\n",
       "      <td>-0.716668</td>\n",
       "      <td>1.337575</td>\n",
       "      <td>-1.027019</td>\n",
       "      <td>0.773720</td>\n",
       "      <td>0.910362</td>\n",
       "      <td>1.728001</td>\n",
       "      <td>...</td>\n",
       "      <td>0.886613</td>\n",
       "      <td>6.766799</td>\n",
       "      <td>-1.040380</td>\n",
       "      <td>-0.751316</td>\n",
       "      <td>-1.487938</td>\n",
       "      <td>lid05e1_lid00562</td>\n",
       "      <td>LDC2017E22</td>\n",
       "      <td>data</td>\n",
       "      <td>eng-usg</td>\n",
       "      <td>lid05e1_lid00562</td>\n",
       "    </tr>\n",
       "    <tr>\n",
       "      <th>4</th>\n",
       "      <td>-0.088514</td>\n",
       "      <td>0.886515</td>\n",
       "      <td>0.095606</td>\n",
       "      <td>-0.870576</td>\n",
       "      <td>1.269740</td>\n",
       "      <td>1.076300</td>\n",
       "      <td>-0.073294</td>\n",
       "      <td>-0.330384</td>\n",
       "      <td>-0.789608</td>\n",
       "      <td>0.358869</td>\n",
       "      <td>...</td>\n",
       "      <td>1.725191</td>\n",
       "      <td>1.086392</td>\n",
       "      <td>0.900200</td>\n",
       "      <td>1.200539</td>\n",
       "      <td>-2.001619</td>\n",
       "      <td>lid05e1_lid00562</td>\n",
       "      <td>LDC2017E22</td>\n",
       "      <td>data</td>\n",
       "      <td>eng-usg</td>\n",
       "      <td>lid05e1_lid00562</td>\n",
       "    </tr>\n",
       "  </tbody>\n",
       "</table>\n",
       "<p>5 rows × 505 columns</p>\n",
       "</div>"
      ],
      "text/plain": [
       "          0         1         2         3         4         5         6  \\\n",
       "0 -0.314181  0.671920 -0.188068 -0.910752  1.050361  1.966829  0.292740   \n",
       "1 -0.640179  0.301083  0.071469 -0.550717  1.258704  1.560921  0.588061   \n",
       "2 -0.696718 -0.011839 -1.394296 -0.432752  1.630261  1.919297  0.930681   \n",
       "3  0.503734  0.247072  0.451463  0.500546 -0.716668  1.337575 -1.027019   \n",
       "4 -0.088514  0.886515  0.095606 -0.870576  1.269740  1.076300 -0.073294   \n",
       "\n",
       "          7         8         9        ...              495       496  \\\n",
       "0  1.084547  1.287480  1.745248        ...        -0.564911 -1.854116   \n",
       "1  0.849878  1.693304  1.515224        ...        -0.109180  0.066603   \n",
       "2  0.652783  1.899361  0.722699        ...        -2.320411 -0.358037   \n",
       "3  0.773720  0.910362  1.728001        ...         0.886613  6.766799   \n",
       "4 -0.330384 -0.789608  0.358869        ...         1.725191  1.086392   \n",
       "\n",
       "        497       498       499               ids        year  data     lang  \\\n",
       "0 -3.185948 -2.177057  0.301166             zkllk  LDC2017E22  data  eng-usg   \n",
       "1 -2.434538 -0.728701  1.941986             zkllk  LDC2017E22  data  eng-usg   \n",
       "2 -2.294246 -1.532981 -0.590578             zkllk  LDC2017E22  data  eng-usg   \n",
       "3 -1.040380 -0.751316 -1.487938  lid05e1_lid00562  LDC2017E22  data  eng-usg   \n",
       "4  0.900200  1.200539 -2.001619  lid05e1_lid00562  LDC2017E22  data  eng-usg   \n",
       "\n",
       "            lang_id  \n",
       "0             zkllk  \n",
       "1             zkllk  \n",
       "2             zkllk  \n",
       "3  lid05e1_lid00562  \n",
       "4  lid05e1_lid00562  \n",
       "\n",
       "[5 rows x 505 columns]"
      ]
     },
     "execution_count": 29,
     "metadata": {},
     "output_type": "execute_result"
    }
   ],
   "source": [
    "train_lre_10sec_alone.head()"
   ]
  },
  {
   "cell_type": "code",
   "execution_count": 30,
   "metadata": {},
   "outputs": [],
   "source": [
    "X_train_10sec_alone = train_lre_10sec_alone.drop(['ids','year','data','lang','lang_id'],axis=1)"
   ]
  },
  {
   "cell_type": "code",
   "execution_count": 31,
   "metadata": {},
   "outputs": [
    {
     "data": {
      "text/html": [
       "<div>\n",
       "<style scoped>\n",
       "    .dataframe tbody tr th:only-of-type {\n",
       "        vertical-align: middle;\n",
       "    }\n",
       "\n",
       "    .dataframe tbody tr th {\n",
       "        vertical-align: top;\n",
       "    }\n",
       "\n",
       "    .dataframe thead th {\n",
       "        text-align: right;\n",
       "    }\n",
       "</style>\n",
       "<table border=\"1\" class=\"dataframe\">\n",
       "  <thead>\n",
       "    <tr style=\"text-align: right;\">\n",
       "      <th></th>\n",
       "      <th>0</th>\n",
       "      <th>1</th>\n",
       "      <th>2</th>\n",
       "      <th>3</th>\n",
       "      <th>4</th>\n",
       "      <th>5</th>\n",
       "      <th>6</th>\n",
       "      <th>7</th>\n",
       "      <th>8</th>\n",
       "      <th>9</th>\n",
       "      <th>...</th>\n",
       "      <th>490</th>\n",
       "      <th>491</th>\n",
       "      <th>492</th>\n",
       "      <th>493</th>\n",
       "      <th>494</th>\n",
       "      <th>495</th>\n",
       "      <th>496</th>\n",
       "      <th>497</th>\n",
       "      <th>498</th>\n",
       "      <th>499</th>\n",
       "    </tr>\n",
       "  </thead>\n",
       "  <tbody>\n",
       "    <tr>\n",
       "      <th>0</th>\n",
       "      <td>-0.314181</td>\n",
       "      <td>0.671920</td>\n",
       "      <td>-0.188068</td>\n",
       "      <td>-0.910752</td>\n",
       "      <td>1.050361</td>\n",
       "      <td>1.966829</td>\n",
       "      <td>0.292740</td>\n",
       "      <td>1.084547</td>\n",
       "      <td>1.287480</td>\n",
       "      <td>1.745248</td>\n",
       "      <td>...</td>\n",
       "      <td>-1.480749</td>\n",
       "      <td>0.210435</td>\n",
       "      <td>1.639710</td>\n",
       "      <td>-1.208895</td>\n",
       "      <td>-3.649134</td>\n",
       "      <td>-0.564911</td>\n",
       "      <td>-1.854116</td>\n",
       "      <td>-3.185948</td>\n",
       "      <td>-2.177057</td>\n",
       "      <td>0.301166</td>\n",
       "    </tr>\n",
       "    <tr>\n",
       "      <th>1</th>\n",
       "      <td>-0.640179</td>\n",
       "      <td>0.301083</td>\n",
       "      <td>0.071469</td>\n",
       "      <td>-0.550717</td>\n",
       "      <td>1.258704</td>\n",
       "      <td>1.560921</td>\n",
       "      <td>0.588061</td>\n",
       "      <td>0.849878</td>\n",
       "      <td>1.693304</td>\n",
       "      <td>1.515224</td>\n",
       "      <td>...</td>\n",
       "      <td>0.227592</td>\n",
       "      <td>0.343815</td>\n",
       "      <td>-2.414109</td>\n",
       "      <td>-0.481640</td>\n",
       "      <td>-1.312462</td>\n",
       "      <td>-0.109180</td>\n",
       "      <td>0.066603</td>\n",
       "      <td>-2.434538</td>\n",
       "      <td>-0.728701</td>\n",
       "      <td>1.941986</td>\n",
       "    </tr>\n",
       "    <tr>\n",
       "      <th>2</th>\n",
       "      <td>-0.696718</td>\n",
       "      <td>-0.011839</td>\n",
       "      <td>-1.394296</td>\n",
       "      <td>-0.432752</td>\n",
       "      <td>1.630261</td>\n",
       "      <td>1.919297</td>\n",
       "      <td>0.930681</td>\n",
       "      <td>0.652783</td>\n",
       "      <td>1.899361</td>\n",
       "      <td>0.722699</td>\n",
       "      <td>...</td>\n",
       "      <td>-1.192051</td>\n",
       "      <td>1.959293</td>\n",
       "      <td>-0.038734</td>\n",
       "      <td>1.076164</td>\n",
       "      <td>-0.359313</td>\n",
       "      <td>-2.320411</td>\n",
       "      <td>-0.358037</td>\n",
       "      <td>-2.294246</td>\n",
       "      <td>-1.532981</td>\n",
       "      <td>-0.590578</td>\n",
       "    </tr>\n",
       "    <tr>\n",
       "      <th>3</th>\n",
       "      <td>0.503734</td>\n",
       "      <td>0.247072</td>\n",
       "      <td>0.451463</td>\n",
       "      <td>0.500546</td>\n",
       "      <td>-0.716668</td>\n",
       "      <td>1.337575</td>\n",
       "      <td>-1.027019</td>\n",
       "      <td>0.773720</td>\n",
       "      <td>0.910362</td>\n",
       "      <td>1.728001</td>\n",
       "      <td>...</td>\n",
       "      <td>0.357329</td>\n",
       "      <td>0.321357</td>\n",
       "      <td>0.721421</td>\n",
       "      <td>2.759504</td>\n",
       "      <td>3.166255</td>\n",
       "      <td>0.886613</td>\n",
       "      <td>6.766799</td>\n",
       "      <td>-1.040380</td>\n",
       "      <td>-0.751316</td>\n",
       "      <td>-1.487938</td>\n",
       "    </tr>\n",
       "    <tr>\n",
       "      <th>4</th>\n",
       "      <td>-0.088514</td>\n",
       "      <td>0.886515</td>\n",
       "      <td>0.095606</td>\n",
       "      <td>-0.870576</td>\n",
       "      <td>1.269740</td>\n",
       "      <td>1.076300</td>\n",
       "      <td>-0.073294</td>\n",
       "      <td>-0.330384</td>\n",
       "      <td>-0.789608</td>\n",
       "      <td>0.358869</td>\n",
       "      <td>...</td>\n",
       "      <td>-0.871817</td>\n",
       "      <td>-0.646000</td>\n",
       "      <td>0.067658</td>\n",
       "      <td>-0.746227</td>\n",
       "      <td>-1.354851</td>\n",
       "      <td>1.725191</td>\n",
       "      <td>1.086392</td>\n",
       "      <td>0.900200</td>\n",
       "      <td>1.200539</td>\n",
       "      <td>-2.001619</td>\n",
       "    </tr>\n",
       "  </tbody>\n",
       "</table>\n",
       "<p>5 rows × 500 columns</p>\n",
       "</div>"
      ],
      "text/plain": [
       "          0         1         2         3         4         5         6  \\\n",
       "0 -0.314181  0.671920 -0.188068 -0.910752  1.050361  1.966829  0.292740   \n",
       "1 -0.640179  0.301083  0.071469 -0.550717  1.258704  1.560921  0.588061   \n",
       "2 -0.696718 -0.011839 -1.394296 -0.432752  1.630261  1.919297  0.930681   \n",
       "3  0.503734  0.247072  0.451463  0.500546 -0.716668  1.337575 -1.027019   \n",
       "4 -0.088514  0.886515  0.095606 -0.870576  1.269740  1.076300 -0.073294   \n",
       "\n",
       "          7         8         9    ...          490       491       492  \\\n",
       "0  1.084547  1.287480  1.745248    ...    -1.480749  0.210435  1.639710   \n",
       "1  0.849878  1.693304  1.515224    ...     0.227592  0.343815 -2.414109   \n",
       "2  0.652783  1.899361  0.722699    ...    -1.192051  1.959293 -0.038734   \n",
       "3  0.773720  0.910362  1.728001    ...     0.357329  0.321357  0.721421   \n",
       "4 -0.330384 -0.789608  0.358869    ...    -0.871817 -0.646000  0.067658   \n",
       "\n",
       "        493       494       495       496       497       498       499  \n",
       "0 -1.208895 -3.649134 -0.564911 -1.854116 -3.185948 -2.177057  0.301166  \n",
       "1 -0.481640 -1.312462 -0.109180  0.066603 -2.434538 -0.728701  1.941986  \n",
       "2  1.076164 -0.359313 -2.320411 -0.358037 -2.294246 -1.532981 -0.590578  \n",
       "3  2.759504  3.166255  0.886613  6.766799 -1.040380 -0.751316 -1.487938  \n",
       "4 -0.746227 -1.354851  1.725191  1.086392  0.900200  1.200539 -2.001619  \n",
       "\n",
       "[5 rows x 500 columns]"
      ]
     },
     "execution_count": 31,
     "metadata": {},
     "output_type": "execute_result"
    }
   ],
   "source": [
    "X_train_10sec_alone.head()"
   ]
  },
  {
   "cell_type": "code",
   "execution_count": 32,
   "metadata": {},
   "outputs": [],
   "source": [
    "y_10sec_labels_alone = train_lre_10sec_alone[\"lang\"]"
   ]
  },
  {
   "cell_type": "code",
   "execution_count": 33,
   "metadata": {},
   "outputs": [
    {
     "data": {
      "text/plain": [
       "0    eng-usg\n",
       "1    eng-usg\n",
       "2    eng-usg\n",
       "3    eng-usg\n",
       "4    eng-usg\n",
       "Name: lang, dtype: object"
      ]
     },
     "execution_count": 33,
     "metadata": {},
     "output_type": "execute_result"
    }
   ],
   "source": [
    "y_10sec_labels_alone.head()"
   ]
  },
  {
   "cell_type": "code",
   "execution_count": 34,
   "metadata": {},
   "outputs": [
    {
     "data": {
      "text/plain": [
       "LabelEncoder()"
      ]
     },
     "execution_count": 34,
     "metadata": {},
     "output_type": "execute_result"
    }
   ],
   "source": [
    "le = preprocessing.LabelEncoder()\n",
    "le.fit(y_10sec_labels_alone)"
   ]
  },
  {
   "cell_type": "code",
   "execution_count": 35,
   "metadata": {},
   "outputs": [
    {
     "data": {
      "text/plain": [
       "array(['ara-acm', 'ara-apc', 'ara-ary', 'ara-arz', 'eng-gbr', 'eng-usg',\n",
       "       'por-brz', 'qsl-pol', 'qsl-rus', 'spa-car', 'spa-eur', 'spa-lac',\n",
       "       'zho-cmn', 'zho-nan'], dtype=object)"
      ]
     },
     "execution_count": 35,
     "metadata": {},
     "output_type": "execute_result"
    }
   ],
   "source": [
    "le.classes_"
   ]
  },
  {
   "cell_type": "code",
   "execution_count": 36,
   "metadata": {},
   "outputs": [],
   "source": [
    "y_10sec_labels_alone=le.transform(y_10sec_labels_alone)"
   ]
  },
  {
   "cell_type": "code",
   "execution_count": 37,
   "metadata": {},
   "outputs": [
    {
     "data": {
      "text/plain": [
       "(360133,)"
      ]
     },
     "execution_count": 37,
     "metadata": {},
     "output_type": "execute_result"
    }
   ],
   "source": [
    "y_10sec_labels_alone.shape"
   ]
  },
  {
   "cell_type": "code",
   "execution_count": 38,
   "metadata": {},
   "outputs": [
    {
     "data": {
      "text/plain": [
       "(360133, 14)"
      ]
     },
     "execution_count": 38,
     "metadata": {},
     "output_type": "execute_result"
    }
   ],
   "source": [
    "nb_classes = 14\n",
    "\n",
    "# convert class vectors to binary class matrices\n",
    "Y_train_labels_alone = np_utils.to_categorical(y_10sec_labels_alone, nb_classes)\n",
    "\n",
    "Y_train_labels_alone.shape"
   ]
  },
  {
   "cell_type": "code",
   "execution_count": null,
   "metadata": {},
   "outputs": [],
   "source": []
  },
  {
   "cell_type": "code",
   "execution_count": null,
   "metadata": {},
   "outputs": [],
   "source": []
  },
  {
   "cell_type": "code",
   "execution_count": null,
   "metadata": {},
   "outputs": [],
   "source": []
  },
  {
   "cell_type": "code",
   "execution_count": null,
   "metadata": {},
   "outputs": [],
   "source": []
  },
  {
   "cell_type": "code",
   "execution_count": null,
   "metadata": {},
   "outputs": [],
   "source": []
  },
  {
   "cell_type": "code",
   "execution_count": 39,
   "metadata": {},
   "outputs": [],
   "source": [
    "X_train_10sec_alone = X_train_10sec_alone.values"
   ]
  },
  {
   "cell_type": "code",
   "execution_count": 40,
   "metadata": {},
   "outputs": [],
   "source": [
    "X_train_10sec_alone = X_train_10sec_alone.astype('float32')\n"
   ]
  },
  {
   "cell_type": "code",
   "execution_count": 41,
   "metadata": {},
   "outputs": [],
   "source": [
    "X_train_30sec_gen = Variable(torch.from_numpy(X_train_10sec_alone))"
   ]
  },
  {
   "cell_type": "code",
   "execution_count": 42,
   "metadata": {},
   "outputs": [
    {
     "data": {
      "text/plain": [
       "FC_Network(\n",
       "  (layer_1): Linear(in_features=500, out_features=512)\n",
       "  (bn_1): BatchNorm1d(512, eps=1e-05, momentum=0.1, affine=True)\n",
       "  (layer_2): Linear(in_features=512, out_features=512)\n",
       "  (bn_2): BatchNorm1d(512, eps=1e-05, momentum=0.1, affine=True)\n",
       "  (layer_3): Linear(in_features=512, out_features=512)\n",
       "  (bn_3): BatchNorm1d(512, eps=1e-05, momentum=0.1, affine=True)\n",
       "  (layer_4): Linear(in_features=512, out_features=512)\n",
       "  (bn_4): BatchNorm1d(512, eps=1e-05, momentum=0.1, affine=True)\n",
       "  (output_layer): Linear(in_features=512, out_features=500)\n",
       "  (relu): ReLU()\n",
       ")"
      ]
     },
     "execution_count": 42,
     "metadata": {},
     "output_type": "execute_result"
    }
   ],
   "source": [
    "G.eval()"
   ]
  },
  {
   "cell_type": "code",
   "execution_count": 43,
   "metadata": {},
   "outputs": [],
   "source": [
    "gen_samples = G(X_train_30sec_gen.cuda())"
   ]
  },
  {
   "cell_type": "code",
   "execution_count": 44,
   "metadata": {},
   "outputs": [
    {
     "data": {
      "text/plain": [
       "torch.Size([360133, 500])"
      ]
     },
     "execution_count": 44,
     "metadata": {},
     "output_type": "execute_result"
    }
   ],
   "source": [
    "gen_samples.data.shape"
   ]
  },
  {
   "cell_type": "code",
   "execution_count": 45,
   "metadata": {},
   "outputs": [],
   "source": [
    "#Taking the generated iVectors we will try to check the acc by MLP"
   ]
  },
  {
   "cell_type": "code",
   "execution_count": 46,
   "metadata": {},
   "outputs": [],
   "source": [
    "train_X_gen = gen_samples.cpu().data.numpy()"
   ]
  },
  {
   "cell_type": "code",
   "execution_count": 47,
   "metadata": {},
   "outputs": [
    {
     "data": {
      "text/plain": [
       "numpy.ndarray"
      ]
     },
     "execution_count": 47,
     "metadata": {},
     "output_type": "execute_result"
    }
   ],
   "source": [
    "type(train_X_gen)"
   ]
  },
  {
   "cell_type": "code",
   "execution_count": 48,
   "metadata": {},
   "outputs": [],
   "source": [
    "X_train = pd.DataFrame(X_train_10sec)\n",
    "#Y_train = pd.DataFrame(Y_train)\n"
   ]
  },
  {
   "cell_type": "code",
   "execution_count": null,
   "metadata": {},
   "outputs": [],
   "source": []
  },
  {
   "cell_type": "raw",
   "metadata": {},
   "source": [
    "y_30sec_labels.head()\n",
    "\n",
    "le = preprocessing.LabelEncoder()\n",
    "le.fit(y_30sec_labels)\n",
    "\n",
    "le.classes_\n",
    "\n",
    "y_30sec_labels=le.transform(y_30sec_labels)\n",
    "\n",
    "y_30sec_labels.shape\n",
    "\n",
    "nb_classes = 14\n",
    "\n",
    "# convert class vectors to binary class matrices\n",
    "Y_train_labels = np_utils.to_categorical(y_30sec_labels, nb_classes)\n",
    "\n",
    "Y_train_labels.shape\n",
    "\n"
   ]
  },
  {
   "cell_type": "code",
   "execution_count": 49,
   "metadata": {},
   "outputs": [],
   "source": [
    "val_lre = pd.read_csv('/home/satishk/GAN_lre/gan_csv/dev_feat_BNF_h5_03Jan.csv')\n"
   ]
  },
  {
   "cell_type": "code",
   "execution_count": 50,
   "metadata": {},
   "outputs": [],
   "source": [
    "eval_lre = pd.read_csv('/home/satishk/GAN_lre/gan_csv/eval_feat_BNF_h5_03Jan.csv')\n"
   ]
  },
  {
   "cell_type": "code",
   "execution_count": 51,
   "metadata": {},
   "outputs": [],
   "source": [
    "X_val = val_lre.drop([\"language_code\",\"uttid\",\"segmentid1\",\"data_source\",\"speech_duration\"],axis=1)\n",
    "y_val = val_lre[\"language_code\"]\n",
    "y_val_segmentid = val_lre[\"segmentid1\"]"
   ]
  },
  {
   "cell_type": "code",
   "execution_count": 52,
   "metadata": {},
   "outputs": [],
   "source": [
    "X_eval = eval_lre.drop([\"language_code\",\"uttid\",\"segmentid1\",\"data_source\",\"speech_duration\"],axis=1)\n",
    "y_eval = eval_lre[\"language_code\"]\n",
    "y_eval_segmentid = eval_lre[\"segmentid1\"]"
   ]
  },
  {
   "cell_type": "code",
   "execution_count": 53,
   "metadata": {},
   "outputs": [],
   "source": [
    "X_val = X_val.values\n",
    "X_eval = X_eval.values"
   ]
  },
  {
   "cell_type": "code",
   "execution_count": 54,
   "metadata": {},
   "outputs": [
    {
     "data": {
      "text/plain": [
       "(25451, 500)"
      ]
     },
     "execution_count": 54,
     "metadata": {},
     "output_type": "execute_result"
    }
   ],
   "source": [
    "X_eval.shape"
   ]
  },
  {
   "cell_type": "code",
   "execution_count": 55,
   "metadata": {},
   "outputs": [
    {
     "data": {
      "text/plain": [
       "LabelEncoder()"
      ]
     },
     "execution_count": 55,
     "metadata": {},
     "output_type": "execute_result"
    }
   ],
   "source": [
    "le = preprocessing.LabelEncoder()\n",
    "le.fit(y_val)"
   ]
  },
  {
   "cell_type": "code",
   "execution_count": 56,
   "metadata": {},
   "outputs": [
    {
     "data": {
      "text/plain": [
       "array(['ara-acm', 'ara-apc', 'ara-ary', 'ara-arz', 'eng-gbr', 'eng-usg',\n",
       "       'por-brz', 'qsl-pol', 'qsl-rus', 'spa-car', 'spa-eur', 'spa-lac',\n",
       "       'zho-cmn', 'zho-nan'], dtype=object)"
      ]
     },
     "execution_count": 56,
     "metadata": {},
     "output_type": "execute_result"
    }
   ],
   "source": [
    "le.classes_"
   ]
  },
  {
   "cell_type": "code",
   "execution_count": 57,
   "metadata": {},
   "outputs": [],
   "source": [
    "y_val_labels = le.transform(y_val)"
   ]
  },
  {
   "cell_type": "code",
   "execution_count": 58,
   "metadata": {},
   "outputs": [
    {
     "data": {
      "text/plain": [
       "LabelEncoder()"
      ]
     },
     "execution_count": 58,
     "metadata": {},
     "output_type": "execute_result"
    }
   ],
   "source": [
    "le = preprocessing.LabelEncoder()\n",
    "le.fit(y_eval)"
   ]
  },
  {
   "cell_type": "code",
   "execution_count": 59,
   "metadata": {},
   "outputs": [
    {
     "data": {
      "text/plain": [
       "array(['ara-acm', 'ara-apc', 'ara-ary', 'ara-arz', 'eng-gbr', 'eng-usg',\n",
       "       'por-brz', 'qsl-pol', 'qsl-rus', 'spa-car', 'spa-eur', 'spa-lac',\n",
       "       'zho-cmn', 'zho-nan'], dtype=object)"
      ]
     },
     "execution_count": 59,
     "metadata": {},
     "output_type": "execute_result"
    }
   ],
   "source": [
    "le.classes_"
   ]
  },
  {
   "cell_type": "code",
   "execution_count": 60,
   "metadata": {},
   "outputs": [],
   "source": [
    "y_eval_labels = le.transform(y_eval)"
   ]
  },
  {
   "cell_type": "code",
   "execution_count": 61,
   "metadata": {},
   "outputs": [
    {
     "data": {
      "text/plain": [
       "array([12,  2,  5,  3,  3,  1, 12, 13,  6,  5])"
      ]
     },
     "execution_count": 61,
     "metadata": {},
     "output_type": "execute_result"
    }
   ],
   "source": [
    "y_eval_labels[0:10]"
   ]
  },
  {
   "cell_type": "code",
   "execution_count": 62,
   "metadata": {},
   "outputs": [],
   "source": [
    "# convert class vectors to binary class matrices\n",
    "Y_val = np_utils.to_categorical(y_val_labels, nb_classes)\n",
    "Y_eval = np_utils.to_categorical(y_eval_labels, nb_classes)"
   ]
  },
  {
   "cell_type": "code",
   "execution_count": 63,
   "metadata": {},
   "outputs": [
    {
     "data": {
      "text/plain": [
       "array([[ 0.,  0.,  0., ...,  1.,  0.,  0.],\n",
       "       [ 0.,  0.,  0., ...,  0.,  1.,  0.],\n",
       "       [ 0.,  0.,  0., ...,  0.,  0.,  0.],\n",
       "       ..., \n",
       "       [ 0.,  0.,  0., ...,  0.,  0.,  1.],\n",
       "       [ 1.,  0.,  0., ...,  0.,  0.,  0.],\n",
       "       [ 0.,  0.,  0., ...,  0.,  0.,  0.]])"
      ]
     },
     "execution_count": 63,
     "metadata": {},
     "output_type": "execute_result"
    }
   ],
   "source": [
    "Y_val"
   ]
  },
  {
   "cell_type": "code",
   "execution_count": null,
   "metadata": {},
   "outputs": [],
   "source": []
  },
  {
   "cell_type": "code",
   "execution_count": 64,
   "metadata": {},
   "outputs": [],
   "source": [
    "model = Sequential()\n",
    "model.add(Dense(512, input_dim=500))\n",
    "model.add(Activation('relu'))\n",
    "model.add(Dropout(0.5))\n",
    "\n",
    "model.add(Dense(512))\n",
    "model.add(Activation('relu'))\n",
    "model.add(Dropout(0.5))\n",
    "\n",
    "model.add(Dense(nb_classes))\n",
    "model.add(Activation('softmax'))"
   ]
  },
  {
   "cell_type": "code",
   "execution_count": 65,
   "metadata": {},
   "outputs": [
    {
     "name": "stdout",
     "output_type": "stream",
     "text": [
      "_________________________________________________________________\n",
      "Layer (type)                 Output Shape              Param #   \n",
      "=================================================================\n",
      "dense_1 (Dense)              (None, 512)               256512    \n",
      "_________________________________________________________________\n",
      "activation_1 (Activation)    (None, 512)               0         \n",
      "_________________________________________________________________\n",
      "dropout_1 (Dropout)          (None, 512)               0         \n",
      "_________________________________________________________________\n",
      "dense_2 (Dense)              (None, 512)               262656    \n",
      "_________________________________________________________________\n",
      "activation_2 (Activation)    (None, 512)               0         \n",
      "_________________________________________________________________\n",
      "dropout_2 (Dropout)          (None, 512)               0         \n",
      "_________________________________________________________________\n",
      "dense_3 (Dense)              (None, 14)                7182      \n",
      "_________________________________________________________________\n",
      "activation_3 (Activation)    (None, 14)                0         \n",
      "=================================================================\n",
      "Total params: 526,350\n",
      "Trainable params: 526,350\n",
      "Non-trainable params: 0\n",
      "_________________________________________________________________\n"
     ]
    }
   ],
   "source": [
    "model.summary()"
   ]
  },
  {
   "cell_type": "code",
   "execution_count": 66,
   "metadata": {},
   "outputs": [],
   "source": [
    "adam=optimizers.Adam(lr=0.001, beta_1=0.9, beta_2=0.999, epsilon=1e-08, decay=0.0)\n",
    "\n",
    "model.compile(loss='categorical_crossentropy',\n",
    "              optimizer='adam',\n",
    "              metrics=['accuracy'])"
   ]
  },
  {
   "cell_type": "code",
   "execution_count": 67,
   "metadata": {},
   "outputs": [],
   "source": [
    "best_weights_filepath = '/home/satishk/saved_weights/best_weights_2l_MLP_11.hdf5'\n",
    "saveBestModel = ModelCheckpoint(best_weights_filepath, monitor='val_acc', verbose=1, save_best_only=True, mode='auto')\n"
   ]
  },
  {
   "cell_type": "code",
   "execution_count": 68,
   "metadata": {},
   "outputs": [
    {
     "data": {
      "text/plain": [
       "(360133, 505)"
      ]
     },
     "execution_count": 68,
     "metadata": {},
     "output_type": "execute_result"
    }
   ],
   "source": [
    "train_lre_10sec_alone.shape"
   ]
  },
  {
   "cell_type": "code",
   "execution_count": 69,
   "metadata": {},
   "outputs": [
    {
     "data": {
      "text/plain": [
       "(360133, 14)"
      ]
     },
     "execution_count": 69,
     "metadata": {},
     "output_type": "execute_result"
    }
   ],
   "source": [
    "Y_train_labels_alone.shape"
   ]
  },
  {
   "cell_type": "code",
   "execution_count": 70,
   "metadata": {},
   "outputs": [],
   "source": [
    "batch_size = 256\n",
    "nb_epoch = 25"
   ]
  },
  {
   "cell_type": "code",
   "execution_count": 71,
   "metadata": {},
   "outputs": [
    {
     "name": "stdout",
     "output_type": "stream",
     "text": [
      "Train on 360133 samples, validate on 3661 samples\n",
      "Epoch 1/25\n",
      "Epoch 00000: val_acc improved from -inf to 0.67960, saving model to /home/satishk/saved_weights/best_weights_2l_MLP_11.hdf5\n",
      "26s - loss: 0.2495 - acc: 0.9199 - val_loss: 1.4345 - val_acc: 0.6796\n",
      "Epoch 2/25\n",
      "Epoch 00001: val_acc improved from 0.67960 to 0.68779, saving model to /home/satishk/saved_weights/best_weights_2l_MLP_11.hdf5\n",
      "25s - loss: 0.0840 - acc: 0.9724 - val_loss: 1.3861 - val_acc: 0.6878\n",
      "Epoch 3/25\n",
      "Epoch 00002: val_acc did not improve\n",
      "25s - loss: 0.0673 - acc: 0.9779 - val_loss: 1.4272 - val_acc: 0.6867\n",
      "Epoch 4/25\n",
      "Epoch 00003: val_acc improved from 0.68779 to 0.69981, saving model to /home/satishk/saved_weights/best_weights_2l_MLP_11.hdf5\n",
      "26s - loss: 0.0584 - acc: 0.9810 - val_loss: 1.4335 - val_acc: 0.6998\n",
      "Epoch 5/25\n",
      "Epoch 00004: val_acc did not improve\n",
      "25s - loss: 0.0528 - acc: 0.9827 - val_loss: 1.4879 - val_acc: 0.6908\n",
      "Epoch 6/25\n",
      "Epoch 00005: val_acc did not improve\n",
      "25s - loss: 0.0482 - acc: 0.9845 - val_loss: 1.4885 - val_acc: 0.6949\n",
      "Epoch 7/25\n",
      "Epoch 00006: val_acc did not improve\n",
      "25s - loss: 0.0457 - acc: 0.9853 - val_loss: 1.4669 - val_acc: 0.6867\n",
      "Epoch 8/25\n",
      "Epoch 00007: val_acc did not improve\n",
      "25s - loss: 0.0428 - acc: 0.9863 - val_loss: 1.4882 - val_acc: 0.6889\n",
      "Epoch 9/25\n",
      "Epoch 00008: val_acc improved from 0.69981 to 0.70117, saving model to /home/satishk/saved_weights/best_weights_2l_MLP_11.hdf5\n",
      "25s - loss: 0.0412 - acc: 0.9868 - val_loss: 1.4681 - val_acc: 0.7012\n",
      "Epoch 10/25\n",
      "Epoch 00009: val_acc did not improve\n",
      "25s - loss: 0.0398 - acc: 0.9875 - val_loss: 1.5141 - val_acc: 0.6834\n",
      "Epoch 11/25\n",
      "Epoch 00010: val_acc did not improve\n",
      "25s - loss: 0.0379 - acc: 0.9883 - val_loss: 1.5301 - val_acc: 0.6851\n",
      "Epoch 12/25\n",
      "Epoch 00011: val_acc did not improve\n",
      "25s - loss: 0.0369 - acc: 0.9885 - val_loss: 1.6673 - val_acc: 0.6722\n",
      "Epoch 13/25\n",
      "Epoch 00012: val_acc did not improve\n",
      "25s - loss: 0.0365 - acc: 0.9889 - val_loss: 1.5496 - val_acc: 0.6842\n",
      "Epoch 14/25\n",
      "Epoch 00013: val_acc did not improve\n",
      "25s - loss: 0.0342 - acc: 0.9895 - val_loss: 1.5270 - val_acc: 0.6933\n",
      "Epoch 15/25\n",
      "Epoch 00014: val_acc did not improve\n",
      "25s - loss: 0.0338 - acc: 0.9897 - val_loss: 1.5580 - val_acc: 0.6763\n",
      "Epoch 16/25\n",
      "Epoch 00015: val_acc did not improve\n",
      "25s - loss: 0.0341 - acc: 0.9898 - val_loss: 1.6206 - val_acc: 0.6812\n",
      "Epoch 17/25\n",
      "Epoch 00016: val_acc did not improve\n",
      "25s - loss: 0.0339 - acc: 0.9900 - val_loss: 1.6708 - val_acc: 0.6719\n",
      "Epoch 18/25\n",
      "Epoch 00017: val_acc did not improve\n",
      "25s - loss: 0.0322 - acc: 0.9904 - val_loss: 1.5846 - val_acc: 0.6796\n",
      "Epoch 19/25\n",
      "Epoch 00018: val_acc did not improve\n",
      "25s - loss: 0.0310 - acc: 0.9907 - val_loss: 1.5598 - val_acc: 0.6829\n",
      "Epoch 20/25\n",
      "Epoch 00019: val_acc did not improve\n",
      "25s - loss: 0.0316 - acc: 0.9908 - val_loss: 1.7838 - val_acc: 0.6769\n",
      "Epoch 21/25\n",
      "Epoch 00020: val_acc did not improve\n",
      "26s - loss: 0.0315 - acc: 0.9912 - val_loss: 1.7568 - val_acc: 0.6695\n",
      "Epoch 22/25\n",
      "Epoch 00021: val_acc did not improve\n",
      "25s - loss: 0.0298 - acc: 0.9913 - val_loss: 1.5209 - val_acc: 0.6908\n",
      "Epoch 23/25\n",
      "Epoch 00022: val_acc did not improve\n",
      "25s - loss: 0.0306 - acc: 0.9911 - val_loss: 1.7050 - val_acc: 0.6747\n",
      "Epoch 24/25\n",
      "Epoch 00023: val_acc did not improve\n",
      "25s - loss: 0.0297 - acc: 0.9916 - val_loss: 1.7189 - val_acc: 0.6755\n",
      "Epoch 25/25\n",
      "Epoch 00024: val_acc did not improve\n",
      "25s - loss: 0.0292 - acc: 0.9916 - val_loss: 1.6724 - val_acc: 0.6845\n"
     ]
    }
   ],
   "source": [
    "#train_X_gen\n",
    "#Checking Accuracy with augmented data \n",
    "history = model.fit(train_X_gen, Y_train_labels_alone , batch_size=batch_size, epochs=nb_epoch,verbose=2, \n",
    "                    validation_data=(X_val , Y_val),callbacks=[saveBestModel])"
   ]
  },
  {
   "cell_type": "code",
   "execution_count": 72,
   "metadata": {},
   "outputs": [
    {
     "name": "stdout",
     "output_type": "stream",
     "text": [
      "Acc %: 0.68688853091\n"
     ]
    }
   ],
   "source": [
    "score = model.evaluate(X_eval, Y_eval, verbose=0)\n",
    "print('Acc %:', score[1])"
   ]
  },
  {
   "cell_type": "code",
   "execution_count": null,
   "metadata": {},
   "outputs": [],
   "source": []
  },
  {
   "cell_type": "code",
   "execution_count": null,
   "metadata": {},
   "outputs": [],
   "source": []
  },
  {
   "cell_type": "code",
   "execution_count": null,
   "metadata": {},
   "outputs": [],
   "source": []
  },
  {
   "cell_type": "code",
   "execution_count": null,
   "metadata": {},
   "outputs": [],
   "source": []
  },
  {
   "cell_type": "code",
   "execution_count": null,
   "metadata": {},
   "outputs": [],
   "source": []
  },
  {
   "cell_type": "code",
   "execution_count": null,
   "metadata": {},
   "outputs": [],
   "source": []
  },
  {
   "cell_type": "code",
   "execution_count": null,
   "metadata": {},
   "outputs": [],
   "source": []
  }
 ],
 "metadata": {
  "kernelspec": {
   "display_name": "Python 3",
   "language": "python",
   "name": "python3"
  },
  "language_info": {
   "codemirror_mode": {
    "name": "ipython",
    "version": 3
   },
   "file_extension": ".py",
   "mimetype": "text/x-python",
   "name": "python",
   "nbconvert_exporter": "python",
   "pygments_lexer": "ipython3",
   "version": "3.6.3"
  }
 },
 "nbformat": 4,
 "nbformat_minor": 2
}
