{
 "cells": [
  {
   "cell_type": "code",
   "execution_count": 1,
   "metadata": {},
   "outputs": [
    {
     "name": "stderr",
     "output_type": "stream",
     "text": [
      "Using TensorFlow backend.\n"
     ]
    }
   ],
   "source": [
    "import torch\n",
    "import torchvision\n",
    "import torch.nn as nn\n",
    "import torch.nn.functional as F\n",
    "from torchvision import datasets \n",
    "from torchvision import transforms\n",
    "from torchvision.utils import save_image\n",
    "from torch.autograd import Variable\n",
    "\n",
    "\n",
    "import pandas as pd \n",
    "import numpy as np\n",
    "import os \n",
    "import glob\n",
    "np.random.seed(1337)  # for reproducibility\n",
    "from sklearn import preprocessing\n",
    "from sklearn.model_selection import train_test_split\n",
    "import torch.optim as optim\n",
    "import torch\n",
    "import torch.nn.functional as nn\n",
    "import torch.autograd as autograd\n",
    "import torch.optim as optim\n",
    "import numpy as np\n",
    "#import matplotlib.pyplot as plt\n",
    "#import matplotlib.gridspec as gridspec\n",
    "import os\n",
    "from torch.autograd import Variable\n",
    "from sklearn.utils import shuffle\n",
    "import random\n",
    "from keras.datasets import mnist\n",
    "from keras.callbacks import EarlyStopping\n",
    "from keras.callbacks import ModelCheckpoint\n",
    "from keras.models import Sequential\n",
    "from keras.layers import Dense, Dropout, Activation, Flatten\n",
    "from keras.layers import Convolution2D, MaxPooling2D\n",
    "from keras.utils import np_utils\n",
    "from keras import backend as K\n",
    "from keras import optimizers"
   ]
  },
  {
   "cell_type": "code",
   "execution_count": 2,
   "metadata": {},
   "outputs": [],
   "source": [
    "train_lre_10sec = pd.read_csv('/home/satishk/GAN_lre/gan_csv/GAN_10sec_ivectors_X_train_04Jan_labels_ids_combined_extraction.csv')\n",
    "#train_afds"
   ]
  },
  {
   "cell_type": "code",
   "execution_count": 3,
   "metadata": {},
   "outputs": [
    {
     "data": {
      "text/html": [
       "<div>\n",
       "<style scoped>\n",
       "    .dataframe tbody tr th:only-of-type {\n",
       "        vertical-align: middle;\n",
       "    }\n",
       "\n",
       "    .dataframe tbody tr th {\n",
       "        vertical-align: top;\n",
       "    }\n",
       "\n",
       "    .dataframe thead th {\n",
       "        text-align: right;\n",
       "    }\n",
       "</style>\n",
       "<table border=\"1\" class=\"dataframe\">\n",
       "  <thead>\n",
       "    <tr style=\"text-align: right;\">\n",
       "      <th></th>\n",
       "      <th>0</th>\n",
       "      <th>1</th>\n",
       "      <th>2</th>\n",
       "      <th>3</th>\n",
       "      <th>4</th>\n",
       "      <th>5</th>\n",
       "      <th>6</th>\n",
       "      <th>7</th>\n",
       "      <th>8</th>\n",
       "      <th>9</th>\n",
       "      <th>...</th>\n",
       "      <th>495</th>\n",
       "      <th>496</th>\n",
       "      <th>497</th>\n",
       "      <th>498</th>\n",
       "      <th>499</th>\n",
       "      <th>ids</th>\n",
       "      <th>year</th>\n",
       "      <th>data</th>\n",
       "      <th>lang</th>\n",
       "      <th>lang_id</th>\n",
       "    </tr>\n",
       "  </thead>\n",
       "  <tbody>\n",
       "    <tr>\n",
       "      <th>0</th>\n",
       "      <td>-0.314181</td>\n",
       "      <td>0.671920</td>\n",
       "      <td>-0.188068</td>\n",
       "      <td>-0.910752</td>\n",
       "      <td>1.050361</td>\n",
       "      <td>1.966829</td>\n",
       "      <td>0.292740</td>\n",
       "      <td>1.084547</td>\n",
       "      <td>1.287480</td>\n",
       "      <td>1.745248</td>\n",
       "      <td>...</td>\n",
       "      <td>-0.564911</td>\n",
       "      <td>-1.854116</td>\n",
       "      <td>-3.185948</td>\n",
       "      <td>-2.177057</td>\n",
       "      <td>0.301166</td>\n",
       "      <td>zkllk</td>\n",
       "      <td>LDC2017E22</td>\n",
       "      <td>data</td>\n",
       "      <td>eng-usg</td>\n",
       "      <td>zkllk</td>\n",
       "    </tr>\n",
       "    <tr>\n",
       "      <th>1</th>\n",
       "      <td>0.503734</td>\n",
       "      <td>0.247072</td>\n",
       "      <td>0.451463</td>\n",
       "      <td>0.500546</td>\n",
       "      <td>-0.716668</td>\n",
       "      <td>1.337575</td>\n",
       "      <td>-1.027019</td>\n",
       "      <td>0.773720</td>\n",
       "      <td>0.910362</td>\n",
       "      <td>1.728001</td>\n",
       "      <td>...</td>\n",
       "      <td>0.886613</td>\n",
       "      <td>6.766799</td>\n",
       "      <td>-1.040380</td>\n",
       "      <td>-0.751316</td>\n",
       "      <td>-1.487938</td>\n",
       "      <td>lid05e1_lid00562</td>\n",
       "      <td>LDC2017E22</td>\n",
       "      <td>data</td>\n",
       "      <td>eng-usg</td>\n",
       "      <td>lid05e1_lid00562</td>\n",
       "    </tr>\n",
       "    <tr>\n",
       "      <th>2</th>\n",
       "      <td>2.141677</td>\n",
       "      <td>-0.044947</td>\n",
       "      <td>-0.595182</td>\n",
       "      <td>-0.595953</td>\n",
       "      <td>0.889385</td>\n",
       "      <td>1.440080</td>\n",
       "      <td>-1.208933</td>\n",
       "      <td>0.129059</td>\n",
       "      <td>-0.930121</td>\n",
       "      <td>0.401362</td>\n",
       "      <td>...</td>\n",
       "      <td>-2.836253</td>\n",
       "      <td>-0.323334</td>\n",
       "      <td>0.055760</td>\n",
       "      <td>0.481039</td>\n",
       "      <td>0.395826</td>\n",
       "      <td>fla_0240-a</td>\n",
       "      <td>LDC2017E22</td>\n",
       "      <td>data</td>\n",
       "      <td>ara-apc</td>\n",
       "      <td>fla_0240-a</td>\n",
       "    </tr>\n",
       "    <tr>\n",
       "      <th>3</th>\n",
       "      <td>1.708722</td>\n",
       "      <td>-0.663542</td>\n",
       "      <td>0.031733</td>\n",
       "      <td>0.358099</td>\n",
       "      <td>0.594610</td>\n",
       "      <td>1.023025</td>\n",
       "      <td>-1.450633</td>\n",
       "      <td>0.252159</td>\n",
       "      <td>-0.381832</td>\n",
       "      <td>0.087693</td>\n",
       "      <td>...</td>\n",
       "      <td>1.384728</td>\n",
       "      <td>0.426863</td>\n",
       "      <td>0.482178</td>\n",
       "      <td>1.655650</td>\n",
       "      <td>-1.029032</td>\n",
       "      <td>fla_0240-a</td>\n",
       "      <td>LDC2017E22</td>\n",
       "      <td>data</td>\n",
       "      <td>ara-apc</td>\n",
       "      <td>fla_0240-a</td>\n",
       "    </tr>\n",
       "    <tr>\n",
       "      <th>4</th>\n",
       "      <td>1.873292</td>\n",
       "      <td>-0.272493</td>\n",
       "      <td>-0.305948</td>\n",
       "      <td>-0.250047</td>\n",
       "      <td>2.093700</td>\n",
       "      <td>1.741634</td>\n",
       "      <td>-0.750633</td>\n",
       "      <td>-0.651771</td>\n",
       "      <td>-0.793287</td>\n",
       "      <td>-0.053527</td>\n",
       "      <td>...</td>\n",
       "      <td>0.188493</td>\n",
       "      <td>-0.888710</td>\n",
       "      <td>1.792536</td>\n",
       "      <td>-0.628455</td>\n",
       "      <td>1.912622</td>\n",
       "      <td>fla_0240-a</td>\n",
       "      <td>LDC2017E22</td>\n",
       "      <td>data</td>\n",
       "      <td>ara-apc</td>\n",
       "      <td>fla_0240-a</td>\n",
       "    </tr>\n",
       "  </tbody>\n",
       "</table>\n",
       "<p>5 rows × 505 columns</p>\n",
       "</div>"
      ],
      "text/plain": [
       "          0         1         2         3         4         5         6  \\\n",
       "0 -0.314181  0.671920 -0.188068 -0.910752  1.050361  1.966829  0.292740   \n",
       "1  0.503734  0.247072  0.451463  0.500546 -0.716668  1.337575 -1.027019   \n",
       "2  2.141677 -0.044947 -0.595182 -0.595953  0.889385  1.440080 -1.208933   \n",
       "3  1.708722 -0.663542  0.031733  0.358099  0.594610  1.023025 -1.450633   \n",
       "4  1.873292 -0.272493 -0.305948 -0.250047  2.093700  1.741634 -0.750633   \n",
       "\n",
       "          7         8         9        ...              495       496  \\\n",
       "0  1.084547  1.287480  1.745248        ...        -0.564911 -1.854116   \n",
       "1  0.773720  0.910362  1.728001        ...         0.886613  6.766799   \n",
       "2  0.129059 -0.930121  0.401362        ...        -2.836253 -0.323334   \n",
       "3  0.252159 -0.381832  0.087693        ...         1.384728  0.426863   \n",
       "4 -0.651771 -0.793287 -0.053527        ...         0.188493 -0.888710   \n",
       "\n",
       "        497       498       499               ids        year  data     lang  \\\n",
       "0 -3.185948 -2.177057  0.301166             zkllk  LDC2017E22  data  eng-usg   \n",
       "1 -1.040380 -0.751316 -1.487938  lid05e1_lid00562  LDC2017E22  data  eng-usg   \n",
       "2  0.055760  0.481039  0.395826        fla_0240-a  LDC2017E22  data  ara-apc   \n",
       "3  0.482178  1.655650 -1.029032        fla_0240-a  LDC2017E22  data  ara-apc   \n",
       "4  1.792536 -0.628455  1.912622        fla_0240-a  LDC2017E22  data  ara-apc   \n",
       "\n",
       "            lang_id  \n",
       "0             zkllk  \n",
       "1  lid05e1_lid00562  \n",
       "2        fla_0240-a  \n",
       "3        fla_0240-a  \n",
       "4        fla_0240-a  \n",
       "\n",
       "[5 rows x 505 columns]"
      ]
     },
     "execution_count": 3,
     "metadata": {},
     "output_type": "execute_result"
    }
   ],
   "source": [
    "train_lre_10sec.head()"
   ]
  },
  {
   "cell_type": "code",
   "execution_count": 4,
   "metadata": {},
   "outputs": [],
   "source": [
    "X_train_10sec = train_lre_10sec.drop(['ids','year','data','lang','lang_id'],axis=1)"
   ]
  },
  {
   "cell_type": "code",
   "execution_count": null,
   "metadata": {},
   "outputs": [],
   "source": []
  },
  {
   "cell_type": "code",
   "execution_count": 5,
   "metadata": {},
   "outputs": [],
   "source": [
    "#train_lre = train_lre.iloc[1000:2000]"
   ]
  },
  {
   "cell_type": "code",
   "execution_count": 6,
   "metadata": {},
   "outputs": [],
   "source": [
    "train_lre_30sec = pd.read_csv('/home/satishk/GAN_lre/gan_csv/GAN_30sec_ivectors_X_train_04Jan_labels_ids_combined_extraction.csv')\n"
   ]
  },
  {
   "cell_type": "code",
   "execution_count": 7,
   "metadata": {},
   "outputs": [
    {
     "data": {
      "text/html": [
       "<div>\n",
       "<style scoped>\n",
       "    .dataframe tbody tr th:only-of-type {\n",
       "        vertical-align: middle;\n",
       "    }\n",
       "\n",
       "    .dataframe tbody tr th {\n",
       "        vertical-align: top;\n",
       "    }\n",
       "\n",
       "    .dataframe thead th {\n",
       "        text-align: right;\n",
       "    }\n",
       "</style>\n",
       "<table border=\"1\" class=\"dataframe\">\n",
       "  <thead>\n",
       "    <tr style=\"text-align: right;\">\n",
       "      <th></th>\n",
       "      <th>0</th>\n",
       "      <th>1</th>\n",
       "      <th>2</th>\n",
       "      <th>3</th>\n",
       "      <th>4</th>\n",
       "      <th>5</th>\n",
       "      <th>6</th>\n",
       "      <th>7</th>\n",
       "      <th>8</th>\n",
       "      <th>9</th>\n",
       "      <th>...</th>\n",
       "      <th>495</th>\n",
       "      <th>496</th>\n",
       "      <th>497</th>\n",
       "      <th>498</th>\n",
       "      <th>499</th>\n",
       "      <th>ids</th>\n",
       "      <th>year</th>\n",
       "      <th>data</th>\n",
       "      <th>lang</th>\n",
       "      <th>lang_id</th>\n",
       "    </tr>\n",
       "  </thead>\n",
       "  <tbody>\n",
       "    <tr>\n",
       "      <th>0</th>\n",
       "      <td>-0.639420</td>\n",
       "      <td>0.345684</td>\n",
       "      <td>-0.517645</td>\n",
       "      <td>-0.737002</td>\n",
       "      <td>1.313001</td>\n",
       "      <td>1.655732</td>\n",
       "      <td>0.615168</td>\n",
       "      <td>0.799339</td>\n",
       "      <td>1.648419</td>\n",
       "      <td>1.314986</td>\n",
       "      <td>...</td>\n",
       "      <td>-1.322407</td>\n",
       "      <td>-0.717348</td>\n",
       "      <td>-3.843951</td>\n",
       "      <td>-1.471274</td>\n",
       "      <td>0.945421</td>\n",
       "      <td>zkllk</td>\n",
       "      <td>LDC2017E22</td>\n",
       "      <td>data</td>\n",
       "      <td>eng-usg</td>\n",
       "      <td>zkllk</td>\n",
       "    </tr>\n",
       "    <tr>\n",
       "      <th>1</th>\n",
       "      <td>0.113610</td>\n",
       "      <td>0.738034</td>\n",
       "      <td>0.584856</td>\n",
       "      <td>-0.248521</td>\n",
       "      <td>0.256616</td>\n",
       "      <td>1.060159</td>\n",
       "      <td>-0.416211</td>\n",
       "      <td>0.133670</td>\n",
       "      <td>0.188327</td>\n",
       "      <td>0.805241</td>\n",
       "      <td>...</td>\n",
       "      <td>1.965741</td>\n",
       "      <td>3.525555</td>\n",
       "      <td>0.006925</td>\n",
       "      <td>1.676099</td>\n",
       "      <td>-1.116371</td>\n",
       "      <td>lid05e1_lid00562</td>\n",
       "      <td>LDC2017E22</td>\n",
       "      <td>data</td>\n",
       "      <td>eng-usg</td>\n",
       "      <td>lid05e1_lid00562</td>\n",
       "    </tr>\n",
       "    <tr>\n",
       "      <th>2</th>\n",
       "      <td>2.061305</td>\n",
       "      <td>-0.140605</td>\n",
       "      <td>-0.627104</td>\n",
       "      <td>-0.682908</td>\n",
       "      <td>1.337613</td>\n",
       "      <td>1.261543</td>\n",
       "      <td>-0.651291</td>\n",
       "      <td>0.307040</td>\n",
       "      <td>-0.980717</td>\n",
       "      <td>0.335530</td>\n",
       "      <td>...</td>\n",
       "      <td>-3.018432</td>\n",
       "      <td>-1.841361</td>\n",
       "      <td>0.814595</td>\n",
       "      <td>-0.200731</td>\n",
       "      <td>1.180795</td>\n",
       "      <td>fla_0240-a</td>\n",
       "      <td>LDC2017E22</td>\n",
       "      <td>data</td>\n",
       "      <td>ara-apc</td>\n",
       "      <td>fla_0240-a</td>\n",
       "    </tr>\n",
       "    <tr>\n",
       "      <th>3</th>\n",
       "      <td>1.958049</td>\n",
       "      <td>-0.608315</td>\n",
       "      <td>-0.113532</td>\n",
       "      <td>0.167272</td>\n",
       "      <td>0.911100</td>\n",
       "      <td>1.116094</td>\n",
       "      <td>-0.847214</td>\n",
       "      <td>-0.041357</td>\n",
       "      <td>-0.542335</td>\n",
       "      <td>0.199105</td>\n",
       "      <td>...</td>\n",
       "      <td>-0.548767</td>\n",
       "      <td>-1.254447</td>\n",
       "      <td>1.644647</td>\n",
       "      <td>0.555434</td>\n",
       "      <td>1.159140</td>\n",
       "      <td>fla_0240-a</td>\n",
       "      <td>LDC2017E22</td>\n",
       "      <td>data</td>\n",
       "      <td>ara-apc</td>\n",
       "      <td>fla_0240-a</td>\n",
       "    </tr>\n",
       "    <tr>\n",
       "      <th>4</th>\n",
       "      <td>1.842436</td>\n",
       "      <td>-0.417598</td>\n",
       "      <td>-0.427428</td>\n",
       "      <td>-0.485898</td>\n",
       "      <td>1.204330</td>\n",
       "      <td>1.439188</td>\n",
       "      <td>-1.056642</td>\n",
       "      <td>0.111603</td>\n",
       "      <td>-0.404313</td>\n",
       "      <td>-0.307075</td>\n",
       "      <td>...</td>\n",
       "      <td>0.297026</td>\n",
       "      <td>-1.858708</td>\n",
       "      <td>0.209784</td>\n",
       "      <td>0.583939</td>\n",
       "      <td>1.398789</td>\n",
       "      <td>fla_0240-a</td>\n",
       "      <td>LDC2017E22</td>\n",
       "      <td>data</td>\n",
       "      <td>ara-apc</td>\n",
       "      <td>fla_0240-a</td>\n",
       "    </tr>\n",
       "  </tbody>\n",
       "</table>\n",
       "<p>5 rows × 505 columns</p>\n",
       "</div>"
      ],
      "text/plain": [
       "          0         1         2         3         4         5         6  \\\n",
       "0 -0.639420  0.345684 -0.517645 -0.737002  1.313001  1.655732  0.615168   \n",
       "1  0.113610  0.738034  0.584856 -0.248521  0.256616  1.060159 -0.416211   \n",
       "2  2.061305 -0.140605 -0.627104 -0.682908  1.337613  1.261543 -0.651291   \n",
       "3  1.958049 -0.608315 -0.113532  0.167272  0.911100  1.116094 -0.847214   \n",
       "4  1.842436 -0.417598 -0.427428 -0.485898  1.204330  1.439188 -1.056642   \n",
       "\n",
       "          7         8         9        ...              495       496  \\\n",
       "0  0.799339  1.648419  1.314986        ...        -1.322407 -0.717348   \n",
       "1  0.133670  0.188327  0.805241        ...         1.965741  3.525555   \n",
       "2  0.307040 -0.980717  0.335530        ...        -3.018432 -1.841361   \n",
       "3 -0.041357 -0.542335  0.199105        ...        -0.548767 -1.254447   \n",
       "4  0.111603 -0.404313 -0.307075        ...         0.297026 -1.858708   \n",
       "\n",
       "        497       498       499               ids        year  data     lang  \\\n",
       "0 -3.843951 -1.471274  0.945421             zkllk  LDC2017E22  data  eng-usg   \n",
       "1  0.006925  1.676099 -1.116371  lid05e1_lid00562  LDC2017E22  data  eng-usg   \n",
       "2  0.814595 -0.200731  1.180795        fla_0240-a  LDC2017E22  data  ara-apc   \n",
       "3  1.644647  0.555434  1.159140        fla_0240-a  LDC2017E22  data  ara-apc   \n",
       "4  0.209784  0.583939  1.398789        fla_0240-a  LDC2017E22  data  ara-apc   \n",
       "\n",
       "            lang_id  \n",
       "0             zkllk  \n",
       "1  lid05e1_lid00562  \n",
       "2        fla_0240-a  \n",
       "3        fla_0240-a  \n",
       "4        fla_0240-a  \n",
       "\n",
       "[5 rows x 505 columns]"
      ]
     },
     "execution_count": 7,
     "metadata": {},
     "output_type": "execute_result"
    }
   ],
   "source": [
    "train_lre_30sec.head()"
   ]
  },
  {
   "cell_type": "code",
   "execution_count": 8,
   "metadata": {},
   "outputs": [],
   "source": [
    "X_train_30sec = train_lre_30sec.drop(['ids','year','data','lang','lang_id'],axis=1)"
   ]
  },
  {
   "cell_type": "code",
   "execution_count": null,
   "metadata": {},
   "outputs": [],
   "source": []
  },
  {
   "cell_type": "code",
   "execution_count": 9,
   "metadata": {},
   "outputs": [],
   "source": [
    "y_30sec_labels = train_lre_30sec[\"lang\"]"
   ]
  },
  {
   "cell_type": "code",
   "execution_count": 10,
   "metadata": {},
   "outputs": [
    {
     "data": {
      "text/plain": [
       "0    eng-usg\n",
       "1    eng-usg\n",
       "2    ara-apc\n",
       "3    ara-apc\n",
       "4    ara-apc\n",
       "Name: lang, dtype: object"
      ]
     },
     "execution_count": 10,
     "metadata": {},
     "output_type": "execute_result"
    }
   ],
   "source": [
    "y_30sec_labels.head()"
   ]
  },
  {
   "cell_type": "code",
   "execution_count": 11,
   "metadata": {},
   "outputs": [
    {
     "data": {
      "text/plain": [
       "LabelEncoder()"
      ]
     },
     "execution_count": 11,
     "metadata": {},
     "output_type": "execute_result"
    }
   ],
   "source": [
    "le = preprocessing.LabelEncoder()\n",
    "le.fit(y_30sec_labels)"
   ]
  },
  {
   "cell_type": "code",
   "execution_count": 12,
   "metadata": {},
   "outputs": [
    {
     "data": {
      "text/plain": [
       "array(['ara-acm', 'ara-apc', 'ara-ary', 'ara-arz', 'eng-gbr', 'eng-usg',\n",
       "       'por-brz', 'qsl-pol', 'qsl-rus', 'spa-car', 'spa-eur', 'spa-lac',\n",
       "       'zho-cmn', 'zho-nan'], dtype=object)"
      ]
     },
     "execution_count": 12,
     "metadata": {},
     "output_type": "execute_result"
    }
   ],
   "source": [
    "le.classes_"
   ]
  },
  {
   "cell_type": "code",
   "execution_count": 13,
   "metadata": {},
   "outputs": [],
   "source": [
    "y_30sec_labels=le.transform(y_30sec_labels)"
   ]
  },
  {
   "cell_type": "code",
   "execution_count": 14,
   "metadata": {},
   "outputs": [
    {
     "data": {
      "text/plain": [
       "(114276,)"
      ]
     },
     "execution_count": 14,
     "metadata": {},
     "output_type": "execute_result"
    }
   ],
   "source": [
    "y_30sec_labels.shape"
   ]
  },
  {
   "cell_type": "code",
   "execution_count": 15,
   "metadata": {},
   "outputs": [],
   "source": [
    "nb_classes = 14\n",
    "# convert class vectors to binary class matrices\n",
    "Y_train_labels = np_utils.to_categorical(y_30sec_labels, nb_classes)"
   ]
  },
  {
   "cell_type": "code",
   "execution_count": 16,
   "metadata": {},
   "outputs": [
    {
     "data": {
      "text/plain": [
       "(114276, 14)"
      ]
     },
     "execution_count": 16,
     "metadata": {},
     "output_type": "execute_result"
    }
   ],
   "source": [
    "Y_train_labels.shape"
   ]
  },
  {
   "cell_type": "code",
   "execution_count": 17,
   "metadata": {},
   "outputs": [],
   "source": [
    "X_train_10sec = X_train_10sec.values\n",
    "X_train_30sec = X_train_30sec.values"
   ]
  },
  {
   "cell_type": "code",
   "execution_count": null,
   "metadata": {},
   "outputs": [],
   "source": []
  },
  {
   "cell_type": "code",
   "execution_count": 18,
   "metadata": {},
   "outputs": [
    {
     "name": "stdout",
     "output_type": "stream",
     "text": [
      "X_train_10sec shape: (114276, 500)\n",
      "114276 train 10sec\n",
      "114276  train 30sec\n"
     ]
    }
   ],
   "source": [
    "X_train_10sec = X_train_10sec.astype('float32')\n",
    "#X_test = X_test.astype('float32')\n",
    "X_train_30sec = X_train_30sec.astype('float32')\n",
    "\n",
    "#X_train /= 255\n",
    "#X_test /= 255\n",
    "#X_val /= 255\n",
    "\n",
    "print('X_train_10sec shape:', X_train_10sec.shape)\n",
    "print(X_train_10sec.shape[0], 'train 10sec')\n",
    "#print(X_test.shape[0], 'test samples')\n",
    "print(X_train_30sec.shape[0], ' train 30sec')\n"
   ]
  },
  {
   "cell_type": "code",
   "execution_count": null,
   "metadata": {},
   "outputs": [],
   "source": []
  },
  {
   "cell_type": "code",
   "execution_count": null,
   "metadata": {},
   "outputs": [],
   "source": []
  },
  {
   "cell_type": "code",
   "execution_count": 19,
   "metadata": {},
   "outputs": [],
   "source": [
    "#Shuffle the Dataset\n",
    "X_train_10sec_F,  X_train_30sec_F, Y_train_labels = shuffle(X_train_10sec, X_train_30sec, Y_train_labels, random_state=0)"
   ]
  },
  {
   "cell_type": "code",
   "execution_count": null,
   "metadata": {},
   "outputs": [],
   "source": []
  },
  {
   "cell_type": "code",
   "execution_count": null,
   "metadata": {},
   "outputs": [],
   "source": []
  },
  {
   "cell_type": "code",
   "execution_count": 20,
   "metadata": {},
   "outputs": [],
   "source": [
    "import torch.nn as nn"
   ]
  },
  {
   "cell_type": "code",
   "execution_count": 21,
   "metadata": {},
   "outputs": [],
   "source": [
    "class FC_Network(torch.nn.Module):\n",
    "\n",
    "    def __init__(self,):\n",
    "        super(FC_Network, self).__init__()\n",
    "\n",
    "        D_in = D_out = 500        # param['patch_length'] * param['n_channels'] * (param['n_fft'] / 2 + 1)\n",
    "        num_nodes_fnn = 2048\n",
    "        self.layer_1 = torch.nn.Linear(D_in, num_nodes_fnn)\n",
    "        self.bn_1 = torch.nn.BatchNorm1d(num_nodes_fnn)\n",
    "        self.layer_2 = torch.nn.Linear(num_nodes_fnn, num_nodes_fnn)\n",
    "        self.bn_2 = torch.nn.BatchNorm1d(num_nodes_fnn)\n",
    "        self.layer_3 = torch.nn.Linear(num_nodes_fnn, num_nodes_fnn)\n",
    "        self.bn_3 = torch.nn.BatchNorm1d(num_nodes_fnn)\n",
    "        self.layer_4 = torch.nn.Linear(num_nodes_fnn,num_nodes_fnn)\n",
    "        self.bn_4 = torch.nn.BatchNorm1d(num_nodes_fnn)\n",
    "        self.output_layer = torch.nn.Linear(num_nodes_fnn, D_out)\n",
    "        self.relu = torch.nn.ReLU()\n",
    "\n",
    "    def forward(self, x):\n",
    "        out = x\n",
    "        #out = x.view(x.size(0), -1)\n",
    "        out = self.bn_1(self.relu(self.layer_1(out)))\n",
    "        out = self.bn_2(self.relu(self.layer_2(out)))\n",
    "        out = self.bn_3(self.relu(self.layer_3(out)))\n",
    "        out = self.bn_4(self.relu(self.layer_4(out)))\n",
    "        out = self.output_layer(out)\n",
    "\n",
    "        #out = (self.relu(self.layer_1(out)))\n",
    "        #out = (self.relu(self.layer_2(out)))\n",
    "        #out = (self.relu(self.layer_3(out)))\n",
    "        #out = (self.relu(self.layer_4(out)))\n",
    "        #out = (self.output_layer(out))\n",
    "        #out = out.view(x.size())\n",
    "        return out"
   ]
  },
  {
   "cell_type": "code",
   "execution_count": 22,
   "metadata": {},
   "outputs": [],
   "source": [
    "S_encoder = FC_Network()"
   ]
  },
  {
   "cell_type": "code",
   "execution_count": 23,
   "metadata": {},
   "outputs": [
    {
     "data": {
      "text/plain": [
       "FC_Network(\n",
       "  (layer_1): Linear(in_features=500, out_features=2048)\n",
       "  (bn_1): BatchNorm1d(2048, eps=1e-05, momentum=0.1, affine=True)\n",
       "  (layer_2): Linear(in_features=2048, out_features=2048)\n",
       "  (bn_2): BatchNorm1d(2048, eps=1e-05, momentum=0.1, affine=True)\n",
       "  (layer_3): Linear(in_features=2048, out_features=2048)\n",
       "  (bn_3): BatchNorm1d(2048, eps=1e-05, momentum=0.1, affine=True)\n",
       "  (layer_4): Linear(in_features=2048, out_features=2048)\n",
       "  (bn_4): BatchNorm1d(2048, eps=1e-05, momentum=0.1, affine=True)\n",
       "  (output_layer): Linear(in_features=2048, out_features=500)\n",
       "  (relu): ReLU()\n",
       ")"
      ]
     },
     "execution_count": 23,
     "metadata": {},
     "output_type": "execute_result"
    }
   ],
   "source": [
    "S_encoder.cuda()"
   ]
  },
  {
   "cell_type": "code",
   "execution_count": null,
   "metadata": {},
   "outputs": [],
   "source": []
  },
  {
   "cell_type": "code",
   "execution_count": null,
   "metadata": {},
   "outputs": [],
   "source": []
  },
  {
   "cell_type": "code",
   "execution_count": null,
   "metadata": {},
   "outputs": [],
   "source": []
  },
  {
   "cell_type": "code",
   "execution_count": 24,
   "metadata": {},
   "outputs": [],
   "source": [
    "learning_rate = 0.0002\n",
    "betas = (0.5, 0.999)"
   ]
  },
  {
   "cell_type": "code",
   "execution_count": 25,
   "metadata": {},
   "outputs": [],
   "source": [
    "# Loss function\n",
    "criterion = torch.nn.MSELoss()\n",
    "\n",
    "# Optimizers\n",
    "S_solver = torch.optim.Adam(S_encoder.parameters(), lr=learning_rate, betas=betas)\n",
    "#T_solver = torch.optim.Adam(T_encoder.parameters(), lr=learning_rate/2, betas=betas)"
   ]
  },
  {
   "cell_type": "code",
   "execution_count": null,
   "metadata": {},
   "outputs": [],
   "source": []
  },
  {
   "cell_type": "code",
   "execution_count": 26,
   "metadata": {},
   "outputs": [
    {
     "data": {
      "text/plain": [
       "114276"
      ]
     },
     "execution_count": 26,
     "metadata": {},
     "output_type": "execute_result"
    }
   ],
   "source": [
    "len(X_train_10sec)"
   ]
  },
  {
   "cell_type": "code",
   "execution_count": 27,
   "metadata": {},
   "outputs": [
    {
     "data": {
      "text/plain": [
       "114276"
      ]
     },
     "execution_count": 27,
     "metadata": {},
     "output_type": "execute_result"
    }
   ],
   "source": [
    "len(X_train_30sec)"
   ]
  },
  {
   "cell_type": "code",
   "execution_count": 28,
   "metadata": {},
   "outputs": [],
   "source": [
    "mb_size = 256\n",
    "batch_size = mb_size"
   ]
  },
  {
   "cell_type": "raw",
   "metadata": {
    "scrolled": true
   },
   "source": [
    "\n",
    "mb_size = 256\n",
    "batch_size = mb_size\n",
    "# Start training\n",
    "for epoch in range(100):\n",
    "    \n",
    "    \n",
    "\n",
    "    print('epoch:',epoch)\n",
    "    #for i in range(XX_train):\n",
    "    # Build mini-batch dataset\n",
    "    #batch_size = images.size(0)\n",
    "    #images = to_var(images.view(batch_size, -1))\n",
    "\n",
    "    it=0\n",
    "    while it+batch_size < len(X_train_10sec_F) :\n",
    "        \n",
    "\n",
    "        start= it\n",
    "        end= it + batch_size\n",
    "\n",
    "\n",
    "        #z = Variable(torch.randn(mb_size, Z_dim))\n",
    "        X = X_train_10sec_F[start:end]\n",
    "\n",
    "        c = X_train_30sec_F[start:end]\n",
    "        X = Variable(torch.from_numpy(X))\n",
    "        c = Variable(torch.from_numpy(c.astype('float32')))\n",
    "        X = X.cuda()\n",
    "        c = c.cuda()\n",
    "        # Dicriminator forward-loss-backward-update\n",
    "        S_sample = S_encoder(X)\n",
    "        #D_real = D(X, c)\n",
    "        #D_fake = D(G_sample, c)\n",
    "\n",
    "        #D_loss_real = nn.binary_cross_entropy(D_real, ones_label)\n",
    "        #D_loss_fake = nn.binary_cross_entropy(D_fake, zeros_label)\n",
    "        #D_loss = D_loss_real + D_loss_fake\n",
    "\n",
    "        #D_loss.backward()\n",
    "        #D_solver.step()\n",
    "\n",
    "        # Housekeeping - reset gradient\n",
    "        #D.zero_grad()\n",
    "\n",
    "        # Generator forward-loss-backward-update\n",
    "        #z = Variable(torch.randn(mb_size, Z_dim))\n",
    "        #G_sample = G(z, c)\n",
    "        #D_fake = D(G_sample, c)\n",
    "        S_loss = criterion(S_sample, c)\n",
    "        #G_loss = nn.binary_cross_entropy(D_fake, ones_label)\n",
    "\n",
    "        S_loss.backward()\n",
    "        S_solver.step()\n",
    "        \n",
    "        S_solver.zero_grad()\n",
    "        # Housekeeping - reset gradient\n",
    "        #D.zero_grad()\n",
    "\n",
    "        #Print and plot every now and then\n",
    "        #if it % 2 == 0:\n",
    "\n",
    "        #print('Iter-{}; G_loss: {}'.format(it, G_loss.data.numpy()))\n",
    "\n",
    "\n",
    "\n",
    "        it+= batch_size\n",
    "    print('S_loss: {}'.format(S_loss.cpu().data.numpy()))\n",
    "           "
   ]
  },
  {
   "cell_type": "code",
   "execution_count": null,
   "metadata": {},
   "outputs": [],
   "source": []
  },
  {
   "cell_type": "raw",
   "metadata": {},
   "source": [
    "# If you want to finetune only top layer of the model.\n",
    "for param in S_encoder.parameters():\n",
    "    param.requires_grad = False"
   ]
  },
  {
   "cell_type": "code",
   "execution_count": null,
   "metadata": {},
   "outputs": [],
   "source": []
  },
  {
   "cell_type": "raw",
   "metadata": {},
   "source": [
    "class T_encoder(torch.nn.Module):\n",
    "\n",
    "    def __init__(self,):\n",
    "        super(T_encoder, self).__init__()\n",
    "\n",
    "        D_in = D_out = 500        # param['patch_length'] * param['n_channels'] * (param['n_fft'] / 2 + 1)\n",
    "        num_nodes_fnn = 512\n",
    "        self.layer_1 = torch.nn.Linear(D_in, num_nodes_fnn)\n",
    "        self.bn_1 = torch.nn.BatchNorm1d(num_nodes_fnn)\n",
    "        self.layer_2 = torch.nn.Linear(num_nodes_fnn, num_nodes_fnn)\n",
    "        self.bn_2 = torch.nn.BatchNorm1d(num_nodes_fnn)\n",
    "        self.layer_3 = torch.nn.Linear(num_nodes_fnn, num_nodes_fnn)\n",
    "        self.bn_3 = torch.nn.BatchNorm1d(num_nodes_fnn)\n",
    "        self.layer_4 = torch.nn.Linear(num_nodes_fnn,num_nodes_fnn)\n",
    "        self.bn_4 = torch.nn.BatchNorm1d(num_nodes_fnn)\n",
    "        self.output_layer = torch.nn.Linear(num_nodes_fnn, D_out)\n",
    "        self.relu = torch.nn.ReLU()\n",
    "\n",
    "    def forward(self, x):\n",
    "        out = x\n",
    "        #out = x.view(x.size(0), -1)\n",
    "        out = self.bn_1(self.relu(self.layer_1(out)))\n",
    "        out = self.bn_2(self.relu(self.layer_2(out)))\n",
    "        out = self.bn_3(self.relu(self.layer_3(out)))\n",
    "        out = self.bn_4(self.relu(self.layer_4(out)))\n",
    "        out = self.output_layer(out)\n",
    "\n",
    "        #out = (self.relu(self.layer_1(out)))\n",
    "        #out = (self.relu(self.layer_2(out)))\n",
    "        #out = (self.relu(self.layer_3(out)))\n",
    "        #out = (self.relu(self.layer_4(out)))\n",
    "        #out = (self.output_layer(out))\n",
    "        #out = out.view(x.size())\n",
    "        return out"
   ]
  },
  {
   "cell_type": "raw",
   "metadata": {},
   "source": [
    "T_encoder = T_encoder()"
   ]
  },
  {
   "cell_type": "raw",
   "metadata": {},
   "source": [
    "T_encoder.cuda()"
   ]
  },
  {
   "cell_type": "code",
   "execution_count": 29,
   "metadata": {},
   "outputs": [],
   "source": [
    "#Implementation of Discriminator\n",
    "\n",
    "class Discriminator(nn.Module):\n",
    "    def __init__(self):\n",
    "        super(Discriminator, self).__init__()\n",
    "        #self.inputs = torch.cat([z, c], 1)\n",
    "        self.fc1 = torch.nn.Linear(500, 512)\n",
    "        self.fc2 = torch.nn.Linear(512,512)\n",
    "        self.fc3 = torch.nn.Linear(512,1)\n",
    "        \n",
    "    def forward(self, x):\n",
    "        #inputs = torch.cat([X, c], 1)\n",
    "        return F.sigmoid(self.fc3(F.relu(self.fc2(F.relu(self.fc1(x))))))\n"
   ]
  },
  {
   "cell_type": "code",
   "execution_count": 30,
   "metadata": {},
   "outputs": [],
   "source": [
    "D = Discriminator()"
   ]
  },
  {
   "cell_type": "code",
   "execution_count": 31,
   "metadata": {},
   "outputs": [
    {
     "data": {
      "text/plain": [
       "Discriminator(\n",
       "  (fc1): Linear(in_features=500, out_features=512)\n",
       "  (fc2): Linear(in_features=512, out_features=512)\n",
       "  (fc3): Linear(in_features=512, out_features=1)\n",
       ")"
      ]
     },
     "execution_count": 31,
     "metadata": {},
     "output_type": "execute_result"
    }
   ],
   "source": [
    "D.cuda()"
   ]
  },
  {
   "cell_type": "code",
   "execution_count": 32,
   "metadata": {},
   "outputs": [],
   "source": [
    "#Adding a Tanh() layer at the end of S_encoder\n",
    "S_encoder.tanh = nn.Tanh()"
   ]
  },
  {
   "cell_type": "code",
   "execution_count": 33,
   "metadata": {},
   "outputs": [
    {
     "data": {
      "text/plain": [
       "FC_Network(\n",
       "  (layer_1): Linear(in_features=500, out_features=2048)\n",
       "  (bn_1): BatchNorm1d(2048, eps=1e-05, momentum=0.1, affine=True)\n",
       "  (layer_2): Linear(in_features=2048, out_features=2048)\n",
       "  (bn_2): BatchNorm1d(2048, eps=1e-05, momentum=0.1, affine=True)\n",
       "  (layer_3): Linear(in_features=2048, out_features=2048)\n",
       "  (bn_3): BatchNorm1d(2048, eps=1e-05, momentum=0.1, affine=True)\n",
       "  (layer_4): Linear(in_features=2048, out_features=2048)\n",
       "  (bn_4): BatchNorm1d(2048, eps=1e-05, momentum=0.1, affine=True)\n",
       "  (output_layer): Linear(in_features=2048, out_features=500)\n",
       "  (relu): ReLU()\n",
       "  (tanh): Tanh()\n",
       ")"
      ]
     },
     "execution_count": 33,
     "metadata": {},
     "output_type": "execute_result"
    }
   ],
   "source": [
    "S_encoder"
   ]
  },
  {
   "cell_type": "code",
   "execution_count": 34,
   "metadata": {},
   "outputs": [],
   "source": [
    "ones_label = Variable(torch.ones(mb_size,1))\n",
    "zeros_label = Variable(torch.zeros(mb_size,1))\n",
    "#ones_label_fake = Variable(torch.ones(mb_size*2))"
   ]
  },
  {
   "cell_type": "code",
   "execution_count": 35,
   "metadata": {},
   "outputs": [
    {
     "data": {
      "text/plain": [
       "torch.Size([256, 1])"
      ]
     },
     "execution_count": 35,
     "metadata": {},
     "output_type": "execute_result"
    }
   ],
   "source": [
    "ones_label.data.shape"
   ]
  },
  {
   "cell_type": "code",
   "execution_count": null,
   "metadata": {},
   "outputs": [],
   "source": []
  },
  {
   "cell_type": "code",
   "execution_count": 36,
   "metadata": {},
   "outputs": [],
   "source": [
    "ones_label = ones_label.cuda()\n",
    "zeros_label = zeros_label.cuda()"
   ]
  },
  {
   "cell_type": "code",
   "execution_count": 37,
   "metadata": {},
   "outputs": [],
   "source": [
    "# Optimizers\n",
    "#T_solver = torch.optim.Adam(T_encoder.parameters(), lr=learning_rate, betas=betas)\n",
    "D_solver = torch.optim.Adam(D.parameters(), lr=learning_rate/2, betas=betas)"
   ]
  },
  {
   "cell_type": "code",
   "execution_count": null,
   "metadata": {},
   "outputs": [],
   "source": []
  },
  {
   "cell_type": "code",
   "execution_count": 38,
   "metadata": {},
   "outputs": [],
   "source": [
    "from torch.nn.functional import binary_cross_entropy"
   ]
  },
  {
   "cell_type": "code",
   "execution_count": 39,
   "metadata": {
    "scrolled": false
   },
   "outputs": [
    {
     "name": "stdout",
     "output_type": "stream",
     "text": [
      "epoch: 0\n",
      "S_loss: [ 0.76192576] D_loss: [ 1.05704165]\n",
      "epoch: 1\n",
      "S_loss: [ 1.17600489] D_loss: [ 1.70552135]\n",
      "epoch: 2\n",
      "S_loss: [ 0.74891114] D_loss: [ 1.33528996]\n",
      "epoch: 3\n",
      "S_loss: [ 0.79787642] D_loss: [ 1.35411572]\n",
      "epoch: 4\n",
      "S_loss: [ 0.79997271] D_loss: [ 1.40986264]\n",
      "epoch: 5\n",
      "S_loss: [ 0.73125386] D_loss: [ 1.29717493]\n",
      "epoch: 6\n",
      "S_loss: [ 0.74766243] D_loss: [ 1.30980778]\n",
      "epoch: 7\n",
      "S_loss: [ 0.75381106] D_loss: [ 1.34138954]\n",
      "epoch: 8\n",
      "S_loss: [ 0.73747706] D_loss: [ 1.32901585]\n",
      "epoch: 9\n",
      "S_loss: [ 0.75776017] D_loss: [ 1.36683702]\n",
      "epoch: 10\n",
      "S_loss: [ 0.75708061] D_loss: [ 1.34695601]\n",
      "epoch: 11\n",
      "S_loss: [ 0.75009596] D_loss: [ 1.35007334]\n",
      "epoch: 12\n",
      "S_loss: [ 0.74759239] D_loss: [ 1.34604585]\n",
      "epoch: 13\n",
      "S_loss: [ 0.74538112] D_loss: [ 1.35972965]\n",
      "epoch: 14\n",
      "S_loss: [ 0.74811721] D_loss: [ 1.36214852]\n",
      "epoch: 15\n",
      "S_loss: [ 0.74983633] D_loss: [ 1.33356094]\n",
      "epoch: 16\n",
      "S_loss: [ 0.7639879] D_loss: [ 1.32583833]\n",
      "epoch: 17\n",
      "S_loss: [ 0.78254408] D_loss: [ 1.35779405]\n",
      "epoch: 18\n",
      "S_loss: [ 0.75527084] D_loss: [ 1.36550355]\n",
      "epoch: 19\n",
      "S_loss: [ 0.75489622] D_loss: [ 1.36909008]\n",
      "epoch: 20\n",
      "S_loss: [ 0.72226197] D_loss: [ 1.36205745]\n",
      "epoch: 21\n",
      "S_loss: [ 0.75144184] D_loss: [ 1.35884607]\n",
      "epoch: 22\n",
      "S_loss: [ 1.30987287] D_loss: [ 1.14115369]\n",
      "epoch: 23\n",
      "S_loss: [ 0.808815] D_loss: [ 1.30255461]\n",
      "epoch: 24\n",
      "S_loss: [ 0.83950758] D_loss: [ 1.23026025]\n",
      "epoch: 25\n",
      "S_loss: [ 0.79250705] D_loss: [ 1.24369049]\n",
      "epoch: 26\n",
      "S_loss: [ 1.02117538] D_loss: [ 1.2486974]\n",
      "epoch: 27\n",
      "S_loss: [ 0.8607645] D_loss: [ 1.2314899]\n",
      "epoch: 28\n",
      "S_loss: [ 0.87868619] D_loss: [ 1.31654835]\n",
      "epoch: 29\n",
      "S_loss: [ 0.8664465] D_loss: [ 1.33588099]\n",
      "epoch: 30\n",
      "S_loss: [ 0.86239743] D_loss: [ 1.26353121]\n",
      "epoch: 31\n",
      "S_loss: [ 0.89072144] D_loss: [ 1.28954792]\n",
      "epoch: 32\n",
      "S_loss: [ 0.84630775] D_loss: [ 1.2700001]\n",
      "epoch: 33\n",
      "S_loss: [ 0.93291676] D_loss: [ 1.2212007]\n",
      "epoch: 34\n",
      "S_loss: [ 1.01787996] D_loss: [ 1.19829428]\n",
      "epoch: 35\n",
      "S_loss: [ 1.12964404] D_loss: [ 1.21584439]\n",
      "epoch: 36\n",
      "S_loss: [ 1.22025049] D_loss: [ 1.10634017]\n",
      "epoch: 37\n",
      "S_loss: [ 1.27933979] D_loss: [ 1.12122548]\n",
      "epoch: 38\n",
      "S_loss: [ 1.2668941] D_loss: [ 1.20750928]\n",
      "epoch: 39\n",
      "S_loss: [ 1.27781844] D_loss: [ 1.17642927]\n",
      "epoch: 40\n",
      "S_loss: [ 1.38118625] D_loss: [ 1.12977397]\n",
      "epoch: 41\n",
      "S_loss: [ 1.17356253] D_loss: [ 1.16176558]\n",
      "epoch: 42\n",
      "S_loss: [ 1.18879437] D_loss: [ 1.07966483]\n",
      "epoch: 43\n",
      "S_loss: [ 1.26621068] D_loss: [ 1.07976389]\n",
      "epoch: 44\n",
      "S_loss: [ 1.33929598] D_loss: [ 1.09356737]\n",
      "epoch: 45\n",
      "S_loss: [ 1.23520672] D_loss: [ 1.10147846]\n",
      "epoch: 46\n",
      "S_loss: [ 1.27166378] D_loss: [ 1.03929842]\n",
      "epoch: 47\n",
      "S_loss: [ 1.39238191] D_loss: [ 1.00835443]\n",
      "epoch: 48\n",
      "S_loss: [ 1.44569683] D_loss: [ 1.06609774]\n",
      "epoch: 49\n",
      "S_loss: [ 1.43981528] D_loss: [ 0.93252391]\n",
      "epoch: 50\n",
      "S_loss: [ 1.63424897] D_loss: [ 0.88805789]\n",
      "epoch: 51\n",
      "S_loss: [ 2.26557922] D_loss: [ 0.61947095]\n",
      "epoch: 52\n",
      "S_loss: [ 2.6500783] D_loss: [ 0.51584929]\n",
      "epoch: 53\n",
      "S_loss: [ 3.15614295] D_loss: [ 0.34807464]\n",
      "epoch: 54\n",
      "S_loss: [ 3.71383572] D_loss: [ 0.35561058]\n",
      "epoch: 55\n",
      "S_loss: [ 4.43502331] D_loss: [ 0.28740025]\n",
      "epoch: 56\n",
      "S_loss: [ 5.59060097] D_loss: [ 0.32366848]\n",
      "epoch: 57\n",
      "S_loss: [ 4.4282155] D_loss: [ 0.28196841]\n",
      "epoch: 58\n",
      "S_loss: [ 5.09273338] D_loss: [ 0.34883815]\n",
      "epoch: 59\n",
      "S_loss: [ 5.00004959] D_loss: [ 0.22223412]\n",
      "epoch: 60\n",
      "S_loss: [ 6.72773361] D_loss: [ 0.37555277]\n",
      "epoch: 61\n",
      "S_loss: [ 3.68702149] D_loss: [ 0.29171655]\n",
      "epoch: 62\n",
      "S_loss: [ 4.86614704] D_loss: [ 0.2711218]\n",
      "epoch: 63\n",
      "S_loss: [ 3.43631005] D_loss: [ 0.31540477]\n",
      "epoch: 64\n",
      "S_loss: [ 3.68126011] D_loss: [ 0.24312976]\n",
      "epoch: 65\n",
      "S_loss: [ 4.41459322] D_loss: [ 0.33707598]\n",
      "epoch: 66\n",
      "S_loss: [ 4.43326664] D_loss: [ 0.3344363]\n",
      "epoch: 67\n",
      "S_loss: [ 4.15373707] D_loss: [ 0.28594574]\n",
      "epoch: 68\n",
      "S_loss: [ 3.19054937] D_loss: [ 0.4266566]\n",
      "epoch: 69\n",
      "S_loss: [ 4.13405514] D_loss: [ 0.37062919]\n",
      "epoch: 70\n",
      "S_loss: [ 4.47151518] D_loss: [ 0.59755713]\n",
      "epoch: 71\n",
      "S_loss: [ 4.14065742] D_loss: [ 0.44134942]\n",
      "epoch: 72\n",
      "S_loss: [ 4.64074135] D_loss: [ 0.41468775]\n",
      "epoch: 73\n",
      "S_loss: [ 3.99954987] D_loss: [ 0.39129591]\n",
      "epoch: 74\n",
      "S_loss: [ 4.08196926] D_loss: [ 0.34650373]\n",
      "epoch: 75\n",
      "S_loss: [ 3.96569848] D_loss: [ 0.39424405]\n",
      "epoch: 76\n",
      "S_loss: [ 3.69170141] D_loss: [ 0.44328743]\n",
      "epoch: 77\n",
      "S_loss: [ 3.71920228] D_loss: [ 0.41126901]\n",
      "epoch: 78\n",
      "S_loss: [ 4.06551409] D_loss: [ 0.3749232]\n",
      "epoch: 79\n",
      "S_loss: [ 4.96383905] D_loss: [ 0.7654388]\n",
      "epoch: 80\n",
      "S_loss: [ 3.84311342] D_loss: [ 0.51187849]\n",
      "epoch: 81\n",
      "S_loss: [ 4.36364269] D_loss: [ 0.63867211]\n",
      "epoch: 82\n",
      "S_loss: [ 4.42374849] D_loss: [ 0.46372133]\n",
      "epoch: 83\n",
      "S_loss: [ 3.57433796] D_loss: [ 0.41613379]\n",
      "epoch: 84\n",
      "S_loss: [ 4.1759882] D_loss: [ 0.34504405]\n",
      "epoch: 85\n",
      "S_loss: [ 5.21085835] D_loss: [ 0.45849839]\n",
      "epoch: 86\n",
      "S_loss: [ 4.09487772] D_loss: [ 0.36109918]\n",
      "epoch: 87\n",
      "S_loss: [ 4.97903442] D_loss: [ 0.35745731]\n",
      "epoch: 88\n",
      "S_loss: [ 4.74458981] D_loss: [ 0.47250938]\n",
      "epoch: 89\n",
      "S_loss: [ 4.73836279] D_loss: [ 0.27631631]\n",
      "epoch: 90\n",
      "S_loss: [ 4.49929476] D_loss: [ 0.33230418]\n",
      "epoch: 91\n",
      "S_loss: [ 4.6202631] D_loss: [ 0.32306778]\n",
      "epoch: 92\n",
      "S_loss: [ 4.32659912] D_loss: [ 0.33458677]\n",
      "epoch: 93\n",
      "S_loss: [ 4.82659912] D_loss: [ 0.43652135]\n",
      "epoch: 94\n",
      "S_loss: [ 4.15904713] D_loss: [ 0.50723124]\n",
      "epoch: 95\n",
      "S_loss: [ 4.36902714] D_loss: [ 0.25617146]\n",
      "epoch: 96\n",
      "S_loss: [ 3.34985042] D_loss: [ 0.49407366]\n",
      "epoch: 97\n",
      "S_loss: [ 4.04795742] D_loss: [ 0.28960729]\n",
      "epoch: 98\n",
      "S_loss: [ 3.58862114] D_loss: [ 0.42878032]\n",
      "epoch: 99\n",
      "S_loss: [ 4.34315586] D_loss: [ 0.29563543]\n",
      "epoch: 100\n",
      "S_loss: [ 5.45655155] D_loss: [ 0.24488537]\n",
      "epoch: 101\n",
      "S_loss: [ 7.03339148] D_loss: [ 0.43289569]\n",
      "epoch: 102\n",
      "S_loss: [ 4.59519386] D_loss: [ 0.37408018]\n",
      "epoch: 103\n",
      "S_loss: [ 3.92499399] D_loss: [ 0.42163569]\n",
      "epoch: 104\n",
      "S_loss: [ 4.78740215] D_loss: [ 0.21863264]\n",
      "epoch: 105\n",
      "S_loss: [ 4.33871031] D_loss: [ 0.47896492]\n",
      "epoch: 106\n",
      "S_loss: [ 4.63922787] D_loss: [ 0.26334774]\n",
      "epoch: 107\n",
      "S_loss: [ 7.16665316] D_loss: [ 0.72081709]\n",
      "epoch: 108\n",
      "S_loss: [ 4.23846436] D_loss: [ 0.42346874]\n",
      "epoch: 109\n",
      "S_loss: [ 5.61948633] D_loss: [ 0.50552249]\n",
      "epoch: 110\n",
      "S_loss: [ 4.15599251] D_loss: [ 0.39229509]\n",
      "epoch: 111\n",
      "S_loss: [ 4.09264755] D_loss: [ 0.49801946]\n",
      "epoch: 112\n",
      "S_loss: [ 4.97692347] D_loss: [ 0.49956962]\n",
      "epoch: 113\n",
      "S_loss: [ 4.72056627] D_loss: [ 0.3969036]\n",
      "epoch: 114\n",
      "S_loss: [ 4.99480867] D_loss: [ 0.52149767]\n",
      "epoch: 115\n",
      "S_loss: [ 5.07607174] D_loss: [ 0.3188293]\n",
      "epoch: 116\n",
      "S_loss: [ 4.70196772] D_loss: [ 0.40184355]\n",
      "epoch: 117\n",
      "S_loss: [ 4.10292673] D_loss: [ 0.27991134]\n",
      "epoch: 118\n",
      "S_loss: [ 4.61525679] D_loss: [ 0.36261925]\n",
      "epoch: 119\n",
      "S_loss: [ 5.20155954] D_loss: [ 0.22501446]\n",
      "epoch: 120\n",
      "S_loss: [ 6.80091381] D_loss: [ 0.44026628]\n",
      "epoch: 121\n",
      "S_loss: [ 4.92269659] D_loss: [ 0.51658726]\n",
      "epoch: 122\n",
      "S_loss: [ 6.78545618] D_loss: [ 0.38585818]\n",
      "epoch: 123\n",
      "S_loss: [ 4.57029295] D_loss: [ 0.36872464]\n",
      "epoch: 124\n",
      "S_loss: [ 5.83245993] D_loss: [ 0.40937322]\n",
      "epoch: 125\n",
      "S_loss: [ 6.04377174] D_loss: [ 0.42314401]\n",
      "epoch: 126\n",
      "S_loss: [ 7.31324863] D_loss: [ 0.5788632]\n",
      "epoch: 127\n",
      "S_loss: [ 5.48557806] D_loss: [ 0.32959819]\n",
      "epoch: 128\n",
      "S_loss: [ 9.02644634] D_loss: [ 0.65878862]\n",
      "epoch: 129\n",
      "S_loss: [ 7.76259899] D_loss: [ 0.45968896]\n",
      "epoch: 130\n",
      "S_loss: [ 6.07754898] D_loss: [ 0.37542152]\n",
      "epoch: 131\n",
      "S_loss: [ 6.69156933] D_loss: [ 0.35121444]\n",
      "epoch: 132\n",
      "S_loss: [ 5.89773273] D_loss: [ 0.32458395]\n",
      "epoch: 133\n",
      "S_loss: [ 6.47965384] D_loss: [ 0.46704364]\n",
      "epoch: 134\n",
      "S_loss: [ 5.25822544] D_loss: [ 0.33986267]\n",
      "epoch: 135\n",
      "S_loss: [ 6.95928192] D_loss: [ 0.49270386]\n",
      "epoch: 136\n",
      "S_loss: [ 5.97165966] D_loss: [ 0.39733362]\n",
      "epoch: 137\n",
      "S_loss: [ 4.92420149] D_loss: [ 0.37385929]\n",
      "epoch: 138\n",
      "S_loss: [ 4.72288322] D_loss: [ 0.50525439]\n",
      "epoch: 139\n",
      "S_loss: [ 5.4364357] D_loss: [ 0.44524634]\n",
      "epoch: 140\n",
      "S_loss: [ 4.73924637] D_loss: [ 0.5341835]\n",
      "epoch: 141\n",
      "S_loss: [ 4.58608913] D_loss: [ 0.54730612]\n",
      "epoch: 142\n",
      "S_loss: [ 5.56055975] D_loss: [ 0.44095388]\n",
      "epoch: 143\n",
      "S_loss: [ 4.75396967] D_loss: [ 0.48940784]\n",
      "epoch: 144\n",
      "S_loss: [ 4.80010891] D_loss: [ 0.55807734]\n",
      "epoch: 145\n",
      "S_loss: [ 4.49410868] D_loss: [ 0.32583421]\n",
      "epoch: 146\n",
      "S_loss: [ 5.04650927] D_loss: [ 0.34385732]\n",
      "epoch: 147\n",
      "S_loss: [ 4.12505341] D_loss: [ 0.4267326]\n",
      "epoch: 148\n",
      "S_loss: [ 5.41634464] D_loss: [ 0.40894273]\n",
      "epoch: 149\n",
      "S_loss: [ 5.34664011] D_loss: [ 0.55303001]\n",
      "epoch: 150\n",
      "S_loss: [ 5.33052349] D_loss: [ 0.60940421]\n",
      "epoch: 151\n",
      "S_loss: [ 7.39961433] D_loss: [ 0.68120885]\n",
      "epoch: 152\n"
     ]
    },
    {
     "name": "stdout",
     "output_type": "stream",
     "text": [
      "S_loss: [ 5.13365602] D_loss: [ 0.47983444]\n",
      "epoch: 153\n",
      "S_loss: [ 4.50839996] D_loss: [ 0.30224532]\n",
      "epoch: 154\n",
      "S_loss: [ 4.35141277] D_loss: [ 0.33143657]\n",
      "epoch: 155\n",
      "S_loss: [ 6.42092037] D_loss: [ 0.54456335]\n",
      "epoch: 156\n",
      "S_loss: [ 8.02730751] D_loss: [ 0.29981291]\n",
      "epoch: 157\n",
      "S_loss: [ 5.71869087] D_loss: [ 0.68394119]\n",
      "epoch: 158\n",
      "S_loss: [ 5.52710056] D_loss: [ 0.25361013]\n",
      "epoch: 159\n",
      "S_loss: [ 5.0251503] D_loss: [ 0.46083832]\n",
      "epoch: 160\n",
      "S_loss: [ 6.50465918] D_loss: [ 0.28755057]\n",
      "epoch: 161\n",
      "S_loss: [ 11.13188171] D_loss: [ 0.93854952]\n",
      "epoch: 162\n",
      "S_loss: [ 5.50316477] D_loss: [ 0.31857175]\n",
      "epoch: 163\n",
      "S_loss: [ 4.24367332] D_loss: [ 0.82423455]\n",
      "epoch: 164\n",
      "S_loss: [ 4.53369617] D_loss: [ 0.46446252]\n",
      "epoch: 165\n",
      "S_loss: [ 11.04406357] D_loss: [ 0.95131993]\n",
      "epoch: 166\n",
      "S_loss: [ 7.04362583] D_loss: [ 0.48676965]\n",
      "epoch: 167\n",
      "S_loss: [ 6.3027339] D_loss: [ 0.33142674]\n",
      "epoch: 168\n",
      "S_loss: [ 11.87482071] D_loss: [ 1.08876872]\n",
      "epoch: 169\n",
      "S_loss: [ 6.35220623] D_loss: [ 0.3607491]\n",
      "epoch: 170\n",
      "S_loss: [ 4.9223547] D_loss: [ 0.26749715]\n",
      "epoch: 171\n",
      "S_loss: [ 5.43915367] D_loss: [ 0.26429257]\n",
      "epoch: 172\n",
      "S_loss: [ 9.10006332] D_loss: [ 1.09634566]\n",
      "epoch: 173\n",
      "S_loss: [ 4.7987895] D_loss: [ 0.33419079]\n",
      "epoch: 174\n",
      "S_loss: [ 8.86900997] D_loss: [ 0.18895628]\n",
      "epoch: 175\n",
      "S_loss: [ 5.22173595] D_loss: [ 0.19718426]\n",
      "epoch: 176\n",
      "S_loss: [ 7.36112213] D_loss: [ 0.79441214]\n",
      "epoch: 177\n",
      "S_loss: [ 7.04320574] D_loss: [ 0.50361091]\n",
      "epoch: 178\n",
      "S_loss: [ 9.23423767] D_loss: [ 0.8493796]\n",
      "epoch: 179\n",
      "S_loss: [ 4.84303284] D_loss: [ 0.38974631]\n",
      "epoch: 180\n",
      "S_loss: [ 4.897439] D_loss: [ 0.25580278]\n",
      "epoch: 181\n",
      "S_loss: [ 4.83776808] D_loss: [ 0.37670457]\n",
      "epoch: 182\n",
      "S_loss: [ 9.08060932] D_loss: [ 1.0600462]\n",
      "epoch: 183\n",
      "S_loss: [ 6.49124622] D_loss: [ 0.70975184]\n",
      "epoch: 184\n",
      "S_loss: [ 7.06706715] D_loss: [ 0.60209239]\n",
      "epoch: 185\n",
      "S_loss: [ 6.23140812] D_loss: [ 0.19873504]\n",
      "epoch: 186\n",
      "S_loss: [ 8.88493633] D_loss: [ 0.32452422]\n",
      "epoch: 187\n",
      "S_loss: [ 9.69160461] D_loss: [ 0.52537364]\n",
      "epoch: 188\n",
      "S_loss: [ 5.70689774] D_loss: [ 0.2501871]\n",
      "epoch: 189\n",
      "S_loss: [ 7.44122696] D_loss: [ 0.32590282]\n",
      "epoch: 190\n",
      "S_loss: [ 5.6875658] D_loss: [ 0.30174726]\n",
      "epoch: 191\n",
      "S_loss: [ 4.72476816] D_loss: [ 0.33220223]\n",
      "epoch: 192\n",
      "S_loss: [ 8.86760616] D_loss: [ 0.57907903]\n",
      "epoch: 193\n",
      "S_loss: [ 5.54864359] D_loss: [ 0.17464158]\n",
      "epoch: 194\n",
      "S_loss: [ 4.864995] D_loss: [ 0.25921193]\n",
      "epoch: 195\n",
      "S_loss: [ 5.01308584] D_loss: [ 0.35607502]\n",
      "epoch: 196\n",
      "S_loss: [ 5.26316166] D_loss: [ 0.3756032]\n",
      "epoch: 197\n",
      "S_loss: [ 4.95836592] D_loss: [ 0.25956708]\n",
      "epoch: 198\n",
      "S_loss: [ 4.80448437] D_loss: [ 0.11884418]\n",
      "epoch: 199\n",
      "S_loss: [ 7.49971533] D_loss: [ 0.31581789]\n"
     ]
    }
   ],
   "source": [
    "\n",
    "mb_size = 256\n",
    "batch_size = mb_size\n",
    "# Start training\n",
    "for epoch in range(200):\n",
    "    \n",
    "    \n",
    "\n",
    "    print('epoch:',epoch)\n",
    "    #for i in range(XX_train):\n",
    "    # Build mini-batch dataset\n",
    "    #batch_size = images.size(0)\n",
    "    #images = to_var(images.view(batch_size, -1))\n",
    "\n",
    "    it=0\n",
    "    while it+batch_size < len(X_train_10sec_F) :\n",
    "        \n",
    "\n",
    "        start= it\n",
    "        end= it + batch_size\n",
    "\n",
    "\n",
    "        #z = Variable(torch.randn(mb_size, Z_dim))\n",
    "        X = X_train_10sec_F[start:end]\n",
    "\n",
    "        c = X_train_30sec_F[start:end]\n",
    "        X = Variable(torch.from_numpy(X))\n",
    "        c = Variable(torch.from_numpy(c.astype('float32')))\n",
    "        X = X.cuda()\n",
    "        c = c.cuda()\n",
    "        # Dicriminator forward-loss-backward-update\n",
    "        S_sample = S_encoder(X)\n",
    "        #T_sample = T_encoder(c)\n",
    "        D_real = D(c)\n",
    "        D_fake = D(S_sample)\n",
    "\n",
    "        D_loss_real = binary_cross_entropy(D_real, ones_label)\n",
    "        D_loss_fake = binary_cross_entropy(D_fake, zeros_label)\n",
    "        D_loss = D_loss_real + D_loss_fake\n",
    "\n",
    "        D_loss.backward()\n",
    "        D_solver.step()\n",
    "\n",
    "        # Housekeeping - reset gradient\n",
    "        #D.zero_grad()\n",
    "        D.zero_grad()\n",
    "\n",
    "        # Generator forward-loss-backward-update\n",
    "        #z = Variable(torch.randn(mb_size, Z_dim))\n",
    "        #G_sample = G(z, c)\n",
    "        S_sample = S_encoder(X)\n",
    "        D_fake = D(S_sample)\n",
    "        #D_fake = D(G_sample, c)\n",
    "        #T_loss = criterion(T_sample, c)\n",
    "        S_loss = binary_cross_entropy(D_fake, ones_label)\n",
    "\n",
    "        S_loss.backward()\n",
    "        S_solver.step()\n",
    "        \n",
    "        S_encoder.zero_grad()\n",
    "        # Housekeeping - reset gradient\n",
    "        D.zero_grad()\n",
    "\n",
    "        \n",
    "\n",
    "        it+= batch_size\n",
    "    print('S_loss: {}'.format(S_loss.cpu().data.numpy()),'D_loss: {}'.format(D_loss.cpu().data.numpy()))\n",
    "           "
   ]
  },
  {
   "cell_type": "code",
   "execution_count": null,
   "metadata": {},
   "outputs": [],
   "source": []
  },
  {
   "cell_type": "code",
   "execution_count": null,
   "metadata": {},
   "outputs": [],
   "source": []
  },
  {
   "cell_type": "code",
   "execution_count": null,
   "metadata": {},
   "outputs": [],
   "source": []
  },
  {
   "cell_type": "code",
   "execution_count": null,
   "metadata": {},
   "outputs": [],
   "source": []
  },
  {
   "cell_type": "code",
   "execution_count": null,
   "metadata": {},
   "outputs": [],
   "source": []
  },
  {
   "cell_type": "code",
   "execution_count": null,
   "metadata": {},
   "outputs": [],
   "source": []
  },
  {
   "cell_type": "code",
   "execution_count": null,
   "metadata": {},
   "outputs": [],
   "source": []
  },
  {
   "cell_type": "code",
   "execution_count": null,
   "metadata": {},
   "outputs": [],
   "source": []
  },
  {
   "cell_type": "code",
   "execution_count": 40,
   "metadata": {},
   "outputs": [],
   "source": [
    "X_train_30sec_gen = Variable(torch.from_numpy(X_train_10sec_F))"
   ]
  },
  {
   "cell_type": "code",
   "execution_count": null,
   "metadata": {},
   "outputs": [],
   "source": []
  },
  {
   "cell_type": "code",
   "execution_count": null,
   "metadata": {},
   "outputs": [],
   "source": []
  },
  {
   "cell_type": "code",
   "execution_count": 41,
   "metadata": {},
   "outputs": [
    {
     "data": {
      "text/plain": [
       "FC_Network(\n",
       "  (layer_1): Linear(in_features=500, out_features=2048)\n",
       "  (bn_1): BatchNorm1d(2048, eps=1e-05, momentum=0.1, affine=True)\n",
       "  (layer_2): Linear(in_features=2048, out_features=2048)\n",
       "  (bn_2): BatchNorm1d(2048, eps=1e-05, momentum=0.1, affine=True)\n",
       "  (layer_3): Linear(in_features=2048, out_features=2048)\n",
       "  (bn_3): BatchNorm1d(2048, eps=1e-05, momentum=0.1, affine=True)\n",
       "  (layer_4): Linear(in_features=2048, out_features=2048)\n",
       "  (bn_4): BatchNorm1d(2048, eps=1e-05, momentum=0.1, affine=True)\n",
       "  (output_layer): Linear(in_features=2048, out_features=500)\n",
       "  (relu): ReLU()\n",
       "  (tanh): Tanh()\n",
       ")"
      ]
     },
     "execution_count": 41,
     "metadata": {},
     "output_type": "execute_result"
    }
   ],
   "source": [
    "S_encoder.eval()"
   ]
  },
  {
   "cell_type": "code",
   "execution_count": 42,
   "metadata": {},
   "outputs": [],
   "source": [
    "gen_samples = S_encoder(X_train_30sec_gen.cuda())"
   ]
  },
  {
   "cell_type": "code",
   "execution_count": 43,
   "metadata": {},
   "outputs": [
    {
     "data": {
      "text/plain": [
       "torch.Size([114276, 500])"
      ]
     },
     "execution_count": 43,
     "metadata": {},
     "output_type": "execute_result"
    }
   ],
   "source": [
    "gen_samples.data.shape"
   ]
  },
  {
   "cell_type": "code",
   "execution_count": 44,
   "metadata": {},
   "outputs": [],
   "source": [
    "#Taking the generated iVectors we will try to check the acc by MLP"
   ]
  },
  {
   "cell_type": "code",
   "execution_count": 45,
   "metadata": {},
   "outputs": [],
   "source": [
    "train_X_gen = gen_samples.cpu().data.numpy()"
   ]
  },
  {
   "cell_type": "code",
   "execution_count": 46,
   "metadata": {},
   "outputs": [
    {
     "data": {
      "text/plain": [
       "numpy.ndarray"
      ]
     },
     "execution_count": 46,
     "metadata": {},
     "output_type": "execute_result"
    }
   ],
   "source": [
    "type(train_X_gen)"
   ]
  },
  {
   "cell_type": "code",
   "execution_count": 47,
   "metadata": {},
   "outputs": [],
   "source": [
    "X_train = pd.DataFrame(X_train_10sec)\n",
    "#Y_train = pd.DataFrame(Y_train)\n"
   ]
  },
  {
   "cell_type": "code",
   "execution_count": null,
   "metadata": {},
   "outputs": [],
   "source": []
  },
  {
   "cell_type": "code",
   "execution_count": 48,
   "metadata": {},
   "outputs": [],
   "source": [
    "val_lre = pd.read_csv('/home/satishk/GAN_lre/gan_csv/dev_feat_BNF_h5_05Jan_10sec.csv')\n"
   ]
  },
  {
   "cell_type": "code",
   "execution_count": 49,
   "metadata": {},
   "outputs": [
    {
     "data": {
      "text/html": [
       "<div>\n",
       "<style scoped>\n",
       "    .dataframe tbody tr th:only-of-type {\n",
       "        vertical-align: middle;\n",
       "    }\n",
       "\n",
       "    .dataframe tbody tr th {\n",
       "        vertical-align: top;\n",
       "    }\n",
       "\n",
       "    .dataframe thead th {\n",
       "        text-align: right;\n",
       "    }\n",
       "</style>\n",
       "<table border=\"1\" class=\"dataframe\">\n",
       "  <thead>\n",
       "    <tr style=\"text-align: right;\">\n",
       "      <th></th>\n",
       "      <th>0</th>\n",
       "      <th>1</th>\n",
       "      <th>2</th>\n",
       "      <th>3</th>\n",
       "      <th>4</th>\n",
       "      <th>5</th>\n",
       "      <th>6</th>\n",
       "      <th>7</th>\n",
       "      <th>8</th>\n",
       "      <th>9</th>\n",
       "      <th>...</th>\n",
       "      <th>495</th>\n",
       "      <th>496</th>\n",
       "      <th>497</th>\n",
       "      <th>498</th>\n",
       "      <th>499</th>\n",
       "      <th>uttid</th>\n",
       "      <th>language_code</th>\n",
       "      <th>data_source</th>\n",
       "      <th>speech_duration</th>\n",
       "      <th>segmentid1</th>\n",
       "    </tr>\n",
       "  </thead>\n",
       "  <tbody>\n",
       "    <tr>\n",
       "      <th>0</th>\n",
       "      <td>-0.195398</td>\n",
       "      <td>-0.390386</td>\n",
       "      <td>-0.624269</td>\n",
       "      <td>1.535433</td>\n",
       "      <td>0.388117</td>\n",
       "      <td>1.727448</td>\n",
       "      <td>0.463109</td>\n",
       "      <td>2.059767</td>\n",
       "      <td>0.165206</td>\n",
       "      <td>0.619942</td>\n",
       "      <td>...</td>\n",
       "      <td>0.616712</td>\n",
       "      <td>-2.654504</td>\n",
       "      <td>0.482690</td>\n",
       "      <td>0.401316</td>\n",
       "      <td>-1.639292</td>\n",
       "      <td>lre17_zpuysjrb</td>\n",
       "      <td>zho-nan</td>\n",
       "      <td>mls14</td>\n",
       "      <td>10</td>\n",
       "      <td>lre17_zpuysjrb</td>\n",
       "    </tr>\n",
       "    <tr>\n",
       "      <th>1</th>\n",
       "      <td>-0.629280</td>\n",
       "      <td>-0.063858</td>\n",
       "      <td>0.397267</td>\n",
       "      <td>-0.205915</td>\n",
       "      <td>0.102730</td>\n",
       "      <td>2.412635</td>\n",
       "      <td>1.007062</td>\n",
       "      <td>1.123458</td>\n",
       "      <td>2.397956</td>\n",
       "      <td>1.009312</td>\n",
       "      <td>...</td>\n",
       "      <td>-0.626052</td>\n",
       "      <td>1.390082</td>\n",
       "      <td>0.393644</td>\n",
       "      <td>1.559527</td>\n",
       "      <td>-1.124127</td>\n",
       "      <td>lre17_ljfobgxa</td>\n",
       "      <td>eng-usg</td>\n",
       "      <td>mls14</td>\n",
       "      <td>10</td>\n",
       "      <td>lre17_ljfobgxa</td>\n",
       "    </tr>\n",
       "    <tr>\n",
       "      <th>2</th>\n",
       "      <td>0.896452</td>\n",
       "      <td>0.746032</td>\n",
       "      <td>-0.547790</td>\n",
       "      <td>1.955862</td>\n",
       "      <td>-0.198707</td>\n",
       "      <td>1.430271</td>\n",
       "      <td>0.535072</td>\n",
       "      <td>1.199097</td>\n",
       "      <td>2.253311</td>\n",
       "      <td>0.050932</td>\n",
       "      <td>...</td>\n",
       "      <td>-1.859781</td>\n",
       "      <td>-0.889882</td>\n",
       "      <td>-1.823634</td>\n",
       "      <td>-1.507139</td>\n",
       "      <td>-0.811382</td>\n",
       "      <td>lre17_guhfzbxl</td>\n",
       "      <td>zho-cmn</td>\n",
       "      <td>mls14</td>\n",
       "      <td>10</td>\n",
       "      <td>lre17_guhfzbxl</td>\n",
       "    </tr>\n",
       "    <tr>\n",
       "      <th>3</th>\n",
       "      <td>0.323422</td>\n",
       "      <td>0.577406</td>\n",
       "      <td>1.585811</td>\n",
       "      <td>-0.071801</td>\n",
       "      <td>-0.398092</td>\n",
       "      <td>1.788636</td>\n",
       "      <td>1.529049</td>\n",
       "      <td>1.042687</td>\n",
       "      <td>-0.557043</td>\n",
       "      <td>1.131491</td>\n",
       "      <td>...</td>\n",
       "      <td>0.519515</td>\n",
       "      <td>1.404486</td>\n",
       "      <td>-0.052511</td>\n",
       "      <td>0.367571</td>\n",
       "      <td>1.274410</td>\n",
       "      <td>lre17_tbywroez</td>\n",
       "      <td>eng-usg</td>\n",
       "      <td>mls14</td>\n",
       "      <td>10</td>\n",
       "      <td>lre17_tbywroez</td>\n",
       "    </tr>\n",
       "    <tr>\n",
       "      <th>4</th>\n",
       "      <td>1.384084</td>\n",
       "      <td>0.814175</td>\n",
       "      <td>1.261965</td>\n",
       "      <td>1.078853</td>\n",
       "      <td>-1.601087</td>\n",
       "      <td>0.756707</td>\n",
       "      <td>1.157398</td>\n",
       "      <td>0.146018</td>\n",
       "      <td>-0.566307</td>\n",
       "      <td>-0.446297</td>\n",
       "      <td>...</td>\n",
       "      <td>-0.850699</td>\n",
       "      <td>0.355410</td>\n",
       "      <td>-1.455804</td>\n",
       "      <td>2.629600</td>\n",
       "      <td>-0.044268</td>\n",
       "      <td>lre17_phsyjibn</td>\n",
       "      <td>spa-lac</td>\n",
       "      <td>mls14</td>\n",
       "      <td>10</td>\n",
       "      <td>lre17_phsyjibn</td>\n",
       "    </tr>\n",
       "  </tbody>\n",
       "</table>\n",
       "<p>5 rows × 505 columns</p>\n",
       "</div>"
      ],
      "text/plain": [
       "          0         1         2         3         4         5         6  \\\n",
       "0 -0.195398 -0.390386 -0.624269  1.535433  0.388117  1.727448  0.463109   \n",
       "1 -0.629280 -0.063858  0.397267 -0.205915  0.102730  2.412635  1.007062   \n",
       "2  0.896452  0.746032 -0.547790  1.955862 -0.198707  1.430271  0.535072   \n",
       "3  0.323422  0.577406  1.585811 -0.071801 -0.398092  1.788636  1.529049   \n",
       "4  1.384084  0.814175  1.261965  1.078853 -1.601087  0.756707  1.157398   \n",
       "\n",
       "          7         8         9       ...             495       496       497  \\\n",
       "0  2.059767  0.165206  0.619942       ...        0.616712 -2.654504  0.482690   \n",
       "1  1.123458  2.397956  1.009312       ...       -0.626052  1.390082  0.393644   \n",
       "2  1.199097  2.253311  0.050932       ...       -1.859781 -0.889882 -1.823634   \n",
       "3  1.042687 -0.557043  1.131491       ...        0.519515  1.404486 -0.052511   \n",
       "4  0.146018 -0.566307 -0.446297       ...       -0.850699  0.355410 -1.455804   \n",
       "\n",
       "        498       499           uttid  language_code  data_source  \\\n",
       "0  0.401316 -1.639292  lre17_zpuysjrb        zho-nan        mls14   \n",
       "1  1.559527 -1.124127  lre17_ljfobgxa        eng-usg        mls14   \n",
       "2 -1.507139 -0.811382  lre17_guhfzbxl        zho-cmn        mls14   \n",
       "3  0.367571  1.274410  lre17_tbywroez        eng-usg        mls14   \n",
       "4  2.629600 -0.044268  lre17_phsyjibn        spa-lac        mls14   \n",
       "\n",
       "   speech_duration      segmentid1  \n",
       "0               10  lre17_zpuysjrb  \n",
       "1               10  lre17_ljfobgxa  \n",
       "2               10  lre17_guhfzbxl  \n",
       "3               10  lre17_tbywroez  \n",
       "4               10  lre17_phsyjibn  \n",
       "\n",
       "[5 rows x 505 columns]"
      ]
     },
     "execution_count": 49,
     "metadata": {},
     "output_type": "execute_result"
    }
   ],
   "source": [
    "val_lre.head()"
   ]
  },
  {
   "cell_type": "raw",
   "metadata": {},
   "source": [
    "eval_lre = pd.read_csv('/home/satishk/GAN_lre/gan_csv/eval_feat_BNF_h5_03Jan.csv')\n"
   ]
  },
  {
   "cell_type": "code",
   "execution_count": 50,
   "metadata": {},
   "outputs": [],
   "source": [
    "X_val = val_lre.drop([\"language_code\",\"uttid\",\"segmentid1\",\"data_source\",\"speech_duration\"],axis=1)\n",
    "y_val = val_lre[\"language_code\"]\n",
    "y_val_segmentid = val_lre[\"segmentid1\"]"
   ]
  },
  {
   "cell_type": "raw",
   "metadata": {},
   "source": [
    "X_eval = eval_lre.drop([\"language_code\",\"uttid\",\"segmentid1\",\"data_source\",\"speech_duration\"],axis=1)\n",
    "y_eval = eval_lre[\"language_code\"]\n",
    "y_eval_segmentid = eval_lre[\"segmentid1\"]"
   ]
  },
  {
   "cell_type": "code",
   "execution_count": 51,
   "metadata": {},
   "outputs": [],
   "source": [
    "X_val = X_val.values\n",
    "#X_eval = X_eval.values"
   ]
  },
  {
   "cell_type": "code",
   "execution_count": 52,
   "metadata": {},
   "outputs": [],
   "source": [
    "#X_eval.shape"
   ]
  },
  {
   "cell_type": "code",
   "execution_count": 53,
   "metadata": {},
   "outputs": [
    {
     "data": {
      "text/plain": [
       "LabelEncoder()"
      ]
     },
     "execution_count": 53,
     "metadata": {},
     "output_type": "execute_result"
    }
   ],
   "source": [
    "le = preprocessing.LabelEncoder()\n",
    "le.fit(y_val)"
   ]
  },
  {
   "cell_type": "code",
   "execution_count": 54,
   "metadata": {},
   "outputs": [
    {
     "data": {
      "text/plain": [
       "array(['ara-acm', 'ara-apc', 'ara-ary', 'ara-arz', 'eng-gbr', 'eng-usg',\n",
       "       'por-brz', 'qsl-pol', 'qsl-rus', 'spa-car', 'spa-eur', 'spa-lac',\n",
       "       'zho-cmn', 'zho-nan'], dtype=object)"
      ]
     },
     "execution_count": 54,
     "metadata": {},
     "output_type": "execute_result"
    }
   ],
   "source": [
    "le.classes_"
   ]
  },
  {
   "cell_type": "code",
   "execution_count": 55,
   "metadata": {},
   "outputs": [],
   "source": [
    "y_val_labels = le.transform(y_val)"
   ]
  },
  {
   "cell_type": "code",
   "execution_count": 56,
   "metadata": {},
   "outputs": [
    {
     "data": {
      "text/plain": [
       "array([13,  5, 12,  5, 11, 11, 11, 12, 10,  0, 11,  0,  2, 13, 12,  6, 13,\n",
       "        4,  6,  0, 11,  2,  4,  3, 10])"
      ]
     },
     "execution_count": 56,
     "metadata": {},
     "output_type": "execute_result"
    }
   ],
   "source": [
    "y_val_labels[0:25]"
   ]
  },
  {
   "cell_type": "raw",
   "metadata": {},
   "source": [
    "le = preprocessing.LabelEncoder()\n",
    "le.fit(y_eval)"
   ]
  },
  {
   "cell_type": "raw",
   "metadata": {},
   "source": [
    "le.classes_"
   ]
  },
  {
   "cell_type": "raw",
   "metadata": {},
   "source": [
    "y_eval_labels = le.transform(y_eval)"
   ]
  },
  {
   "cell_type": "raw",
   "metadata": {},
   "source": [
    "y_eval_labels[0:10]"
   ]
  },
  {
   "cell_type": "code",
   "execution_count": 57,
   "metadata": {},
   "outputs": [],
   "source": [
    "# convert class vectors to binary class matrices\n",
    "Y_val = np_utils.to_categorical(y_val_labels, nb_classes)\n",
    "#Y_eval = np_utils.to_categorical(y_eval_labels, nb_classes)"
   ]
  },
  {
   "cell_type": "code",
   "execution_count": 58,
   "metadata": {},
   "outputs": [
    {
     "data": {
      "text/plain": [
       "array([[ 0.,  0.,  0., ...,  0.,  0.,  1.],\n",
       "       [ 0.,  0.,  0., ...,  0.,  0.,  0.],\n",
       "       [ 0.,  0.,  0., ...,  0.,  1.,  0.],\n",
       "       ..., \n",
       "       [ 0.,  0.,  0., ...,  0.,  0.,  0.],\n",
       "       [ 0.,  0.,  0., ...,  0.,  0.,  0.],\n",
       "       [ 1.,  0.,  0., ...,  0.,  0.,  0.]])"
      ]
     },
     "execution_count": 58,
     "metadata": {},
     "output_type": "execute_result"
    }
   ],
   "source": [
    "Y_val"
   ]
  },
  {
   "cell_type": "code",
   "execution_count": 59,
   "metadata": {},
   "outputs": [],
   "source": [
    "X_val = X_val.astype('float32')\n"
   ]
  },
  {
   "cell_type": "code",
   "execution_count": 60,
   "metadata": {},
   "outputs": [],
   "source": [
    "X_val_10sec_gen = Variable(torch.from_numpy(X_val))"
   ]
  },
  {
   "cell_type": "code",
   "execution_count": 61,
   "metadata": {},
   "outputs": [],
   "source": [
    "gen_samples_val = S_encoder(X_val_10sec_gen.cuda())"
   ]
  },
  {
   "cell_type": "code",
   "execution_count": 62,
   "metadata": {},
   "outputs": [
    {
     "data": {
      "text/plain": [
       "torch.Size([928, 500])"
      ]
     },
     "execution_count": 62,
     "metadata": {},
     "output_type": "execute_result"
    }
   ],
   "source": [
    "gen_samples_val.data.shape"
   ]
  },
  {
   "cell_type": "code",
   "execution_count": 63,
   "metadata": {},
   "outputs": [],
   "source": [
    "X_val_gen = gen_samples_val.cpu().data.numpy()"
   ]
  },
  {
   "cell_type": "code",
   "execution_count": null,
   "metadata": {},
   "outputs": [],
   "source": []
  },
  {
   "cell_type": "code",
   "execution_count": null,
   "metadata": {},
   "outputs": [],
   "source": []
  },
  {
   "cell_type": "code",
   "execution_count": null,
   "metadata": {},
   "outputs": [],
   "source": []
  },
  {
   "cell_type": "code",
   "execution_count": 71,
   "metadata": {},
   "outputs": [],
   "source": [
    "model = Sequential()\n",
    "model.add(Dense(512, input_dim=500))\n",
    "model.add(Activation('relu'))\n",
    "model.add(Dropout(0.5))\n",
    "\n",
    "model.add(Dense(512))\n",
    "model.add(Activation('relu'))\n",
    "model.add(Dropout(0.5))\n",
    "\n",
    "model.add(Dense(nb_classes))\n",
    "model.add(Activation('softmax'))"
   ]
  },
  {
   "cell_type": "code",
   "execution_count": 72,
   "metadata": {},
   "outputs": [
    {
     "name": "stdout",
     "output_type": "stream",
     "text": [
      "_________________________________________________________________\n",
      "Layer (type)                 Output Shape              Param #   \n",
      "=================================================================\n",
      "dense_4 (Dense)              (None, 512)               256512    \n",
      "_________________________________________________________________\n",
      "activation_4 (Activation)    (None, 512)               0         \n",
      "_________________________________________________________________\n",
      "dropout_3 (Dropout)          (None, 512)               0         \n",
      "_________________________________________________________________\n",
      "dense_5 (Dense)              (None, 512)               262656    \n",
      "_________________________________________________________________\n",
      "activation_5 (Activation)    (None, 512)               0         \n",
      "_________________________________________________________________\n",
      "dropout_4 (Dropout)          (None, 512)               0         \n",
      "_________________________________________________________________\n",
      "dense_6 (Dense)              (None, 14)                7182      \n",
      "_________________________________________________________________\n",
      "activation_6 (Activation)    (None, 14)                0         \n",
      "=================================================================\n",
      "Total params: 526,350\n",
      "Trainable params: 526,350\n",
      "Non-trainable params: 0\n",
      "_________________________________________________________________\n"
     ]
    }
   ],
   "source": [
    "model.summary()"
   ]
  },
  {
   "cell_type": "code",
   "execution_count": 73,
   "metadata": {},
   "outputs": [],
   "source": [
    "adam=optimizers.Adam(lr=0.001, beta_1=0.9, beta_2=0.999, epsilon=1e-08, decay=0.0)\n",
    "\n",
    "model.compile(loss='categorical_crossentropy',\n",
    "              optimizer='adam',\n",
    "              metrics=['accuracy'])"
   ]
  },
  {
   "cell_type": "code",
   "execution_count": 74,
   "metadata": {},
   "outputs": [],
   "source": [
    "best_weights_filepath = '/home/satishk/saved_weights/best_weights_2l_MLP_11.hdf5'\n",
    "saveBestModel = ModelCheckpoint(best_weights_filepath, monitor='val_acc', verbose=1, save_best_only=True, mode='auto')\n"
   ]
  },
  {
   "cell_type": "code",
   "execution_count": 75,
   "metadata": {},
   "outputs": [],
   "source": [
    "batch_size = 256\n",
    "nb_epoch = 15"
   ]
  },
  {
   "cell_type": "code",
   "execution_count": 76,
   "metadata": {},
   "outputs": [
    {
     "name": "stdout",
     "output_type": "stream",
     "text": [
      "Train on 114276 samples, validate on 928 samples\n",
      "Epoch 1/15\n",
      "Epoch 00000: val_acc improved from -inf to 0.06789, saving model to /home/satishk/saved_weights/best_weights_2l_MLP_11.hdf5\n",
      "10s - loss: 2.4139 - acc: 0.1873 - val_loss: 3.3922 - val_acc: 0.0679\n",
      "Epoch 2/15\n",
      "Epoch 00001: val_acc improved from 0.06789 to 0.07328, saving model to /home/satishk/saved_weights/best_weights_2l_MLP_11.hdf5\n",
      "10s - loss: 2.2442 - acc: 0.1931 - val_loss: 3.3946 - val_acc: 0.0733\n",
      "Epoch 3/15\n",
      "Epoch 00002: val_acc did not improve\n",
      "10s - loss: 2.2424 - acc: 0.1922 - val_loss: 3.4509 - val_acc: 0.0733\n",
      "Epoch 4/15\n",
      "Epoch 00003: val_acc did not improve\n",
      "10s - loss: 2.2407 - acc: 0.1941 - val_loss: 3.4396 - val_acc: 0.0679\n",
      "Epoch 5/15\n",
      "Epoch 00004: val_acc did not improve\n",
      "10s - loss: 2.2405 - acc: 0.1921 - val_loss: 3.4092 - val_acc: 0.0733\n",
      "Epoch 6/15\n",
      "Epoch 00005: val_acc did not improve\n",
      "10s - loss: 2.2384 - acc: 0.1928 - val_loss: 3.4633 - val_acc: 0.0733\n",
      "Epoch 7/15\n",
      "Epoch 00006: val_acc did not improve\n",
      "10s - loss: 2.2308 - acc: 0.1925 - val_loss: 3.4142 - val_acc: 0.0679\n",
      "Epoch 8/15\n",
      "Epoch 00007: val_acc did not improve\n",
      "10s - loss: 2.2302 - acc: 0.1933 - val_loss: 3.4532 - val_acc: 0.0733\n",
      "Epoch 9/15\n",
      "Epoch 00008: val_acc did not improve\n",
      "10s - loss: 2.2303 - acc: 0.1938 - val_loss: 3.4243 - val_acc: 0.0733\n",
      "Epoch 10/15\n",
      "Epoch 00009: val_acc did not improve\n",
      "10s - loss: 2.2223 - acc: 0.1935 - val_loss: 3.4338 - val_acc: 0.0679\n",
      "Epoch 11/15\n",
      "Epoch 00010: val_acc did not improve\n",
      "10s - loss: 2.2223 - acc: 0.1928 - val_loss: 3.4625 - val_acc: 0.0733\n",
      "Epoch 12/15\n",
      "Epoch 00011: val_acc did not improve\n",
      "10s - loss: 2.2320 - acc: 0.1921 - val_loss: 3.4643 - val_acc: 0.0679\n",
      "Epoch 13/15\n",
      "Epoch 00012: val_acc did not improve\n",
      "10s - loss: 2.2288 - acc: 0.1929 - val_loss: 3.4462 - val_acc: 0.0733\n",
      "Epoch 14/15\n",
      "Epoch 00013: val_acc did not improve\n",
      "10s - loss: 2.2313 - acc: 0.1932 - val_loss: 3.4515 - val_acc: 0.0679\n",
      "Epoch 15/15\n",
      "Epoch 00014: val_acc did not improve\n",
      "10s - loss: 2.2254 - acc: 0.1939 - val_loss: 3.4603 - val_acc: 0.0733\n"
     ]
    }
   ],
   "source": [
    "#train_X_gen\n",
    "#Checking Accuracy with augmented data \n",
    "history = model.fit(train_X_gen, Y_train_labels , batch_size=batch_size, epochs=nb_epoch,verbose=2, \n",
    "                    validation_data=(X_val_gen , Y_val),callbacks=[saveBestModel])"
   ]
  },
  {
   "cell_type": "raw",
   "metadata": {},
   "source": [
    "#Use This to Check Accuracy with original data \n",
    "history = model.fit(X_train_10sec_F, Y_train_labels , batch_size=batch_size, epochs=nb_epoch,verbose=2, \n",
    "                    validation_data=(X_val , Y_val),callbacks=[saveBestModel])"
   ]
  },
  {
   "cell_type": "code",
   "execution_count": 77,
   "metadata": {},
   "outputs": [
    {
     "name": "stdout",
     "output_type": "stream",
     "text": [
      "Acc %: 0.073275862069\n"
     ]
    }
   ],
   "source": [
    "score = model.evaluate(X_val_gen, Y_val, verbose=0)\n",
    "print('Acc %:', score[1])"
   ]
  },
  {
   "cell_type": "code",
   "execution_count": null,
   "metadata": {},
   "outputs": [],
   "source": []
  },
  {
   "cell_type": "code",
   "execution_count": null,
   "metadata": {},
   "outputs": [],
   "source": []
  },
  {
   "cell_type": "code",
   "execution_count": null,
   "metadata": {},
   "outputs": [],
   "source": []
  },
  {
   "cell_type": "code",
   "execution_count": null,
   "metadata": {},
   "outputs": [],
   "source": []
  },
  {
   "cell_type": "code",
   "execution_count": null,
   "metadata": {},
   "outputs": [],
   "source": [
    "from sklearn.multiclass import OneVsRestClassifier\n",
    "from sklearn.svm import SVC\n"
   ]
  },
  {
   "cell_type": "code",
   "execution_count": null,
   "metadata": {},
   "outputs": [],
   "source": [
    "classif = SVC(C=1, kernel='rbf', gamma='auto', coef0=1, shrinking=True, random_state=0,\n",
    "                      probability=False, tol=1e-3, cache_size=1e4, class_weight='balanced')\n",
    "classif.fit(X_train_10sec_F, y_30sec_labels)"
   ]
  },
  {
   "cell_type": "code",
   "execution_count": null,
   "metadata": {},
   "outputs": [],
   "source": [
    "classif.classes_"
   ]
  },
  {
   "cell_type": "code",
   "execution_count": null,
   "metadata": {},
   "outputs": [],
   "source": [
    "acc = metrics.accuracy_score(y_val_labels, classif.predict(X_val))"
   ]
  },
  {
   "cell_type": "code",
   "execution_count": null,
   "metadata": {},
   "outputs": [],
   "source": [
    "acc"
   ]
  },
  {
   "cell_type": "code",
   "execution_count": null,
   "metadata": {},
   "outputs": [],
   "source": []
  },
  {
   "cell_type": "code",
   "execution_count": null,
   "metadata": {},
   "outputs": [],
   "source": []
  }
 ],
 "metadata": {
  "kernelspec": {
   "display_name": "Python 3",
   "language": "python",
   "name": "python3"
  },
  "language_info": {
   "codemirror_mode": {
    "name": "ipython",
    "version": 3
   },
   "file_extension": ".py",
   "mimetype": "text/x-python",
   "name": "python",
   "nbconvert_exporter": "python",
   "pygments_lexer": "ipython3",
   "version": "3.6.3"
  }
 },
 "nbformat": 4,
 "nbformat_minor": 2
}
